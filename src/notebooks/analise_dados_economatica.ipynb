{
 "cells": [
  {
   "cell_type": "markdown",
   "metadata": {
    "id": "P30fzHNnD3QT"
   },
   "source": [
    "# 🚨🚨🚨 LEIA-ME 🚨🚨🚨\n",
    "\n",
    "Se estiver utilizando o Google Colab."
   ]
  },
  {
   "cell_type": "markdown",
   "metadata": {
    "id": "wCZ5V8nnbS4w"
   },
   "source": [
    "Antes de iniciar a execução do código, é importante alterar a versão do runtime para a que possui o Python na versão 3.11.*, que atualmente segue sendo a versão \"2025.07\".\n",
    "\n",
    "Logo abaixo mostro como alterar a versão do Runtime."
   ]
  },
  {
   "cell_type": "markdown",
   "metadata": {
    "id": "dOES4keEbhWl"
   },
   "source": [
    "![Acesse o Runtime](https://i.imgur.com/EOQ8KvA.png)"
   ]
  },
  {
   "cell_type": "markdown",
   "metadata": {
    "id": "XbDDzVIJch7m"
   },
   "source": [
    "Clique no menu Runtime (Ambiente de execução). Vai abrir um dropdown, nele você deve clicar na opção \"Change runtime type\" (Trocar tipo de ambiente de execução)."
   ]
  },
  {
   "cell_type": "markdown",
   "metadata": {
    "id": "0dEASLl5cEuR"
   },
   "source": [
    "![Trocar tipo do Runtime](https://i.imgur.com/XYCBjPZ.png)"
   ]
  },
  {
   "cell_type": "markdown",
   "metadata": {
    "id": "8SFj23X9dBoQ"
   },
   "source": [
    "Vai abrir um modal, nele você deve apenas selecionar a opção no select de \"Runtime version\" (Versões do ambiente de execução) que tenha o nome \"2025.07\".\n",
    "\n",
    "Olhando na [documentação](https://research.google.com/colaboratory/runtime-version-faq.html#2025.07) você pode observar que a versão do python é a que necessitamos (3.11.*)."
   ]
  },
  {
   "cell_type": "markdown",
   "metadata": {
    "id": "6gRwFkmaccbi"
   },
   "source": [
    "![Alterar versão](https://i.imgur.com/kz9XhDD.png)"
   ]
  },
  {
   "cell_type": "markdown",
   "metadata": {
    "id": "o1PN4tvRdklq"
   },
   "source": [
    "O motivo da troca de versão é porque temos dependências que não foram disponiilizadas para as versões mais recentes do python."
   ]
  },
  {
   "cell_type": "markdown",
   "metadata": {
    "id": "x4OliaBGcJjg"
   },
   "source": [
    "![]()"
   ]
  },
  {
   "cell_type": "markdown",
   "metadata": {
    "id": "FxZDIu9EQcTR"
   },
   "source": [
    "# Informações sobre o projeto"
   ]
  },
  {
   "cell_type": "markdown",
   "metadata": {
    "id": "aWWfNAZgQqCn"
   },
   "source": [
    "## Integrantes"
   ]
  },
  {
   "cell_type": "markdown",
   "metadata": {
    "id": "15GP3pGPQrz_"
   },
   "source": [
    "Os integrantes desse projeto são:\n",
    "- [Rhogger Freitas Silva](https://www.linkedin.com/in/rhogger-fs/)\n",
    "- [José Henrique Queiroz de Souza](https://www.linkedin.com/in/josehenriqve/)\n",
    "- [Mateus Abreu da Cunha Nascimento](https://www.linkedin.com/in/mateusabreucn/)\n",
    "- [Felipe Peretti](https://www.linkedin.com/in/felipeperetti/)"
   ]
  },
  {
   "cell_type": "markdown",
   "metadata": {
    "id": "v-q1xjOJQn8t"
   },
   "source": [
    "## Sobre o projeto"
   ]
  },
  {
   "cell_type": "markdown",
   "metadata": {
    "id": "oGKqxObtQspJ"
   },
   "source": [
    "Este é um projeto desenvolvido durante a disciplina \"Projeto de Ciência de Dados\" da pós-graduação de Data Science & Machine Learning da UniRV.\n",
    "\n",
    "<br>\n",
    "\n",
    "O foco da disciplina é criar um projeto completo de ciência de dados para aplicarmos os conhecimentos obtidos ao longo do curso e apresentá-lo à uma banca avaliadora composta de profissionais das áreas na qual foi aplicado o projeto.\n",
    "\n",
    "<br>\n",
    "\n",
    "O objetivo do projeto é limpar e preparar os dados para extração de insights, preprocessar e normalizar os dados para a geração de modelos na predição se uma determinada ação ordinária da bolsa de valores é recomendado o investimento, e estimar o seu valor em 2025.\n",
    "\n",
    "<br>\n",
    "\n",
    "Fonte dos dados: [Economatica](https://www.economatica.com/)"
   ]
  },
  {
   "cell_type": "markdown",
   "metadata": {
    "id": "1YIceniDQilR"
   },
   "source": [
    "# Configuração de ambientes"
   ]
  },
  {
   "cell_type": "markdown",
   "metadata": {
    "id": "xrPwJvpSB-pI"
   },
   "source": [
    "## Instalação de dependências\n",
    "\n",
    "Essa etapa demora um pouco, por favor aguarde.\n",
    "\n",
    "### 🚨🚨🚨 Após finalizar, reinicie a sessão 🚨🚨🚨"
   ]
  },
  {
   "cell_type": "code",
   "execution_count": null,
   "metadata": {
    "colab": {
     "base_uri": "https://localhost:8080/"
    },
    "id": "gbWeRrq6hsq9",
    "outputId": "88368d95-4014-4b2b-85fe-75d2895142a1"
   },
   "outputs": [],
   "source": [
    "import os\n",
    "\n",
    "# Primeiro, tenta carregar as variáveis do .env se a biblioteca estiver disponível\n",
    "try:\n",
    "    from dotenv import load_dotenv\n",
    "    load_dotenv()\n",
    "except ImportError:\n",
    "    print(\"python-dotenv não está instalado. Tentando verificar através de outras formas...\")\n",
    "\n",
    "# Verifica se está rodando no Google Colab\n",
    "# Prioriza a variável GOOGLE_COLAB_RUNTIME do .env, mas também verifica 'google.colab' no sys.modules\n",
    "is_colab = False\n",
    "\n",
    "# Primeiro verifica a variável de ambiente\n",
    "google_colab_env = os.getenv('GOOGLE_COLAB_RUNTIME')\n",
    "print(f\"Valor da variável GOOGLE_COLAB_RUNTIME: {google_colab_env}\")\n",
    "\n",
    "if google_colab_env and google_colab_env.lower() == 'true':\n",
    "    is_colab = True\n",
    "    print(\"Google Colab detectado através da variável GOOGLE_COLAB_RUNTIME\")\n",
    "else:\n",
    "    # Fallback: verifica se está rodando no Google Colab através do sys.modules\n",
    "    import sys\n",
    "    if 'google.colab' in sys.modules:\n",
    "        is_colab = True\n",
    "        print(\"Google Colab detectado através do módulo google.colab\")\n",
    "\n",
    "if is_colab:\n",
    "    print(\"Executando no Google Colab - Instalando dependências...\")\n",
    "    %pip install -qqq python-dotenv\n",
    "    %pip uninstall -qqq numpy pandas pycaret -y\n",
    "    %pip install -qqq numpy pandas pycaret[full] category_encoders\n",
    "else:\n",
    "    print(\"Não está no Google Colab - Pulando instalação de dependências via pip\")"
   ]
  },
  {
   "cell_type": "markdown",
   "metadata": {
    "id": "vYfxojV4R4vz"
   },
   "source": [
    "## Importações"
   ]
  },
  {
   "cell_type": "code",
   "execution_count": null,
   "metadata": {
    "colab": {
     "base_uri": "https://localhost:8080/"
    },
    "id": "fpcwsw5RFoHB",
    "outputId": "d0b643f7-c5f0-4b10-f5b7-e80d1b2cf296"
   },
   "outputs": [],
   "source": [
    "import sys\n",
    "print(sys.version)"
   ]
  },
  {
   "cell_type": "code",
   "execution_count": null,
   "metadata": {
    "colab": {
     "base_uri": "https://localhost:8080/",
     "height": 424
    },
    "id": "276f6EmgOFj_",
    "outputId": "8ce04792-d141-4195-951f-a69212cb0122"
   },
   "outputs": [],
   "source": [
    "import pandas as pd\n",
    "import numpy as np\n",
    "\n",
    "import gradio as gr\n",
    "import matplotlib.pyplot as plt\n",
    "import seaborn as sns\n",
    "import plotly.io as pio\n",
    "import plotly.graph_objects as go\n",
    "\n",
    "import gdown\n",
    "\n",
    "from sklearn.preprocessing import LabelEncoder\n",
    "from scipy import stats\n",
    "\n",
    "from pycaret.regression import *\n",
    "from pycaret.classification import *\n",
    "import category_encoders as ce\n",
    "\n",
    "import re\n",
    "import unicodedata\n",
    "from collections import defaultdict\n"
   ]
  },
  {
   "cell_type": "markdown",
   "metadata": {
    "id": "bOzBOLIUU6Sl"
   },
   "source": [
    "## Download de Datasets"
   ]
  },
  {
   "cell_type": "markdown",
   "metadata": {
    "id": "OB2Kj1PIczNq"
   },
   "source": [
    "Nessa etapa realizamos o download dos datasets (em formato csv) e armazenamento local aqui no colab, utilizando a biblioteca `gdown`, para não se fazer necessário o upload manual por cada usuário deste notebook."
   ]
  },
  {
   "cell_type": "markdown",
   "metadata": {
    "id": "RYQySKrLdIfQ"
   },
   "source": [
    "Este primeiro dataset, é o que possui as principais informações que iremos utilizar."
   ]
  },
  {
   "cell_type": "code",
   "execution_count": null,
   "metadata": {
    "colab": {
     "base_uri": "https://localhost:8080/",
     "height": 105
    },
    "id": "ND0-L1gfVAqz",
    "outputId": "66bc57f7-2633-4c53-b524-2303aed7b5ae"
   },
   "outputs": [],
   "source": [
    "# Criar a pasta datasets se não existir (apenas no ambiente local)\n",
    "if not is_colab:\n",
    "    os.makedirs('../datasets', exist_ok=True)\n",
    "\n",
    "url = 'https://drive.google.com/file/d/1XmkjSrATB20AafqaxJb6dU-4NGllGcPt/view'\n",
    "\n",
    "# Define o caminho baseado no ambiente\n",
    "if is_colab:\n",
    "    output = '/content/df_economatica.csv'\n",
    "else:\n",
    "    output = '../datasets/df_economatica.csv'\n",
    "\n",
    "print(f\"Baixando arquivo para: {output}\")\n",
    "gdown.download(url, output, fuzzy=True)"
   ]
  },
  {
   "cell_type": "markdown",
   "metadata": {
    "id": "3v0SHzS1dWV-"
   },
   "source": [
    "Já este segundo, é o outro que ficou faltando algumas colunas relevantes para a nossa análise posterior."
   ]
  },
  {
   "cell_type": "code",
   "execution_count": null,
   "metadata": {
    "colab": {
     "base_uri": "https://localhost:8080/",
     "height": 105
    },
    "id": "ZqGPbzaGGse3",
    "outputId": "3c5cfe9c-0aa2-4f04-875d-3137bb9bbe59"
   },
   "outputs": [],
   "source": [
    "url = 'https://drive.google.com/file/d/1FyURuDTdL-hVONTWO2y9rTaUfz88Fmyj/view'\n",
    "\n",
    "# Define o caminho baseado no ambiente\n",
    "if is_colab:\n",
    "    output = '/content/df_economaticav2.csv'\n",
    "else:\n",
    "    output = '../datasets/df_economaticav2.csv'\n",
    "\n",
    "print(f\"Baixando arquivo para: {output}\")\n",
    "gdown.download(url, output, fuzzy=True)"
   ]
  },
  {
   "cell_type": "markdown",
   "metadata": {
    "id": "snF3lw35EQAt"
   },
   "source": [
    "## Configurações Pandas"
   ]
  },
  {
   "cell_type": "markdown",
   "metadata": {
    "id": "z39O-MStEZIt"
   },
   "source": [
    "Configurações de exibição do pandas atualizadas para mostrar todas as linhas e colunas, pois o dataset possui mais de 100 colunas, logo o pandas trunca as tabelas."
   ]
  },
  {
   "cell_type": "code",
   "execution_count": null,
   "metadata": {
    "id": "CjoLGpKUER7c"
   },
   "outputs": [],
   "source": [
    "if is_colab:\n",
    "  pd.set_option('display.max_rows', None)\n",
    "  pd.set_option('display.max_columns', None)"
   ]
  },
  {
   "cell_type": "markdown",
   "metadata": {},
   "source": [
    "## Configurações Plotly"
   ]
  },
  {
   "cell_type": "code",
   "execution_count": null,
   "metadata": {},
   "outputs": [],
   "source": [
    "# Cores corrigidas conforme especificado\n",
    "GRADIO_PRIMARY = \"#F97316\"       # Cor primária (laranja)\n",
    "GRADIO_SECONDARY = \"#3267BD\"     # Cor secundária (azul)\n",
    "GRADIO_DARK_BG = \"#27272A\"       # Fundo do gráfico\n",
    "GRADIO_CARD_BG = \"#27272A\"       # Fundo dos cards/containers (mesmo que o bg do gráfico)\n",
    "GRADIO_BORDER = \"#3F3F46\"        # Linhas do gráfico/bordas\n",
    "GRADIO_TEXT = \"#E7E7E8\"          # Labels/texto principal\n",
    "GRADIO_TEXT_MUTED = \"#A1A1AA\"    # Texto secundário (derivado dos labels)\n",
    "\n",
    "# Criar tema customizado baseado no gradio dark com cores corretas\n",
    "custom_theme = {\n",
    "    \"layout\": {\n",
    "        \"paper_bgcolor\": GRADIO_DARK_BG,     # Fundo principal do gráfico\n",
    "        \"plot_bgcolor\": GRADIO_DARK_BG,      # Fundo da área de plotagem\n",
    "        \"font\": {\"color\": GRADIO_TEXT, \"family\": \"Inter, system-ui, sans-serif\"},\n",
    "        \"colorway\": [GRADIO_PRIMARY, GRADIO_SECONDARY, \"#10b981\", \"#f59e0b\", \"#ef4444\", \"#8b5cf6\", \"#06b6d4\", \"#84cc16\"],\n",
    "        \"title\": {\n",
    "            \"font\": {\"color\": GRADIO_TEXT, \"size\": 18},\n",
    "            \"x\": 0.5,  # Centraliza título\n",
    "            \"xanchor\": \"center\"\n",
    "        },\n",
    "        \"xaxis\": {\n",
    "            \"gridcolor\": GRADIO_BORDER,\n",
    "            \"linecolor\": GRADIO_BORDER,\n",
    "            \"tickcolor\": GRADIO_BORDER,\n",
    "            \"color\": GRADIO_TEXT,\n",
    "            \"zerolinecolor\": GRADIO_BORDER\n",
    "        },\n",
    "        \"yaxis\": {\n",
    "            \"gridcolor\": GRADIO_BORDER, \n",
    "            \"linecolor\": GRADIO_BORDER,\n",
    "            \"tickcolor\": GRADIO_BORDER,\n",
    "            \"color\": GRADIO_TEXT,\n",
    "            \"zerolinecolor\": GRADIO_BORDER\n",
    "        },\n",
    "        \"legend\": {\n",
    "            \"bgcolor\": f\"rgba({int(GRADIO_CARD_BG[1:3], 16)}, {int(GRADIO_CARD_BG[3:5], 16)}, {int(GRADIO_CARD_BG[5:7], 16)}, 0.9)\",\n",
    "            \"bordercolor\": GRADIO_BORDER,\n",
    "            \"font\": {\"color\": GRADIO_TEXT}\n",
    "        },\n",
    "        \"coloraxis\": {\n",
    "            \"colorbar\": {\n",
    "                \"tickcolor\": GRADIO_BORDER,\n",
    "                \"title\": {\"font\": {\"color\": GRADIO_TEXT}}\n",
    "            }\n",
    "        }\n",
    "    }\n",
    "}\n",
    "\n",
    "# Registrar o tema customizado\n",
    "pio.templates[\"gradio_dark\"] = go.layout.Template(custom_theme)\n",
    "\n",
    "# Definir como tema padrão\n",
    "pio.templates.default = \"gradio_dark\""
   ]
  },
  {
   "cell_type": "markdown",
   "metadata": {
    "id": "7q2nx2qbWDMG"
   },
   "source": [
    "## Definição de datasets"
   ]
  },
  {
   "cell_type": "markdown",
   "metadata": {
    "id": "JIvYTjJid2xQ"
   },
   "source": [
    "Agora iremos armazenar os valores dos datasets à variáveis do tipo `DataFrame` do `pandas`, no qual iremos utilizaremos ao decorrer do projeto."
   ]
  },
  {
   "cell_type": "code",
   "execution_count": null,
   "metadata": {
    "id": "Uq1WcJ5sWFtO"
   },
   "outputs": [],
   "source": [
    "if is_colab:\n",
    "    path_main = '/content/df_economatica.csv'\n",
    "    path_dividendos = '/content/df_economaticav2.csv'\n",
    "else:\n",
    "    path_main = '../datasets/df_economatica.csv'\n",
    "    path_dividendos = '../datasets/df_economaticav2.csv'\n",
    "\n",
    "df_economatica = pd.read_csv(path_main)\n",
    "df_economatica_dividendos = pd.read_csv(path_dividendos)"
   ]
  },
  {
   "cell_type": "code",
   "execution_count": null,
   "metadata": {
    "colab": {
     "base_uri": "https://localhost:8080/"
    },
    "id": "ql_TjyLgjWhz",
    "outputId": "45ec2ea1-557c-4297-f6bb-f98c668aea5d"
   },
   "outputs": [],
   "source": [
    "df_economatica.info()"
   ]
  },
  {
   "cell_type": "code",
   "execution_count": null,
   "metadata": {
    "colab": {
     "base_uri": "https://localhost:8080/"
    },
    "id": "YFqx7_djjX5P",
    "outputId": "5d374460-331d-4351-a13c-db38deee1f2e"
   },
   "outputs": [],
   "source": [
    "df_economatica.shape"
   ]
  },
  {
   "cell_type": "markdown",
   "metadata": {
    "id": "6vj6MAICeT38"
   },
   "source": [
    "Aqui confirmamos a quantidade de linhas do dataset para uma mesclagem dosdatasets, posteriormente. Este valor é importante."
   ]
  },
  {
   "cell_type": "code",
   "execution_count": null,
   "metadata": {
    "colab": {
     "base_uri": "https://localhost:8080/",
     "height": 539
    },
    "id": "XcvI7nZgjZMn",
    "outputId": "a4bef7f7-af4b-4318-b80f-d4f1c8b08d1a"
   },
   "outputs": [],
   "source": [
    "df_economatica.head()"
   ]
  },
  {
   "cell_type": "code",
   "execution_count": null,
   "metadata": {
    "colab": {
     "base_uri": "https://localhost:8080/"
    },
    "id": "bQLwD535jaj4",
    "outputId": "8a34fc31-3ce0-4713-c5fb-db3c5203cb60"
   },
   "outputs": [],
   "source": [
    "df_economatica_dividendos.info()"
   ]
  },
  {
   "cell_type": "code",
   "execution_count": null,
   "metadata": {
    "colab": {
     "base_uri": "https://localhost:8080/"
    },
    "id": "6uNhgjwljcUM",
    "outputId": "789c0583-6f75-4802-b4f8-17c3db12eb35"
   },
   "outputs": [],
   "source": [
    "df_economatica_dividendos.shape"
   ]
  },
  {
   "cell_type": "markdown",
   "metadata": {
    "id": "2LNwvQqzenai"
   },
   "source": [
    "Já aqui vemos que não há a mesma quantidade de linhas. Ou seja, iremos analisar e prorrogar a mesclagem."
   ]
  },
  {
   "cell_type": "code",
   "execution_count": null,
   "metadata": {
    "colab": {
     "base_uri": "https://localhost:8080/",
     "height": 345
    },
    "id": "7RUxVBrqjdTY",
    "outputId": "f4bb77a8-3a69-4612-e988-44cf376868fc"
   },
   "outputs": [],
   "source": [
    "df_economatica_dividendos.head()"
   ]
  },
  {
   "cell_type": "markdown",
   "metadata": {
    "id": "UTt1CgaxjiHy"
   },
   "source": [
    "# Manipulação de features"
   ]
  },
  {
   "cell_type": "markdown",
   "metadata": {
    "id": "fDgTAPYbJ55h"
   },
   "source": [
    "## Filtrando a classe por ações ordinárias (ON)"
   ]
  },
  {
   "cell_type": "code",
   "execution_count": null,
   "metadata": {
    "colab": {
     "base_uri": "https://localhost:8080/"
    },
    "id": "78iUOmOdDfH9",
    "outputId": "1856e54c-9c02-430f-d0a8-52b412143a6d"
   },
   "outputs": [],
   "source": [
    "df_economatica_on = df_economatica[df_economatica['Classe'] == 'ON']\n",
    "\n",
    "df_economatica_on.shape"
   ]
  },
  {
   "cell_type": "code",
   "execution_count": null,
   "metadata": {
    "colab": {
     "base_uri": "https://localhost:8080/"
    },
    "id": "nv9NS49oh6MQ",
    "outputId": "4dea913f-b0a1-4003-9fed-d293a9ca77ac"
   },
   "outputs": [],
   "source": [
    "df_economatica_dividendos_on = df_economatica_dividendos[df_economatica_dividendos['Classe'] == 'ON']\n",
    "\n",
    "df_economatica_dividendos_on.shape"
   ]
  },
  {
   "cell_type": "markdown",
   "metadata": {
    "id": "g_8yOxlojp-X"
   },
   "source": [
    "## Remoção de features"
   ]
  },
  {
   "cell_type": "markdown",
   "metadata": {
    "id": "0xQuoHkIkZsL"
   },
   "source": [
    "Removendo as colunas \"Classe\", \"Bolsa / Fonte\", \"Tipo de Ativo\", \"Ativo / Cancelado\" e \"Setor Agro Bovespa\", pois todas essas colunas possuíam o mesmo valor para todas as linhas (ações), sendo \"ON\", \"Bovespa\", \"Ação\" e \"ativo\", respectivamente, esses valores não serão relevantes a partir de agora e todos possuem o mesmo valor.\n",
    "\n",
    "<br>\n",
    "\n",
    "A justificativa de remover a coluna \"Setor Agro Bovespa\" se dá pelo fato de que iremos realizar o OneHotEndcoding mais para frente, logo é mais simples remover a coluna do que normalizar os valores.\n",
    "\n",
    "<br>\n",
    "\n",
    "As colunas de ativos/passivos circulantes e não circulantes, são os componentes que formam valores maiores, como o ativo_total e o passivo_total. A informação contida nelas já está representada de forma mais consolidada e útil nos próprios totais e, principalmente, nos indicadores de liquidez e endividamento. Mantê-las no modelo criaria uma redundância desnecessária. Porém elas serão removidas posteriormente, pois serão utilizadas para cálculos."
   ]
  },
  {
   "cell_type": "code",
   "execution_count": null,
   "metadata": {
    "colab": {
     "base_uri": "https://localhost:8080/"
    },
    "id": "Hjwwlc-7jCp6",
    "outputId": "260c2a38-e80c-4a01-be8d-1805fedde541"
   },
   "outputs": [],
   "source": [
    "colunas_para_remover_df_economatica = [\n",
    "    'Classe',\n",
    "    'Bolsa / Fonte',\n",
    "    'Tipo de Ativo',\n",
    "    'Ativo /\\nCancelado',\n",
    "    'Setor Agro\\nBovespa',\n",
    "    # 'AtvCir\\n < Dez 2020\\n Em moeda orig\\n em milhares\\n consolid:sim*',\n",
    "    # 'AtvCir\\n < Dez 2021\\n Em moeda orig\\n em milhares\\n consolid:sim*',\n",
    "    # 'AtvCir\\n < Dez 2022\\n Em moeda orig\\n em milhares\\n consolid:sim*',\n",
    "    # 'AtvCir\\n < Dez 2023\\n Em moeda orig\\n em milhares\\n consolid:sim*',\n",
    "    # 'AtvCir\\n < Dez 2024\\n Em moeda orig\\n em milhares\\n consolid:sim*',\n",
    "    # 'AtvNaoCir\\n < Dez 2020\\n Em moeda orig\\n em milhares\\n consolid:sim*',\n",
    "    # 'AtvNaoCir\\n < Dez 2021\\n Em moeda orig\\n em milhares\\n consolid:sim*',\n",
    "    # 'AtvNaoCir\\n < Dez 2022\\n Em moeda orig\\n em milhares\\n consolid:sim*',\n",
    "    # 'AtvNaoCir\\n < Dez 2023\\n Em moeda orig\\n em milhares\\n consolid:sim*',\n",
    "    # 'AtvNaoCir\\n < Dez 2024\\n Em moeda orig\\n em milhares\\n consolid:sim*',\n",
    "    # 'PasCir\\n < Dez 2020\\n Em moeda orig\\n em milhares\\n consolid:sim*',\n",
    "    # 'PasCir\\n < Set 2021\\n Em moeda orig\\n em milhares\\n consolid:sim*',\n",
    "    # 'PasCir\\n < Dez 2022\\n Em moeda orig\\n em milhares\\n consolid:sim*',\n",
    "    # 'PasCir\\n < Dez 2023\\n Em moeda orig\\n em milhares\\n consolid:sim*',\n",
    "    # 'PasCir\\n < Dez 2024\\n Em moeda orig\\n em milhares\\n consolid:sim*',\n",
    "    # 'PasNoCir\\n < Dez 2020\\n Em moeda orig\\n em milhares\\n consolid:sim*',\n",
    "    # 'PasNoCir\\n < Dez 2021\\n Em moeda orig\\n em milhares\\n consolid:sim*',\n",
    "    # 'PasNoCir\\n < Dez 2022\\n Em moeda orig\\n em milhares\\n consolid:sim*',\n",
    "    # 'PasNoCir\\n < Dez 2023\\n Em moeda orig\\n em milhares\\n consolid:sim*',\n",
    "    # 'PasNoCir\\n < Dez 2024\\n Em moeda orig\\n em milhares\\n consolid:sim*',\n",
    "    # 'Ativo Tot\\n < Dez 2020\\n Em moeda orig\\n em milhares\\n consolid:sim*',\n",
    "    # 'Ativo Tot\\n < Dez 2021\\n Em moeda orig\\n em milhares\\n consolid:sim*',\n",
    "    # 'Ativo Tot\\n < Dez 2022\\n Em moeda orig\\n em milhares\\n consolid:sim*',\n",
    "    # 'Ativo Tot\\n < Dez 2023\\n Em moeda orig\\n em milhares\\n consolid:sim*',\n",
    "    # 'Ativo Tot\\n < Dez 2024\\n Em moeda orig\\n em milhares\\n consolid:sim*',\n",
    "    # 'Patrim Liq\\n < Dez 2020\\n Em moeda orig\\n em milhares\\n consolid:sim*',\n",
    "    # 'Patrim Liq\\n < Dez 2021\\n Em moeda orig\\n em milhares\\n consolid:sim*',\n",
    "    # 'Patrim Liq\\n < Dez 2022\\n Em moeda orig\\n em milhares\\n consolid:sim*',\n",
    "    # 'Patrim Liq\\n < Dez 2023\\n Em moeda orig\\n em milhares\\n consolid:sim*',\n",
    "    # 'Patrim Liq\\n < Dez 2024\\n Em moeda orig\\n em milhares\\n consolid:sim*',\n",
    "    # 'Receita\\n < Dez 2020\\n Em moeda orig\\n em milhares\\n no exercício\\n consolid:sim*',\n",
    "    # 'Receita\\n < Dez 2021\\n Em moeda orig\\n em milhares\\n no exercício\\n consolid:sim*',\n",
    "    # 'Receita\\n < Dez 2022\\n Em moeda orig\\n em milhares\\n no exercício\\n consolid:sim*',\n",
    "    # 'Receita\\n < Dez 2023\\n Em moeda orig\\n em milhares\\n no exercício\\n consolid:sim*',\n",
    "    # 'Receita\\n < Dez 2024\\n Em moeda orig\\n em milhares\\n no exercício\\n consolid:sim*',\n",
    "    # 'Lucro Liquido\\n < Dez 2020\\n Em moeda orig\\n em milhares\\n no exercício\\n consolid:sim*',\n",
    "    # 'Lucro Liquido\\n < Dez 2021\\n Em moeda orig\\n em milhares\\n no exercício\\n consolid:sim*',\n",
    "    # 'Lucro Liquido\\n < Dez 2022\\n Em moeda orig\\n em milhares\\n no exercício\\n consolid:sim*',\n",
    "    # 'Lucro Liquido\\n < Dez 2023\\n Em moeda orig\\n em milhares\\n no exercício\\n consolid:sim*',\n",
    "    # 'Lucro Liquido\\n < Dez 2024\\n Em moeda orig\\n em milhares\\n no exercício\\n consolid:sim*',\n",
    "]\n",
    "\n",
    "df_economatica_colunas_removidas = df_economatica_on.drop(columns=colunas_para_remover_df_economatica).copy()\n",
    "\n",
    "df_economatica_colunas_removidas.shape"
   ]
  },
  {
   "cell_type": "code",
   "execution_count": null,
   "metadata": {
    "colab": {
     "base_uri": "https://localhost:8080/"
    },
    "id": "IOsuKudKjSN7",
    "outputId": "83dabd1c-e574-4764-ff85-fd8fcd6f0588"
   },
   "outputs": [],
   "source": [
    "colunas_para_remover_df_economatica_dividendos = [\n",
    "    'Classe',\n",
    "    'Bolsa / Fonte',\n",
    "    'Tipo de Ativo',\n",
    "    'Ativo /\\nCancelado'\n",
    "]\n",
    "\n",
    "df_economatica_dividendos_colunas_removidas = df_economatica_dividendos_on.drop(columns=colunas_para_remover_df_economatica_dividendos)\n",
    "\n",
    "df_economatica_dividendos_colunas_removidas.shape"
   ]
  },
  {
   "cell_type": "markdown",
   "metadata": {
    "id": "Uq2le294Ouhf"
   },
   "source": [
    "## Renomeando as colunas"
   ]
  },
  {
   "cell_type": "code",
   "execution_count": null,
   "metadata": {
    "colab": {
     "base_uri": "https://localhost:8080/"
    },
    "id": "cMnCTKeBX17U",
    "outputId": "08278d1b-fb9e-4657-9b5a-2e735252e9d9"
   },
   "outputs": [],
   "source": [
    "novos_nomes_colunas_df_economatica = [\n",
    "    'nome', 'codigo', 'setor',\n",
    "    'ativo_circulante_2020', 'ativo_circulante_2021', 'ativo_circulante_2022', 'ativo_circulante_2023', 'ativo_circulante_2024',\n",
    "    'ativo_nao_circulante_2020', 'ativo_nao_circulante_2021', 'ativo_nao_circulante_2022', 'ativo_nao_circulante_2023', 'ativo_nao_circulante_2024',\n",
    "    'passivo_circulante_2020', 'passivo_circulante_2021', 'passivo_circulante_2022', 'passivo_circulante_2023', 'passivo_circulante_2024',\n",
    "    'passivo_nao_circulante_2020', 'passivo_nao_circulante_2021', 'passivo_nao_circulante_2022', 'passivo_nao_circulante_2023', 'passivo_nao_circulante_2024',\n",
    "    'patrimonio_liquido_2020', 'patrimonio_liquido_2021', 'patrimonio_liquido_2022', 'patrimonio_liquido_2023', 'patrimonio_liquido_2024',\n",
    "    'lpa_2020', 'lpa_2021', 'lpa_2022', 'lpa_2023', 'lpa_2024',\n",
    "    'receita_2020', 'receita_2021', 'receita_2022', 'receita_2023', 'receita_2024',\n",
    "    'lucro_liquido_2020', 'lucro_liquido_2021', 'lucro_liquido_2022', 'lucro_liquido_2023', 'lucro_liquido_2024',\n",
    "    'divida_bruta_ativo_2020', 'divida_bruta_ativo_2021', 'divida_bruta_ativo_2022', 'divida_bruta_ativo_2023', 'divida_bruta_ativo_2024',\n",
    "    'liquidez_corrente_2020', 'liquidez_corrente_2021', 'liquidez_corrente_2022', 'liquidez_corrente_2023', 'liquidez_corrente_2024',\n",
    "    'liquidez_geral_2020', 'liquidez_geral_2021', 'liquidez_geral_2022', 'liquidez_geral_2023', 'liquidez_geral_2024',\n",
    "    'rentabilidade_ativo_2020', 'rentabilidade_ativo_2021', 'rentabilidade_ativo_2022', 'rentabilidade_ativo_2023', 'rentabilidade_ativo_2024',\n",
    "    'roe_2020', 'roe_2021', 'roe_2022', 'roe_2023', 'roe_2024',\n",
    "    'margem_ebit_2020', 'margem_ebit_2021', 'margem_ebit_2022', 'margem_ebit_2023', 'margem_ebit_2024',\n",
    "    'margem_liquida_2020', 'margem_liquida_2021', 'margem_liquida_2022', 'margem_liquida_2023', 'margem_liquida_2024',\n",
    "    'ativo_total_2020', 'ativo_total_2021', 'ativo_total_2022', 'ativo_total_2023', 'ativo_total_2024',\n",
    "    'caixa_operacional_2020', 'caixa_operacional_2021', 'caixa_operacional_2022', 'caixa_operacional_2023', 'caixa_operacional_2024',\n",
    "    'caixa_investimento_2020', 'caixa_investimento_2021', 'caixa_investimento_2022', 'caixa_investimento_2023', 'caixa_investimento_2024',\n",
    "    'caixa_financeiro_2020', 'caixa_financeiro_2021', 'caixa_financeiro_2022', 'caixa_financeiro_2023', 'caixa_financeiro_2024',\n",
    "    'valor_mercado_2020', 'valor_mercado_2021', 'valor_mercado_2022', 'valor_mercado_2023', 'valor_mercado_2024'\n",
    "]\n",
    "\n",
    "df_economatica_renomeado = df_economatica_colunas_removidas.copy()\n",
    "df_economatica_renomeado.columns = novos_nomes_colunas_df_economatica\n",
    "\n",
    "df_economatica_renomeado.columns"
   ]
  },
  {
   "cell_type": "code",
   "execution_count": null,
   "metadata": {
    "colab": {
     "base_uri": "https://localhost:8080/"
    },
    "id": "5MwkjSF0kkqx",
    "outputId": "09d5287b-441f-416d-c372-122464f3f6f2"
   },
   "outputs": [],
   "source": [
    "novos_nomes_colunas_df_economatica_dividendos = [\n",
    "    'nome', 'codigo', 'dividendos_2020', 'dividendos_2021', 'dividendos_2022', 'dividendos_2023', 'dividendos_2024'\n",
    "]\n",
    "\n",
    "df_economatica_dividendos_renomeado = df_economatica_dividendos_colunas_removidas.copy()\n",
    "df_economatica_dividendos_renomeado.columns = novos_nomes_colunas_df_economatica_dividendos\n",
    "\n",
    "df_economatica_dividendos_renomeado.columns"
   ]
  },
  {
   "cell_type": "markdown",
   "metadata": {
    "id": "uPE2pN50miU5"
   },
   "source": [
    "## Verificando integridade dos dados"
   ]
  },
  {
   "cell_type": "markdown",
   "metadata": {
    "id": "uEdzUzrKmoz-"
   },
   "source": [
    "Antes de criar as novas features, devemos mesclar os dataframes, mas como vimos anteriormente, a quantidade de linhas está diferente, e é isso que iremos analisar neste bloco.\n",
    "\n",
    "Para fazer isso, basta verificar qual código não está presente no dataset dos dividendos."
   ]
  },
  {
   "cell_type": "code",
   "execution_count": null,
   "metadata": {
    "colab": {
     "base_uri": "https://localhost:8080/",
     "height": 321
    },
    "id": "VHRDpBQLmoWM",
    "outputId": "79fab7f4-0e33-4b1f-b9cf-c244ac7b3b2a"
   },
   "outputs": [],
   "source": [
    "codigos_ausentes_em_economatica_limpo = df_economatica_dividendos_renomeado[\n",
    "    ~df_economatica_dividendos_renomeado['codigo'].isin(df_economatica_renomeado['codigo'])\n",
    "]['codigo']\n",
    "\n",
    "print(f\"Foi encontrado {codigos_ausentes_em_economatica_limpo.count()} códigos presentes em df_economatica_dividendos_renomeado, mas ausentes em df_economatica_renomeado:\")\n",
    "codigos_ausentes_em_economatica_limpo"
   ]
  },
  {
   "cell_type": "code",
   "execution_count": null,
   "metadata": {
    "colab": {
     "base_uri": "https://localhost:8080/",
     "height": 446
    },
    "id": "PCeH7AvsqMfx",
    "outputId": "bdb04c32-e080-4f58-d4fb-9879389de113"
   },
   "outputs": [],
   "source": [
    "codigos_ausentes_em_dividendos_limpo = df_economatica_renomeado[\n",
    "    ~df_economatica_renomeado['codigo'].isin(df_economatica_dividendos_renomeado['codigo'])\n",
    "]['codigo']\n",
    "\n",
    "print(f\"Foi encontrado {codigos_ausentes_em_dividendos_limpo.count()} códigos presentes em df_economatica_renomeado, mas ausentes em df_economatica_dividendos_renomeado:\")\n",
    "codigos_ausentes_em_dividendos_limpo"
   ]
  },
  {
   "cell_type": "code",
   "execution_count": null,
   "metadata": {
    "colab": {
     "base_uri": "https://localhost:8080/",
     "height": 290
    },
    "id": "CkJCkPoKqWvr",
    "outputId": "7b584eed-f25c-46c9-d093-6e4aee378e9e"
   },
   "outputs": [],
   "source": [
    "nomes_ausentes_em_economatica_limpo = df_economatica_dividendos_renomeado[\n",
    "    ~df_economatica_dividendos_renomeado['nome'].isin(df_economatica_renomeado['nome'])\n",
    "]['nome']\n",
    "\n",
    "print(f\"Foi encontrado {nomes_ausentes_em_economatica_limpo.count()} nomes de empresas presentes em df_economatica_dividendos_renomeado, mas ausentes em df_economatica_renomeado:\")\n",
    "nomes_ausentes_em_economatica_limpo"
   ]
  },
  {
   "cell_type": "code",
   "execution_count": null,
   "metadata": {
    "colab": {
     "base_uri": "https://localhost:8080/",
     "height": 432
    },
    "id": "yCTDXzyAq1p3",
    "outputId": "308d4313-602f-4c52-ddf4-786b9e350653"
   },
   "outputs": [],
   "source": [
    "nomes_ausentes_em_dividendos_limpo = df_economatica_renomeado[\n",
    "    ~df_economatica_renomeado['nome'].isin(df_economatica_dividendos_renomeado['nome'])\n",
    "]['nome']\n",
    "\n",
    "print(f\"\\n Foi encontrado {nomes_ausentes_em_dividendos_limpo.count()} nomes de empresas presentes em df_economatica_renomeado, mas ausentes em df_economatica_dividendos_renomeado:\")\n",
    "nomes_ausentes_em_dividendos_limpo"
   ]
  },
  {
   "cell_type": "markdown",
   "metadata": {
    "id": "CUL9RLPbxupu"
   },
   "source": [
    "Verificado os valores inconsistentes, iremos removê-los."
   ]
  },
  {
   "cell_type": "code",
   "execution_count": null,
   "metadata": {
    "colab": {
     "base_uri": "https://localhost:8080/"
    },
    "id": "W4wmE4cTyL6-",
    "outputId": "09833b46-e205-4120-8fcb-41fcbb4b3c92"
   },
   "outputs": [],
   "source": [
    "df_economatica_filtrado = df_economatica_renomeado[\n",
    "    df_economatica_renomeado['codigo'].isin(df_economatica_dividendos_renomeado['codigo'])\n",
    "].copy()\n",
    "\n",
    "print(f\"Shape de df_economatica_renomeado após remoção: {df_economatica_filtrado.shape}\")"
   ]
  },
  {
   "cell_type": "code",
   "execution_count": null,
   "metadata": {
    "colab": {
     "base_uri": "https://localhost:8080/"
    },
    "id": "MFq3QIaVyhwO",
    "outputId": "499ed631-00ae-4310-cb56-dd56c2de50f7"
   },
   "outputs": [],
   "source": [
    "df_economatica_dividendos_filtrado = df_economatica_dividendos_renomeado[\n",
    "    df_economatica_dividendos_renomeado['codigo'].isin(df_economatica_renomeado['codigo'])\n",
    "].copy()\n",
    "\n",
    "print(f\"Shape de df_economatica_dividendos_renomeado após remoção: {df_economatica_dividendos_filtrado.shape}\")"
   ]
  },
  {
   "cell_type": "markdown",
   "metadata": {
    "id": "oOnz4w5PYNzh"
   },
   "source": [
    "## Mesclagem dos datasets"
   ]
  },
  {
   "cell_type": "markdown",
   "metadata": {
    "id": "WhXJXKAwy29j"
   },
   "source": [
    "Agora que temos os datasets com os mesmos registros, iremos mesclá-los."
   ]
  },
  {
   "cell_type": "code",
   "execution_count": null,
   "metadata": {
    "colab": {
     "base_uri": "https://localhost:8080/"
    },
    "id": "gWE9HRx_YT_q",
    "outputId": "51cea2f8-b76b-4d9b-eab5-4515d3f3e914"
   },
   "outputs": [],
   "source": [
    "colunas_dividendos_para_mesclar = [col for col in df_economatica_dividendos_filtrado.columns if col not in df_economatica_filtrado.columns or col == 'codigo']\n",
    "\n",
    "df_economatica_mesclado = pd.merge(\n",
    "    df_economatica_filtrado,\n",
    "    df_economatica_dividendos_filtrado[colunas_dividendos_para_mesclar],\n",
    "    on='codigo',\n",
    "    how='left'\n",
    ")\n",
    "\n",
    "print(\"Shape do DataFrame mesclado:\")\n",
    "print(df_economatica_mesclado.shape)"
   ]
  },
  {
   "cell_type": "code",
   "execution_count": null,
   "metadata": {
    "colab": {
     "base_uri": "https://localhost:8080/"
    },
    "id": "s5RNiDy-Yhnd",
    "outputId": "8c6a2762-7bc4-458f-85d4-675a9c3c5324"
   },
   "outputs": [],
   "source": [
    "df_economatica_mesclado.info()"
   ]
  },
  {
   "cell_type": "code",
   "execution_count": null,
   "metadata": {
    "colab": {
     "base_uri": "https://localhost:8080/"
    },
    "id": "gOOnZCQJYnN7",
    "outputId": "7362fa9c-5ca9-457b-a287-2e497709272c"
   },
   "outputs": [],
   "source": [
    "df_economatica_mesclado.columns"
   ]
  },
  {
   "cell_type": "markdown",
   "metadata": {
    "id": "5W8jfdG9YuUB"
   },
   "source": [
    "Procurando atras do regex '_\\d{4}$' todas as colunas que terminam com _ano\n"
   ]
  },
  {
   "cell_type": "code",
   "execution_count": null,
   "metadata": {
    "id": "3SbJME-OUlkI"
   },
   "outputs": [],
   "source": [
    "colunas_com_ano = [col for col in df_economatica_mesclado.columns if re.search(r'_\\d{4}$', col)]"
   ]
  },
  {
   "cell_type": "markdown",
   "metadata": {
    "id": "MAcPjnVuY8vk"
   },
   "source": [
    "Dividindo a base das colunas por ano"
   ]
  },
  {
   "cell_type": "code",
   "execution_count": null,
   "metadata": {
    "id": "JPsIxZW5W12K"
   },
   "outputs": [],
   "source": [
    "base_colunas = defaultdict(list)\n",
    "for col in colunas_com_ano:\n",
    "    match = re.match(r\"(.*)_(\\d{4})$\", col)\n",
    "    if match:\n",
    "        base, ano = match.groups()\n",
    "        base_colunas[base].append(col)"
   ]
  },
  {
   "cell_type": "markdown",
   "metadata": {
    "id": "jD9vfAxEZYwj"
   },
   "source": [
    "Fazendo o melt (extensão dos dados) com o ano"
   ]
  },
  {
   "cell_type": "code",
   "execution_count": null,
   "metadata": {
    "id": "j4aYr8ujWwP1"
   },
   "outputs": [],
   "source": [
    "dfs_long = []\n",
    "id_vars = [col for col in df_economatica_mesclado.columns if col not in colunas_com_ano]  # colunas que você quer manter (ex: nome, setor, etc.)\n",
    "\n",
    "for base, cols in base_colunas.items():\n",
    "    # melt para cada base\n",
    "    df_long = df_economatica_mesclado.melt(id_vars=id_vars, value_vars=cols,\n",
    "                      var_name='variavel', value_name=base)\n",
    "    # extrai o ano\n",
    "    df_long['ano'] = df_long['variavel'].str.extract(r'(\\d{4})$')\n",
    "    # drop coluna temporária\n",
    "    df_long = df_long.drop(columns=['variavel'])\n",
    "    dfs_long.append(df_long)\n",
    "\n",
    "# Agora você pode juntar tudo pelo id_vars + ano\n",
    "from functools import reduce\n",
    "\n",
    "df_economatica_com_ano = reduce(lambda left, right: pd.merge(left, right, on=id_vars + ['ano'], how='outer'), dfs_long)"
   ]
  },
  {
   "cell_type": "code",
   "execution_count": null,
   "metadata": {
    "colab": {
     "base_uri": "https://localhost:8080/",
     "height": 1000
    },
    "id": "i1amKWvLXILz",
    "outputId": "ba79e816-d93a-4c31-ab5b-df6a8dda7293"
   },
   "outputs": [],
   "source": [
    "df_economatica_com_ano"
   ]
  },
  {
   "cell_type": "markdown",
   "metadata": {
    "id": "s_PR2ip6jruB"
   },
   "source": [
    "## Criação de features"
   ]
  },
  {
   "cell_type": "markdown",
   "metadata": {
    "id": "AYN1XrXt09TL"
   },
   "source": [
    "### Feature - ano"
   ]
  },
  {
   "cell_type": "markdown",
   "metadata": {
    "id": "Iwr7x_0eSRWt"
   },
   "source": [
    "Agora iremos dividir em 5 datasets, sendo cada um as ações de um ano específico."
   ]
  },
  {
   "cell_type": "code",
   "execution_count": null,
   "metadata": {
    "id": "6wRjgxk4GFsB"
   },
   "outputs": [],
   "source": [
    "def criar_df_ano(ano: int):\n",
    "  df_ano = df_economatica_mesclado[['nome', 'codigo', 'setor'] + [col for col in df_economatica_mesclado.columns if col.endswith(f'_{ano}')]].copy()\n",
    "  df_ano.columns = ['nome', 'codigo', 'setor'] + [col.replace(f'_{ano}', '') for col in df_ano.columns if col.endswith(f'_{ano}')]\n",
    "  df_ano['ano'] = ano\n",
    "\n",
    "  print(f\"Shape do DataFrame de {ano}:\", df_ano.shape)\n",
    "\n",
    "  return df_ano"
   ]
  },
  {
   "cell_type": "code",
   "execution_count": null,
   "metadata": {
    "colab": {
     "base_uri": "https://localhost:8080/"
    },
    "id": "e9fLSIrd1D7g",
    "outputId": "bb11a08c-9760-49b2-a25d-faa71be1ba84"
   },
   "outputs": [],
   "source": [
    "df_economatica_2020 = criar_df_ano(2020)\n",
    "df_economatica_2021 = criar_df_ano(2021)\n",
    "df_economatica_2022 = criar_df_ano(2022)\n",
    "df_economatica_2023 = criar_df_ano(2023)\n",
    "df_economatica_2024 = criar_df_ano(2024)"
   ]
  },
  {
   "cell_type": "code",
   "execution_count": null,
   "metadata": {},
   "outputs": [],
   "source": [
    "dataframes_anos = [\n",
    "    df_economatica_2020,\n",
    "    df_economatica_2021, \n",
    "    df_economatica_2022,\n",
    "    df_economatica_2023,\n",
    "    df_economatica_2024\n",
    "]\n",
    "\n",
    "# Concatenar todos os DataFrames\n",
    "df_economatica_com_ano = pd.concat(dataframes_anos, ignore_index=True)\n",
    "\n",
    "print(f\"Shape do DataFrame mesclado: {df_economatica_com_ano.shape}\")"
   ]
  },
  {
   "cell_type": "markdown",
   "metadata": {
    "id": "ji1e4EoBfEbh"
   },
   "source": [
    "### Feature - pandemia"
   ]
  },
  {
   "cell_type": "markdown",
   "metadata": {
    "id": "thB2-4BWfIwz"
   },
   "source": [
    "Neste trecho iremos adicionar 1 na coluna pandemia nos anos que estavam em alerta emergencial de COVID-19, segundo a OMS, e 0 nos que nao estavam"
   ]
  },
  {
   "cell_type": "code",
   "execution_count": null,
   "metadata": {
    "colab": {
     "base_uri": "https://localhost:8080/"
    },
    "id": "dQv5OPFKfLxn",
    "outputId": "c2439401-dfe5-43bf-bcee-6bd264a261c5"
   },
   "outputs": [],
   "source": [
    "df_economatica_manipulado = df_economatica_com_ano.copy()\n",
    "\n",
    "df_economatica_manipulado['pandemia'] = df_economatica_com_ano['ano'].apply(\n",
    "    lambda x: 1 if x in [2020, 2021, 2022] else 0\n",
    ")\n",
    "\n",
    "print(\"Coluna 'pandemia' criada com sucesso!\")\n",
    "print(f\"Shape do DataFrame: {df_economatica_manipulado.shape}\")\n",
    "print(\"\\nDistribuição da variável pandemia:\")\n",
    "print(df_economatica_manipulado['pandemia'].value_counts())\n",
    "print(\"\\nDistribuição por ano e pandemia:\")\n",
    "print(df_economatica_manipulado.groupby(['ano', 'pandemia']).size())"
   ]
  },
  {
   "cell_type": "markdown",
   "metadata": {},
   "source": [
    "### Feature - variacao_valor_mercado (Variável Target)"
   ]
  },
  {
   "cell_type": "code",
   "execution_count": null,
   "metadata": {},
   "outputs": [],
   "source": [
    "df_economatica_manipulado['variacao_valor_mercado'] = np.nan\n",
    "\n",
    "df_economatica_manipulado['variacao_valor_mercado'].head()"
   ]
  },
  {
   "cell_type": "markdown",
   "metadata": {
    "id": "aRnKAVzAJ2do"
   },
   "source": [
    "# Limpeza dos dados"
   ]
  },
  {
   "cell_type": "markdown",
   "metadata": {
    "id": "elOF-fQ1e21z"
   },
   "source": [
    "Antes e começar a utilizar os dados, precisamos realizar algumas etapas de  limpeza dos dados, como:\n",
    "- Verificar e tratar dados duplicados.\n",
    "- Verificar e tratar tipagem.\n",
    "- Verificar e tratar nulos."
   ]
  },
  {
   "cell_type": "markdown",
   "metadata": {
    "id": "2RTCRoUwlf-o"
   },
   "source": [
    "## Tratamento de valores duplicados"
   ]
  },
  {
   "cell_type": "code",
   "execution_count": null,
   "metadata": {
    "colab": {
     "base_uri": "https://localhost:8080/",
     "height": 141
    },
    "id": "61oc9XSelihH",
    "outputId": "98c3cab6-97f7-4fd2-9b7f-2fc61e098270"
   },
   "outputs": [],
   "source": [
    "print(f\"Número de linhas duplicadas: {df_economatica_manipulado.duplicated().sum()}\")"
   ]
  },
  {
   "cell_type": "markdown",
   "metadata": {
    "id": "nb0GThYVl9s6"
   },
   "source": [
    "Mesmo que não tenha linhas com todos os valores iguais, irei verificar se não há códigos duplicados."
   ]
  },
  {
   "cell_type": "code",
   "execution_count": null,
   "metadata": {
    "colab": {
     "base_uri": "https://localhost:8080/",
     "height": 141
    },
    "id": "Pmqn5gmxmLMn",
    "outputId": "93d71c2f-c9c3-4b94-c800-03dea4107ab7"
   },
   "outputs": [],
   "source": [
    "print(f\"Número de códigos duplicados: {df_economatica_manipulado['codigo'].duplicated().sum()}\")\n",
    "\n",
    "print(f\"Número de registros duplicados (mesmo código no mesmo ano): {df_economatica_manipulado.duplicated(subset=['codigo', 'ano']).sum()}\")\n",
    "\n",
    "contagem_por_codigo = df_economatica_manipulado['codigo'].value_counts()\n",
    "print(f\"\\nCódigos que aparecem 5 vezes (completos): {(contagem_por_codigo == 5).sum()}\")\n",
    "print(f\"Códigos que aparecem menos de 5 vezes (incompletos): {(contagem_por_codigo < 5).sum()}\")"
   ]
  },
  {
   "cell_type": "markdown",
   "metadata": {
    "id": "Ft5_GXnVmbdO"
   },
   "source": [
    "Show! Agora sabemos que nenhum registro é duplicado."
   ]
  },
  {
   "cell_type": "markdown",
   "metadata": {
    "id": "1vuagOXPCJwc"
   },
   "source": [
    "## Verificar e tratar tipagem"
   ]
  },
  {
   "cell_type": "markdown",
   "metadata": {},
   "source": [
    "Vamos iniciar filtrando somente as colunas numéricas."
   ]
  },
  {
   "cell_type": "code",
   "execution_count": null,
   "metadata": {},
   "outputs": [],
   "source": [
    "colunas_numericas = [col for col in df_economatica_manipulado.columns if col not in ['nome', 'codigo', 'setor']]"
   ]
  },
  {
   "cell_type": "markdown",
   "metadata": {},
   "source": [
    "### Identificando formato dos valores inconsistentes"
   ]
  },
  {
   "cell_type": "code",
   "execution_count": null,
   "metadata": {},
   "outputs": [],
   "source": [
    "def checagem_de_valores_nao_numericos(df, columns):\n",
    "    valores_nao_numericos = {}\n",
    "    for col in columns:\n",
    "        # Tentar converter a coluna para numérico, com errors='coerce' para transformar valores inválidos em NaN\n",
    "        # Usamos errors='coerce' aqui apenas para identificar o que NÃO é numérico, sem modificar o DataFrame original\n",
    "        col_numerica = pd.to_numeric(df[col], errors='coerce')\n",
    "        # Encontrar os valores no DataFrame original que se tornaram NaN após a coerção e que não eram NaN originalmente\n",
    "        valores_invalidos = df[col][col_numerica.isnull() & df[col].notnull()]\n",
    "        if not valores_invalidos.empty:\n",
    "            valores_nao_numericos[col] = valores_invalidos.unique().tolist()\n",
    "    return valores_nao_numericos"
   ]
  },
  {
   "cell_type": "code",
   "execution_count": null,
   "metadata": {},
   "outputs": [],
   "source": [
    "def exibir_valores_nao_numericos(df_economatica_mesclado, colunas_numericas):\n",
    "    valores_nao_numericos_encontrados = checagem_de_valores_nao_numericos(df_economatica_mesclado, colunas_numericas)\n",
    "\n",
    "    if valores_nao_numericos_encontrados:\n",
    "        print(\"Valores não numéricos encontrados nas seguintes colunas:\")\n",
    "        for col, val in valores_nao_numericos_encontrados.items():\n",
    "            print(f\"- {col}: {val}\")\n",
    "    else:\n",
    "        print(\"Nenhum valor não numérico encontrado nas colunas a verificar.\")"
   ]
  },
  {
   "cell_type": "code",
   "execution_count": null,
   "metadata": {},
   "outputs": [],
   "source": [
    "exibir_valores_nao_numericos(df_economatica_manipulado, colunas_numericas)"
   ]
  },
  {
   "cell_type": "markdown",
   "metadata": {},
   "source": [
    "Identifiquei padrões:\n",
    "- Valores nulos representados por: '-'\n",
    "- Valores com casas decimais representados por: '#,##########'\n",
    "- Valores com casas de milhar em diante representados por: '#.###.###'"
   ]
  },
  {
   "cell_type": "markdown",
   "metadata": {},
   "source": [
    "### Tratando a inconsistência dos tipos"
   ]
  },
  {
   "cell_type": "code",
   "execution_count": null,
   "metadata": {},
   "outputs": [],
   "source": [
    "def limpar_e_converter(value, decimais=4):\n",
    "    \"\"\"\n",
    "    Converte um valor dinamicamente identificando se é inteiro, float ou string.\n",
    "    Trata pontuação brasileira (. para milhares, , para decimais).\n",
    "    \n",
    "    Args:\n",
    "        value: O valor a ser convertido\n",
    "        decimais: Número de casas decimais para arredondamento (padrão: 4)\n",
    "        \n",
    "    Returns:\n",
    "        int, float ou np.nan dependendo do tipo identificado\n",
    "    \"\"\"\n",
    "    # Se já é numérico, retorna como está\n",
    "    if isinstance(value, (int, float)):\n",
    "        if isinstance(value, float):\n",
    "            return round(value, decimais)\n",
    "        return value\n",
    "        \n",
    "    # Se não é string, tenta converter para string\n",
    "    if not isinstance(value, str):\n",
    "        value = str(value)\n",
    "    \n",
    "    # Remove espaços e verifica se é valor nulo\n",
    "    value = value.strip()\n",
    "    if value == '-' or value == '' or value.lower() in ['nan', 'null', 'none']:\n",
    "        return np.nan\n",
    "    \n",
    "    # Remove pontos (separador de milhares) e substitui vírgula por ponto (decimal)\n",
    "    # Primeiro identifica o padrão: se tem vírgula, ela é o separador decimal\n",
    "    if ',' in value:\n",
    "        # Padrão brasileiro: 1.234.567,89\n",
    "        # Remove todos os pontos (milhares) e substitui vírgula por ponto (decimal)\n",
    "        value_clean = value.replace('.', '').replace(',', '.')\n",
    "    else:\n",
    "        # Se não tem vírgula, assume padrão americano ou número sem decimais\n",
    "        # Se tem apenas um ponto e dígitos depois dele <= 3, pode ser decimal\n",
    "        # Se tem mais de um ponto ou mais de 3 dígitos após o último ponto, são milhares\n",
    "        parts = value.split('.')\n",
    "        if len(parts) == 2 and len(parts[1]) <= 3 and len(parts[1]) > 0:\n",
    "            # Provavelmente decimal: 1234.56\n",
    "            value_clean = value\n",
    "        elif len(parts) > 2:\n",
    "            # Múltiplos pontos: separadores de milhares: 1.234.567\n",
    "            value_clean = value.replace('.', '')\n",
    "        else:\n",
    "            # Um ponto com mais de 3 dígitos ou sem ponto\n",
    "            value_clean = value.replace('.', '')\n",
    "    \n",
    "    # Remove outros caracteres não numéricos (exceto - no início)\n",
    "    # Preserva sinal negativo no início\n",
    "    is_negative = value_clean.startswith('-')\n",
    "    value_clean = re.sub(r'[^\\d.]', '', value_clean.lstrip('-'))\n",
    "    if is_negative:\n",
    "        value_clean = '-' + value_clean\n",
    "    \n",
    "    try:\n",
    "        # Tenta converter para float primeiro\n",
    "        float_value = float(value_clean)\n",
    "        \n",
    "        # Verifica se é um inteiro (sem parte decimal)\n",
    "        if float_value.is_integer():\n",
    "            return int(float_value)\n",
    "        else:\n",
    "            return round(float_value, decimais)\n",
    "            \n",
    "    except (ValueError, TypeError):\n",
    "        return np.nan"
   ]
  },
  {
   "cell_type": "code",
   "execution_count": null,
   "metadata": {},
   "outputs": [],
   "source": [
    "def aplicar_conversao(df, decimais=4):\n",
    "    \"\"\"\n",
    "    Aplica a conversão dinâmica para as colunas especificadas.\n",
    "    \n",
    "    Args:\n",
    "        df: DataFrame a ser processado\n",
    "        decimais: Número de casas decimais para arredondamento (padrão: 4)\n",
    "        \n",
    "    Returns:\n",
    "        DataFrame com as colunas convertidas\n",
    "    \"\"\"\n",
    "    df_convertido = df.copy()\n",
    "    \n",
    "    for col in colunas_numericas:\n",
    "        if col in df_convertido.columns:\n",
    "            print(f\"Convertendo coluna: {col}\")\n",
    "            df_convertido[col] = df_convertido[col].apply(lambda x: limpar_e_converter(x, decimais))\n",
    "    \n",
    "    return df_convertido"
   ]
  },
  {
   "cell_type": "markdown",
   "metadata": {},
   "source": [
    "Antes de tratar, vamos criar uma cópia para podermos comparar o começo e o fim de cada dataframe."
   ]
  },
  {
   "cell_type": "code",
   "execution_count": null,
   "metadata": {},
   "outputs": [],
   "source": [
    "df_economatica_correcao_tipagem = aplicar_conversao(df_economatica_manipulado)"
   ]
  },
  {
   "cell_type": "markdown",
   "metadata": {},
   "source": [
    "### Exemplos de uso com diferentes casas decimais\n",
    "\n",
    "Agora você pode controlar o número de casas decimais passando o parâmetro `decimais`:"
   ]
  },
  {
   "cell_type": "code",
   "execution_count": null,
   "metadata": {},
   "outputs": [],
   "source": [
    "# Exemplo: Aplicar conversão com 2 casas decimais\n",
    "print(\"=== Exemplo com 2 casas decimais ===\")\n",
    "df_2_decimais = aplicar_conversao(df_economatica_manipulado, decimais=2)\n",
    "\n",
    "# Exemplo: Aplicar conversão com 4 casas decimais (padrão)\n",
    "print(\"\\n=== Exemplo com 4 casas decimais (padrão) ===\")\n",
    "df_4_decimais = aplicar_conversao(df_economatica_manipulado, decimais=4)\n",
    "\n",
    "# Exemplo: Teste individual da função\n",
    "print(\"\\n=== Testes individuais da função ===\")\n",
    "print(f\"limpar_e_converter('1.234,567', decimais=2) = {limpar_e_converter('1.234,567', decimais=2)}\")\n",
    "print(f\"limpar_e_converter('1.234,567', decimais=4) = {limpar_e_converter('1.234,567', decimais=4)}\")\n",
    "print(f\"limpar_e_converter('123.45', decimais=2) = {limpar_e_converter('123.45', decimais=2)}\")\n",
    "print(f\"limpar_e_converter('123.45', decimais=0) = {limpar_e_converter('123.45', decimais=0)}\")"
   ]
  },
  {
   "cell_type": "code",
   "execution_count": null,
   "metadata": {},
   "outputs": [],
   "source": [
    "print(\"\\nTipagem das colunas após tratamento:\")\n",
    "df_economatica_correcao_tipagem.dtypes"
   ]
  },
  {
   "cell_type": "code",
   "execution_count": null,
   "metadata": {},
   "outputs": [],
   "source": [
    "df_economatica_correcao_tipagem.head()"
   ]
  },
  {
   "cell_type": "markdown",
   "metadata": {},
   "source": [
    "## Tratamento de nulos"
   ]
  },
  {
   "cell_type": "code",
   "execution_count": null,
   "metadata": {
    "id": "SSuYCMnrCSjy"
   },
   "outputs": [],
   "source": [
    "def contar_e_exibir_nulos(df):\n",
    "    \"\"\"\n",
    "    Conta os valores nulos por coluna em um DataFrame e exibe as colunas com nulos.\n",
    "\n",
    "    Args:\n",
    "        df (pd.DataFrame): O DataFrame de entrada.\n",
    "    \"\"\"\n",
    "    null_counts = df.isnull().sum()\n",
    "    columns_with_nulls = null_counts[null_counts > 0]\n",
    "\n",
    "    print(\"Contagem de valores nulos por coluna (apenas colunas com nulos):\")\n",
    "    print(columns_with_nulls)\n",
    "    print(f'\\n{columns_with_nulls.sum()} células possuem valores nulos no total.')\n",
    "    num_linhas_com_nulos = df.isnull().any(axis=1).sum()\n",
    "    print(f\"Número de linhas com pelo menos um valor nulo: {num_linhas_com_nulos}\")"
   ]
  },
  {
   "cell_type": "code",
   "execution_count": null,
   "metadata": {
    "colab": {
     "base_uri": "https://localhost:8080/"
    },
    "id": "VDBeXJt4-nLd",
    "outputId": "0b9c90e2-96c7-4575-8c2d-355f7c893711"
   },
   "outputs": [],
   "source": [
    "contar_e_exibir_nulos(df_economatica_correcao_tipagem)"
   ]
  },
  {
   "cell_type": "markdown",
   "metadata": {
    "id": "mFuoJAowyqiH"
   },
   "source": [
    "São muitas células com valores nulos... Tentaremos adotar as seguintes abordagens:\n",
    "\n",
    "- criar uma matriz de correlação para eliminar variáveis altamente correlacionadas;\n",
    "- coletar as colunas derivadas a partir de cálculos de outras colunas e realizar os cálculos (mas para isso precisamos verificar antes se essa coluna utilizada no cálculo possui valor);\n",
    "- substituir valores nulos com base na média da linha (ex: ativo_circulante de 2020 até de 2023 possuem valores, mas 2024 não, logo coleto a média dos 4 anos para gerar o valor em 2024);\n",
    "- e por fim, eliminar as ações cujas linhas possuem valores nulos."
   ]
  },
  {
   "cell_type": "markdown",
   "metadata": {
    "id": "9KV4Cd5Qvhm7"
   },
   "source": [
    "### Matriz de Correlação"
   ]
  },
  {
   "cell_type": "markdown",
   "metadata": {
    "id": "kX7Ga_XpAMHG"
   },
   "source": [
    "Nessa etapa iremos selecionar as features que causam a multicolinearidade e remover a que tiver menos correlação com a variável target."
   ]
  },
  {
   "cell_type": "markdown",
   "metadata": {
    "id": "EzUaPnN0AjZ9"
   },
   "source": [
    "Primeiro selecionamos somente os valores númericos.\n",
    "\n",
    "Depois criamos uma função para calcular a correlação e exibir um mapa de calor conforme o ano."
   ]
  },
  {
   "cell_type": "code",
   "execution_count": null,
   "metadata": {
    "id": "iouKQWuY_MEt"
   },
   "outputs": [],
   "source": [
    "df_numerico = df_economatica_correcao_tipagem[colunas_numericas].astype(float)"
   ]
  },
  {
   "cell_type": "code",
   "execution_count": null,
   "metadata": {
    "id": "sC48I-akvsGD"
   },
   "outputs": [],
   "source": [
    "def calcular_e_exibir_correlacao(df: pd.DataFrame):\n",
    "    \"\"\"\n",
    "    Calcula e exibe a matriz de correlação para todas as colunas numéricas.\n",
    "    \n",
    "    Args:\n",
    "        df: DataFrame com os dados\n",
    "    \"\"\"\n",
    "    # Seleciona apenas colunas numéricas (excluindo colunas de identificação)\n",
    "    colunas_numericas_filtradas = [col for col in df.columns \n",
    "                                 if col not in ['nome', 'codigo', 'setor'] \n",
    "                                 and df[col].dtype in ['int64', 'float64', 'int32', 'float32']]\n",
    "    \n",
    "    if not colunas_numericas_filtradas:\n",
    "        print(\"Nenhuma coluna numérica encontrada\")\n",
    "        return\n",
    "    \n",
    "    # Seleciona apenas as colunas numéricas\n",
    "    df_numerico = df[colunas_numericas_filtradas]\n",
    "    \n",
    "    # Remove linhas com muitos NaN para melhorar a correlação\n",
    "    df_numerico_limpo = df_numerico.dropna(thresh=len(colunas_numericas_filtradas)*0.5)\n",
    "    \n",
    "    # Calcula a matriz de correlação\n",
    "    matriz_correlacao = df_numerico_limpo.corr()\n",
    "    \n",
    "    # Cria uma máscara para mostrar apenas o triângulo superior\n",
    "    mask = np.triu(np.ones_like(matriz_correlacao, dtype=bool))\n",
    "    \n",
    "    plt.figure(figsize=(20, 18))\n",
    "    sns.heatmap(matriz_correlacao, \n",
    "                mask=mask,\n",
    "                annot=True, \n",
    "                cmap=sns.cubehelix_palette(as_cmap=True),\n",
    "                fmt='.2f',\n",
    "                vmin=-1,\n",
    "                vmax=1,\n",
    "                linewidths=0.1)\n",
    "    plt.title(f'Matriz de Correlação')\n",
    "    plt.tight_layout()\n",
    "    plt.show()"
   ]
  },
  {
   "cell_type": "code",
   "execution_count": null,
   "metadata": {},
   "outputs": [],
   "source": [
    "def calcular_correlacao_com_receita(df: pd.DataFrame):\n",
    "    \"\"\"\n",
    "    Calcula e exibe a correlação de todas as variáveis numéricas com 'variacao_valor_mercado'.\n",
    "    \"\"\"\n",
    "    # Verifica se a coluna 'variacao_valor_mercado' existe\n",
    "    if 'variacao_valor_mercado' not in df.columns:\n",
    "        print(\"Coluna 'variacao_valor_mercado' não encontrada no DataFrame\")\n",
    "        return\n",
    "    \n",
    "    # Seleciona apenas colunas numéricas\n",
    "    df_numerico = df.select_dtypes(include=[np.number])\n",
    "    \n",
    "    # Calcula correlação com a variação do valor de mercado e ordena\n",
    "    correlacoes = df_numerico.corr()['variacao_valor_mercado'].drop('variacao_valor_mercado').sort_values(key=abs, ascending=False)\n",
    "    \n",
    "    # Heatmap vertical - correlação com a variação do valor de mercado\n",
    "    plt.figure(figsize=(8, 15))\n",
    "    \n",
    "    # Cria um DataFrame só com as correlações com a variação do valor de mercado\n",
    "    correlacoes_df = correlacoes.to_frame(name='Correlação com a variação do valor de mercado')\n",
    "    \n",
    "    # Heatmap\n",
    "    sns.heatmap(correlacoes_df, \n",
    "                annot=True, \n",
    "                cmap=sns.cubehelix_palette(as_cmap=True),\n",
    "                center=0,\n",
    "                fmt='.3f',\n",
    "                cbar_kws={'label': 'Correlação'},\n",
    "                linewidths=0.5)\n",
    "    \n",
    "    plt.title('Correlação de todas as variáveis com variacao_valor_mercado')\n",
    "    plt.ylabel('Variáveis')\n",
    "    plt.tight_layout()\n",
    "    plt.show()"
   ]
  },
  {
   "cell_type": "markdown",
   "metadata": {
    "id": "tNSQpJ34Ayud"
   },
   "source": [
    "Antes de sair selecionando as features com alta correlação, vamos definir um threshold (limiar) para considerar se está muito correlacionado ou não, sendo um dos nossos critérios de exclusão."
   ]
  },
  {
   "cell_type": "code",
   "execution_count": null,
   "metadata": {
    "colab": {
     "base_uri": "https://localhost:8080/",
     "height": 1000
    },
    "id": "ccgfCcnOyydp",
    "outputId": "25fbc9af-df3e-4805-8f31-6bda174086ed"
   },
   "outputs": [],
   "source": [
    "calcular_e_exibir_correlacao(df_economatica_correcao_tipagem)"
   ]
  },
  {
   "cell_type": "markdown",
   "metadata": {
    "id": "_SJDmM-Oy4Mw"
   },
   "source": [
    "Visualizando de forma geral, parece estar bem dividido entre fortemente correlacionadas ou não. Vamos considerar uma correlação sendo forte como seu valor acima de 0.85.\n",
    "\n",
    "As seguintes variáveis estão fortemente correlacionadas:\n",
    "- caixa_financeiro <- **0.91** -> dividendos\n",
    "- ano <- **-0.87** -> pandemia\n",
    "- margem_liquida <- **0.96** -> margem_ebit\n",
    "- receita <- **-0.83** -> dividendos\n",
    "- lucro_liquido <- **-0.90** -> dividendos\n",
    "- caixa_financeiro <- **-0.84** -> receita\n",
    "- caixa_financeiro <- **-0.84** -> lucro_liquido\n",
    "- caixa_operacional <- **0.81** -> patrimonio_liquido\n",
    "- caixa_operacional <- **0.90** -> receita\n",
    "- ativo_total <- **0.91** -> receita\n",
    "- lucro_liquido <- **0.81** -> patrimonio_liquido\n",
    "- lucro_liquido <- **0.80** -> receita\n",
    "- receita <- **0.87** -> patrimonio_liquido\n",
    "\n",
    "As seguintes variáveis não são consideradas, porque já estão marcadas para remover:\n",
    "- ativo_circulante\n",
    "- ativo_nao_circulante\n",
    "- passivo_circulante\n",
    "- passivo_nao_circulante"
   ]
  },
  {
   "cell_type": "markdown",
   "metadata": {
    "id": "a6EpZeZNvlez"
   },
   "source": [
    "### Colunas derivadas"
   ]
  },
  {
   "cell_type": "markdown",
   "metadata": {
    "id": "62kZk2o8y7uJ"
   },
   "source": [
    "As colunas derivadas são:\n",
    "\n",
    "**Endividamento**:\n",
    "- divida_bruta_ativo_* → já está no dataset\n",
    "\n",
    "**Liquidez**:\n",
    "- liquidez_corrente_* = ativo_circulante_* / passivo_circulante_*\n",
    "- liquidez_geral_* = (ativo_circulante_* + ativo_nao_circulante_*) / (passivo_circulante_* + passivo_nao_circulante_*)\n",
    "\n",
    "**Rentabilidade**:\n",
    "- rentabilidade_ativo_* (ROA) = lucro_liquido_* / ((ativo_total_* + ativo_total*_(ano-1)) / 2)\n",
    "- roe_* = lucro_liquido_* / ((patrimonio_liquido_* + patrimonio_liquido*_(ano-1)) / 2)\n",
    "\n",
    "**Margens**:\n",
    "- margem_liquida_* = lucro_liquido_* / receita_*\n",
    "- margem_ebit_* → já está no dataset (mas não pode ser recalculada, pois falta ebit_*)\n",
    "\n",
    "**Lucro por Ação**:\n",
    "- lpa_* → já está no dataset (não dá para recalcular, pois falta numero_acoes_*)\n",
    "\n",
    "**Valor de Mercado da Empresa**:\n",
    "- valor_mercado_* → já está no dataset (não dá para recalcular, pois falta preco_acao_31dez_* e numero_acoes_*)\n"
   ]
  },
  {
   "cell_type": "markdown",
   "metadata": {
    "id": "gjrYXg4s3U72"
   },
   "source": [
    "#### Liquidez"
   ]
  },
  {
   "cell_type": "code",
   "execution_count": null,
   "metadata": {
    "id": "v7veJ1FG3UEn"
   },
   "outputs": [],
   "source": [
    "def analisar_nulos_coluna_derivada(df, coluna_derivada, colunas_calculo):\n",
    "    \"\"\"\n",
    "    Analisa valores nulos em uma coluna derivada e verifica valores não nulos nas colunas de cálculo.\n",
    "\n",
    "    Args:\n",
    "        df (pd.DataFrame): O DataFrame de entrada.\n",
    "        coluna_derivada (str): O nome da coluna derivada (ex: 'liquidez_corrente').\n",
    "        colunas_calculo (list): Uma lista de nomes das colunas usadas para cálculo\n",
    "                               (ex: ['ativo_circulante', 'passivo_circulante']).\n",
    "    \"\"\"\n",
    "    print(f\"Análise de valores nulos para a coluna {coluna_derivada}:\")\n",
    "\n",
    "    # Verifica se a coluna derivada e as colunas de cálculo existem\n",
    "    if coluna_derivada in df.columns and all(c in df.columns for c in colunas_calculo):\n",
    "        # Filtra as linhas onde a coluna derivada é nula\n",
    "        linhas_com_nulos_derivada = df[df[coluna_derivada].isnull()]\n",
    "\n",
    "        # Constrói a condição para verificar se todas as colunas de cálculo não são nulas nessas linhas\n",
    "        if not linhas_com_nulos_derivada.empty:\n",
    "            condicao_nao_nula = linhas_com_nulos_derivada[colunas_calculo[0]].notnull()\n",
    "            for col_calc in colunas_calculo[1:]:\n",
    "                condicao_nao_nula = condicao_nao_nula & linhas_com_nulos_derivada[col_calc].notnull()\n",
    "\n",
    "            # Conta as linhas onde todas as colunas de cálculo não são nulas\n",
    "            contagem_nao_nula = linhas_com_nulos_derivada[condicao_nao_nula].shape[0]\n",
    "            \n",
    "            print(f\"Total de linhas com {coluna_derivada} nulo: {len(linhas_com_nulos_derivada)}\")\n",
    "            print(f\"Linhas com valores não nulos nas colunas de cálculo: {contagem_nao_nula}\")\n",
    "        else:\n",
    "            print(f\"Nenhuma linha com valor nulo encontrada em {coluna_derivada}\")\n",
    "    else:\n",
    "        colunas_faltando = [col for col in [coluna_derivada] + colunas_calculo if col not in df.columns]\n",
    "        print(f\"Colunas não encontradas no DataFrame: {colunas_faltando}\")"
   ]
  },
  {
   "cell_type": "code",
   "execution_count": null,
   "metadata": {
    "colab": {
     "base_uri": "https://localhost:8080/"
    },
    "id": "ONyL454B5P7c",
    "outputId": "c86117b6-0b14-45c0-99cc-c9aeac674b44"
   },
   "outputs": [],
   "source": [
    "analisar_nulos_coluna_derivada(df_economatica_correcao_tipagem, 'liquidez_corrente', ['ativo_circulante', 'passivo_circulante'])"
   ]
  },
  {
   "cell_type": "code",
   "execution_count": null,
   "metadata": {
    "colab": {
     "base_uri": "https://localhost:8080/"
    },
    "id": "Po9QWUh48MSk",
    "outputId": "24f818d2-d391-4ae3-dbe0-48af28b9500c"
   },
   "outputs": [],
   "source": [
    "# Aplica a lógica para liquidez_corrente no dataset com ano como feature\n",
    "# Identifica as linhas onde a coluna derivada é nula e as colunas de cálculo não são nulas\n",
    "condicao = (df_economatica_correcao_tipagem['liquidez_corrente'].isnull()) & \\\n",
    "           (df_economatica_correcao_tipagem['ativo_circulante'].notnull()) & \\\n",
    "           (df_economatica_correcao_tipagem['passivo_circulante'].notnull()) & \\\n",
    "           (df_economatica_correcao_tipagem['passivo_circulante'] != 0) # Evita divisão por zero\n",
    "\n",
    "# Calcula o valor derivado\n",
    "valores_calculados = df_economatica_correcao_tipagem.loc[condicao].apply(\n",
    "    lambda row: row['ativo_circulante'] / row['passivo_circulante'], axis=1\n",
    ")\n",
    "\n",
    "# Aplica a função limpar_e_converter nos valores calculados e preenche os nulos\n",
    "df_economatica_correcao_tipagem.loc[condicao, 'liquidez_corrente'] = valores_calculados.apply(limpar_e_converter)\n",
    "\n",
    "print(f\"Calculados e preenchidos nulos para 'liquidez_corrente' onde 'ativo_circulante' e 'passivo_circulante' não eram nulos.\")"
   ]
  },
  {
   "cell_type": "code",
   "execution_count": null,
   "metadata": {
    "colab": {
     "base_uri": "https://localhost:8080/"
    },
    "id": "6d80Y26l_ZQN",
    "outputId": "5ac7ae50-212e-4e26-f282-ece6355ea8f8"
   },
   "outputs": [],
   "source": [
    "contar_e_exibir_nulos(df_economatica_correcao_tipagem)"
   ]
  },
  {
   "cell_type": "markdown",
   "metadata": {
    "id": "ECX3ia0T_bBr"
   },
   "source": [
    "Diminuimos em 10, as células nulas e nenhuma linha ainda..."
   ]
  },
  {
   "cell_type": "code",
   "execution_count": null,
   "metadata": {
    "colab": {
     "base_uri": "https://localhost:8080/"
    },
    "id": "REAEqwyuCFUp",
    "outputId": "9a0ad1c7-ea79-492f-9f38-246525078527"
   },
   "outputs": [],
   "source": [
    "analisar_nulos_coluna_derivada(df_economatica_correcao_tipagem, 'liquidez_geral', ['ativo_circulante', 'ativo_nao_circulante', 'passivo_circulante', 'passivo_nao_circulante'])"
   ]
  },
  {
   "cell_type": "code",
   "execution_count": null,
   "metadata": {
    "colab": {
     "base_uri": "https://localhost:8080/"
    },
    "id": "iTIgrHi8Aw_G",
    "outputId": "36a1421e-4bad-4769-a97e-adc4d739c7d8"
   },
   "outputs": [],
   "source": [
    "condicao = (df_economatica_correcao_tipagem['liquidez_geral'].isnull()) & \\\n",
    "           (df_economatica_correcao_tipagem['ativo_circulante'].notnull()) & \\\n",
    "           (df_economatica_correcao_tipagem['ativo_nao_circulante'].notnull()) & \\\n",
    "           (df_economatica_correcao_tipagem['passivo_circulante'].notnull()) & \\\n",
    "           (df_economatica_correcao_tipagem['passivo_nao_circulante'].notnull())\n",
    "\n",
    "# Calcula o divisor e evita divisão por zero\n",
    "divisor = df_economatica_correcao_tipagem.loc[condicao, 'passivo_circulante'] + df_economatica_correcao_tipagem.loc[condicao, 'passivo_nao_circulante']\n",
    "condicao = condicao & (divisor != 0)\n",
    "\n",
    "# Calcula o valor derivado\n",
    "valores_calculados = df_economatica_correcao_tipagem.loc[condicao].apply(\n",
    "    lambda row: (row['ativo_circulante'] + row['ativo_nao_circulante']) / (row['passivo_circulante'] + row['passivo_nao_circulante']), axis=1\n",
    ")\n",
    "\n",
    "# Aplica a função limpar_e_converter nos valores calculados e preenche os nulos\n",
    "df_economatica_correcao_tipagem.loc[condicao, 'liquidez_geral'] = valores_calculados.apply(limpar_e_converter)\n",
    "\n",
    "print(f\"Calculados e preenchidos nulos para 'liquidez_geral' onde as colunas de cálculo não eram nulas.\")"
   ]
  },
  {
   "cell_type": "code",
   "execution_count": null,
   "metadata": {
    "colab": {
     "base_uri": "https://localhost:8080/"
    },
    "id": "4oWMHGgACQqX",
    "outputId": "c03ac95e-7aa7-4752-ecfd-021f4c08ffc8"
   },
   "outputs": [],
   "source": [
    "contar_e_exibir_nulos(df_economatica_correcao_tipagem)"
   ]
  },
  {
   "cell_type": "markdown",
   "metadata": {
    "id": "a157Nteq_mAZ"
   },
   "source": [
    "Diminuimos em mais 10, e nenhuma linha recuperada 100% ainda..."
   ]
  },
  {
   "cell_type": "markdown",
   "metadata": {
    "id": "CoA5Cec6Ci3D"
   },
   "source": [
    "#### Margens"
   ]
  },
  {
   "cell_type": "code",
   "execution_count": null,
   "metadata": {
    "colab": {
     "base_uri": "https://localhost:8080/"
    },
    "id": "qtP7sg9ADcR4",
    "outputId": "b690a54d-fdac-4af5-ea33-ce5f7cf010b0"
   },
   "outputs": [],
   "source": [
    "analisar_nulos_coluna_derivada(df_economatica_correcao_tipagem, 'margem_liquida', ['lucro_liquido', 'receita'])"
   ]
  },
  {
   "cell_type": "code",
   "execution_count": null,
   "metadata": {
    "colab": {
     "base_uri": "https://localhost:8080/"
    },
    "id": "oo719nDhDMba",
    "outputId": "637d24fd-42b4-4249-83ad-93670414abcf"
   },
   "outputs": [],
   "source": [
    "# Aplica a lógica para margem_liquida no dataset com ano como feature\n",
    "# Identifica as linhas onde a coluna derivada é nula e as colunas de cálculo não são nulas\n",
    "condicao = (df_economatica_correcao_tipagem['margem_liquida'].isnull()) & \\\n",
    "           (df_economatica_correcao_tipagem['lucro_liquido'].notnull()) & \\\n",
    "           (df_economatica_correcao_tipagem['receita'].notnull()) & \\\n",
    "           (df_economatica_correcao_tipagem['receita'] != 0) # Evita divisão por zero\n",
    "\n",
    "# Calcula o valor derivado\n",
    "valores_calculados = df_economatica_correcao_tipagem.loc[condicao].apply(\n",
    "    lambda row: row['lucro_liquido'] / row['receita'], axis=1\n",
    ")\n",
    "\n",
    "# Aplica a função limpar_e_converter nos valores calculados e preenche os nulos\n",
    "df_economatica_correcao_tipagem.loc[condicao, 'margem_liquida'] = valores_calculados.apply(limpar_e_converter)\n",
    "\n",
    "print(f\"Calculados e preenchidos nulos para 'margem_liquida' onde 'lucro_liquido' e 'receita' não eram nulos.\")"
   ]
  },
  {
   "cell_type": "code",
   "execution_count": null,
   "metadata": {
    "colab": {
     "base_uri": "https://localhost:8080/"
    },
    "id": "F277B9K6D0G8",
    "outputId": "65df09c0-3f58-4fc9-a025-789e5924528f"
   },
   "outputs": [],
   "source": [
    "contar_e_exibir_nulos(df_economatica_correcao_tipagem)"
   ]
  },
  {
   "cell_type": "markdown",
   "metadata": {
    "id": "ypN7QaOlD1se"
   },
   "source": [
    "Eliminamos incríveis 1 resultados."
   ]
  },
  {
   "cell_type": "markdown",
   "metadata": {
    "id": "Wv3lmdUOEAK8"
   },
   "source": [
    "#### Rentabilidade"
   ]
  },
  {
   "cell_type": "code",
   "execution_count": null,
   "metadata": {
    "colab": {
     "base_uri": "https://localhost:8080/"
    },
    "id": "ZjNdKRx_EXTj",
    "outputId": "3dfac81a-676b-41e2-ed40-a99bfdf99c05"
   },
   "outputs": [],
   "source": [
    "analisar_nulos_coluna_derivada(df_economatica_correcao_tipagem, 'rentabilidade_ativo', ['lucro_liquido', 'ativo_total'])"
   ]
  },
  {
   "cell_type": "code",
   "execution_count": null,
   "metadata": {
    "colab": {
     "base_uri": "https://localhost:8080/"
    },
    "id": "F9zr4fGxEFOy",
    "outputId": "7a0f11e7-9276-4fda-a5df-53bd537565fb"
   },
   "outputs": [],
   "source": [
    "# Aplica a lógica para rentabilidade_ativo no dataset com ano como feature\n",
    "# Para calcular ROA, precisamos do ativo total do ano anterior, então criamos um DataFrame auxiliar\n",
    "df_economatica_sorted = df_economatica_correcao_tipagem.sort_values(['codigo', 'ano']).copy()\n",
    "df_economatica_sorted['ativo_total_anterior'] = df_economatica_sorted.groupby('codigo')['ativo_total'].shift(1)\n",
    "\n",
    "# Identifica as linhas onde a coluna derivada é nula e as colunas de cálculo não são nulas\n",
    "condicao = (df_economatica_sorted['rentabilidade_ativo'].isnull()) & \\\n",
    "           (df_economatica_sorted['lucro_liquido'].notnull()) & \\\n",
    "           (df_economatica_sorted['ativo_total'].notnull()) & \\\n",
    "           (df_economatica_sorted['ativo_total_anterior'].notnull()) & \\\n",
    "           (df_economatica_sorted['ano'] > 2020)  # Só calcula a partir de 2021\n",
    "\n",
    "# Calcula o denominador (média do ativo total atual e anterior) e evita divisão por zero\n",
    "denominador = (df_economatica_sorted.loc[condicao, 'ativo_total'] + df_economatica_sorted.loc[condicao, 'ativo_total_anterior']) / 2\n",
    "condicao = condicao & (denominador != 0)\n",
    "\n",
    "# Calcula o valor derivado\n",
    "valores_calculados = df_economatica_sorted.loc[condicao].apply(\n",
    "    lambda row: row['lucro_liquido'] / ((row['ativo_total'] + row['ativo_total_anterior']) / 2), axis=1\n",
    ")\n",
    "\n",
    "# Aplica a função limpar_e_converter nos valores calculados e preenche os nulos\n",
    "df_economatica_sorted.loc[condicao, 'rentabilidade_ativo'] = valores_calculados.apply(limpar_e_converter)\n",
    "\n",
    "# Atualiza o DataFrame original\n",
    "df_economatica_correcao_tipagem = df_economatica_sorted.drop(columns=['ativo_total_anterior']).copy()\n",
    "\n",
    "print(f\"Calculados e preenchidos nulos para 'rentabilidade_ativo' onde as colunas de cálculo não eram nulas.\")"
   ]
  },
  {
   "cell_type": "code",
   "execution_count": null,
   "metadata": {
    "colab": {
     "base_uri": "https://localhost:8080/"
    },
    "id": "2Q6_UqvoEdZV",
    "outputId": "c3d38e74-a809-45e8-f368-0222a19d232f"
   },
   "outputs": [],
   "source": [
    "contar_e_exibir_nulos(df_economatica_correcao_tipagem)"
   ]
  },
  {
   "cell_type": "code",
   "execution_count": null,
   "metadata": {
    "colab": {
     "base_uri": "https://localhost:8080/"
    },
    "id": "CvtzRAXCEw2N",
    "outputId": "d2049ae5-7461-4adb-b5cd-53561303a257"
   },
   "outputs": [],
   "source": [
    "analisar_nulos_coluna_derivada(df_economatica_correcao_tipagem, 'roe', ['lucro_liquido', 'patrimonio_liquido'])"
   ]
  },
  {
   "cell_type": "code",
   "execution_count": null,
   "metadata": {
    "colab": {
     "base_uri": "https://localhost:8080/"
    },
    "id": "oFl5dM9oEkP3",
    "outputId": "c08c60f1-1464-432c-a9d3-61668faaf5e6"
   },
   "outputs": [],
   "source": [
    "# Aplica a lógica para roe no dataset com ano como feature\n",
    "# Para calcular ROE, precisamos do patrimônio líquido do ano anterior\n",
    "df_economatica_sorted = df_economatica_correcao_tipagem.sort_values(['codigo', 'ano']).copy()\n",
    "df_economatica_sorted['patrimonio_liquido_anterior'] = df_economatica_sorted.groupby('codigo')['patrimonio_liquido'].shift(1)\n",
    "\n",
    "# Identifica as linhas onde a coluna derivada é nula e as colunas de cálculo não são nulas\n",
    "condicao = (df_economatica_sorted['roe'].isnull()) & \\\n",
    "           (df_economatica_sorted['lucro_liquido'].notnull()) & \\\n",
    "           (df_economatica_sorted['patrimonio_liquido'].notnull()) & \\\n",
    "           (df_economatica_sorted['patrimonio_liquido_anterior'].notnull()) & \\\n",
    "           (df_economatica_sorted['ano'] > 2020)  # Só calcula a partir de 2021\n",
    "\n",
    "# Calcula o denominador (média do patrimônio líquido atual e anterior) e evita divisão por zero\n",
    "denominador = (df_economatica_sorted.loc[condicao, 'patrimonio_liquido'] + df_economatica_sorted.loc[condicao, 'patrimonio_liquido_anterior']) / 2\n",
    "condicao = condicao & (denominador != 0)\n",
    "\n",
    "# Calcula o valor derivado\n",
    "valores_calculados = df_economatica_sorted.loc[condicao].apply(\n",
    "    lambda row: row['lucro_liquido'] / ((row['patrimonio_liquido'] + row['patrimonio_liquido_anterior']) / 2), axis=1\n",
    ")\n",
    "\n",
    "# Aplica a função limpar_e_converter nos valores calculados e preenche os nulos\n",
    "df_economatica_sorted.loc[condicao, 'roe'] = valores_calculados.apply(limpar_e_converter)\n",
    "\n",
    "# Atualiza o DataFrame original\n",
    "df_economatica_correcao_tipagem = df_economatica_sorted.drop(columns=['patrimonio_liquido_anterior']).copy()\n",
    "\n",
    "print(f\"Calculados e preenchidos nulos para 'roe' onde as colunas de cálculo não eram nulas.\")"
   ]
  },
  {
   "cell_type": "code",
   "execution_count": null,
   "metadata": {
    "colab": {
     "base_uri": "https://localhost:8080/"
    },
    "id": "xJM1YKilE0kF",
    "outputId": "7962a974-d95f-47ed-84a9-330b8694112c"
   },
   "outputs": [],
   "source": [
    "contar_e_exibir_nulos(df_economatica_correcao_tipagem)"
   ]
  },
  {
   "cell_type": "markdown",
   "metadata": {},
   "source": [
    "Aqui já obtivemos resultados significativos, de 648 linhas com valores nulos, fomos para 509."
   ]
  },
  {
   "cell_type": "markdown",
   "metadata": {},
   "source": [
    "#### Remover colunas de ativo/passivo "
   ]
  },
  {
   "cell_type": "code",
   "execution_count": null,
   "metadata": {},
   "outputs": [],
   "source": [
    "df_economatica_correcao_tipagem.drop(columns=['ativo_circulante', 'ativo_nao_circulante', 'passivo_circulante', 'passivo_nao_circulante'], inplace=True)"
   ]
  },
  {
   "cell_type": "markdown",
   "metadata": {},
   "source": [
    "### Preenchimento com base em média"
   ]
  },
  {
   "cell_type": "code",
   "execution_count": null,
   "metadata": {},
   "outputs": [],
   "source": [
    "def identificar_features_com_nulo_unico_ano(df):\n",
    "    \"\"\"\n",
    "    Identifica features onde há ações que possuem valores nulos em apenas um dos cinco anos (2020-2024).\n",
    "    \n",
    "    Args:\n",
    "        df (pd.DataFrame): DataFrame com dados organizados por ano\n",
    "        \n",
    "    Returns:\n",
    "        dict: Dicionário com features como chave e lista de códigos de ações que atendem o critério\n",
    "    \"\"\"\n",
    "    # Colunas que são features numéricas (excluindo identificadores e categóricas)\n",
    "    features_numericas = [col for col in df.columns if col not in ['nome', 'codigo', 'setor', 'ano', 'pandemia']]\n",
    "    \n",
    "    resultado = {}\n",
    "    \n",
    "    for feature in features_numericas:\n",
    "        acoes_com_nulo_unico = []\n",
    "        \n",
    "        # Agrupa por código da ação\n",
    "        for codigo, grupo in df.groupby('codigo'):\n",
    "            # Verifica se há exatamente 5 anos de dados (2020-2024)\n",
    "            if len(grupo) == 5:\n",
    "                # Conta quantos valores nulos existem para essa feature\n",
    "                nulos_count = grupo[feature].isnull().sum()\n",
    "                \n",
    "                # Se há exatamente 1 valor nulo (nulo em apenas um ano)\n",
    "                if nulos_count == 1:\n",
    "                    acoes_com_nulo_unico.append(codigo)\n",
    "        \n",
    "        # Se há ações que atendem o critério, adiciona ao resultado\n",
    "        if acoes_com_nulo_unico:\n",
    "            resultado[feature] = acoes_com_nulo_unico\n",
    "    \n",
    "    return resultado"
   ]
  },
  {
   "cell_type": "code",
   "execution_count": null,
   "metadata": {},
   "outputs": [],
   "source": [
    "def exibir_relatorio_nulos_unicos(df):\n",
    "    \"\"\"\n",
    "    Exibe um relatório detalhado das features com nulos únicos.\n",
    "    \n",
    "    Args:\n",
    "        df (pd.DataFrame): DataFrame com dados organizados por ano\n",
    "    \"\"\"\n",
    "    resultado = identificar_features_com_nulo_unico_ano(df)\n",
    "    \n",
    "    if not resultado:\n",
    "        print(\"Nenhuma feature possui ações com nulo em apenas um ano.\")\n",
    "        return\n",
    "    \n",
    "    print(\"=== RELATÓRIO: Features com nulos em apenas um ano ===\\n\")\n",
    "    \n",
    "    # Lista apenas os nomes das features\n",
    "    features_com_nulo_unico = list(resultado.keys())\n",
    "    print(f\"Total de features identificadas: {len(features_com_nulo_unico)}\")\n",
    "    print(f\"Features: {features_com_nulo_unico}\\n\")\n",
    "    \n",
    "    # Relatório detalhado por feature\n",
    "    for feature, acoes in resultado.items():\n",
    "        print(f\"Feature: '{feature}'\")\n",
    "        print(f\"  - Quantidade de ações afetadas: {len(acoes)}\")\n",
    "        print(f\"  - Códigos das ações: {acoes[:10]}{'...' if len(acoes) > 10 else ''}\")\n",
    "        \n",
    "        # Mostra em qual ano está o nulo para as primeiras 3 ações\n",
    "        print(\"  - Detalhes dos primeiros casos:\")\n",
    "        for i, codigo in enumerate(acoes[:3]):\n",
    "            dados_acao = df[df['codigo'] == codigo][['ano', feature]]\n",
    "            ano_nulo = dados_acao[dados_acao[feature].isnull()]['ano'].iloc[0]\n",
    "            print(f\"    * {codigo}: nulo no ano {ano_nulo}\")\n",
    "        print()\n",
    "    \n",
    "    return features_com_nulo_unico"
   ]
  },
  {
   "cell_type": "code",
   "execution_count": null,
   "metadata": {},
   "outputs": [],
   "source": [
    "features_nulo_unico = exibir_relatorio_nulos_unicos(df_economatica_correcao_tipagem)"
   ]
  },
  {
   "cell_type": "code",
   "execution_count": null,
   "metadata": {},
   "outputs": [],
   "source": [
    "def preencher_nulos_com_media_temporal(df):\n",
    "    \"\"\"\n",
    "    Preenche valores nulos com a média dos outros anos para ações que possuem \n",
    "    exatamente 1 valor nulo em uma feature (4 valores válidos e 1 nulo).\n",
    "    \n",
    "    Args:\n",
    "        df (pd.DataFrame): DataFrame com dados organizados por ano\n",
    "        \n",
    "    Returns:\n",
    "        pd.DataFrame: DataFrame com os valores nulos preenchidos\n",
    "        dict: Relatório das alterações realizadas\n",
    "    \"\"\"\n",
    "    df_resultado = df.copy()\n",
    "    relatorio = {\n",
    "        'features_processadas': [],\n",
    "        'total_valores_preenchidos': 0,\n",
    "        'detalhes_por_feature': {}\n",
    "    }\n",
    "    \n",
    "    # Identifica features com nulos únicos\n",
    "    features_com_nulo_unico = identificar_features_com_nulo_unico_ano(df)\n",
    "    \n",
    "    if not features_com_nulo_unico:\n",
    "        print(\"Nenhuma feature encontrada com o critério de 1 nulo em 5 anos.\")\n",
    "        return df_resultado, relatorio\n",
    "    \n",
    "    print(\"=== PREENCHIMENTO COM MÉDIA TEMPORAL ===\\n\")\n",
    "    \n",
    "    for feature, acoes_afetadas in features_com_nulo_unico.items():\n",
    "        valores_preenchidos = 0\n",
    "        detalhes_acoes = []\n",
    "        \n",
    "        print(f\"Processando feature: '{feature}'\")\n",
    "        print(f\"  - Ações afetadas: {len(acoes_afetadas)}\")\n",
    "        \n",
    "        for codigo in acoes_afetadas:\n",
    "            # Obtém os dados da ação para todos os anos\n",
    "            dados_acao = df_resultado[df_resultado['codigo'] == codigo].copy()\n",
    "            \n",
    "            if len(dados_acao) == 5:  # Confirma que tem 5 anos de dados\n",
    "                valores_feature = dados_acao[feature]\n",
    "                \n",
    "                # Verifica se há exatamente 1 nulo\n",
    "                if valores_feature.isnull().sum() == 1:\n",
    "                    # Calcula a média dos valores não nulos\n",
    "                    valores_nao_nulos = valores_feature.dropna()\n",
    "                    \n",
    "                    if len(valores_nao_nulos) == 4:  # Confirma que tem 4 valores válidos\n",
    "                        media = valores_nao_nulos.mean()\n",
    "                        \n",
    "                        # Identifica o índice onde está o nulo\n",
    "                        indice_nulo = dados_acao[valores_feature.isnull()].index[0]\n",
    "                        ano_nulo = dados_acao.loc[indice_nulo, 'ano']\n",
    "                        \n",
    "                        # Aplica a função limpar_e_converter para garantir formatação\n",
    "                        media_formatada = limpar_e_converter(media)\n",
    "                        \n",
    "                        # Preenche o valor nulo com a média\n",
    "                        df_resultado.loc[indice_nulo, feature] = media_formatada\n",
    "                        \n",
    "                        valores_preenchidos += 1\n",
    "                        detalhes_acoes.append({\n",
    "                            'codigo': codigo,\n",
    "                            'ano_nulo': ano_nulo,\n",
    "                            'media_calculada': media_formatada,\n",
    "                            'valores_originais': valores_nao_nulos.tolist()\n",
    "                        })\n",
    "        \n",
    "        # Atualiza o relatório\n",
    "        relatorio['features_processadas'].append(feature)\n",
    "        relatorio['total_valores_preenchidos'] += valores_preenchidos\n",
    "        relatorio['detalhes_por_feature'][feature] = {\n",
    "            'valores_preenchidos': valores_preenchidos,\n",
    "            'acoes_processadas': detalhes_acoes[:5]  # Mostra apenas os primeiros 5 exemplos\n",
    "        }\n",
    "        \n",
    "        print(f\"  - Valores preenchidos: {valores_preenchidos}\")\n",
    "        \n",
    "        # Mostra alguns exemplos\n",
    "        if detalhes_acoes:\n",
    "            print(\"  - Exemplos:\")\n",
    "            for exemplo in detalhes_acoes[:3]:\n",
    "                print(f\"    * {exemplo['codigo']} (ano {exemplo['ano_nulo']}): \"\n",
    "                      f\"média = {exemplo['media_calculada']}\")\n",
    "        print()\n",
    "    \n",
    "    print(f\"=== RESUMO ===\")\n",
    "    print(f\"Features processadas: {len(relatorio['features_processadas'])}\")\n",
    "    print(f\"Total de valores preenchidos: {relatorio['total_valores_preenchidos']}\")\n",
    "    \n",
    "    return df_resultado, relatorio"
   ]
  },
  {
   "cell_type": "code",
   "execution_count": null,
   "metadata": {},
   "outputs": [],
   "source": [
    "def exibir_relatorio_preenchimento(relatorio):\n",
    "    \"\"\"\n",
    "    Exibe um relatório detalhado do preenchimento realizado.\n",
    "    \n",
    "    Args:\n",
    "        relatorio (dict): Relatório retornado pela função de preenchimento\n",
    "    \"\"\"\n",
    "    print(\"=== RELATÓRIO DETALHADO DE PREENCHIMENTO ===\\n\")\n",
    "    \n",
    "    if not relatorio['features_processadas']:\n",
    "        print(\"Nenhum preenchimento foi realizado.\")\n",
    "        return\n",
    "    \n",
    "    for feature in relatorio['features_processadas']:\n",
    "        detalhes = relatorio['detalhes_por_feature'][feature]\n",
    "        print(f\"Feature: '{feature}'\")\n",
    "        print(f\"  - Valores preenchidos: {detalhes['valores_preenchidos']}\")\n",
    "        \n",
    "        if detalhes['acoes_processadas']:\n",
    "            print(\"  - Detalhes das ações processadas:\")\n",
    "            for acao in detalhes['acoes_processadas']:\n",
    "                print(f\"    * {acao['codigo']} (ano {acao['ano_nulo']}): \"\n",
    "                      f\"média = {acao['media_calculada']}\")\n",
    "                print(f\"      Valores originais: {acao['valores_originais']}\")\n",
    "        print()"
   ]
  },
  {
   "cell_type": "code",
   "execution_count": null,
   "metadata": {},
   "outputs": [],
   "source": [
    "print(\"Antes do preenchimento:\")\n",
    "contar_e_exibir_nulos(df_economatica_correcao_tipagem)\n",
    "print(\"\\n\" + \"=\"*50 + \"\\n\")\n",
    "\n",
    "df_economatica_preenchido, relatorio_preenchimento = preencher_nulos_com_media_temporal(df_economatica_correcao_tipagem)\n",
    "\n",
    "print(\"\\n\" + \"=\"*50 + \"\\n\")\n",
    "print(\"Após o preenchimento:\")\n",
    "contar_e_exibir_nulos(df_economatica_preenchido)"
   ]
  },
  {
   "cell_type": "markdown",
   "metadata": {},
   "source": [
    "### Atribuição de valor para a variável target"
   ]
  },
  {
   "cell_type": "code",
   "execution_count": null,
   "metadata": {},
   "outputs": [],
   "source": [
    "# Primeiro, garantir que a coluna valor_mercado esteja corretamente limpa e convertida\n",
    "df_economatica_preenchido['valor_mercado'] = df_economatica_preenchido['valor_mercado'].apply(limpar_e_converter)\n",
    "\n",
    "# Ordenar por código e ano para cálculo correto\n",
    "df_economatica_preenchido = df_economatica_preenchido.sort_values(by=['codigo', 'ano'])\n",
    "\n",
    "# Calcular valor de mercado do ano anterior\n",
    "df_economatica_preenchido['valor_mercado_anterior'] = df_economatica_preenchido.groupby('codigo')['valor_mercado'].shift(1)\n",
    "\n",
    "# Calcular a variação do valor de mercado\n",
    "df_economatica_preenchido['variacao_valor_mercado_raw'] = (df_economatica_preenchido['valor_mercado'] / df_economatica_preenchido['valor_mercado_anterior']) - 1\n",
    "\n",
    "# Aplicar a lógica da variável target:\n",
    "# - Se valor_mercado for NaN, target = NaN\n",
    "# - Se não há ano anterior (primeiro ano), target = NaN\n",
    "# - Caso contrário, retorna a variação arredondada em 4 casas decimais\n",
    "def calcular_target(row):\n",
    "    \"\"\"\n",
    "    Calcula a variável target baseada nas regras definidas:\n",
    "    - Se valor_mercado é NaN, retorna NaN\n",
    "    - Se não há ano anterior, retorna NaN\n",
    "    - Caso contrário, retorna a variação arredondada em 4 casas decimais\n",
    "    \"\"\"\n",
    "    if pd.isna(row['valor_mercado']) or pd.isna(row['valor_mercado_anterior']):\n",
    "        return np.nan\n",
    "    \n",
    "    variacao = row['variacao_valor_mercado_raw']\n",
    "    \n",
    "    if pd.isna(variacao):\n",
    "        return np.nan\n",
    "    else:\n",
    "        return round(variacao, 4)\n",
    "\n",
    "# Aplicar a função para calcular a target\n",
    "df_economatica_preenchido['variacao_valor_mercado'] = df_economatica_preenchido.apply(calcular_target, axis=1)\n",
    "\n",
    "# Remover colunas auxiliares\n",
    "df_economatica_preenchido = df_economatica_preenchido.drop(columns=['valor_mercado', 'valor_mercado_anterior', 'variacao_valor_mercado_raw'])\n",
    "\n",
    "print(\"--- Variável Target criada ---\")\n",
    "print(\"Target: Variação percentual do valor de mercado arredondada em 4 casas decimais\")\n",
    "print(\"Valores positivos = valorização, valores negativos = desvalorização\")\n",
    "print(\"Valores NaN = primeiro ano de cada empresa (não há ano anterior para comparação)\\n\")\n",
    "\n",
    "print(\"Estatísticas da variável target:\")\n",
    "print(df_economatica_preenchido['variacao_valor_mercado'].describe())\n",
    "\n",
    "print(f\"\\nValores nulos na target: {df_economatica_preenchido['variacao_valor_mercado'].isnull().sum()}\")\n",
    "print(f\"Tipo da variável target (valores não nulos): {df_economatica_preenchido['variacao_valor_mercado'].dropna().dtype}\")\n",
    "\n",
    "# Calcula estatísticas apenas dos valores não nulos\n",
    "valores_nao_nulos = df_economatica_preenchido['variacao_valor_mercado'].dropna()\n",
    "if len(valores_nao_nulos) > 0:\n",
    "    valorizacoes = (valores_nao_nulos > 0).sum()\n",
    "    total_validos = len(valores_nao_nulos)\n",
    "    print(f\"Percentual de valorizações (variação > 0): {(valorizacoes / total_validos) * 100:.1f}%\")\n",
    "    print(f\"Variação média: {valores_nao_nulos.mean():.4f}\")\n",
    "    print(f\"Variação mínima: {valores_nao_nulos.min():.4f}\")\n",
    "    print(f\"Variação máxima: {valores_nao_nulos.max():.4f}\")\n",
    "\n",
    "print(\"\\nVisualização do DataFrame final:\")\n",
    "print(df_economatica_preenchido[['nome', 'codigo', 'ano', 'variacao_valor_mercado']].head(20))\n",
    "\n",
    "print(f\"\\nDistribuição por ano:\")\n",
    "print(df_economatica_preenchido.groupby('ano')['variacao_valor_mercado'].agg(['count', lambda x: x.isnull().sum()]).rename(columns={'<lambda>': 'nulos'}))"
   ]
  },
  {
   "cell_type": "code",
   "execution_count": null,
   "metadata": {},
   "outputs": [],
   "source": [
    "print(\"\\n📅 DISTRIBUIÇÃO POR ANO:\")\n",
    "distribuicao_ano = df_economatica_preenchido['ano'].value_counts().sort_index()\n",
    "for ano, count in distribuicao_ano.items():\n",
    "  print(f\"  - {ano}: {count:,} registros\")"
   ]
  },
  {
   "cell_type": "markdown",
   "metadata": {},
   "source": [
    "### Remoção através da correlação"
   ]
  },
  {
   "cell_type": "code",
   "execution_count": null,
   "metadata": {},
   "outputs": [],
   "source": [
    "calcular_correlacao_com_receita(df_economatica_preenchido)"
   ]
  },
  {
   "cell_type": "markdown",
   "metadata": {},
   "source": [
    "### Análise de Correlação e Remoção de Variáveis"
   ]
  },
  {
   "cell_type": "markdown",
   "metadata": {},
   "source": [
    "Com base nos dados de correlação fornecidos, a principal estratégia é identificar e remover as variáveis que mostram uma forte multicolinearidade (alta correlação entre si) e que, ao mesmo tempo, têm a menor correlação com a variável-alvo, que é **variacao_valor_mercado**.\n",
    "\n",
    "---\n",
    "\n",
    "#### Frequência de Ocorrência em Pares Correlacionados\n",
    "\n",
    "Primeiro, foi analisada a frequência com que cada variável aparece em um par de alta correlação:\n",
    "\n",
    "- **receita:** 5 ocorrências  \n",
    "- **lucro_liquido:** 4 ocorrências  \n",
    "- **caixa_financeiro:** 3 ocorrências  \n",
    "- **dividendos:** 3 ocorrências  \n",
    "- **patrimonio_liquido:** 3 ocorrências  \n",
    "- **caixa_operacional:** 2 ocorrências  \n",
    "- **margem_liquida:** 1 ocorrência  \n",
    "- **margem_ebit:** 1 ocorrência  \n",
    "- **pandemia:** 1 ocorrência  \n",
    "- **ano:** 1 ocorrência  \n",
    "- **ativo_total:** 1 ocorrência  \n",
    "\n",
    "---\n",
    "\n",
    "#### Decisão de Remoção por Par\n",
    "\n",
    "Em cada par de variáveis com forte correlação, a decisão de qual remover foi baseada na que possui a correlação mais próxima de zero com a variável **variacao_valor_mercado**:\n",
    "\n",
    "- **caixa_financeiro vs. dividendos:**  \n",
    "  - caixa_financeiro (-0.007) < dividendos (0.008) → **Remover caixa_financeiro**  \n",
    "\n",
    "- **ano vs. pandemia:**  \n",
    "  - ano (-0.016) > pandemia (-0.133) → **Remover ano**  \n",
    "\n",
    "- **margem_liquida vs. margem_ebit:**  \n",
    "  - margem_liquida (-0.012) > margem_ebit (-0.014) → **Remover margem_liquida**  \n",
    "\n",
    "- **receita vs. dividendos:**  \n",
    "  - receita (-0.008) < dividendos (0.008) → **Remover receita**  \n",
    "\n",
    "- **lucro_liquido vs. dividendos:**  \n",
    "  - lucro_liquido (0.020) > dividendos (0.008) → **Remover dividendos**  \n",
    "\n",
    "- **caixa_financeiro vs. receita:**  \n",
    "  - caixa_financeiro (-0.007) > receita (-0.008) → **Remover caixa_financeiro**  \n",
    "\n",
    "- **caixa_financeiro vs. lucro_liquido:**  \n",
    "  - caixa_financeiro (-0.007) < lucro_liquido (0.020) → **Remover caixa_financeiro**  \n",
    "\n",
    "- **caixa_operacional vs. patrimonio_liquido:**  \n",
    "  - patrimonio_liquido (0.006) < caixa_operacional (0.023) → **Remover patrimonio_liquido**  \n",
    "\n",
    "- **caixa_operacional vs. receita:**  \n",
    "  - receita (-0.008) < caixa_operacional (0.023) → **Remover receita**  \n",
    "\n",
    "- **ativo_total vs. receita:**  \n",
    "  - ativo_total (0.007) < receita (-0.008) → **Remover ativo_total**  \n",
    "\n",
    "- **lucro_liquido vs. patrimonio_liquido:**  \n",
    "  - patrimonio_liquido (0.006) < lucro_liquido (0.020) → **Remover patrimonio_liquido**  \n",
    "\n",
    "- **lucro_liquido vs. receita:**  \n",
    "  - receita (-0.008) < lucro_liquido (0.020) → **Remover receita**  \n",
    "\n",
    "- **receita vs. patrimonio_liquido:**  \n",
    "  - patrimonio_liquido (0.006) < receita (-0.008) → **Remover patrimonio_liquido**  \n",
    "\n",
    "---\n",
    "\n",
    "#### Lista Final de Variáveis para Remoção\n",
    "\n",
    "Com base na análise, estas são as variáveis que, consistentemente, devem ser removidas para otimizar o modelo:\n",
    "\n",
    "- **receita** (5 indicações de remoção)  \n",
    "- **caixa_financeiro** (3 indicações de remoção)  \n",
    "- **patrimonio_liquido** (3 indicações de remoção)  \n",
    "- **dividendos** (2 indicações de remoção)  \n",
    "- **ano** (1 indicação de remoção)  \n",
    "- **margem_liquida** (1 indicação de remoção)  \n",
    "- **ativo_total** (1 indicação de remoção)  \n"
   ]
  },
  {
   "cell_type": "code",
   "execution_count": null,
   "metadata": {},
   "outputs": [],
   "source": [
    "df_economatica_preenchido.drop(columns=['receita', 'caixa_financeiro', 'patrimonio_liquido', 'dividendos', 'margem_liquida', 'ativo_total'], inplace=True)"
   ]
  },
  {
   "cell_type": "code",
   "execution_count": null,
   "metadata": {},
   "outputs": [],
   "source": [
    "print(\"\\n📅 DISTRIBUIÇÃO POR ANO:\")\n",
    "distribuicao_ano = df_economatica_preenchido['ano'].value_counts().sort_index()\n",
    "for ano, count in distribuicao_ano.items():\n",
    "    print(f\"  - {ano}: {count:,} registros\")"
   ]
  },
  {
   "cell_type": "code",
   "execution_count": null,
   "metadata": {},
   "outputs": [],
   "source": [
    "contar_e_exibir_nulos(df_economatica_preenchido)"
   ]
  },
  {
   "cell_type": "markdown",
   "metadata": {},
   "source": [
    "### Remover o ano de 2020"
   ]
  },
  {
   "cell_type": "code",
   "execution_count": null,
   "metadata": {},
   "outputs": [],
   "source": [
    "# Remover todos os registros do ano 2020\n",
    "df_economatica_preenchido = df_economatica_preenchido[df_economatica_preenchido['ano'] != 2020].copy()\n",
    "\n",
    "print(\"=== REMOÇÃO DOS REGISTROS DE 2020 ===\")\n",
    "print(f\"Registros restantes após remoção do ano 2020:\")\n",
    "print(f\"Shape do DataFrame: {df_economatica_preenchido.shape}\")\n",
    "\n",
    "print(\"\\nDistribuição por ano após remoção:\")\n",
    "print(df_economatica_preenchido['ano'].value_counts().sort_index())\n",
    "\n",
    "print(\"\\nDistribuição da pandemia após remoção:\")\n",
    "print(df_economatica_preenchido['pandemia'].value_counts())\n",
    "\n",
    "print(\"\\nVerificação - anos únicos restantes:\")\n",
    "print(sorted(df_economatica_preenchido['ano'].unique()))\n",
    "\n",
    "print(\"\\nDistribuição da variável target após remoção de 2020:\")\n",
    "print(df_economatica_preenchido['variacao_valor_mercado'].value_counts().sort_index())\n",
    "\n",
    "print(f\"\\nValores nulos na target após remoção: {df_economatica_preenchido['variacao_valor_mercado'].isnull().sum()}\")\n",
    "\n",
    "# Verifica quantos códigos únicos restaram\n",
    "print(f\"\\nCódigos únicos restantes: {df_economatica_preenchido['codigo'].nunique()}\")\n",
    "\n",
    "# Verifica se algum código ficou com menos de 4 anos de dados\n",
    "contagem_por_codigo = df_economatica_preenchido['codigo'].value_counts()\n",
    "codigos_incompletos = contagem_por_codigo[contagem_por_codigo < 4]\n",
    "print(f\"Códigos com menos de 4 anos de dados: {len(codigos_incompletos)}\")\n",
    "\n",
    "if len(codigos_incompletos) > 0:\n",
    "    print(\"Códigos incompletos:\", codigos_incompletos.head())"
   ]
  },
  {
   "cell_type": "markdown",
   "metadata": {},
   "source": [
    "### Remoção dos nulos restantes"
   ]
  },
  {
   "cell_type": "code",
   "execution_count": null,
   "metadata": {},
   "outputs": [],
   "source": [
    "def identificar_codigos_com_nulos(df):\n",
    "    \"\"\"\n",
    "    Identifica as linhas que possuem valores nulos e retorna a lista de códigos únicos.\n",
    "    \n",
    "    Args:\n",
    "        df (pd.DataFrame): DataFrame com dados organizados por ano\n",
    "        \n",
    "    Returns:\n",
    "        dict: Dicionário com informações detalhadas sobre códigos com nulos\n",
    "    \"\"\"\n",
    "    # Identifica linhas que possuem pelo menos um valor nulo\n",
    "    linhas_com_nulos = df.isnull().any(axis=1)\n",
    "    \n",
    "    # Filtra o DataFrame para apenas linhas com nulos\n",
    "    df_com_nulos = df[linhas_com_nulos].copy()\n",
    "    \n",
    "    # Lista de códigos únicos que possuem linhas com nulos\n",
    "    codigos_com_nulos = df_com_nulos['codigo'].unique().tolist()\n",
    "    \n",
    "    # Contagem de linhas com nulos por código\n",
    "    contagem_por_codigo = df_com_nulos['codigo'].value_counts().to_dict()\n",
    "    \n",
    "    # Análise detalhada por código\n",
    "    detalhes_por_codigo = {}\n",
    "    for codigo in codigos_com_nulos:\n",
    "        dados_codigo = df[df['codigo'] == codigo]\n",
    "        linhas_nulas_codigo = dados_codigo.isnull().any(axis=1).sum()\n",
    "        total_linhas_codigo = len(dados_codigo)\n",
    "        anos_com_nulos = dados_codigo[dados_codigo.isnull().any(axis=1)]['ano'].tolist()\n",
    "        \n",
    "        detalhes_por_codigo[codigo] = {\n",
    "            'total_linhas': total_linhas_codigo,\n",
    "            'linhas_com_nulos': linhas_nulas_codigo,\n",
    "            'anos_com_nulos': anos_com_nulos,\n",
    "            'percentual_nulos': round((linhas_nulas_codigo / total_linhas_codigo) * 100, 2)\n",
    "        }\n",
    "    \n",
    "    # Resumo geral\n",
    "    resumo = {\n",
    "        'total_linhas_dataset': len(df),\n",
    "        'total_linhas_com_nulos': len(df_com_nulos),\n",
    "        'total_codigos_unicos': df['codigo'].nunique(),\n",
    "        'total_codigos_com_nulos': len(codigos_com_nulos),\n",
    "        'percentual_codigos_afetados': round((len(codigos_com_nulos) / df['codigo'].nunique()) * 100, 2)\n",
    "    }\n",
    "    \n",
    "    return {\n",
    "        'codigos_com_nulos': codigos_com_nulos,\n",
    "        'contagem_por_codigo': contagem_por_codigo,\n",
    "        'detalhes_por_codigo': detalhes_por_codigo,\n",
    "        'resumo': resumo\n",
    "    }"
   ]
  },
  {
   "cell_type": "code",
   "execution_count": null,
   "metadata": {},
   "outputs": [],
   "source": [
    "def exibir_relatorio_codigos_nulos(df):\n",
    "    \"\"\"\n",
    "    Exibe um relatório completo dos códigos que possuem linhas com valores nulos.\n",
    "    \n",
    "    Args:\n",
    "        df (pd.DataFrame): DataFrame com dados organizados por ano\n",
    "    \"\"\"\n",
    "    resultado = identificar_codigos_com_nulos(df)\n",
    "    \n",
    "    print(\"=== RELATÓRIO: Códigos com Valores Nulos ===\\n\")\n",
    "    \n",
    "    # Resumo geral\n",
    "    resumo = resultado['resumo']\n",
    "    print(f\"📊 RESUMO GERAL:\")\n",
    "    print(f\"  - Total de linhas no dataset: {resumo['total_linhas_dataset']:,}\")\n",
    "    print(f\"  - Linhas com pelo menos um nulo: {resumo['total_linhas_com_nulos']:,}\")\n",
    "    print(f\"  - Total de códigos únicos: {resumo['total_codigos_unicos']:,}\")\n",
    "    print(f\"  - Códigos com nulos: {resumo['total_codigos_com_nulos']:,}\")\n",
    "    print(f\"  - Percentual de códigos afetados: {resumo['percentual_codigos_afetados']}%\")\n",
    "    print()\n",
    "    \n",
    "    # Lista dos códigos\n",
    "    codigos = resultado['codigos_com_nulos']\n",
    "    print(f\"📋 LISTA DE CÓDIGOS COM NULOS ({len(codigos)} códigos):\")\n",
    "    \n",
    "    # Mostra em grupos de 10 para melhor visualização\n",
    "    for i in range(0, len(codigos), 10):\n",
    "        grupo = codigos[i:i+10]\n",
    "        print(f\"  {grupo}\")\n",
    "    print()\n",
    "    \n",
    "    # Top 10 códigos com mais linhas nulas\n",
    "    contagem = resultado['contagem_por_codigo']\n",
    "    top_10_nulos = sorted(contagem.items(), key=lambda x: x[1], reverse=True)[:10]\n",
    "    \n",
    "    print(f\"🔝 TOP 10 CÓDIGOS COM MAIS LINHAS NULAS:\")\n",
    "    for codigo, qtd_linhas in top_10_nulos:\n",
    "        detalhes = resultado['detalhes_por_codigo'][codigo]\n",
    "        print(f\"  - {codigo}: {qtd_linhas}/{detalhes['total_linhas']} linhas \"\n",
    "              f\"({detalhes['percentual_nulos']}%) - Anos: {detalhes['anos_com_nulos']}\")\n",
    "    print()\n",
    "    \n",
    "    return resultado"
   ]
  },
  {
   "cell_type": "code",
   "execution_count": null,
   "metadata": {},
   "outputs": [],
   "source": [
    "def obter_lista_codigos_com_nulos(df):\n",
    "    \"\"\"\n",
    "    Retorna apenas a lista simples de códigos únicos que possuem valores nulos.\n",
    "    \n",
    "    Args:\n",
    "        df (pd.DataFrame): DataFrame com dados organizados por ano\n",
    "        \n",
    "    Returns:\n",
    "        list: Lista de códigos únicos com valores nulos\n",
    "    \"\"\"\n",
    "    resultado = identificar_codigos_com_nulos(df)\n",
    "    return resultado['codigos_com_nulos']"
   ]
  },
  {
   "cell_type": "code",
   "execution_count": null,
   "metadata": {},
   "outputs": [],
   "source": [
    "def analisar_padroes_nulos_por_codigo(df, codigo_especifico=None):\n",
    "    \"\"\"\n",
    "    Analisa padrões detalhados de nulos para um código específico ou todos os códigos.\n",
    "    \n",
    "    Args:\n",
    "        df (pd.DataFrame): DataFrame com dados organizados por ano\n",
    "        codigo_especifico (str, optional): Código específico para análise detalhada\n",
    "        \n",
    "    Returns:\n",
    "        dict: Análise detalhada dos padrões de nulos\n",
    "    \"\"\"\n",
    "    if codigo_especifico:\n",
    "        # Análise para um código específico\n",
    "        dados_codigo = df[df['codigo'] == codigo_especifico].copy()\n",
    "        if dados_codigo.empty:\n",
    "            return f\"Código '{codigo_especifico}' não encontrado no dataset.\"\n",
    "        \n",
    "        print(f\"=== ANÁLISE DETALHADA: {codigo_especifico} ===\\n\")\n",
    "        \n",
    "        # Para cada ano, mostra quais colunas têm nulos\n",
    "        for _, linha in dados_codigo.iterrows():\n",
    "            ano = linha['ano']\n",
    "            colunas_nulas = linha.isnull()\n",
    "            colunas_com_nulos = colunas_nulas[colunas_nulas].index.tolist()\n",
    "            \n",
    "            print(f\"📅 Ano {ano}:\")\n",
    "            if colunas_com_nulos:\n",
    "                # Remove colunas de identificação da lista\n",
    "                colunas_features_nulas = [col for col in colunas_com_nulos \n",
    "                                        if col not in ['nome', 'codigo', 'setor']]\n",
    "                print(f\"  - Colunas com nulos: {colunas_features_nulas}\")\n",
    "                print(f\"  - Total de nulos: {len(colunas_features_nulas)}\")\n",
    "            else:\n",
    "                print(\"  - Sem valores nulos\")\n",
    "            print()\n",
    "    else:\n",
    "        # Análise geral de padrões\n",
    "        resultado = identificar_codigos_com_nulos(df)\n",
    "        return resultado"
   ]
  },
  {
   "cell_type": "code",
   "execution_count": null,
   "metadata": {},
   "outputs": [],
   "source": [
    "print(\"=== IDENTIFICAÇÃO DE CÓDIGOS COM VALORES NULOS ===\\n\")\n",
    "relatorio_nulos = exibir_relatorio_codigos_nulos(df_economatica_preenchido)"
   ]
  },
  {
   "cell_type": "code",
   "execution_count": null,
   "metadata": {},
   "outputs": [],
   "source": [
    "def remover_acoes_com_nulos(df):\n",
    "    \"\"\"\n",
    "    Remove TODAS as ações que possuem pelo menos 1 valor nulo em qualquer ano/feature.\n",
    "    \n",
    "    Args:\n",
    "        df (pd.DataFrame): DataFrame com dados organizados por ano\n",
    "        \n",
    "    Returns:\n",
    "        pd.DataFrame: DataFrame apenas com ações que não possuem nenhum valor nulo\n",
    "        dict: Relatório das remoções realizadas\n",
    "    \"\"\"\n",
    "    print(\"=== REMOÇÃO DE AÇÕES COM VALORES NULOS ===\\n\")\n",
    "    \n",
    "    # Estado inicial\n",
    "    total_linhas_inicial = len(df)\n",
    "    total_codigos_inicial = df['codigo'].nunique()\n",
    "    \n",
    "    print(f\"📊 ESTADO INICIAL:\")\n",
    "    print(f\"  - Total de linhas: {total_linhas_inicial:,}\")\n",
    "    print(f\"  - Total de códigos únicos: {total_codigos_inicial:,}\")\n",
    "    print()\n",
    "    \n",
    "    # Identifica códigos com nulos\n",
    "    resultado_nulos = identificar_codigos_com_nulos(df)\n",
    "    codigos_com_nulos = resultado_nulos['codigos_com_nulos']\n",
    "    \n",
    "    print(f\"🔍 ANÁLISE DE NULOS:\")\n",
    "    print(f\"  - Códigos com pelo menos 1 nulo: {len(codigos_com_nulos):,}\")\n",
    "    print(f\"  - Códigos sem nulos: {total_codigos_inicial - len(codigos_com_nulos):,}\")\n",
    "    print()\n",
    "    \n",
    "    # Remove todas as linhas dos códigos que possuem nulos\n",
    "    df_limpo = df[~df['codigo'].isin(codigos_com_nulos)].copy()\n",
    "    \n",
    "    # Estado final\n",
    "    total_linhas_final = len(df_limpo)\n",
    "    total_codigos_final = df_limpo['codigo'].nunique()\n",
    "    \n",
    "    linhas_removidas = total_linhas_inicial - total_linhas_final\n",
    "    codigos_removidos = total_codigos_inicial - total_codigos_final\n",
    "    \n",
    "    print(f\"🗑️ REMOÇÕES REALIZADAS:\")\n",
    "    print(f\"  - Linhas removidas: {linhas_removidas:,}\")\n",
    "    print(f\"  - Códigos removidos: {codigos_removidos:,}\")\n",
    "    print()\n",
    "    \n",
    "    print(f\"✅ ESTADO FINAL:\")\n",
    "    print(f\"  - Total de linhas: {total_linhas_final:,}\")\n",
    "    print(f\"  - Total de códigos únicos: {total_codigos_final:,}\")\n",
    "    print(f\"  - Percentual de linhas mantidas: {(total_linhas_final/total_linhas_inicial)*100:.1f}%\")\n",
    "    print(f\"  - Percentual de códigos mantidos: {(total_codigos_final/total_codigos_inicial)*100:.1f}%\")\n",
    "    print()\n",
    "    \n",
    "    # Verifica se ainda há nulos (deve ser 0)\n",
    "    nulos_restantes = df_limpo.isnull().sum().sum()\n",
    "    print(f\"🔍 VERIFICAÇÃO FINAL:\")\n",
    "    print(f\"  - Valores nulos restantes: {nulos_restantes}\")\n",
    "    \n",
    "    if nulos_restantes == 0:\n",
    "        print(\"  ✅ Sucesso! Nenhum valor nulo encontrado no dataset final.\")\n",
    "    else:\n",
    "        print(\"  ⚠️ Atenção! Ainda há valores nulos no dataset.\")\n",
    "    \n",
    "    # Relatório detalhado\n",
    "    relatorio = {\n",
    "        'estado_inicial': {\n",
    "            'total_linhas': total_linhas_inicial,\n",
    "            'total_codigos': total_codigos_inicial\n",
    "        },\n",
    "        'estado_final': {\n",
    "            'total_linhas': total_linhas_final,\n",
    "            'total_codigos': total_codigos_final\n",
    "        },\n",
    "        'remocoes': {\n",
    "            'linhas_removidas': linhas_removidas,\n",
    "            'codigos_removidos': codigos_removidos,\n",
    "            'codigos_com_nulos': codigos_com_nulos\n",
    "        },\n",
    "        'percentuais': {\n",
    "            'linhas_mantidas': round((total_linhas_final/total_linhas_inicial)*100, 2),\n",
    "            'codigos_mantidos': round((total_codigos_final/total_codigos_inicial)*100, 2)\n",
    "        },\n",
    "        'verificacao': {\n",
    "            'nulos_restantes': nulos_restantes,\n",
    "            'dataset_limpo': nulos_restantes == 0\n",
    "        }\n",
    "    }\n",
    "    \n",
    "    return df_limpo, relatorio"
   ]
  },
  {
   "cell_type": "code",
   "execution_count": null,
   "metadata": {},
   "outputs": [],
   "source": [
    "def exibir_estatisticas_pos_remocao(df_limpo, relatorio):\n",
    "    \"\"\"\n",
    "    Exibe estatísticas detalhadas após a remoção das ações com nulos.\n",
    "    \n",
    "    Args:\n",
    "        df_limpo (pd.DataFrame): DataFrame após remoção\n",
    "        relatorio (dict): Relatório da remoção\n",
    "    \"\"\"\n",
    "    print(\"\\n\" + \"=\"*60)\n",
    "    print(\"📈 ESTATÍSTICAS DETALHADAS PÓS-REMOÇÃO\")\n",
    "    print(\"=\"*60)\n",
    "    \n",
    "    # Distribuição por ano\n",
    "    print(\"\\n📅 DISTRIBUIÇÃO POR ANO:\")\n",
    "    distribuicao_ano = df_limpo['ano'].value_counts().sort_index()\n",
    "    for ano, count in distribuicao_ano.items():\n",
    "        print(f\"  - {ano}: {count:,} registros\")\n",
    "    \n",
    "    # Verifica se todos os códigos têm 4 anos de dados\n",
    "    contagem_por_codigo = df_limpo['codigo'].value_counts()\n",
    "    codigos_completos = (contagem_por_codigo == 4).sum()\n",
    "    codigos_incompletos = (contagem_por_codigo != 4).sum()\n",
    "    \n",
    "    print(f\"\\n🔍 INTEGRIDADE DOS DADOS:\")\n",
    "    print(f\"  - Códigos com 4 anos completos: {codigos_completos:,}\")\n",
    "    print(f\"  - Códigos com dados incompletos: {codigos_incompletos:,}\")\n",
    "    \n",
    "    if codigos_incompletos > 0:\n",
    "        print(f\"  ⚠️ Atenção: {codigos_incompletos} códigos não têm 4 anos de dados!\")\n",
    "        incompletos = contagem_por_codigo[contagem_por_codigo != 4]\n",
    "        print(f\"  - Detalhes: {incompletos.to_dict()}\")\n",
    "    \n",
    "    # Estatísticas de colunas\n",
    "    print(f\"\\n📊 ESTATÍSTICAS DO DATASET:\")\n",
    "    print(f\"  - Número de colunas: {df_limpo.shape[1]}\")\n",
    "    print(f\"  - Colunas numéricas: {len(df_limpo.select_dtypes(include=[np.number]).columns)}\")\n",
    "    print(f\"  - Densidade dos dados: 100% (sem nulos)\")\n",
    "    \n",
    "    # Lista algumas ações que permaneceram\n",
    "    print(f\"\\n✅ EXEMPLOS DE AÇÕES MANTIDAS:\")\n",
    "    acoes_exemplo = df_limpo['codigo'].unique()[:10]\n",
    "    print(f\"  - Primeiras 10: {list(acoes_exemplo)}\")\n",
    "    \n",
    "    return distribuicao_ano, contagem_por_codigo"
   ]
  },
  {
   "cell_type": "code",
   "execution_count": null,
   "metadata": {},
   "outputs": [],
   "source": [
    "print(\"ANTES DA REMOÇÃO:\")\n",
    "contar_e_exibir_nulos(df_economatica_preenchido)\n",
    "print(\"\\n\" + \"=\"*60 + \"\\n\")\n",
    "\n",
    "df_economatica_sem_nulos, relatorio_remocao = remover_acoes_com_nulos(df_economatica_preenchido)\n",
    "\n",
    "# Exibe estatísticas detalhadas\n",
    "estatisticas = exibir_estatisticas_pos_remocao(df_economatica_sem_nulos, relatorio_remocao)\n",
    "\n",
    "print(\"\\n\" + \"=\"*60)\n",
    "print(\"🎯 VERIFICAÇÃO FINAL DE NULOS:\")\n",
    "contar_e_exibir_nulos(df_economatica_sem_nulos)"
   ]
  },
  {
   "cell_type": "code",
   "execution_count": null,
   "metadata": {},
   "outputs": [],
   "source": [
    "print(\"\\n📅 DISTRIBUIÇÃO POR ANO:\")\n",
    "distribuicao_ano = df_economatica_sem_nulos['ano'].value_counts().sort_index()\n",
    "for ano, count in distribuicao_ano.items():\n",
    "  print(f\"  - {ano}: {count:,} registros\")"
   ]
  },
  {
   "cell_type": "markdown",
   "metadata": {},
   "source": [
    "## Gerar CSV do dataframe limpo"
   ]
  },
  {
   "cell_type": "code",
   "execution_count": null,
   "metadata": {},
   "outputs": [],
   "source": [
    "# Gerar CSV do dataframe limpo\n",
    "print(\"=== EXPORTAÇÃO DO DATASET LIMPO ===\\n\")\n",
    "\n",
    "# Define o caminho baseado no ambiente\n",
    "if is_colab:\n",
    "    caminho_csv_limpo = '/content/df_economatica_limpo.csv'\n",
    "else:\n",
    "    os.makedirs('../datasets', exist_ok=True)\n",
    "    caminho_csv_limpo = '../datasets/df_economatica_limpo.csv'\n",
    "\n",
    "# Exporta o CSV\n",
    "df_economatica_sem_nulos.to_csv(caminho_csv_limpo, index=False, encoding='utf-8')\n",
    "\n",
    "print(f\"✅ Dataset limpo exportado para: {caminho_csv_limpo}\")\n",
    "print(f\"📊 Shape do dataset: {df_economatica_sem_nulos.shape}\")\n",
    "print(f\"📅 Período: {df_economatica_sem_nulos['ano'].min()} - {df_economatica_sem_nulos['ano'].max()}\")\n",
    "print(f\"🏢 Empresas únicas: {df_economatica_sem_nulos['codigo'].nunique()}\")\n",
    "print(f\"📈 Colunas: {df_economatica_sem_nulos.shape[1]}\")\n",
    "\n",
    "# Resumo das colunas\n",
    "print(f\"\\n📋 RESUMO DAS COLUNAS:\")\n",
    "colunas_por_tipo = {\n",
    "    'Identificação': ['nome', 'codigo'],\n",
    "    'Categóricas': ['setor'],\n",
    "    'Temporais': ['ano', 'pandemia'],\n",
    "    'Target': ['variacao_valor_mercado'],\n",
    "    'Features Financeiras': [col for col in df_economatica_sem_nulos.columns \n",
    "                           if col not in ['nome', 'codigo', 'setor', 'ano', 'pandemia', 'variacao_valor_mercado']]\n",
    "}\n",
    "\n",
    "for tipo, colunas in colunas_por_tipo.items():\n",
    "    colunas_existentes = [col for col in colunas if col in df_economatica_sem_nulos.columns]\n",
    "    print(f\"  - {tipo}: {len(colunas_existentes)} colunas\")\n",
    "\n",
    "print(f\"\\n🔍 VERIFICAÇÕES FINAIS:\")\n",
    "print(f\"  - Valores nulos: {df_economatica_sem_nulos.isnull().sum().sum()}\")\n",
    "print(f\"  - Linhas duplicadas: {df_economatica_sem_nulos.duplicated().sum()}\")\n",
    "print(f\"  - Registros por empresa: {df_economatica_sem_nulos['codigo'].value_counts().unique()}\")\n",
    "\n",
    "# Mostra amostra dos dados\n",
    "print(f\"\\n👀 AMOSTRA DOS DADOS:\")\n",
    "print(df_economatica_sem_nulos.head())\n",
    "\n",
    "print(f\"\\n📁 Arquivo salvo com sucesso!\")\n",
    "print(f\"   Caminho: {caminho_csv_limpo}\")\n",
    "print(f\"   Tamanho estimado: ~{df_economatica_sem_nulos.memory_usage(deep=True).sum() / 1024 / 1024:.2f} MB\")"
   ]
  },
  {
   "cell_type": "markdown",
   "metadata": {},
   "source": [
    "# Análise exploratória"
   ]
  },
  {
   "cell_type": "code",
   "execution_count": null,
   "metadata": {},
   "outputs": [],
   "source": [
    "df_economatica_eda = df_economatica_sem_nulos.copy()\n",
    "df_economatica_eda.reset_index(drop=True, inplace=True)"
   ]
  },
  {
   "cell_type": "markdown",
   "metadata": {},
   "source": [
    "## Estatística descritiva"
   ]
  },
  {
   "cell_type": "markdown",
   "metadata": {},
   "source": [
    "Vamos tentar identificar grande esparcidade nos dados."
   ]
  },
  {
   "cell_type": "code",
   "execution_count": null,
   "metadata": {},
   "outputs": [],
   "source": [
    "df_economatica_eda.describe()"
   ]
  },
  {
   "cell_type": "code",
   "execution_count": null,
   "metadata": {},
   "outputs": [],
   "source": [
    "# Iterando sobre todas as colunas numéricas e mostrando min, max e média\n",
    "print(\"=== ESTATÍSTICAS DAS COLUNAS NUMÉRICAS ===\\n\")\n",
    "\n",
    "colunas_numericas = [col for col in df_economatica_eda.columns if col not in ['nome', 'codigo', 'setor', 'pandemia', 'ano']]\n",
    "\n",
    "print(f\"Total de colunas numéricas encontradas: {len(colunas_numericas)}\\n\")\n",
    "print(\"-\" * 80)\n",
    "\n",
    "for i, coluna in enumerate(colunas_numericas, 1):\n",
    "    print(f\"{i:2d}. Coluna: {coluna}\")\n",
    "    print(f\"    Mínimo: {df_economatica_eda[coluna].min():.4f}\")\n",
    "    print(f\"    Máximo: {df_economatica_eda[coluna].max():.4f}\")\n",
    "    print(f\"    Média:  {df_economatica_eda[coluna].mean():.4f}\")\n",
    "    print(f\"    Amplitude total: {(df_economatica_eda[coluna].max() - df_economatica_eda[coluna].min()):.4f}\")\n",
    "    print(f\"    Variância: {df_economatica_eda[coluna].var(ddof=1):.4f}\")\n",
    "    print(f\"    Desvio padrão: {df_economatica_eda[coluna].std(ddof=0):.4f}\")\n",
    "    print(f\"    Assimetria:  {df_economatica_eda[coluna].skew():.4f}\")\n",
    "    print(f\"    Curtose:  {df_economatica_eda[coluna].kurtosis():.4f}\")\n",
    "    print(\"-\" * 40)"
   ]
  },
  {
   "cell_type": "markdown",
   "metadata": {},
   "source": [
    "Sobre cada variável:\n",
    "- **Mínimo:** Representa o menor valor dessa coluna no dataframe.\n",
    "- **Máximo:** Representa o maior valor dessa coluna no dataframe.\n",
    "- **Média:** Representa a média aritmética de todos os valores da coluna.\n",
    "- **Amplitude total:** Representa a diferença entre o valor máximo e mínimo da coluna (max - min), indicando a dispersão dos dados.\n",
    "- **Variância:** Mede o grau de dispersão dos dados em relação à média. Valores altos indicam maior variabilidade.\n",
    "- **Desvio Padrão:** Representa a raiz quadrada da variância, medindo a dispersão dos dados em relação à média na mesma unidade dos dados originais. Quanto maior o desvio padrão, mais dispersos estão os dados.\n",
    "- **Assimetria (Skewness):** Mede a assimetria da distribuição dos dados:\n",
    "  - Valor = 0: distribuição simétrica\n",
    "  - Valor > 0: assimetria positiva (cauda à direita)\n",
    "  - Valor < 0: assimetria negativa (cauda à esquerda)\n",
    "- **Curtose (Kurtosis):** Mede o \"achatamento\" da distribuição:\n",
    "  - Valor = 0: distribuição normal (mesocúrtica)\n",
    "  - Valor > 0: distribuição mais pontiaguda (leptocúrtica)\n",
    "  - Valor < 0: distribuição mais achatada (platicúrtica)"
   ]
  },
  {
   "cell_type": "markdown",
   "metadata": {},
   "source": [
    "## Distribuição dos dados"
   ]
  },
  {
   "cell_type": "markdown",
   "metadata": {},
   "source": [
    "Atravé sda visualização dos resultados acima, podemos dizer que todas as colunas possui uma assimetria enorme, contendo uma esparsidade dos dados enorme."
   ]
  },
  {
   "cell_type": "markdown",
   "metadata": {},
   "source": [
    "### Scatterplot"
   ]
  },
  {
   "cell_type": "code",
   "execution_count": null,
   "metadata": {},
   "outputs": [],
   "source": [
    "\n",
    "def criar_scatterplot(coluna_y):\n",
    "    \"\"\"\n",
    "    Cria um gráfico de dispersão usando Plotly\n",
    "    \"\"\"\n",
    "    if not coluna_y:\n",
    "        fig = go.Figure()\n",
    "        fig.update_layout(title=\"Selecione uma coluna para visualizar\")\n",
    "        return fig\n",
    "    \n",
    "    try:\n",
    "        # Remove valores nulos da coluna selecionada\n",
    "        dados_limpos = df_economatica_eda[coluna_y].dropna()\n",
    "        \n",
    "        if dados_limpos.empty:\n",
    "            fig = go.Figure()\n",
    "            fig.update_layout(title=\"Sem dados disponíveis para esta coluna\")\n",
    "            return fig\n",
    "        \n",
    "        # Cria índices correspondentes aos dados válidos\n",
    "        indices = dados_limpos.index\n",
    "        \n",
    "        # Cria figura Plotly\n",
    "        fig = go.Figure()\n",
    "        \n",
    "        # Adiciona scatter plot\n",
    "        fig.add_trace(go.Scatter(\n",
    "            x=indices,\n",
    "            y=dados_limpos.values,\n",
    "            mode='markers',\n",
    "            name=coluna_y,\n",
    "            marker=dict(\n",
    "                size=6,\n",
    "                color=GRADIO_PRIMARY,\n",
    "                line=dict(\n",
    "                    width=1,\n",
    "                    color=GRADIO_BORDER\n",
    "                )\n",
    "            ),\n",
    "            hovertemplate=f'<b>Índice</b>: %{{x}}<br><b>{coluna_y}</b>: %{{y:.4f}}<extra></extra>'\n",
    "        ))\n",
    "        \n",
    "        # Layout\n",
    "        fig.update_layout(\n",
    "            title=f'Distribuição de {coluna_y} por Índice',\n",
    "            xaxis_title='Índice',\n",
    "            yaxis_title=coluna_y,\n",
    "            height=500,\n",
    "            showlegend=False,\n",
    "            hovermode='closest',\n",
    "            xaxis=dict(\n",
    "                showgrid=True,\n",
    "                gridwidth=1,\n",
    "                gridcolor=GRADIO_BORDER\n",
    "            ),\n",
    "            yaxis=dict(\n",
    "                showgrid=True,\n",
    "                gridwidth=1,\n",
    "                gridcolor=GRADIO_BORDER\n",
    "            )\n",
    "        )\n",
    "        \n",
    "        return fig\n",
    "        \n",
    "    except Exception as e:\n",
    "        fig = go.Figure()\n",
    "        fig.update_layout(title=f\"Erro ao gerar gráfico: {str(e)}\")\n",
    "        return fig\n",
    "\n",
    "# Interface Gradio com Plotly\n",
    "with gr.Blocks(title=\"Análise de Dispersão\") as interface_scatterplot:\n",
    "    \n",
    "    # Controle superior\n",
    "    dropdown_y = gr.Dropdown(\n",
    "        choices=colunas_numericas, \n",
    "        label=\"Selecione a coluna para visualizar (Eixo Y)\",\n",
    "        value=colunas_numericas[0] if colunas_numericas else None,\n",
    "    )\n",
    "    \n",
    "    # Gráfico Plotly\n",
    "    scatter_plot = gr.Plot(\n",
    "        value=criar_scatterplot(colunas_numericas[0] if colunas_numericas else None),\n",
    "        show_label=False\n",
    "    )\n",
    "    \n",
    "    # Event handlers\n",
    "    dropdown_y.change(\n",
    "        fn=criar_scatterplot,\n",
    "        inputs=dropdown_y,\n",
    "        outputs=scatter_plot\n",
    "    )\n",
    "\n",
    "# Lança a interface\n",
    "interface_scatterplot.launch(share=False, debug=False, inbrowser=False, quiet=True)"
   ]
  },
  {
   "cell_type": "markdown",
   "metadata": {},
   "source": [
    "Com o Dataframe reordenado, iremos selecionar um range para cada coluna, para que possamos obter os registros traçados como outliers. Nessa etapa iremos selecionar somente os causadores da esparcidade extrema, como mostrado nos histogramas abaixo."
   ]
  },
  {
   "cell_type": "markdown",
   "metadata": {},
   "source": [
    "### Histograma"
   ]
  },
  {
   "cell_type": "code",
   "execution_count": null,
   "metadata": {},
   "outputs": [],
   "source": [
    "def criar_histograma(coluna_selecionada, num_bins=20):\n",
    "    \"\"\"\n",
    "    Cria um gráfico Plotly combinando histograma e curva de distribuição normal\n",
    "    \"\"\"\n",
    "    if not coluna_selecionada:\n",
    "        fig = go.Figure()\n",
    "        fig.update_layout(title=\"Selecione uma coluna para visualizar\")\n",
    "        return fig\n",
    "    \n",
    "    try:\n",
    "        # Remove valores nulos\n",
    "        dados = df_economatica_eda[coluna_selecionada].dropna()\n",
    "        \n",
    "        if dados.empty:\n",
    "            fig = go.Figure()\n",
    "            fig.update_layout(title=\"Sem dados disponíveis para esta coluna\")\n",
    "            return fig\n",
    "        \n",
    "        # Cria figura Plotly\n",
    "        fig = go.Figure()\n",
    "        \n",
    "        # Calcula os bins do histograma primeiro para obter a escala correta\n",
    "        counts, bin_edges = np.histogram(dados, bins=num_bins)\n",
    "        bin_width = bin_edges[1] - bin_edges[0]\n",
    "        \n",
    "        # Adiciona histograma\n",
    "        fig.add_trace(go.Histogram(\n",
    "            x=dados,\n",
    "            nbinsx=num_bins,\n",
    "            name='Frequência',\n",
    "            marker_color=GRADIO_PRIMARY,\n",
    "            marker_line_color=GRADIO_BORDER,\n",
    "            marker_line_width=1\n",
    "        ))\n",
    "        \n",
    "        # Calcula estatísticas da distribuição\n",
    "        mu = dados.mean()\n",
    "        sigma = dados.std()\n",
    "        \n",
    "        # Cria pontos para a curva normal\n",
    "        x_min, x_max = dados.min(), dados.max()\n",
    "        x_curva = np.linspace(x_min, x_max, 200)\n",
    "        y_curva_norm = stats.norm.pdf(x_curva, mu, sigma)\n",
    "        \n",
    "        # Escala a curva normal para corresponder ao histograma\n",
    "        # Multiplica pela área total do histograma (número de observações * largura do bin)\n",
    "        y_curva_scaled = y_curva_norm * len(dados) * bin_width\n",
    "        \n",
    "        # Adiciona curva normal escalada\n",
    "        fig.add_trace(go.Scatter(\n",
    "            x=x_curva,\n",
    "            y=y_curva_scaled,\n",
    "            mode='lines',\n",
    "            name='Curva Normal',\n",
    "            line=dict(color=GRADIO_SECONDARY, width=3)\n",
    "        ))\n",
    "        \n",
    "        # Layout usando tema configurado globalmente\n",
    "        fig.update_layout(\n",
    "            title=f'Distribuição de {coluna_selecionada}',\n",
    "            xaxis_title='Valores',\n",
    "            yaxis_title='Frequência',\n",
    "            height=500,\n",
    "            showlegend=True,\n",
    "            legend=dict(\n",
    "                orientation=\"h\",\n",
    "                yanchor=\"bottom\",\n",
    "                y=1.02,\n",
    "                xanchor=\"center\",\n",
    "                x=0.5\n",
    "            )\n",
    "        )\n",
    "        \n",
    "        return fig\n",
    "        \n",
    "    except Exception as e:\n",
    "        # Se der erro, retorna figura vazia com mensagem\n",
    "        fig = go.Figure()\n",
    "        fig.update_layout(title=f\"Erro ao gerar gráfico: {str(e)}\")\n",
    "        return fig\n",
    "\n",
    "def resetar_bins():\n",
    "    \"\"\"Retorna valor padrão para bins\"\"\"\n",
    "    return 20\n",
    "\n",
    "# Interface Gradio Simplificada\n",
    "with gr.Blocks(title=\"Análise de Distribuição\") as interface_histograma:\n",
    "    \n",
    "    # Controles superiores\n",
    "    with gr.Row():\n",
    "        dropdown_coluna = gr.Dropdown(\n",
    "            choices=colunas_numericas,\n",
    "            label=\"Selecione a Variável\",\n",
    "            value=colunas_numericas[0] if colunas_numericas else None,\n",
    "            scale=2,\n",
    "        )\n",
    "        \n",
    "        slider_bins = gr.Slider(\n",
    "            minimum=3,\n",
    "            maximum=50,\n",
    "            value=20,\n",
    "            step=1,\n",
    "            label=\"Número de Bins\",\n",
    "            scale=1,\n",
    "        )\n",
    "    \n",
    "    # Gráfico\n",
    "    histograma = gr.Plot(\n",
    "        value=criar_histograma(colunas_numericas[0] if colunas_numericas else None, 20),\n",
    "        show_label=False\n",
    "    )\n",
    "    \n",
    "    # Event handlers\n",
    "    dropdown_coluna.change(\n",
    "        fn=lambda col, bins: criar_histograma(col, bins),\n",
    "        inputs=[dropdown_coluna, slider_bins],\n",
    "        outputs=histograma\n",
    "    )\n",
    "    \n",
    "    slider_bins.change(\n",
    "        fn=lambda col, bins: criar_histograma(col, bins),\n",
    "        inputs=[dropdown_coluna, slider_bins],\n",
    "        outputs=histograma\n",
    "    )\n",
    "    \n",
    "# Lança a interface\n",
    "interface_histograma.launch(share=False, debug=False, inbrowser=False, quiet=True)"
   ]
  },
  {
   "cell_type": "markdown",
   "metadata": {},
   "source": [
    "### Boxplot"
   ]
  },
  {
   "cell_type": "code",
   "execution_count": null,
   "metadata": {},
   "outputs": [],
   "source": [
    "def criar_boxplot(coluna_y, mostrar_outliers=True, escala_log=False):\n",
    "    \"\"\"\n",
    "    Cria um gráfico boxplot usando Plotly\n",
    "    \n",
    "    Args:\n",
    "        coluna_y (str): Nome da coluna para visualizar no eixo Y\n",
    "        mostrar_outliers (bool): Se True, mostra os outliers no boxplot\n",
    "        escala_log (bool): Se True, usa escala logarítmica no eixo Y\n",
    "        \n",
    "    Returns:\n",
    "        go.Figure: Figura Plotly com o boxplot\n",
    "    \"\"\"\n",
    "    if not coluna_y:\n",
    "        fig = go.Figure()\n",
    "        fig.update_layout(title=\"Selecione uma coluna para visualizar\")\n",
    "        return fig\n",
    "    \n",
    "    try:\n",
    "        # Remove valores nulos da coluna selecionada\n",
    "        dados_limpos = df_economatica_eda[coluna_y].dropna()\n",
    "        \n",
    "        if dados_limpos.empty:\n",
    "            fig = go.Figure()\n",
    "            fig.update_layout(title=\"Sem dados disponíveis para esta coluna\")\n",
    "            return fig\n",
    "        \n",
    "        # Verificar se os dados são compatíveis com escala logarítmica\n",
    "        tem_valores_negativos = (dados_limpos <= 0).any()\n",
    "        escala_incompativel = False\n",
    "        \n",
    "        if escala_log and tem_valores_negativos:\n",
    "            escala_incompativel = True\n",
    "            escala_log = False\n",
    "        \n",
    "        # Agrupar por ano para comparar distribuição por ano\n",
    "        df_agrupado = df_economatica_eda.dropna(subset=[coluna_y])\n",
    "        anos = sorted(df_agrupado['ano'].unique())\n",
    "        \n",
    "        # Cria figura Plotly\n",
    "        fig = go.Figure()\n",
    "        \n",
    "        # Adiciona um boxplot para cada ano\n",
    "        for ano in anos:\n",
    "            dados_ano = df_agrupado[df_agrupado['ano'] == ano][coluna_y]\n",
    "            \n",
    "            if not dados_ano.empty:\n",
    "                fig.add_trace(go.Box(\n",
    "                    y=dados_ano,\n",
    "                    name=f'Ano {ano}',\n",
    "                    boxpoints='outliers' if mostrar_outliers else False,\n",
    "                    jitter=0.3,\n",
    "                    pointpos=-1.8,\n",
    "                    marker=dict(\n",
    "                        color=GRADIO_PRIMARY,\n",
    "                        line=dict(width=1, color=GRADIO_BORDER)\n",
    "                    ),\n",
    "                    line=dict(color=GRADIO_SECONDARY),\n",
    "                    fillcolor='rgba(255, 255, 255, 0.1)',\n",
    "                    hoverinfo='y+name',\n",
    "                    hovertemplate=f'<b>Ano</b>: %{{name}}<br><b>{coluna_y}</b>: %{{y:.4f}}<extra></extra>'\n",
    "                ))\n",
    "        \n",
    "        # Layout usando tema configurado globalmente\n",
    "        titulo = f'Boxplot de {coluna_y} por Ano'\n",
    "        if escala_log:\n",
    "            titulo += \" (Escala Log)\"\n",
    "        elif escala_incompativel:\n",
    "            titulo += \" ⚠️ Escala Log não aplicável: dados contêm valores ≤ 0\"\n",
    "            \n",
    "        fig.update_layout(\n",
    "            title=titulo,\n",
    "            yaxis_title=coluna_y,\n",
    "            height=600,\n",
    "            showlegend=False,\n",
    "            boxmode='group',\n",
    "            boxgap=0.1,\n",
    "            boxgroupgap=0.2,\n",
    "            yaxis=dict(\n",
    "                showgrid=True,\n",
    "                gridwidth=1,\n",
    "                gridcolor=GRADIO_BORDER,\n",
    "                zeroline=True,\n",
    "                zerolinecolor=GRADIO_BORDER,\n",
    "                zerolinewidth=1,\n",
    "                type='log' if escala_log else 'linear'\n",
    "            )\n",
    "        )\n",
    "        \n",
    "        return fig\n",
    "        \n",
    "    except Exception as e:\n",
    "        fig = go.Figure()\n",
    "        fig.update_layout(title=f\"Erro ao gerar gráfico: {str(e)}\")\n",
    "        return fig\n",
    "\n",
    "# Interface Gradio com Plotly - com layout melhorado\n",
    "with gr.Blocks(title=\"Análise de Boxplot\") as interface_boxplot:\n",
    "    \n",
    "    # Todos os controles na mesma linha, alinhados verticalmente\n",
    "    with gr.Row(equal_height=True, variant=\"panel\"):\n",
    "        with gr.Column(scale=2):\n",
    "            dropdown_y = gr.Dropdown(\n",
    "                choices=colunas_numericas, \n",
    "                label=\"Selecione a coluna para visualizar\",\n",
    "                value=colunas_numericas[0] if colunas_numericas else None,\n",
    "            )\n",
    "            \n",
    "        with gr.Column(scale=1):\n",
    "            mostrar_outliers = gr.Checkbox(\n",
    "                label=\"Mostrar Outliers\",\n",
    "                value=True,\n",
    "            )\n",
    "            \n",
    "            escala_log = gr.Checkbox(\n",
    "                label=\"Escala Logarítmica\",\n",
    "                value=False,\n",
    "            )\n",
    "    \n",
    "    # Gráfico Plotly\n",
    "    boxplot_plot = gr.Plot(\n",
    "        value=criar_boxplot(\n",
    "            colunas_numericas[0] if colunas_numericas else None,\n",
    "            True,\n",
    "            False\n",
    "        ),\n",
    "        show_label=False\n",
    "    )\n",
    "    \n",
    "    # Event handlers\n",
    "    dropdown_y.change(\n",
    "        fn=criar_boxplot,\n",
    "        inputs=[dropdown_y, mostrar_outliers, escala_log],\n",
    "        outputs=boxplot_plot\n",
    "    )\n",
    "    \n",
    "    mostrar_outliers.change(\n",
    "        fn=criar_boxplot,\n",
    "        inputs=[dropdown_y, mostrar_outliers, escala_log],\n",
    "        outputs=boxplot_plot\n",
    "    )\n",
    "    \n",
    "    escala_log.change(\n",
    "        fn=criar_boxplot,\n",
    "        inputs=[dropdown_y, mostrar_outliers, escala_log],\n",
    "        outputs=boxplot_plot\n",
    "    )\n",
    "\n",
    "# Lança a interface\n",
    "interface_boxplot.launch(share=False, debug=False, inbrowser=False, quiet=True)"
   ]
  },
  {
   "cell_type": "code",
   "execution_count": null,
   "metadata": {},
   "outputs": [],
   "source": [
    "def identificar_outliers_consolidados(df):\n",
    "    \"\"\"\n",
    "    Identifica outliers em todas as colunas numéricas usando o método IQR\n",
    "    e retorna um DataFrame consolidado com todos os outliers.\n",
    "    \n",
    "    Args:\n",
    "        df (pd.DataFrame): DataFrame com os dados\n",
    "        \n",
    "    Returns:\n",
    "        pd.DataFrame: DataFrame consolidado com todos os outliers\n",
    "    \"\"\"\n",
    "    # Lista para armazenar todos os outliers\n",
    "    outliers_list = []\n",
    "    \n",
    "    # Identifica colunas numéricas (excluindo identificadores e categóricas)\n",
    "    colunas_numericas = [col for col in df.columns \n",
    "                        if col not in ['nome', 'codigo', 'setor', 'pandemia', 'ano'] \n",
    "                        and df[col].dtype in ['int64', 'float64', 'int32', 'float32']]\n",
    "    \n",
    "    print(f\"Analisando outliers em {len(colunas_numericas)} colunas numéricas...\")\n",
    "    \n",
    "    # Para cada coluna numérica, identifica outliers\n",
    "    for coluna in colunas_numericas:\n",
    "        # Calcula quartis e IQR\n",
    "        Q1 = df[coluna].quantile(0.25)\n",
    "        Q3 = df[coluna].quantile(0.75)\n",
    "        IQR = Q3 - Q1\n",
    "        \n",
    "        # Define limites para outliers\n",
    "        limite_inferior = Q1 - 1.5 * IQR\n",
    "        limite_superior = Q3 + 1.5 * IQR\n",
    "        \n",
    "        # Identifica registros que são outliers\n",
    "        outliers_mask = (df[coluna] < limite_inferior) | (df[coluna] > limite_superior)\n",
    "        outliers_df = df[outliers_mask].copy()\n",
    "        \n",
    "        if not outliers_df.empty:\n",
    "            # Para cada outlier, adiciona à lista\n",
    "            for idx, row in outliers_df.iterrows():\n",
    "                outliers_list.append({\n",
    "                    'codigo': row['codigo'] if 'codigo' in df.columns else None,\n",
    "                    'nome': row['nome'] if 'nome' in df.columns else None,\n",
    "                    'setor': row['setor'] if 'setor' in df.columns else None,\n",
    "                    'ano': row['ano'] if 'ano' in df.columns else None,\n",
    "                    'variavel': coluna,\n",
    "                    'valor': row[coluna],\n",
    "                    'limite_inferior': limite_inferior,\n",
    "                    'limite_superior': limite_superior,\n",
    "                    'is_baixo': row[coluna] < limite_inferior,\n",
    "                    'is_alto': row[coluna] > limite_superior\n",
    "                })\n",
    "    \n",
    "    # Cria DataFrame com todos os outliers\n",
    "    outliers_consolidados = pd.DataFrame(outliers_list)\n",
    "    \n",
    "    print(f\"Total de outliers identificados: {len(outliers_consolidados)}\")\n",
    "    print(f\"Em {outliers_consolidados['variavel'].nunique()} variáveis diferentes\")\n",
    "    if 'codigo' in df.columns:\n",
    "        print(f\"Afetando {outliers_consolidados['codigo'].nunique()} códigos únicos\")\n",
    "    \n",
    "    return outliers_consolidados"
   ]
  },
  {
   "cell_type": "code",
   "execution_count": null,
   "metadata": {},
   "outputs": [],
   "source": [
    "# Cria o DataFrame de outliers\n",
    "df_economatica_outliers = identificar_outliers_consolidados(df_economatica_eda)\n",
    "\n",
    "# Mostra resumo dos outliers por variável\n",
    "print(\"\\n=== RESUMO DOS OUTLIERS POR VARIÁVEL ===\")\n",
    "resumo_outliers = df_economatica_outliers.groupby('variavel').size().sort_values(ascending=False)\n",
    "print(resumo_outliers)\n",
    "\n",
    "# Verifica quais empresas têm mais outliers\n",
    "if 'codigo' in df_economatica_eda.columns:\n",
    "    print(\"\\n=== EMPRESAS COM MAIS OUTLIERS ===\")\n",
    "    top_empresas = df_economatica_outliers['codigo'].value_counts().head(10)\n",
    "    print(top_empresas)"
   ]
  },
  {
   "cell_type": "markdown",
   "metadata": {},
   "source": [
    "É, dado a quantidade de registros que temos, o ideal é não tratar mesmo..."
   ]
  },
  {
   "cell_type": "markdown",
   "metadata": {},
   "source": [
    "## Insights"
   ]
  },
  {
   "cell_type": "markdown",
   "metadata": {
    "id": "HYuJdprXX9CU"
   },
   "source": [
    "# Pré-processamento dos dados"
   ]
  },
  {
   "cell_type": "markdown",
   "metadata": {},
   "source": [
    "## Normalização dos nomes das colunas"
   ]
  },
  {
   "cell_type": "markdown",
   "metadata": {},
   "source": [
    "Criado funções para resolver problemas de duplicação de colunas e padronização nos nomes das colunas, serão utilizadas em breve."
   ]
  },
  {
   "cell_type": "code",
   "execution_count": null,
   "metadata": {},
   "outputs": [],
   "source": [
    "def slugify(txt: str) -> str:\n",
    "    \"\"\"\n",
    "    Converte uma string para um formato \"slug\", amigável para nomes de coluna.\n",
    "    Remove acentos, substitui caracteres não alfanuméricos por underscores\n",
    "    e limpa underscores extras.\n",
    "\n",
    "    Args:\n",
    "        txt (str): A string de entrada.\n",
    "\n",
    "    Returns:\n",
    "        str: A string convertida para formato slug, ou \"missing\" se a entrada for nula ou vazia após a limpeza.\n",
    "    \"\"\"\n",
    "    if txt is None:\n",
    "        return \"missing\"\n",
    "    txt = f'setor_{str(txt).lower().strip()}'\n",
    "    # remover acentos\n",
    "    txt = unicodedata.normalize(\"NFKD\", txt).encode(\"ascii\", \"ignore\").decode(\"ascii\")\n",
    "    # trocar não-alfanuméricos por \"_\"\n",
    "    txt = re.sub(r\"[^a-z0-9]+\", \"_\", txt)\n",
    "    # limpar underscores duplicados e bordas\n",
    "    txt = re.sub(r\"_+\", \"_\", txt).strip(\"_\")\n",
    "    return txt or \"missing\""
   ]
  },
  {
   "cell_type": "markdown",
   "metadata": {
    "id": "UTzB5Cq7eeUV"
   },
   "source": [
    "## Gera CSV com os setores para agrupamento manual"
   ]
  },
  {
   "cell_type": "code",
   "execution_count": null,
   "metadata": {},
   "outputs": [],
   "source": [
    "# Aplica slugify na coluna setor ANTES de filtrar e gerar o CSV\n",
    "df_economatica_sem_nulos_slugified = df_economatica_sem_nulos.copy()\n",
    "df_economatica_sem_nulos_slugified['setor'] = df_economatica_sem_nulos_slugified['setor'].apply(slugify)\n",
    "\n",
    "# Filtra dados de 2020 e extrai setores únicos (agora já com slugify aplicado)\n",
    "df_setores_2020 = df_economatica_sem_nulos_slugified[df_economatica_sem_nulos_slugified['ano'] == 2020][['setor']].drop_duplicates()\n",
    "\n",
    "# Define o caminho baseado no ambiente\n",
    "if is_colab:\n",
    "    caminho_arquivo = '/content/setores_economatica_2020.csv'\n",
    "else:\n",
    "    os.makedirs('../datasets', exist_ok=True)\n",
    "    caminho_arquivo = '../datasets/setores_economatica_2020.csv'\n",
    "\n",
    "# Exporta o CSV\n",
    "df_setores_2020.to_csv(caminho_arquivo, index=False, encoding='utf-8')\n",
    "\n",
    "print(f\"✅ CSV exportado: {caminho_arquivo}\")\n",
    "print(f\"📊 {len(df_setores_2020)} empresas | {df_setores_2020['setor'].nunique()} setores únicos\")\n",
    "print(f\"\\nPrimeiras linhas:\")\n",
    "print(df_setores_2020.head())"
   ]
  },
  {
   "cell_type": "markdown",
   "metadata": {
    "id": "zBjkxhAwffQ9"
   },
   "source": [
    "## Upa CSV com os setores agrupados e substitui os setores através do mapeamento dos grupos"
   ]
  },
  {
   "cell_type": "code",
   "execution_count": null,
   "metadata": {},
   "outputs": [],
   "source": [
    "# URL do CSV com o mapeamento dos setores\n",
    "url_mapeamento = 'https://drive.google.com/file/d/1ITrtp7GsfZi9eZVTDQgro8fMu23zZu0w/view' \n",
    "\n",
    "# Define o caminho baseado no ambiente\n",
    "if is_colab:\n",
    "    output_mapeamento = '/content/mapeamento_setores.csv'\n",
    "else:\n",
    "    output_mapeamento = '../datasets/mapeamento_setores.csv'\n",
    "\n",
    "# Baixa o arquivo de mapeamento\n",
    "print(f\"Baixando mapeamento de setores para: {output_mapeamento}\")\n",
    "gdown.download(url_mapeamento, output_mapeamento, fuzzy=True)\n",
    "\n",
    "# Carrega o CSV de mapeamento\n",
    "df_mapeamento = pd.read_csv(output_mapeamento, encoding='utf-8')"
   ]
  },
  {
   "cell_type": "code",
   "execution_count": null,
   "metadata": {},
   "outputs": [],
   "source": [
    "print(\"CSV de mapeamento carregado:\")\n",
    "print(df_mapeamento.head())\n",
    "print(f\"\\nShape: {df_mapeamento.shape}\")\n",
    "print(f\"Colunas: {list(df_mapeamento.columns)}\")\n",
    "\n",
    "# Cria o dicionário de mapeamento setor -> grupo\n",
    "mapeamento_setores = dict(zip(df_mapeamento['setor'], df_mapeamento['grupo']))\n",
    "\n",
    "print(f\"\\nMapeamento criado com {len(mapeamento_setores)} setores:\")\n",
    "for setor, grupo in list(mapeamento_setores.items())[:5]:  # Mostra apenas os primeiros 5\n",
    "    print(f\"  {setor} -> {grupo}\")"
   ]
  },
  {
   "cell_type": "code",
   "execution_count": null,
   "metadata": {},
   "outputs": [],
   "source": [
    "# Aplica slugify na coluna setor do DataFrame principal antes do mapeamento\n",
    "df_pre_processado = df_economatica_sem_nulos.copy()\n",
    "\n",
    "df_pre_processado['setor'] = df_pre_processado['setor'].apply(slugify)\n",
    "\n",
    "df_pre_processado.head(50)"
   ]
  },
  {
   "cell_type": "code",
   "execution_count": null,
   "metadata": {},
   "outputs": [],
   "source": [
    "# Aplica o mapeamento no DataFrame principal\n",
    "df_pre_processado['setor'] = df_pre_processado['setor'].map(mapeamento_setores)\n",
    "\n",
    "df_pre_processado.head(50)"
   ]
  },
  {
   "cell_type": "code",
   "execution_count": null,
   "metadata": {
    "id": "sYYhYFIffS96"
   },
   "outputs": [],
   "source": [
    "# Verifica se há setores não mapeados (NaN)\n",
    "setores_nao_mapeados = df_pre_processado['setor'].isnull().sum()\n",
    "if setores_nao_mapeados > 0:\n",
    "    print(f\"\\n⚠️ Atenção: {setores_nao_mapeados} registros com setores não mapeados\")\n",
    "    setores_perdidos = df_pre_processado[df_pre_processado['setor'].isnull()]['codigo'].unique()\n",
    "    print(f\"Códigos afetados: {setores_perdidos[:5]}...\")\n",
    "else:\n",
    "    print(\"\\n✅ Todos os setores foram mapeados com sucesso!\")\n",
    "\n",
    "# Mostra a distribuição dos novos grupos\n",
    "print(f\"\\nDistribuição dos grupos após mapeamento:\")\n",
    "print(df_pre_processado['setor'].value_counts())\n",
    "\n",
    "print(f\"\\nTotal de grupos únicos: {df_pre_processado['setor'].nunique()}\")"
   ]
  },
  {
   "cell_type": "markdown",
   "metadata": {},
   "source": [
    "## Fazendo o label encoding"
   ]
  },
  {
   "cell_type": "code",
   "execution_count": null,
   "metadata": {},
   "outputs": [],
   "source": [
    "# Inicia o label encoder\n",
    "le = LabelEncoder()\n",
    "\n",
    "# Executa o label encoder na coluna setor\n",
    "df_pre_processado['setor'] = le.fit_transform(df_pre_processado['setor'])\n",
    "df_pre_processado['codigo'] = le.fit_transform(df_pre_processado['codigo'])\n",
    "\n",
    "print(\"Category Mapping:\", le.classes_)"
   ]
  },
  {
   "cell_type": "code",
   "execution_count": null,
   "metadata": {},
   "outputs": [],
   "source": [
    "df_pre_processado.head(50)"
   ]
  },
  {
   "cell_type": "markdown",
   "metadata": {},
   "source": [
    "## Removendo a coluna nome, codigo e ano"
   ]
  },
  {
   "cell_type": "code",
   "execution_count": null,
   "metadata": {},
   "outputs": [],
   "source": [
    "df_pre_processado.drop(columns=['nome', 'codigo', 'ano'], inplace=True)"
   ]
  },
  {
   "cell_type": "markdown",
   "metadata": {},
   "source": [
    "## Normalizando os dados"
   ]
  },
  {
   "cell_type": "code",
   "execution_count": null,
   "metadata": {},
   "outputs": [],
   "source": [
    "from sklearn.preprocessing import MinMaxScaler\n",
    "import warnings\n",
    "warnings.filterwarnings('ignore')\n",
    "\n",
    "def aplicar_minmax_normalizacao(df):\n",
    "    \"\"\"\n",
    "    Aplica MinMaxScaler (0-1) para todas as features numéricas.\n",
    "    Preserva colunas categóricas e identificadoras.\n",
    "    \"\"\"\n",
    "    print(\"=== NORMALIZAÇÃO MINMAX (0-1) ===\\n\")\n",
    "    \n",
    "    df_normalizado = df.copy()\n",
    "    \n",
    "    # Identifica colunas numéricas para normalizar\n",
    "    colunas_numericas = [col for col in df.columns \n",
    "                        if col not in ['setor', 'ano', 'pandemia', 'variacao_valor_mercado'] \n",
    "                        and df[col].dtype in ['int64', 'float64', 'int32', 'float32']]\n",
    "    \n",
    "    print(f\"🔧 Normalizando {len(colunas_numericas)} features numéricas...\")\n",
    "    \n",
    "    # Aplica MinMaxScaler\n",
    "    scaler = MinMaxScaler()\n",
    "    \n",
    "    # Transforma apenas as colunas numéricas\n",
    "    df_normalizado[colunas_numericas] = scaler.fit_transform(df_normalizado[colunas_numericas])\n",
    "    \n",
    "    print(f\"✅ Normalização concluída!\")\n",
    "    print(f\"   - Todas as features estão na escala [0, 1]\")\n",
    "    print(f\"   - Colunas preservadas: setor, ano, pandemia, variacao_valor_mercado\")\n",
    "    \n",
    "    # Estatísticas pós-normalização\n",
    "    print(f\"\\n📊 VERIFICAÇÃO PÓS-NORMALIZAÇÃO:\")\n",
    "    stats_pos = df_normalizado[colunas_numericas].describe()\n",
    "    print(f\"   - Valor mínimo global: {stats_pos.loc['min'].min():.6f}\")\n",
    "    print(f\"   - Valor máximo global: {stats_pos.loc['max'].max():.6f}\")\n",
    "    print(f\"   - Média das médias: {stats_pos.loc['mean'].mean():.6f}\")\n",
    "    \n",
    "    # Mostra amostra das primeiras features normalizadas\n",
    "    print(f\"\\n👀 AMOSTRA DAS PRIMEIRAS 5 FEATURES NORMALIZADAS:\")\n",
    "    for col in colunas_numericas[:5]:\n",
    "        valores = df_normalizado[col]\n",
    "        print(f\"   - {col}: min={valores.min():.3f}, max={valores.max():.3f}, mean={valores.mean():.3f}\")\n",
    "    \n",
    "    return df_normalizado, scaler, colunas_numericas\n",
    "\n",
    "def comparar_antes_depois_minmax(df_original, df_normalizado, colunas_numericas):\n",
    "    \"\"\"\n",
    "    Compara estatísticas antes e depois da normalização MinMax.\n",
    "    \"\"\"\n",
    "    print(\"\\n=== COMPARAÇÃO ANTES vs DEPOIS ===\\n\")\n",
    "    \n",
    "    print(f\"{'Feature':<20} {'Antes_Min':<12} {'Antes_Max':<12} {'Depois_Min':<12} {'Depois_Max':<12}\")\n",
    "    print(\"-\" * 80)\n",
    "    \n",
    "    for col in colunas_numericas[:10]:  # Mostra apenas as primeiras 10\n",
    "        antes_min = df_original[col].min()\n",
    "        antes_max = df_original[col].max()\n",
    "        depois_min = df_normalizado[col].min()\n",
    "        depois_max = df_normalizado[col].max()\n",
    "        \n",
    "        print(f\"{col:<20} {antes_min:<12.2f} {antes_max:<12.2f} {depois_min:<12.6f} {depois_max:<12.6f}\")\n",
    "    \n",
    "    print(f\"\\n✅ Todas as features foram normalizadas para a escala [0, 1]\")\n",
    "\n",
    "# Aplicar normalização MinMax\n",
    "print(\"=== APLICANDO NORMALIZAÇÃO MINMAX ===\\n\")\n",
    "\n",
    "# Aplicar MinMaxScaler\n",
    "df_pre_processado_normalizado, scaler_usado, features_normalizadas = aplicar_minmax_normalizacao(df_pre_processado)\n",
    "\n",
    "# Comparar antes e depois\n",
    "comparar_antes_depois_minmax(df_pre_processado, df_pre_processado_normalizado, features_normalizadas)\n",
    "\n",
    "# Verificação final\n",
    "print(f\"\\n📋 RESUMO FINAL:\")\n",
    "print(f\"   - Shape do dataset: {df_pre_processado_normalizado.shape}\")\n",
    "print(f\"   - Features normalizadas: {len(features_normalizadas)}\")\n",
    "print(f\"   - Método usado: MinMaxScaler [0, 1]\")\n",
    "print(f\"   - Dados prontos para modelagem: ✅\")\n",
    "\n",
    "# Mostra amostra final\n",
    "print(f\"\\n👀 AMOSTRA DO DATASET NORMALIZADO:\")\n",
    "print(df_pre_processado_normalizado.head())\n",
    "\n",
    "df_pre_processado_normalizado['variacao_valor_mercado'].astype(int)"
   ]
  },
  {
   "cell_type": "markdown",
   "metadata": {},
   "source": [
    "## Gerar o dataset pré-processado"
   ]
  },
  {
   "cell_type": "code",
   "execution_count": null,
   "metadata": {},
   "outputs": [],
   "source": [
    "df_pre_processado_normalizado.head()"
   ]
  },
  {
   "cell_type": "code",
   "execution_count": null,
   "metadata": {},
   "outputs": [],
   "source": [
    "# Gerar CSV do dataset pré-processado e normalizado\n",
    "print(\"=== EXPORTAÇÃO DO DATASET PRÉ-PROCESSADO E NORMALIZADO ===\\n\")\n",
    "\n",
    "# Define o caminho baseado no ambiente\n",
    "if is_colab:\n",
    "    caminho_csv_normalizado = '/content/df_economatica_pre_processado_normalizado.csv'\n",
    "else:\n",
    "    os.makedirs('../datasets', exist_ok=True)\n",
    "    caminho_csv_normalizado = '../datasets/df_economatica_pre_processado_normalizado.csv'\n",
    "\n",
    "# Exporta o CSV\n",
    "df_pre_processado_normalizado.to_csv(caminho_csv_normalizado, index=False, encoding='utf-8')\n",
    "\n",
    "print(f\"✅ Dataset pré-processado e normalizado exportado para: {caminho_csv_normalizado}\")\n",
    "print(f\"📊 Shape do dataset: {df_pre_processado_normalizado.shape}\")\n",
    "print(f\"📅 Período: {df_pre_processado_normalizado['ano'].min()} - {df_pre_processado_normalizado['ano'].max()}\")\n",
    "print(f\"🏢 Empresas únicas: {df_pre_processado_normalizado['setor'].nunique()} setores\")\n",
    "print(f\"📈 Colunas: {df_pre_processado_normalizado.shape[1]}\")\n",
    "\n",
    "# Resumo das colunas por tipo\n",
    "print(f\"\\n📋 RESUMO DAS COLUNAS:\")\n",
    "colunas_por_tipo = {\n",
    "    'Categóricas': ['setor'],\n",
    "    'Temporais': ['ano', 'pandemia'],\n",
    "    'Target': ['variacao_valor_mercado'],\n",
    "    'Features Normalizadas': [col for col in df_pre_processado_normalizado.columns \n",
    "                             if col not in ['setor', 'ano', 'pandemia', 'variacao_valor_mercado']]\n",
    "}\n",
    "\n",
    "for tipo, colunas in colunas_por_tipo.items():\n",
    "    colunas_existentes = [col for col in colunas if col in df_pre_processado_normalizado.columns]\n",
    "    print(f\"  - {tipo}: {len(colunas_existentes)} colunas\")\n",
    "    if tipo == 'Features Normalizadas' and len(colunas_existentes) > 0:\n",
    "        print(f\"    Exemplos: {colunas_existentes[:5]}\")\n",
    "\n",
    "print(f\"\\n🔍 VERIFICAÇÕES FINAIS:\")\n",
    "print(f\"  - Valores nulos: {df_pre_processado_normalizado.isnull().sum().sum()}\")\n",
    "print(f\"  - Linhas duplicadas: {df_pre_processado_normalizado.duplicated().sum()}\")\n",
    "print(f\"  - Registros por empresa (anos): {df_pre_processado_normalizado.groupby('setor').size().describe()}\")\n",
    "\n",
    "# Estatísticas das features normalizadas\n",
    "features_normalizadas = [col for col in df_pre_processado_normalizado.columns \n",
    "                        if col not in ['setor', 'ano', 'pandemia', 'variacao_valor_mercado']]\n",
    "\n",
    "if features_normalizadas:\n",
    "    print(f\"\\n📊 ESTATÍSTICAS DAS FEATURES NORMALIZADAS:\")\n",
    "    stats_normalizadas = df_pre_processado_normalizado[features_normalizadas].describe()\n",
    "    print(f\"  - Valor mínimo global: {stats_normalizadas.loc['min'].min():.6f}\")\n",
    "    print(f\"  - Valor máximo global: {stats_normalizadas.loc['max'].max():.6f}\")\n",
    "    print(f\"  - Média global: {stats_normalizadas.loc['mean'].mean():.6f}\")\n",
    "    print(f\"  - Desvio padrão médio: {stats_normalizadas.loc['std'].mean():.6f}\")\n",
    "\n",
    "# Distribuição da variável target\n",
    "print(f\"\\n🎯 DISTRIBUIÇÃO DA VARIÁVEL TARGET:\")\n",
    "target_dist = df_pre_processado_normalizado['variacao_valor_mercado'].value_counts().sort_index()\n",
    "print(f\"  - Classe 0 (desvalorização): {target_dist.get(0, 0):,} registros\")\n",
    "print(f\"  - Classe 1 (valorização): {target_dist.get(1, 0):,} registros\")\n",
    "if len(target_dist) > 0:\n",
    "    total_validos = target_dist.sum()\n",
    "    print(f\"  - Balanceamento: {(target_dist.get(1, 0) / total_validos * 100):.1f}% valorização\")\n",
    "\n",
    "# Distribuição por ano\n",
    "print(f\"\\n📅 DISTRIBUIÇÃO POR ANO:\")\n",
    "distribuicao_ano = df_pre_processado_normalizado['ano'].value_counts().sort_index()\n",
    "for ano, count in distribuicao_ano.items():\n",
    "    print(f\"  - {ano}: {count:,} registros\")\n",
    "\n",
    "# Mostra amostra dos dados finais\n",
    "print(f\"\\n👀 AMOSTRA DOS DADOS FINAIS:\")\n",
    "print(df_pre_processado_normalizado.head())\n",
    "\n",
    "print(f\"\\n📁 Arquivo salvo com sucesso!\")\n",
    "print(f\"   Caminho: {caminho_csv_normalizado}\")\n",
    "print(f\"   Tamanho estimado: ~{df_pre_processado_normalizado.memory_usage(deep=True).sum() / 1024 / 1024:.2f} MB\")\n",
    "print(f\"   Pronto para modelagem: ✅\")\n",
    "\n",
    "# Informações adicionais para modelagem\n",
    "print(f\"\\n🚀 INFORMAÇÕES PARA MODELAGEM:\")\n",
    "print(f\"  - Todas as features numéricas normalizadas: [0, 1]\")\n",
    "print(f\"  - Setor: Label encoded (categórica)\")\n",
    "print(f\"  - Ano: Numérico (2021-2024)\")\n",
    "print(f\"  - Pandemia: Binária (0/1)\")\n",
    "print(f\"  - Target: Binária (0/1) - Classificação\")\n",
    "print(f\"  - Sem valores nulos\")\n",
    "print(f\"  - Sem duplicatas\")\n",
    "print(f\"  - Dataset balanceado disponível para split treino/teste\")"
   ]
  }
 ],
 "metadata": {
  "colab": {
   "collapsed_sections": [
    "gjrYXg4s3U72",
    "CoA5Cec6Ci3D",
    "Wv3lmdUOEAK8",
    "HYuJdprXX9CU",
    "tWidkFilRP7n",
    "0-kbPSkmWout",
    "DIMkFQiLBkc6"
   ],
   "provenance": [],
   "runtime_attributes": {
    "runtime_version": "2025.07"
   }
  },
  "kernelspec": {
   "display_name": "economatica-eJafRn9J",
   "language": "python",
   "name": "python3"
  },
  "language_info": {
   "codemirror_mode": {
    "name": "ipython",
    "version": 3
   },
   "file_extension": ".py",
   "mimetype": "text/x-python",
   "name": "python",
   "nbconvert_exporter": "python",
   "pygments_lexer": "ipython3",
   "version": "3.11.13"
  }
 },
 "nbformat": 4,
 "nbformat_minor": 0
}
