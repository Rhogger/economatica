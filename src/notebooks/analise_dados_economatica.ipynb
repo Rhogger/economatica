{
 "cells": [
  {
   "cell_type": "markdown",
   "metadata": {
    "id": "P30fzHNnD3QT"
   },
   "source": [
    "# 🚨🚨🚨 LEIA-ME 🚨🚨🚨\n",
    "\n",
    "Se estiver utilizando o Google Colab."
   ]
  },
  {
   "cell_type": "markdown",
   "metadata": {
    "id": "wCZ5V8nnbS4w"
   },
   "source": [
    "Antes de iniciar a execução do código, é importante alterar a versão do runtime para a que possui o Python na versão 3.11.*, que atualmente segue sendo a versão \"2025.07\".\n",
    "\n",
    "Logo abaixo mostro como alterar a versão do Runtime."
   ]
  },
  {
   "cell_type": "markdown",
   "metadata": {
    "id": "dOES4keEbhWl"
   },
   "source": [
    "![Acesse o Runtime](https://i.imgur.com/EOQ8KvA.png)"
   ]
  },
  {
   "cell_type": "markdown",
   "metadata": {
    "id": "XbDDzVIJch7m"
   },
   "source": [
    "Clique no menu Runtime (Ambiente de execução). Vai abrir um dropdown, nele você deve clicar na opção \"Change runtime type\" (Trocar tipo de ambiente de execução)."
   ]
  },
  {
   "cell_type": "markdown",
   "metadata": {
    "id": "0dEASLl5cEuR"
   },
   "source": [
    "![Trocar tipo do Runtime](https://i.imgur.com/XYCBjPZ.png)"
   ]
  },
  {
   "cell_type": "markdown",
   "metadata": {
    "id": "8SFj23X9dBoQ"
   },
   "source": [
    "Vai abrir um modal, nele você deve apenas selecionar a opção no select de \"Runtime version\" (Versões do ambiente de execução) que tenha o nome \"2025.07\".\n",
    "\n",
    "Olhando na [documentação](https://research.google.com/colaboratory/runtime-version-faq.html#2025.07) você pode observar que a versão do python é a que necessitamos (3.11.*)."
   ]
  },
  {
   "cell_type": "markdown",
   "metadata": {
    "id": "6gRwFkmaccbi"
   },
   "source": [
    "![Alterar versão](https://i.imgur.com/kz9XhDD.png)"
   ]
  },
  {
   "cell_type": "markdown",
   "metadata": {
    "id": "o1PN4tvRdklq"
   },
   "source": [
    "O motivo da troca de versão é porque temos dependências que não foram disponiilizadas para as versões mais recentes do python."
   ]
  },
  {
   "cell_type": "markdown",
   "metadata": {
    "id": "x4OliaBGcJjg"
   },
   "source": [
    "![]()"
   ]
  },
  {
   "cell_type": "markdown",
   "metadata": {
    "id": "FxZDIu9EQcTR"
   },
   "source": [
    "# Informações sobre o projeto"
   ]
  },
  {
   "cell_type": "markdown",
   "metadata": {
    "id": "aWWfNAZgQqCn"
   },
   "source": [
    "## Integrantes"
   ]
  },
  {
   "cell_type": "markdown",
   "metadata": {
    "id": "15GP3pGPQrz_"
   },
   "source": [
    "Os integrantes desse projeto são:\n",
    "- [Rhogger Freitas Silva](https://www.linkedin.com/in/rhogger-fs/)\n",
    "- [José Henrique Queiroz de Souza](https://www.linkedin.com/in/josehenriqve/)\n",
    "- [Mateus Abreu da Cunha Nascimento](https://www.linkedin.com/in/mateusabreucn/)\n",
    "- [Felipe Peretti](https://www.linkedin.com/in/felipeperetti/)"
   ]
  },
  {
   "cell_type": "markdown",
   "metadata": {
    "id": "v-q1xjOJQn8t"
   },
   "source": [
    "## Sobre o projeto"
   ]
  },
  {
   "cell_type": "markdown",
   "metadata": {
    "id": "oGKqxObtQspJ"
   },
   "source": [
    "Este é um projeto desenvolvido durante a disciplina \"Projeto de Ciência de Dados\" da pós-graduação de Data Science & Machine Learning da UniRV.\n",
    "\n",
    "<br>\n",
    "\n",
    "O foco da disciplina é criar um projeto completo de ciência de dados para aplicarmos os conhecimentos obtidos ao longo do curso e apresentá-lo à uma banca avaliadora composta de profissionais das áreas na qual foi aplicado o projeto.\n",
    "\n",
    "<br>\n",
    "\n",
    "O objetivo do projeto é limpar e preparar os dados para extração de insights, preprocessar e normalizar os dados para a geração de modelos na predição se uma determinada ação ordinária da bolsa de valores é recomendado o investimento, e estimar o seu valor em 2025.\n",
    "\n",
    "<br>\n",
    "\n",
    "Fonte dos dados: [Economatica](https://www.economatica.com/)"
   ]
  },
  {
   "cell_type": "markdown",
   "metadata": {
    "id": "1YIceniDQilR"
   },
   "source": [
    "# Configuração de ambientes"
   ]
  },
  {
   "cell_type": "markdown",
   "metadata": {
    "id": "xrPwJvpSB-pI"
   },
   "source": [
    "## Instalação de dependências\n",
    "\n",
    "Essa etapa demora um pouco, por favor aguarde.\n",
    "\n",
    "### 🚨🚨🚨 Após finalizar, reinicie a sessão 🚨🚨🚨"
   ]
  },
  {
   "cell_type": "code",
   "execution_count": 238,
   "metadata": {
    "colab": {
     "base_uri": "https://localhost:8080/"
    },
    "id": "gbWeRrq6hsq9",
    "outputId": "88368d95-4014-4b2b-85fe-75d2895142a1"
   },
   "outputs": [
    {
     "name": "stdout",
     "output_type": "stream",
     "text": [
      "Valor da variável GOOGLE_COLAB_RUNTIME: false\n",
      "Não está no Google Colab - Pulando instalação de dependências via pip\n"
     ]
    }
   ],
   "source": [
    "import os\n",
    "\n",
    "# Primeiro, tenta carregar as variáveis do .env se a biblioteca estiver disponível\n",
    "try:\n",
    "    from dotenv import load_dotenv\n",
    "    load_dotenv()\n",
    "except ImportError:\n",
    "    print(\"python-dotenv não está instalado. Tentando verificar através de outras formas...\")\n",
    "\n",
    "# Verifica se está rodando no Google Colab\n",
    "# Prioriza a variável GOOGLE_COLAB_RUNTIME do .env, mas também verifica 'google.colab' no sys.modules\n",
    "is_colab = False\n",
    "\n",
    "# Primeiro verifica a variável de ambiente\n",
    "google_colab_env = os.getenv('GOOGLE_COLAB_RUNTIME')\n",
    "print(f\"Valor da variável GOOGLE_COLAB_RUNTIME: {google_colab_env}\")\n",
    "\n",
    "if google_colab_env and google_colab_env.lower() == 'true':\n",
    "    is_colab = True\n",
    "    print(\"Google Colab detectado através da variável GOOGLE_COLAB_RUNTIME\")\n",
    "else:\n",
    "    # Fallback: verifica se está rodando no Google Colab através do sys.modules\n",
    "    import sys\n",
    "    if 'google.colab' in sys.modules:\n",
    "        is_colab = True\n",
    "        print(\"Google Colab detectado através do módulo google.colab\")\n",
    "\n",
    "if is_colab:\n",
    "    print(\"Executando no Google Colab - Instalando dependências...\")\n",
    "    %pip install -qqq python-dotenv\n",
    "    %pip uninstall -qqq numpy pandas pycaret -y\n",
    "    %pip install -qqq numpy pandas pycaret[full] category_encoders\n",
    "else:\n",
    "    print(\"Não está no Google Colab - Pulando instalação de dependências via pip\")"
   ]
  },
  {
   "cell_type": "markdown",
   "metadata": {
    "id": "vYfxojV4R4vz"
   },
   "source": [
    "## Importações"
   ]
  },
  {
   "cell_type": "code",
   "execution_count": 239,
   "metadata": {
    "colab": {
     "base_uri": "https://localhost:8080/"
    },
    "id": "fpcwsw5RFoHB",
    "outputId": "d0b643f7-c5f0-4b10-f5b7-e80d1b2cf296"
   },
   "outputs": [
    {
     "name": "stdout",
     "output_type": "stream",
     "text": [
      "3.11.13 (main, Sep 12 2025, 20:12:43) [GCC 15.1.1 20250729]\n"
     ]
    }
   ],
   "source": [
    "import sys\n",
    "print(sys.version)"
   ]
  },
  {
   "cell_type": "code",
   "execution_count": 240,
   "metadata": {
    "colab": {
     "base_uri": "https://localhost:8080/",
     "height": 424
    },
    "id": "276f6EmgOFj_",
    "outputId": "8ce04792-d141-4195-951f-a69212cb0122"
   },
   "outputs": [],
   "source": [
    "import pandas as pd\n",
    "import numpy as np\n",
    "\n",
    "import matplotlib.pyplot as plt\n",
    "import seaborn as sns\n",
    "\n",
    "import gdown\n",
    "\n",
    "import sklearn\n",
    "from sklearn.compose import ColumnTransformer\n",
    "from sklearn.preprocessing import OneHotEncoder\n",
    "from sklearn.pipeline import Pipeline\n",
    "from sklearn.impute import SimpleImputer\n",
    "\n",
    "import pycaret\n",
    "from pycaret.regression import *\n",
    "from pycaret.classification import *\n",
    "import category_encoders as ce\n",
    "\n",
    "from pathlib import Path\n",
    "from decimal import Decimal, ROUND_HALF_UP\n",
    "import joblib\n",
    "import re\n",
    "import unicodedata\n",
    "from tabulate import tabulate\n",
    "from collections import defaultdict\n"
   ]
  },
  {
   "cell_type": "markdown",
   "metadata": {
    "id": "bOzBOLIUU6Sl"
   },
   "source": [
    "## Download de Datasets"
   ]
  },
  {
   "cell_type": "markdown",
   "metadata": {
    "id": "OB2Kj1PIczNq"
   },
   "source": [
    "Nessa etapa realizamos o download dos datasets (em formato csv) e armazenamento local aqui no colab, utilizando a biblioteca `gdown`, para não se fazer necessário o upload manual por cada usuário deste notebook."
   ]
  },
  {
   "cell_type": "markdown",
   "metadata": {
    "id": "RYQySKrLdIfQ"
   },
   "source": [
    "Este primeiro dataset, é o que possui as principais informações que iremos utilizar."
   ]
  },
  {
   "cell_type": "code",
   "execution_count": 241,
   "metadata": {
    "colab": {
     "base_uri": "https://localhost:8080/",
     "height": 105
    },
    "id": "ND0-L1gfVAqz",
    "outputId": "66bc57f7-2633-4c53-b524-2303aed7b5ae"
   },
   "outputs": [
    {
     "name": "stdout",
     "output_type": "stream",
     "text": [
      "Baixando arquivo para: ../datasets/df_economatica.csv\n"
     ]
    },
    {
     "name": "stderr",
     "output_type": "stream",
     "text": [
      "Downloading...\n",
      "From: https://drive.google.com/uc?id=1XmkjSrATB20AafqaxJb6dU-4NGllGcPt\n",
      "To: /home/rhogger/dev/projetos/data-science/pos-unirv/economatica/src/datasets/df_economatica.csv\n",
      "100%|██████████| 448k/448k [00:00<00:00, 1.76MB/s]\n"
     ]
    },
    {
     "data": {
      "text/plain": [
       "'../datasets/df_economatica.csv'"
      ]
     },
     "execution_count": 241,
     "metadata": {},
     "output_type": "execute_result"
    }
   ],
   "source": [
    "# Criar a pasta datasets se não existir (apenas no ambiente local)\n",
    "if not is_colab:\n",
    "    os.makedirs('../datasets', exist_ok=True)\n",
    "\n",
    "url = 'https://drive.google.com/file/d/1XmkjSrATB20AafqaxJb6dU-4NGllGcPt/view'\n",
    "\n",
    "# Define o caminho baseado no ambiente\n",
    "if is_colab:\n",
    "    output = '/content/df_economatica.csv'\n",
    "else:\n",
    "    output = '../datasets/df_economatica.csv'\n",
    "\n",
    "print(f\"Baixando arquivo para: {output}\")\n",
    "gdown.download(url, output, fuzzy=True)"
   ]
  },
  {
   "cell_type": "markdown",
   "metadata": {
    "id": "3v0SHzS1dWV-"
   },
   "source": [
    "Já este segundo, é o outro que ficou faltando algumas colunas relevantes para a nossa análise posterior."
   ]
  },
  {
   "cell_type": "code",
   "execution_count": 242,
   "metadata": {
    "colab": {
     "base_uri": "https://localhost:8080/",
     "height": 105
    },
    "id": "ZqGPbzaGGse3",
    "outputId": "3c5cfe9c-0aa2-4f04-875d-3137bb9bbe59"
   },
   "outputs": [
    {
     "name": "stdout",
     "output_type": "stream",
     "text": [
      "Baixando arquivo para: ../datasets/df_economaticav2.csv\n"
     ]
    },
    {
     "name": "stderr",
     "output_type": "stream",
     "text": [
      "Downloading...\n",
      "From: https://drive.google.com/uc?id=1FyURuDTdL-hVONTWO2y9rTaUfz88Fmyj\n",
      "To: /home/rhogger/dev/projetos/data-science/pos-unirv/economatica/src/datasets/df_economaticav2.csv\n",
      "100%|██████████| 37.4k/37.4k [00:00<00:00, 518kB/s]\n"
     ]
    },
    {
     "data": {
      "text/plain": [
       "'../datasets/df_economaticav2.csv'"
      ]
     },
     "execution_count": 242,
     "metadata": {},
     "output_type": "execute_result"
    }
   ],
   "source": [
    "url = 'https://drive.google.com/file/d/1FyURuDTdL-hVONTWO2y9rTaUfz88Fmyj/view'\n",
    "\n",
    "# Define o caminho baseado no ambiente\n",
    "if is_colab:\n",
    "    output = '/content/df_economaticav2.csv'\n",
    "else:\n",
    "    output = '../datasets/df_economaticav2.csv'\n",
    "\n",
    "print(f\"Baixando arquivo para: {output}\")\n",
    "gdown.download(url, output, fuzzy=True)"
   ]
  },
  {
   "cell_type": "markdown",
   "metadata": {
    "id": "snF3lw35EQAt"
   },
   "source": [
    "## Configurações Pandas"
   ]
  },
  {
   "cell_type": "markdown",
   "metadata": {
    "id": "z39O-MStEZIt"
   },
   "source": [
    "Configurações de exibição do pandas atualizadas para mostrar todas as linhas e colunas, pois o dataset possui mais de 100 colunas, logo o pandas trunca as tabelas."
   ]
  },
  {
   "cell_type": "code",
   "execution_count": 243,
   "metadata": {
    "id": "CjoLGpKUER7c"
   },
   "outputs": [],
   "source": [
    "if is_colab:\n",
    "  pd.set_option('display.max_rows', None)\n",
    "  pd.set_option('display.max_columns', None)"
   ]
  },
  {
   "cell_type": "markdown",
   "metadata": {
    "id": "7q2nx2qbWDMG"
   },
   "source": [
    "## Definição de datasets"
   ]
  },
  {
   "cell_type": "markdown",
   "metadata": {
    "id": "JIvYTjJid2xQ"
   },
   "source": [
    "Agora iremos armazenar os valores dos datasets à variáveis do tipo `DataFrame` do `pandas`, no qual iremos utilizaremos ao decorrer do projeto."
   ]
  },
  {
   "cell_type": "code",
   "execution_count": 244,
   "metadata": {
    "id": "Uq1WcJ5sWFtO"
   },
   "outputs": [],
   "source": [
    "if is_colab:\n",
    "    path_main = '/content/df_economatica.csv'\n",
    "    path_dividendos = '/content/df_economaticav2.csv'\n",
    "else:\n",
    "    path_main = '../datasets/df_economatica.csv'\n",
    "    path_dividendos = '../datasets/df_economaticav2.csv'\n",
    "\n",
    "df_economatica = pd.read_csv(path_main)\n",
    "df_economatica_dividendos = pd.read_csv(path_dividendos)"
   ]
  },
  {
   "cell_type": "code",
   "execution_count": 245,
   "metadata": {
    "colab": {
     "base_uri": "https://localhost:8080/"
    },
    "id": "ql_TjyLgjWhz",
    "outputId": "45ec2ea1-557c-4297-f6bb-f98c668aea5d"
   },
   "outputs": [
    {
     "name": "stdout",
     "output_type": "stream",
     "text": [
      "<class 'pandas.core.frame.DataFrame'>\n",
      "RangeIndex: 513 entries, 0 to 512\n",
      "Columns: 108 entries, Nome to Valor Mercado\n",
      "da empresa\n",
      "31Dez24\n",
      "Em moeda orig\n",
      "em milhares\n",
      "dtypes: object(108)\n",
      "memory usage: 433.0+ KB\n"
     ]
    }
   ],
   "source": [
    "df_economatica.info()"
   ]
  },
  {
   "cell_type": "code",
   "execution_count": 246,
   "metadata": {
    "colab": {
     "base_uri": "https://localhost:8080/"
    },
    "id": "YFqx7_djjX5P",
    "outputId": "5d374460-331d-4351-a13c-db38deee1f2e"
   },
   "outputs": [
    {
     "data": {
      "text/plain": [
       "(513, 108)"
      ]
     },
     "execution_count": 246,
     "metadata": {},
     "output_type": "execute_result"
    }
   ],
   "source": [
    "df_economatica.shape"
   ]
  },
  {
   "cell_type": "markdown",
   "metadata": {
    "id": "6vj6MAICeT38"
   },
   "source": [
    "Aqui confirmamos a quantidade de linhas do dataset para uma mesclagem dosdatasets, posteriormente. Este valor é importante."
   ]
  },
  {
   "cell_type": "code",
   "execution_count": 247,
   "metadata": {
    "colab": {
     "base_uri": "https://localhost:8080/",
     "height": 539
    },
    "id": "XcvI7nZgjZMn",
    "outputId": "a4bef7f7-af4b-4318-b80f-d4f1c8b08d1a"
   },
   "outputs": [
    {
     "data": {
      "application/vnd.microsoft.datawrangler.viewer.v0+json": {
       "columns": [
        {
         "name": "index",
         "rawType": "int64",
         "type": "integer"
        },
        {
         "name": "Nome",
         "rawType": "object",
         "type": "string"
        },
        {
         "name": "Classe",
         "rawType": "object",
         "type": "string"
        },
        {
         "name": "Bolsa / Fonte",
         "rawType": "object",
         "type": "string"
        },
        {
         "name": "Tipo de Ativo",
         "rawType": "object",
         "type": "string"
        },
        {
         "name": "Ativo /\nCancelado",
         "rawType": "object",
         "type": "string"
        },
        {
         "name": "Código",
         "rawType": "object",
         "type": "string"
        },
        {
         "name": "Setor NAICS\nult disponiv",
         "rawType": "object",
         "type": "string"
        },
        {
         "name": "Setor Agro\nBovespa",
         "rawType": "object",
         "type": "string"
        },
        {
         "name": "AtvCir\n < Dez 2020\n Em moeda orig\n em milhares\n consolid:sim*",
         "rawType": "object",
         "type": "string"
        },
        {
         "name": "AtvCir\n < Dez 2021\n Em moeda orig\n em milhares\n consolid:sim*",
         "rawType": "object",
         "type": "string"
        },
        {
         "name": "AtvCir\n < Dez 2022\n Em moeda orig\n em milhares\n consolid:sim*",
         "rawType": "object",
         "type": "string"
        },
        {
         "name": "AtvCir\n < Dez 2023\n Em moeda orig\n em milhares\n consolid:sim*",
         "rawType": "object",
         "type": "string"
        },
        {
         "name": "AtvCir\n < Dez 2024\n Em moeda orig\n em milhares\n consolid:sim*",
         "rawType": "object",
         "type": "string"
        },
        {
         "name": "AtvNaoCir\n < Dez 2020\n Em moeda orig\n em milhares\n consolid:sim*",
         "rawType": "object",
         "type": "string"
        },
        {
         "name": "AtvNaoCir\n < Dez 2021\n Em moeda orig\n em milhares\n consolid:sim*",
         "rawType": "object",
         "type": "string"
        },
        {
         "name": "AtvNaoCir\n < Dez 2022\n Em moeda orig\n em milhares\n consolid:sim*",
         "rawType": "object",
         "type": "string"
        },
        {
         "name": "AtvNaoCir\n < Dez 2023\n Em moeda orig\n em milhares\n consolid:sim*",
         "rawType": "object",
         "type": "string"
        },
        {
         "name": "AtvNaoCir\n < Dez 2024\n Em moeda orig\n em milhares\n consolid:sim*",
         "rawType": "object",
         "type": "string"
        },
        {
         "name": "PasCir\n < Dez 2020\n Em moeda orig\n em milhares\n consolid:sim*",
         "rawType": "object",
         "type": "string"
        },
        {
         "name": "PasCir\n < Set 2021\n Em moeda orig\n em milhares\n consolid:sim*",
         "rawType": "object",
         "type": "string"
        },
        {
         "name": "PasCir\n < Dez 2022\n Em moeda orig\n em milhares\n consolid:sim*",
         "rawType": "object",
         "type": "string"
        },
        {
         "name": "PasCir\n < Dez 2023\n Em moeda orig\n em milhares\n consolid:sim*",
         "rawType": "object",
         "type": "string"
        },
        {
         "name": "PasCir\n < Dez 2024\n Em moeda orig\n em milhares\n consolid:sim*",
         "rawType": "object",
         "type": "string"
        },
        {
         "name": "PasNoCir\n < Dez 2020\n Em moeda orig\n em milhares\n consolid:sim*",
         "rawType": "object",
         "type": "string"
        },
        {
         "name": "PasNoCir\n < Dez 2021\n Em moeda orig\n em milhares\n consolid:sim*",
         "rawType": "object",
         "type": "string"
        },
        {
         "name": "PasNoCir\n < Dez 2022\n Em moeda orig\n em milhares\n consolid:sim*",
         "rawType": "object",
         "type": "string"
        },
        {
         "name": "PasNoCir\n < Dez 2023\n Em moeda orig\n em milhares\n consolid:sim*",
         "rawType": "object",
         "type": "string"
        },
        {
         "name": "PasNoCir\n < Dez 2024\n Em moeda orig\n em milhares\n consolid:sim*",
         "rawType": "object",
         "type": "string"
        },
        {
         "name": "Patrim Liq\n < Dez 2020\n Em moeda orig\n em milhares\n consolid:sim*",
         "rawType": "object",
         "type": "string"
        },
        {
         "name": "Patrim Liq\n < Dez 2021\n Em moeda orig\n em milhares\n consolid:sim*",
         "rawType": "object",
         "type": "string"
        },
        {
         "name": "Patrim Liq\n < Dez 2022\n Em moeda orig\n em milhares\n consolid:sim*",
         "rawType": "object",
         "type": "string"
        },
        {
         "name": "Patrim Liq\n < Dez 2023\n Em moeda orig\n em milhares\n consolid:sim*",
         "rawType": "object",
         "type": "string"
        },
        {
         "name": "Patrim Liq\n < Dez 2024\n Em moeda orig\n em milhares\n consolid:sim*",
         "rawType": "object",
         "type": "string"
        },
        {
         "name": "LPA\n < Dez 2020\n Em moeda orig\n de 12 meses\n consolid:sim*\n ajust p/ prov",
         "rawType": "object",
         "type": "string"
        },
        {
         "name": "LPA\n < Dez 2021\n Em moeda orig\n de 12 meses\n consolid:sim*\n ajust p/ prov",
         "rawType": "object",
         "type": "string"
        },
        {
         "name": "LPA\n < Dez 2022\n Em moeda orig\n de 12 meses\n consolid:sim*\n ajust p/ prov",
         "rawType": "object",
         "type": "string"
        },
        {
         "name": "LPA\n < Dez 2023\n Em moeda orig\n de 12 meses\n consolid:sim*\n ajust p/ prov",
         "rawType": "object",
         "type": "string"
        },
        {
         "name": "LPA\n < Dez 2024\n Em moeda orig\n de 12 meses\n consolid:sim*\n ajust p/ prov",
         "rawType": "object",
         "type": "string"
        },
        {
         "name": "Receita\n < Dez 2020\n Em moeda orig\n em milhares\n no exercício\n consolid:sim*",
         "rawType": "object",
         "type": "string"
        },
        {
         "name": "Receita\n < Dez 2021\n Em moeda orig\n em milhares\n no exercício\n consolid:sim*",
         "rawType": "object",
         "type": "string"
        },
        {
         "name": "Receita\n < Dez 2022\n Em moeda orig\n em milhares\n no exercício\n consolid:sim*",
         "rawType": "object",
         "type": "string"
        },
        {
         "name": "Receita\n < Dez 2023\n Em moeda orig\n em milhares\n no exercício\n consolid:sim*",
         "rawType": "object",
         "type": "string"
        },
        {
         "name": "Receita\n < Dez 2024\n Em moeda orig\n em milhares\n no exercício\n consolid:sim*",
         "rawType": "object",
         "type": "string"
        },
        {
         "name": "Lucro Liquido\n < Dez 2020\n Em moeda orig\n em milhares\n no exercício\n consolid:sim*",
         "rawType": "object",
         "type": "string"
        },
        {
         "name": "Lucro Liquido\n < Dez 2021\n Em moeda orig\n em milhares\n no exercício\n consolid:sim*",
         "rawType": "object",
         "type": "string"
        },
        {
         "name": "Lucro Liquido\n < Dez 2022\n Em moeda orig\n em milhares\n no exercício\n consolid:sim*",
         "rawType": "object",
         "type": "string"
        },
        {
         "name": "Lucro Liquido\n < Dez 2023\n Em moeda orig\n em milhares\n no exercício\n consolid:sim*",
         "rawType": "object",
         "type": "string"
        },
        {
         "name": "Lucro Liquido\n < Dez 2024\n Em moeda orig\n em milhares\n no exercício\n consolid:sim*",
         "rawType": "object",
         "type": "string"
        },
        {
         "name": "DivBr/Ativo\n < Dez 2020\n consolid:sim*",
         "rawType": "object",
         "type": "string"
        },
        {
         "name": "DivBr/Ativo\n < Dez 2021\n consolid:sim*",
         "rawType": "object",
         "type": "string"
        },
        {
         "name": "DivBr/Ativo\n < Dez 2022\n consolid:sim*",
         "rawType": "object",
         "type": "string"
        },
        {
         "name": "DivBr/Ativo\n < Dez 2023\n consolid:sim*",
         "rawType": "object",
         "type": "string"
        },
        {
         "name": "DivBr/Ativo\n < Dez 2024\n consolid:sim*",
         "rawType": "object",
         "type": "string"
        },
        {
         "name": "LiqCor\n < Dez 2020\n consolid:sim*",
         "rawType": "object",
         "type": "string"
        },
        {
         "name": "LiqCor\n < Dez 2021\n consolid:sim*",
         "rawType": "object",
         "type": "string"
        },
        {
         "name": "LiqCor\n < Dez 2022\n consolid:sim*",
         "rawType": "object",
         "type": "string"
        },
        {
         "name": "LiqCor\n < Dez 2023\n consolid:sim*",
         "rawType": "object",
         "type": "string"
        },
        {
         "name": "LiqCor\n < Dez 2024\n consolid:sim*",
         "rawType": "object",
         "type": "string"
        },
        {
         "name": "LiqGer\n < Dez 2020\n consolid:sim*",
         "rawType": "object",
         "type": "string"
        },
        {
         "name": "LiqGer\n < Dez 2021\n consolid:sim*",
         "rawType": "object",
         "type": "string"
        },
        {
         "name": "LiqGer\n < Dez 2022\n consolid:sim*",
         "rawType": "object",
         "type": "string"
        },
        {
         "name": "LiqGer\n < Dez 2023\n consolid:sim*",
         "rawType": "object",
         "type": "string"
        },
        {
         "name": "LiqGer\n < Dez 2024\n consolid:sim*",
         "rawType": "object",
         "type": "string"
        },
        {
         "name": "RentAt\n < Dez 2020\n de 12 meses\n consolid:sim*",
         "rawType": "object",
         "type": "string"
        },
        {
         "name": "RentAt\n < Dez 2021\n de 12 meses\n consolid:sim*",
         "rawType": "object",
         "type": "string"
        },
        {
         "name": "RentAt\n < Dez 2022\n de 12 meses\n consolid:sim*",
         "rawType": "object",
         "type": "string"
        },
        {
         "name": "RentAt\n < Dez 2023\n de 12 meses\n consolid:sim*",
         "rawType": "object",
         "type": "string"
        },
        {
         "name": "RentAt\n < Dez 2024\n de 12 meses\n consolid:sim*",
         "rawType": "object",
         "type": "string"
        },
        {
         "name": "RenPat(med)\n < Dez 2020\n Em moeda orig\n de 12 meses\n consolid:sim*",
         "rawType": "object",
         "type": "string"
        },
        {
         "name": "RenPat(med)\n < Dez 2021\n Em moeda orig\n de 12 meses\n consolid:sim*",
         "rawType": "object",
         "type": "string"
        },
        {
         "name": "RenPat(med)\n < Dez 2022\n Em moeda orig\n de 12 meses\n consolid:sim*",
         "rawType": "object",
         "type": "string"
        },
        {
         "name": "RenPat(med)\n < Dez 2023\n Em moeda orig\n de 12 meses\n consolid:sim*",
         "rawType": "object",
         "type": "string"
        },
        {
         "name": "RenPat(med)\n < Dez 2024\n Em moeda orig\n de 12 meses\n consolid:sim*",
         "rawType": "object",
         "type": "string"
        },
        {
         "name": "Mrg EBIT\n < Dez 2020\n de 12 meses\n consolid:sim*",
         "rawType": "object",
         "type": "string"
        },
        {
         "name": "Mrg EBIT\n < Dez 2021\n de 12 meses\n consolid:sim*",
         "rawType": "object",
         "type": "string"
        },
        {
         "name": "Mrg EBIT\n < Dez 2022\n de 12 meses\n consolid:sim*",
         "rawType": "object",
         "type": "string"
        },
        {
         "name": "Mrg EBIT\n < Dez 2023\n de 12 meses\n consolid:sim*",
         "rawType": "object",
         "type": "string"
        },
        {
         "name": "Mrg EBIT\n < Dez 2024\n de 12 meses\n consolid:sim*",
         "rawType": "object",
         "type": "string"
        },
        {
         "name": "Margem Liquida\n < Dez 2020\n de 12 meses\n consolid:sim*",
         "rawType": "object",
         "type": "string"
        },
        {
         "name": "Margem Liquida\n < Dez 2021\n de 12 meses\n consolid:sim*",
         "rawType": "object",
         "type": "string"
        },
        {
         "name": "Margem Liquida\n < Dez 2022\n de 12 meses\n consolid:sim*",
         "rawType": "object",
         "type": "string"
        },
        {
         "name": "Margem Liquida\n < Dez 2023\n de 12 meses\n consolid:sim*",
         "rawType": "object",
         "type": "string"
        },
        {
         "name": "Margem Liquida\n < Dez 2024\n de 12 meses\n consolid:sim*",
         "rawType": "object",
         "type": "string"
        },
        {
         "name": "Ativo Tot\n < Dez 2020\n Em moeda orig\n em milhares\n consolid:sim*",
         "rawType": "object",
         "type": "string"
        },
        {
         "name": "Ativo Tot\n < Dez 2021\n Em moeda orig\n em milhares\n consolid:sim*",
         "rawType": "object",
         "type": "string"
        },
        {
         "name": "Ativo Tot\n < Dez 2022\n Em moeda orig\n em milhares\n consolid:sim*",
         "rawType": "object",
         "type": "string"
        },
        {
         "name": "Ativo Tot\n < Dez 2023\n Em moeda orig\n em milhares\n consolid:sim*",
         "rawType": "object",
         "type": "string"
        },
        {
         "name": "Ativo Tot\n < Dez 2024\n Em moeda orig\n em milhares\n consolid:sim*",
         "rawType": "object",
         "type": "string"
        },
        {
         "name": "CxOper\n < Dez 2020\n Em moeda orig\n em milhares\n de 12 meses\n consolid:sim*",
         "rawType": "object",
         "type": "string"
        },
        {
         "name": "CxOper\n < Dez 2021\n Em moeda orig\n em milhares\n de 12 meses\n consolid:sim*",
         "rawType": "object",
         "type": "string"
        },
        {
         "name": "CxOper\n < Dez 2022\n Em moeda orig\n em milhares\n de 12 meses\n consolid:sim*",
         "rawType": "object",
         "type": "string"
        },
        {
         "name": "CxOper\n < Dez 2023\n Em moeda orig\n em milhares\n de 12 meses\n consolid:sim*",
         "rawType": "object",
         "type": "string"
        },
        {
         "name": "CxOper\n < Dez 2024\n Em moeda orig\n em milhares\n de 12 meses\n consolid:sim*",
         "rawType": "object",
         "type": "string"
        },
        {
         "name": "CxInvest\n < Dez 2020\n Em moeda orig\n em milhares\n de 12 meses\n consolid:sim*",
         "rawType": "object",
         "type": "string"
        },
        {
         "name": "CxInvest\n < Dez 2021\n Em moeda orig\n em milhares\n de 12 meses\n consolid:sim*",
         "rawType": "object",
         "type": "string"
        },
        {
         "name": "CxInvest\n < Dez 2022\n Em moeda orig\n em milhares\n de 12 meses\n consolid:sim*",
         "rawType": "object",
         "type": "string"
        },
        {
         "name": "CxInvest\n < Dez 2023\n Em moeda orig\n em milhares\n de 12 meses\n consolid:sim*",
         "rawType": "object",
         "type": "string"
        },
        {
         "name": "CxInvest\n < Dez 2024\n Em moeda orig\n em milhares\n de 12 meses\n consolid:sim*",
         "rawType": "object",
         "type": "string"
        },
        {
         "name": "CxFinan\n < Dez 2020\n Em moeda orig\n em milhares\n de 12 meses\n consolid:sim*",
         "rawType": "object",
         "type": "string"
        },
        {
         "name": "CxFinan\n < Dez 2021\n Em moeda orig\n em milhares\n de 12 meses\n consolid:sim*",
         "rawType": "object",
         "type": "string"
        },
        {
         "name": "CxFinan\n < Dez 2022\n Em moeda orig\n em milhares\n de 12 meses\n consolid:sim*",
         "rawType": "object",
         "type": "string"
        },
        {
         "name": "CxFinan\n < Dez 2023\n Em moeda orig\n em milhares\n de 12 meses\n consolid:sim*",
         "rawType": "object",
         "type": "string"
        },
        {
         "name": "CxFinan\n < Dez 2024\n Em moeda orig\n em milhares\n de 12 meses\n consolid:sim*",
         "rawType": "object",
         "type": "string"
        },
        {
         "name": "Valor Mercado\nda empresa\n31Dez20\nEm moeda orig\nem milhares",
         "rawType": "object",
         "type": "string"
        },
        {
         "name": "Valor Mercado\nda empresa\n31Dez21\nEm moeda orig\nem milhares",
         "rawType": "object",
         "type": "string"
        },
        {
         "name": "Valor Mercado\nda empresa\n31Dez22\nEm moeda orig\nem milhares",
         "rawType": "object",
         "type": "string"
        },
        {
         "name": "Valor Mercado\nda empresa\n31Dez23\nEm moeda orig\nem milhares",
         "rawType": "object",
         "type": "string"
        },
        {
         "name": "Valor Mercado\nda empresa\n31Dez24\nEm moeda orig\nem milhares",
         "rawType": "object",
         "type": "string"
        }
       ],
       "ref": "0cceeb57-a2c4-44d5-a450-1d4353e01da1",
       "rows": [
        [
         "0",
         "3tentos",
         "ON",
         "Bovespa",
         "Ação",
         "ativo",
         "TTEN3",
         "Atividades auxiliares à agricultura",
         "Sim",
         "1.770.014",
         "3.354.305",
         "4.257.219",
         "4.422.008",
         "5.776.390",
         "551.359",
         "1.041.296",
         "1.824.770",
         "2.461.781",
         "3.113.033",
         "1.365.036",
         "2.044.177",
         "2.739.186",
         "2.784.746",
         "3.666.344",
         "244.205",
         "328.086",
         "524.248",
         "747.152",
         "1.177.361",
         "712.132",
         "2.236.240",
         "2.816.976",
         "3.347.737",
         "4.037.714",
         "0,6156575",
         "0,9650311521",
         "1,152462679",
         "1,155222012",
         "1,523263451",
         "3.112.439",
         "5.339.317",
         "6.885.839",
         "8.998.985",
         "12.825.771",
         "246.263",
         "430.306",
         "571.437",
         "575.287",
         "758.623",
         "27,6",
         "18,2",
         "18",
         "18,5",
         "23,3",
         "1,3",
         "1,8",
         "1,6",
         "1,6",
         "1,6",
         "1,2",
         "1,7",
         "1,4",
         "1,4",
         "1,3",
         "10,6",
         "9,8",
         "9,4",
         "8,3",
         "8,5",
         "44,3",
         "29,2",
         "-",
         "18,6",
         "20,4",
         "10,5",
         "6,6",
         "7,8",
         "4,9",
         "9,7",
         "7,9",
         "8,1",
         "8,3",
         "6,4",
         "5,9",
         "2.321.373",
         "4.395.601",
         "6.081.989",
         "6.883.789",
         "8.889.423",
         "79.979",
         "105.523",
         "257.697",
         "863.505",
         "726.212",
         "-73.998",
         "-1.123.540",
         "-39.948",
         "-459.799",
         "-523.296",
         "82.741",
         "1.116.915",
         "154.975",
         "-99.537",
         "465.459",
         "-",
         "4.807.768",
         "4.632.208",
         "5.997.883",
         "6.845.098"
        ],
        [
         "1",
         "524 Particip",
         "ON",
         "Bovespa",
         "Ação",
         "ativo",
         "QVQP3",
         "Empresa de eletricidade, gás e água",
         "-",
         "150",
         "112",
         "117",
         "138",
         "108",
         "0",
         "0",
         "0",
         "0",
         "0",
         "0",
         "0",
         "0",
         "0",
         "0",
         "0",
         "0",
         "0",
         "0",
         "0",
         "150",
         "112",
         "117",
         "138",
         "108",
         "-0,0005614052376",
         "-0,0003429842395",
         "-0,0001071003069",
         "-0,00002990480433",
         "-0,00001590832001",
         "0",
         "0",
         "0",
         "0",
         "0",
         "-126",
         "-128",
         "-115",
         "-99",
         "-130",
         "0",
         "0",
         "0",
         "0",
         "0",
         "-",
         "-",
         "-",
         "-",
         "-",
         "-",
         "-",
         "-",
         "-",
         "-",
         "-84",
         "-114,3",
         "-98,3",
         "-71,7",
         "-120,4",
         "-122,9",
         "-97,7",
         "-100,4",
         "-77,6",
         "-105,7",
         "-",
         "-",
         "-",
         "-",
         "-",
         "-",
         "-",
         "-",
         "-",
         "-",
         "150",
         "112",
         "117",
         "138",
         "108",
         "-116",
         "-127",
         "-114",
         "-101",
         "-130",
         "0",
         "0",
         "0",
         "0",
         "0",
         "221",
         "90",
         "120",
         "120",
         "100",
         "-",
         "-",
         "-",
         "-",
         "-"
        ],
        [
         "2",
         "Abc Brasil",
         "PN",
         "Bovespa",
         "Ação",
         "ativo",
         "ABCB4",
         "Bancos",
         "-",
         "-",
         "-",
         "-",
         "-",
         "-",
         "-",
         "-",
         "-",
         "-",
         "-",
         "-",
         "-",
         "-",
         "-",
         "-",
         "-",
         "-",
         "-",
         "-",
         "-",
         "4.288.263",
         "4.669.463",
         "5.205.386",
         "5.871.729",
         "6.387.347",
         "1,501031762",
         "2,592659822",
         "3,629844173",
         "3,81737756",
         "4,088423012",
         "-",
         "-",
         "-",
         "-",
         "-",
         "322.076",
         "572.173",
         "800.234",
         "851.582",
         "971.274",
         "-",
         "-",
         "-",
         "-",
         "-",
         "-",
         "-",
         "-",
         "-",
         "-",
         "-",
         "-",
         "-",
         "-",
         "-",
         "0,7",
         "1,2",
         "1,4",
         "1,4",
         "1,3",
         "7,7",
         "12,8",
         "16,3",
         "15,6",
         "16,1",
         "-",
         "-",
         "-",
         "-",
         "-",
         "5,4",
         "13,8",
         "19,2",
         "15,4",
         "9,6",
         "43.328.841",
         "49.565.970",
         "57.408.844",
         "60.632.612",
         "73.585.977",
         "2.938.363",
         "-4.459.173",
         "3.539.676",
         "-613.939",
         "-149.424",
         "-2.865",
         "-44.250",
         "-73.247",
         "-62.337",
         "-74.098",
         "-697.725",
         "-222.020",
         "244.191",
         "94.389",
         "1.252.058",
         "3.405.961",
         "3.437.406",
         "4.255.834",
         "5.610.928",
         "4.640.114"
        ],
        [
         "3",
         "Aco Altona",
         "ON",
         "Bovespa",
         "Ação",
         "ativo",
         "EALT3",
         "Transformação de aço em produtos de aço",
         "-",
         "164.709",
         "207.716",
         "180.706",
         "219.742",
         "266.560",
         "252.517",
         "283.898",
         "332.280",
         "340.982",
         "352.164",
         "136.337",
         "181.445",
         "182.045",
         "199.060",
         "230.771",
         "97.249",
         "128.833",
         "115.854",
         "118.088",
         "92.364",
         "183.640",
         "187.717",
         "215.087",
         "243.576",
         "295.589",
         "1,121866667",
         "1,613911111",
         "1,644533333",
         "2,191688889",
         "2,957377778",
         "251.771",
         "386.550",
         "492.141",
         "495.479",
         "564.238",
         "25.242",
         "36.313",
         "37.002",
         "49.313",
         "66.541",
         "22,4",
         "26,5",
         "24,9",
         "22,7",
         "19,5",
         "1,2",
         "1,2",
         "1",
         "1,1",
         "1,2",
         "0,9",
         "0,8",
         "0,7",
         "0,8",
         "0,9",
         "6",
         "7,4",
         "7,2",
         "8,8",
         "10,8",
         "14,6",
         "19,6",
         "18,4",
         "21,5",
         "24,7",
         "12,7",
         "11,5",
         "11,9",
         "11,1",
         "17,9",
         "10",
         "9,4",
         "7,5",
         "10",
         "11,8",
         "417.226",
         "491.614",
         "512.986",
         "560.724",
         "618.724",
         "56.605",
         "43.659",
         "79.599",
         "53.976",
         "78.162",
         "-33.787",
         "-58.074",
         "-70.244",
         "-32.408",
         "-37.037",
         "-6.240",
         "15.548",
         "-19.440",
         "-19.280",
         "-43.120",
         "190.118",
         "218.288",
         "173.175",
         "214.508",
         "303.623"
        ],
        [
         "4",
         "Aco Altona",
         "PN",
         "Bovespa",
         "Ação",
         "ativo",
         "EALT4",
         "Transformação de aço em produtos de aço",
         "-",
         "164.709",
         "207.716",
         "180.706",
         "219.742",
         "266.560",
         "252.517",
         "283.898",
         "332.280",
         "340.982",
         "352.164",
         "136.337",
         "181.445",
         "182.045",
         "199.060",
         "230.771",
         "97.249",
         "128.833",
         "115.854",
         "118.088",
         "92.364",
         "183.640",
         "187.717",
         "215.087",
         "243.576",
         "295.589",
         "1,121866667",
         "1,613911111",
         "1,644533333",
         "2,191688889",
         "2,957377778",
         "251.771",
         "386.550",
         "492.141",
         "495.479",
         "564.238",
         "25.242",
         "36.313",
         "37.002",
         "49.313",
         "66.541",
         "22,4",
         "26,5",
         "24,9",
         "22,7",
         "19,5",
         "1,2",
         "1,2",
         "1",
         "1,1",
         "1,2",
         "0,9",
         "0,8",
         "0,7",
         "0,8",
         "0,9",
         "6",
         "7,4",
         "7,2",
         "8,8",
         "10,8",
         "14,6",
         "19,6",
         "18,4",
         "21,5",
         "24,7",
         "12,7",
         "11,5",
         "11,9",
         "11,1",
         "17,9",
         "10",
         "9,4",
         "7,5",
         "10",
         "11,8",
         "417.226",
         "491.614",
         "512.986",
         "560.724",
         "618.724",
         "56.605",
         "43.659",
         "79.599",
         "53.976",
         "78.162",
         "-33.787",
         "-58.074",
         "-70.244",
         "-32.408",
         "-37.037",
         "-6.240",
         "15.548",
         "-19.440",
         "-19.280",
         "-43.120",
         "190.118",
         "218.288",
         "173.175",
         "214.508",
         "303.623"
        ]
       ],
       "shape": {
        "columns": 108,
        "rows": 5
       }
      },
      "text/html": [
       "<div>\n",
       "<style scoped>\n",
       "    .dataframe tbody tr th:only-of-type {\n",
       "        vertical-align: middle;\n",
       "    }\n",
       "\n",
       "    .dataframe tbody tr th {\n",
       "        vertical-align: top;\n",
       "    }\n",
       "\n",
       "    .dataframe thead th {\n",
       "        text-align: right;\n",
       "    }\n",
       "</style>\n",
       "<table border=\"1\" class=\"dataframe\">\n",
       "  <thead>\n",
       "    <tr style=\"text-align: right;\">\n",
       "      <th></th>\n",
       "      <th>Nome</th>\n",
       "      <th>Classe</th>\n",
       "      <th>Bolsa / Fonte</th>\n",
       "      <th>Tipo de Ativo</th>\n",
       "      <th>Ativo /\\nCancelado</th>\n",
       "      <th>Código</th>\n",
       "      <th>Setor NAICS\\nult disponiv</th>\n",
       "      <th>Setor Agro\\nBovespa</th>\n",
       "      <th>AtvCir\\n &lt; Dez 2020\\n Em moeda orig\\n em milhares\\n consolid:sim*</th>\n",
       "      <th>AtvCir\\n &lt; Dez 2021\\n Em moeda orig\\n em milhares\\n consolid:sim*</th>\n",
       "      <th>...</th>\n",
       "      <th>CxFinan\\n &lt; Dez 2020\\n Em moeda orig\\n em milhares\\n de 12 meses\\n consolid:sim*</th>\n",
       "      <th>CxFinan\\n &lt; Dez 2021\\n Em moeda orig\\n em milhares\\n de 12 meses\\n consolid:sim*</th>\n",
       "      <th>CxFinan\\n &lt; Dez 2022\\n Em moeda orig\\n em milhares\\n de 12 meses\\n consolid:sim*</th>\n",
       "      <th>CxFinan\\n &lt; Dez 2023\\n Em moeda orig\\n em milhares\\n de 12 meses\\n consolid:sim*</th>\n",
       "      <th>CxFinan\\n &lt; Dez 2024\\n Em moeda orig\\n em milhares\\n de 12 meses\\n consolid:sim*</th>\n",
       "      <th>Valor Mercado\\nda empresa\\n31Dez20\\nEm moeda orig\\nem milhares</th>\n",
       "      <th>Valor Mercado\\nda empresa\\n31Dez21\\nEm moeda orig\\nem milhares</th>\n",
       "      <th>Valor Mercado\\nda empresa\\n31Dez22\\nEm moeda orig\\nem milhares</th>\n",
       "      <th>Valor Mercado\\nda empresa\\n31Dez23\\nEm moeda orig\\nem milhares</th>\n",
       "      <th>Valor Mercado\\nda empresa\\n31Dez24\\nEm moeda orig\\nem milhares</th>\n",
       "    </tr>\n",
       "  </thead>\n",
       "  <tbody>\n",
       "    <tr>\n",
       "      <th>0</th>\n",
       "      <td>3tentos</td>\n",
       "      <td>ON</td>\n",
       "      <td>Bovespa</td>\n",
       "      <td>Ação</td>\n",
       "      <td>ativo</td>\n",
       "      <td>TTEN3</td>\n",
       "      <td>Atividades auxiliares à agricultura</td>\n",
       "      <td>Sim</td>\n",
       "      <td>1.770.014</td>\n",
       "      <td>3.354.305</td>\n",
       "      <td>...</td>\n",
       "      <td>82.741</td>\n",
       "      <td>1.116.915</td>\n",
       "      <td>154.975</td>\n",
       "      <td>-99.537</td>\n",
       "      <td>465.459</td>\n",
       "      <td>-</td>\n",
       "      <td>4.807.768</td>\n",
       "      <td>4.632.208</td>\n",
       "      <td>5.997.883</td>\n",
       "      <td>6.845.098</td>\n",
       "    </tr>\n",
       "    <tr>\n",
       "      <th>1</th>\n",
       "      <td>524 Particip</td>\n",
       "      <td>ON</td>\n",
       "      <td>Bovespa</td>\n",
       "      <td>Ação</td>\n",
       "      <td>ativo</td>\n",
       "      <td>QVQP3</td>\n",
       "      <td>Empresa de eletricidade, gás e água</td>\n",
       "      <td>-</td>\n",
       "      <td>150</td>\n",
       "      <td>112</td>\n",
       "      <td>...</td>\n",
       "      <td>221</td>\n",
       "      <td>90</td>\n",
       "      <td>120</td>\n",
       "      <td>120</td>\n",
       "      <td>100</td>\n",
       "      <td>-</td>\n",
       "      <td>-</td>\n",
       "      <td>-</td>\n",
       "      <td>-</td>\n",
       "      <td>-</td>\n",
       "    </tr>\n",
       "    <tr>\n",
       "      <th>2</th>\n",
       "      <td>Abc Brasil</td>\n",
       "      <td>PN</td>\n",
       "      <td>Bovespa</td>\n",
       "      <td>Ação</td>\n",
       "      <td>ativo</td>\n",
       "      <td>ABCB4</td>\n",
       "      <td>Bancos</td>\n",
       "      <td>-</td>\n",
       "      <td>-</td>\n",
       "      <td>-</td>\n",
       "      <td>...</td>\n",
       "      <td>-697.725</td>\n",
       "      <td>-222.020</td>\n",
       "      <td>244.191</td>\n",
       "      <td>94.389</td>\n",
       "      <td>1.252.058</td>\n",
       "      <td>3.405.961</td>\n",
       "      <td>3.437.406</td>\n",
       "      <td>4.255.834</td>\n",
       "      <td>5.610.928</td>\n",
       "      <td>4.640.114</td>\n",
       "    </tr>\n",
       "    <tr>\n",
       "      <th>3</th>\n",
       "      <td>Aco Altona</td>\n",
       "      <td>ON</td>\n",
       "      <td>Bovespa</td>\n",
       "      <td>Ação</td>\n",
       "      <td>ativo</td>\n",
       "      <td>EALT3</td>\n",
       "      <td>Transformação de aço em produtos de aço</td>\n",
       "      <td>-</td>\n",
       "      <td>164.709</td>\n",
       "      <td>207.716</td>\n",
       "      <td>...</td>\n",
       "      <td>-6.240</td>\n",
       "      <td>15.548</td>\n",
       "      <td>-19.440</td>\n",
       "      <td>-19.280</td>\n",
       "      <td>-43.120</td>\n",
       "      <td>190.118</td>\n",
       "      <td>218.288</td>\n",
       "      <td>173.175</td>\n",
       "      <td>214.508</td>\n",
       "      <td>303.623</td>\n",
       "    </tr>\n",
       "    <tr>\n",
       "      <th>4</th>\n",
       "      <td>Aco Altona</td>\n",
       "      <td>PN</td>\n",
       "      <td>Bovespa</td>\n",
       "      <td>Ação</td>\n",
       "      <td>ativo</td>\n",
       "      <td>EALT4</td>\n",
       "      <td>Transformação de aço em produtos de aço</td>\n",
       "      <td>-</td>\n",
       "      <td>164.709</td>\n",
       "      <td>207.716</td>\n",
       "      <td>...</td>\n",
       "      <td>-6.240</td>\n",
       "      <td>15.548</td>\n",
       "      <td>-19.440</td>\n",
       "      <td>-19.280</td>\n",
       "      <td>-43.120</td>\n",
       "      <td>190.118</td>\n",
       "      <td>218.288</td>\n",
       "      <td>173.175</td>\n",
       "      <td>214.508</td>\n",
       "      <td>303.623</td>\n",
       "    </tr>\n",
       "  </tbody>\n",
       "</table>\n",
       "<p>5 rows × 108 columns</p>\n",
       "</div>"
      ],
      "text/plain": [
       "           Nome Classe Bolsa / Fonte Tipo de Ativo Ativo /\\nCancelado Código  \\\n",
       "0       3tentos     ON       Bovespa          Ação              ativo  TTEN3   \n",
       "1  524 Particip     ON       Bovespa          Ação              ativo  QVQP3   \n",
       "2    Abc Brasil     PN       Bovespa          Ação              ativo  ABCB4   \n",
       "3    Aco Altona     ON       Bovespa          Ação              ativo  EALT3   \n",
       "4    Aco Altona     PN       Bovespa          Ação              ativo  EALT4   \n",
       "\n",
       "                 Setor NAICS\\nult disponiv Setor Agro\\nBovespa  \\\n",
       "0      Atividades auxiliares à agricultura                 Sim   \n",
       "1      Empresa de eletricidade, gás e água                   -   \n",
       "2                                   Bancos                   -   \n",
       "3  Transformação de aço em produtos de aço                   -   \n",
       "4  Transformação de aço em produtos de aço                   -   \n",
       "\n",
       "  AtvCir\\n < Dez 2020\\n Em moeda orig\\n em milhares\\n consolid:sim*  \\\n",
       "0                                          1.770.014                  \n",
       "1                                                150                  \n",
       "2                                                  -                  \n",
       "3                                            164.709                  \n",
       "4                                            164.709                  \n",
       "\n",
       "  AtvCir\\n < Dez 2021\\n Em moeda orig\\n em milhares\\n consolid:sim*  ...  \\\n",
       "0                                          3.354.305                 ...   \n",
       "1                                                112                 ...   \n",
       "2                                                  -                 ...   \n",
       "3                                            207.716                 ...   \n",
       "4                                            207.716                 ...   \n",
       "\n",
       "  CxFinan\\n < Dez 2020\\n Em moeda orig\\n em milhares\\n de 12 meses\\n consolid:sim*  \\\n",
       "0                                             82.741                                 \n",
       "1                                                221                                 \n",
       "2                                           -697.725                                 \n",
       "3                                             -6.240                                 \n",
       "4                                             -6.240                                 \n",
       "\n",
       "  CxFinan\\n < Dez 2021\\n Em moeda orig\\n em milhares\\n de 12 meses\\n consolid:sim*  \\\n",
       "0                                          1.116.915                                 \n",
       "1                                                 90                                 \n",
       "2                                           -222.020                                 \n",
       "3                                             15.548                                 \n",
       "4                                             15.548                                 \n",
       "\n",
       "  CxFinan\\n < Dez 2022\\n Em moeda orig\\n em milhares\\n de 12 meses\\n consolid:sim*  \\\n",
       "0                                            154.975                                 \n",
       "1                                                120                                 \n",
       "2                                            244.191                                 \n",
       "3                                            -19.440                                 \n",
       "4                                            -19.440                                 \n",
       "\n",
       "  CxFinan\\n < Dez 2023\\n Em moeda orig\\n em milhares\\n de 12 meses\\n consolid:sim*  \\\n",
       "0                                            -99.537                                 \n",
       "1                                                120                                 \n",
       "2                                             94.389                                 \n",
       "3                                            -19.280                                 \n",
       "4                                            -19.280                                 \n",
       "\n",
       "  CxFinan\\n < Dez 2024\\n Em moeda orig\\n em milhares\\n de 12 meses\\n consolid:sim*  \\\n",
       "0                                            465.459                                 \n",
       "1                                                100                                 \n",
       "2                                          1.252.058                                 \n",
       "3                                            -43.120                                 \n",
       "4                                            -43.120                                 \n",
       "\n",
       "  Valor Mercado\\nda empresa\\n31Dez20\\nEm moeda orig\\nem milhares  \\\n",
       "0                                                  -               \n",
       "1                                                  -               \n",
       "2                                          3.405.961               \n",
       "3                                            190.118               \n",
       "4                                            190.118               \n",
       "\n",
       "  Valor Mercado\\nda empresa\\n31Dez21\\nEm moeda orig\\nem milhares  \\\n",
       "0                                          4.807.768               \n",
       "1                                                  -               \n",
       "2                                          3.437.406               \n",
       "3                                            218.288               \n",
       "4                                            218.288               \n",
       "\n",
       "  Valor Mercado\\nda empresa\\n31Dez22\\nEm moeda orig\\nem milhares  \\\n",
       "0                                          4.632.208               \n",
       "1                                                  -               \n",
       "2                                          4.255.834               \n",
       "3                                            173.175               \n",
       "4                                            173.175               \n",
       "\n",
       "  Valor Mercado\\nda empresa\\n31Dez23\\nEm moeda orig\\nem milhares  \\\n",
       "0                                          5.997.883               \n",
       "1                                                  -               \n",
       "2                                          5.610.928               \n",
       "3                                            214.508               \n",
       "4                                            214.508               \n",
       "\n",
       "  Valor Mercado\\nda empresa\\n31Dez24\\nEm moeda orig\\nem milhares  \n",
       "0                                          6.845.098              \n",
       "1                                                  -              \n",
       "2                                          4.640.114              \n",
       "3                                            303.623              \n",
       "4                                            303.623              \n",
       "\n",
       "[5 rows x 108 columns]"
      ]
     },
     "execution_count": 247,
     "metadata": {},
     "output_type": "execute_result"
    }
   ],
   "source": [
    "df_economatica.head()"
   ]
  },
  {
   "cell_type": "code",
   "execution_count": 248,
   "metadata": {
    "colab": {
     "base_uri": "https://localhost:8080/"
    },
    "id": "bQLwD535jaj4",
    "outputId": "8a34fc31-3ce0-4713-c5fb-db3c5203cb60"
   },
   "outputs": [
    {
     "name": "stdout",
     "output_type": "stream",
     "text": [
      "<class 'pandas.core.frame.DataFrame'>\n",
      "RangeIndex: 509 entries, 0 to 508\n",
      "Data columns (total 11 columns):\n",
      " #   Column                                                                       Non-Null Count  Dtype \n",
      "---  ------                                                                       --------------  ----- \n",
      " 0   Nome                                                                         509 non-null    object\n",
      " 1   Classe                                                                       509 non-null    object\n",
      " 2   Bolsa / Fonte                                                                509 non-null    object\n",
      " 3   Tipo de Ativo                                                                509 non-null    object\n",
      " 4   Ativo /\n",
      "Cancelado                                                            509 non-null    object\n",
      " 5   Código                                                                       509 non-null    object\n",
      " 6   DivPag\n",
      " < Dez 2020\n",
      " Em moeda orig\n",
      " em milhares\n",
      " no exercício\n",
      " consolid:sim*  509 non-null    object\n",
      " 7   DivPag\n",
      " < Dez 2021\n",
      " Em moeda orig\n",
      " em milhares\n",
      " no exercício\n",
      " consolid:sim*  509 non-null    object\n",
      " 8   DivPag\n",
      " < Dez 2022\n",
      " Em moeda orig\n",
      " em milhares\n",
      " no exercício\n",
      " consolid:sim*  509 non-null    object\n",
      " 9   DivPag\n",
      " < Dez 2023\n",
      " Em moeda orig\n",
      " em milhares\n",
      " no exercício\n",
      " consolid:sim*  509 non-null    object\n",
      " 10  DivPag\n",
      " < Dez 2024\n",
      " Em moeda orig\n",
      " em milhares\n",
      " no exercício\n",
      " consolid:sim*  509 non-null    object\n",
      "dtypes: object(11)\n",
      "memory usage: 43.9+ KB\n"
     ]
    }
   ],
   "source": [
    "df_economatica_dividendos.info()"
   ]
  },
  {
   "cell_type": "code",
   "execution_count": 249,
   "metadata": {
    "colab": {
     "base_uri": "https://localhost:8080/"
    },
    "id": "6uNhgjwljcUM",
    "outputId": "789c0583-6f75-4802-b4f8-17c3db12eb35"
   },
   "outputs": [
    {
     "data": {
      "text/plain": [
       "(509, 11)"
      ]
     },
     "execution_count": 249,
     "metadata": {},
     "output_type": "execute_result"
    }
   ],
   "source": [
    "df_economatica_dividendos.shape"
   ]
  },
  {
   "cell_type": "markdown",
   "metadata": {
    "id": "2LNwvQqzenai"
   },
   "source": [
    "Já aqui vemos que não há a mesma quantidade de linhas. Ou seja, iremos analisar e prorrogar a mesclagem."
   ]
  },
  {
   "cell_type": "code",
   "execution_count": 250,
   "metadata": {
    "colab": {
     "base_uri": "https://localhost:8080/",
     "height": 345
    },
    "id": "7RUxVBrqjdTY",
    "outputId": "f4bb77a8-3a69-4612-e988-44cf376868fc"
   },
   "outputs": [
    {
     "data": {
      "application/vnd.microsoft.datawrangler.viewer.v0+json": {
       "columns": [
        {
         "name": "index",
         "rawType": "int64",
         "type": "integer"
        },
        {
         "name": "Nome",
         "rawType": "object",
         "type": "string"
        },
        {
         "name": "Classe",
         "rawType": "object",
         "type": "string"
        },
        {
         "name": "Bolsa / Fonte",
         "rawType": "object",
         "type": "string"
        },
        {
         "name": "Tipo de Ativo",
         "rawType": "object",
         "type": "string"
        },
        {
         "name": "Ativo /\nCancelado",
         "rawType": "object",
         "type": "string"
        },
        {
         "name": "Código",
         "rawType": "object",
         "type": "string"
        },
        {
         "name": "DivPag\n < Dez 2020\n Em moeda orig\n em milhares\n no exercício\n consolid:sim*",
         "rawType": "object",
         "type": "string"
        },
        {
         "name": "DivPag\n < Dez 2021\n Em moeda orig\n em milhares\n no exercício\n consolid:sim*",
         "rawType": "object",
         "type": "string"
        },
        {
         "name": "DivPag\n < Dez 2022\n Em moeda orig\n em milhares\n no exercício\n consolid:sim*",
         "rawType": "object",
         "type": "string"
        },
        {
         "name": "DivPag\n < Dez 2023\n Em moeda orig\n em milhares\n no exercício\n consolid:sim*",
         "rawType": "object",
         "type": "string"
        },
        {
         "name": "DivPag\n < Dez 2024\n Em moeda orig\n em milhares\n no exercício\n consolid:sim*",
         "rawType": "object",
         "type": "string"
        }
       ],
       "ref": "0e9d7c59-2b07-4ba0-b463-51aa840bd82b",
       "rows": [
        [
         "0",
         "3tentos",
         "ON",
         "Bovespa",
         "Ação",
         "ativo",
         "TTEN3",
         "-28.250",
         "-25.721",
         "-7.595",
         "-57.238",
         "-58.411"
        ],
        [
         "1",
         "524 Particip",
         "ON",
         "Bovespa",
         "Ação",
         "ativo",
         "QVQP3",
         "0",
         "0",
         "0",
         "0",
         "0"
        ],
        [
         "2",
         "Abc Brasil",
         "PN",
         "Bovespa",
         "Ação",
         "ativo",
         "ABCB4",
         "-107.371",
         "-200.651",
         "-309.801",
         "-360.087",
         "-12.708"
        ],
        [
         "3",
         "Aco Altona",
         "ON",
         "Bovespa",
         "Ação",
         "ativo",
         "EALT3",
         "-2.464",
         "-9.142",
         "0",
         "0",
         "0"
        ],
        [
         "4",
         "Aco Altona",
         "PN",
         "Bovespa",
         "Ação",
         "ativo",
         "EALT4",
         "-2.464",
         "-9.142",
         "0",
         "0",
         "0"
        ]
       ],
       "shape": {
        "columns": 11,
        "rows": 5
       }
      },
      "text/html": [
       "<div>\n",
       "<style scoped>\n",
       "    .dataframe tbody tr th:only-of-type {\n",
       "        vertical-align: middle;\n",
       "    }\n",
       "\n",
       "    .dataframe tbody tr th {\n",
       "        vertical-align: top;\n",
       "    }\n",
       "\n",
       "    .dataframe thead th {\n",
       "        text-align: right;\n",
       "    }\n",
       "</style>\n",
       "<table border=\"1\" class=\"dataframe\">\n",
       "  <thead>\n",
       "    <tr style=\"text-align: right;\">\n",
       "      <th></th>\n",
       "      <th>Nome</th>\n",
       "      <th>Classe</th>\n",
       "      <th>Bolsa / Fonte</th>\n",
       "      <th>Tipo de Ativo</th>\n",
       "      <th>Ativo /\\nCancelado</th>\n",
       "      <th>Código</th>\n",
       "      <th>DivPag\\n &lt; Dez 2020\\n Em moeda orig\\n em milhares\\n no exercício\\n consolid:sim*</th>\n",
       "      <th>DivPag\\n &lt; Dez 2021\\n Em moeda orig\\n em milhares\\n no exercício\\n consolid:sim*</th>\n",
       "      <th>DivPag\\n &lt; Dez 2022\\n Em moeda orig\\n em milhares\\n no exercício\\n consolid:sim*</th>\n",
       "      <th>DivPag\\n &lt; Dez 2023\\n Em moeda orig\\n em milhares\\n no exercício\\n consolid:sim*</th>\n",
       "      <th>DivPag\\n &lt; Dez 2024\\n Em moeda orig\\n em milhares\\n no exercício\\n consolid:sim*</th>\n",
       "    </tr>\n",
       "  </thead>\n",
       "  <tbody>\n",
       "    <tr>\n",
       "      <th>0</th>\n",
       "      <td>3tentos</td>\n",
       "      <td>ON</td>\n",
       "      <td>Bovespa</td>\n",
       "      <td>Ação</td>\n",
       "      <td>ativo</td>\n",
       "      <td>TTEN3</td>\n",
       "      <td>-28.250</td>\n",
       "      <td>-25.721</td>\n",
       "      <td>-7.595</td>\n",
       "      <td>-57.238</td>\n",
       "      <td>-58.411</td>\n",
       "    </tr>\n",
       "    <tr>\n",
       "      <th>1</th>\n",
       "      <td>524 Particip</td>\n",
       "      <td>ON</td>\n",
       "      <td>Bovespa</td>\n",
       "      <td>Ação</td>\n",
       "      <td>ativo</td>\n",
       "      <td>QVQP3</td>\n",
       "      <td>0</td>\n",
       "      <td>0</td>\n",
       "      <td>0</td>\n",
       "      <td>0</td>\n",
       "      <td>0</td>\n",
       "    </tr>\n",
       "    <tr>\n",
       "      <th>2</th>\n",
       "      <td>Abc Brasil</td>\n",
       "      <td>PN</td>\n",
       "      <td>Bovespa</td>\n",
       "      <td>Ação</td>\n",
       "      <td>ativo</td>\n",
       "      <td>ABCB4</td>\n",
       "      <td>-107.371</td>\n",
       "      <td>-200.651</td>\n",
       "      <td>-309.801</td>\n",
       "      <td>-360.087</td>\n",
       "      <td>-12.708</td>\n",
       "    </tr>\n",
       "    <tr>\n",
       "      <th>3</th>\n",
       "      <td>Aco Altona</td>\n",
       "      <td>ON</td>\n",
       "      <td>Bovespa</td>\n",
       "      <td>Ação</td>\n",
       "      <td>ativo</td>\n",
       "      <td>EALT3</td>\n",
       "      <td>-2.464</td>\n",
       "      <td>-9.142</td>\n",
       "      <td>0</td>\n",
       "      <td>0</td>\n",
       "      <td>0</td>\n",
       "    </tr>\n",
       "    <tr>\n",
       "      <th>4</th>\n",
       "      <td>Aco Altona</td>\n",
       "      <td>PN</td>\n",
       "      <td>Bovespa</td>\n",
       "      <td>Ação</td>\n",
       "      <td>ativo</td>\n",
       "      <td>EALT4</td>\n",
       "      <td>-2.464</td>\n",
       "      <td>-9.142</td>\n",
       "      <td>0</td>\n",
       "      <td>0</td>\n",
       "      <td>0</td>\n",
       "    </tr>\n",
       "  </tbody>\n",
       "</table>\n",
       "</div>"
      ],
      "text/plain": [
       "           Nome Classe Bolsa / Fonte Tipo de Ativo Ativo /\\nCancelado Código  \\\n",
       "0       3tentos     ON       Bovespa          Ação              ativo  TTEN3   \n",
       "1  524 Particip     ON       Bovespa          Ação              ativo  QVQP3   \n",
       "2    Abc Brasil     PN       Bovespa          Ação              ativo  ABCB4   \n",
       "3    Aco Altona     ON       Bovespa          Ação              ativo  EALT3   \n",
       "4    Aco Altona     PN       Bovespa          Ação              ativo  EALT4   \n",
       "\n",
       "  DivPag\\n < Dez 2020\\n Em moeda orig\\n em milhares\\n no exercício\\n consolid:sim*  \\\n",
       "0                                            -28.250                                 \n",
       "1                                                  0                                 \n",
       "2                                           -107.371                                 \n",
       "3                                             -2.464                                 \n",
       "4                                             -2.464                                 \n",
       "\n",
       "  DivPag\\n < Dez 2021\\n Em moeda orig\\n em milhares\\n no exercício\\n consolid:sim*  \\\n",
       "0                                            -25.721                                 \n",
       "1                                                  0                                 \n",
       "2                                           -200.651                                 \n",
       "3                                             -9.142                                 \n",
       "4                                             -9.142                                 \n",
       "\n",
       "  DivPag\\n < Dez 2022\\n Em moeda orig\\n em milhares\\n no exercício\\n consolid:sim*  \\\n",
       "0                                             -7.595                                 \n",
       "1                                                  0                                 \n",
       "2                                           -309.801                                 \n",
       "3                                                  0                                 \n",
       "4                                                  0                                 \n",
       "\n",
       "  DivPag\\n < Dez 2023\\n Em moeda orig\\n em milhares\\n no exercício\\n consolid:sim*  \\\n",
       "0                                            -57.238                                 \n",
       "1                                                  0                                 \n",
       "2                                           -360.087                                 \n",
       "3                                                  0                                 \n",
       "4                                                  0                                 \n",
       "\n",
       "  DivPag\\n < Dez 2024\\n Em moeda orig\\n em milhares\\n no exercício\\n consolid:sim*  \n",
       "0                                            -58.411                                \n",
       "1                                                  0                                \n",
       "2                                            -12.708                                \n",
       "3                                                  0                                \n",
       "4                                                  0                                "
      ]
     },
     "execution_count": 250,
     "metadata": {},
     "output_type": "execute_result"
    }
   ],
   "source": [
    "df_economatica_dividendos.head()"
   ]
  },
  {
   "cell_type": "markdown",
   "metadata": {
    "id": "UTt1CgaxjiHy"
   },
   "source": [
    "# Manipulação de features"
   ]
  },
  {
   "cell_type": "markdown",
   "metadata": {
    "id": "fDgTAPYbJ55h"
   },
   "source": [
    "## Filtrando a classe por ações ordinárias (ON)"
   ]
  },
  {
   "cell_type": "code",
   "execution_count": 251,
   "metadata": {
    "colab": {
     "base_uri": "https://localhost:8080/"
    },
    "id": "78iUOmOdDfH9",
    "outputId": "1856e54c-9c02-430f-d0a8-52b412143a6d"
   },
   "outputs": [
    {
     "data": {
      "text/plain": [
       "(365, 108)"
      ]
     },
     "execution_count": 251,
     "metadata": {},
     "output_type": "execute_result"
    }
   ],
   "source": [
    "df_economatica_on = df_economatica[df_economatica['Classe'] == 'ON']\n",
    "\n",
    "df_economatica_on.shape"
   ]
  },
  {
   "cell_type": "code",
   "execution_count": 252,
   "metadata": {
    "colab": {
     "base_uri": "https://localhost:8080/"
    },
    "id": "nv9NS49oh6MQ",
    "outputId": "4dea913f-b0a1-4003-9fed-d293a9ca77ac"
   },
   "outputs": [
    {
     "data": {
      "text/plain": [
       "(361, 11)"
      ]
     },
     "execution_count": 252,
     "metadata": {},
     "output_type": "execute_result"
    }
   ],
   "source": [
    "df_economatica_dividendos_on = df_economatica_dividendos[df_economatica_dividendos['Classe'] == 'ON']\n",
    "\n",
    "df_economatica_dividendos_on.shape"
   ]
  },
  {
   "cell_type": "markdown",
   "metadata": {
    "id": "g_8yOxlojp-X"
   },
   "source": [
    "## Remoção de features"
   ]
  },
  {
   "cell_type": "markdown",
   "metadata": {
    "id": "0xQuoHkIkZsL"
   },
   "source": [
    "Removendo as colunas \"Classe\", \"Bolsa / Fonte\", \"Tipo de Ativo\", \"Ativo / Cancelado\" e \"Setor Agro Bovespa\", pois todas essas colunas possuíam o mesmo valor para todas as linhas (ações), sendo \"ON\", \"Bovespa\", \"Ação\" e \"ativo\", respectivamente, esses valores não serão relevantes a partir de agora e todos possuem o mesmo valor.\n",
    "\n",
    "<br>\n",
    "\n",
    "A justificativa de remover a coluna \"Setor Agro Bovespa\" se dá pelo fato de que iremos realizar o OneHotEndcoding mais para frente, logo é mais simples remover a coluna do que normalizar os valores.\n",
    "\n",
    "<br>\n",
    "\n",
    "As colunas de ativos/passivos circulantes e não circulantes, são os componentes que formam valores maiores, como o ativo_total e o passivo_total. A informação contida nelas já está representada de forma mais consolidada e útil nos próprios totais e, principalmente, nos indicadores de liquidez e endividamento. Mantê-las no modelo criaria uma redundância desnecessária. Porém elas serão removidas posteriormente, pois serão utilizadas para cálculos."
   ]
  },
  {
   "cell_type": "code",
   "execution_count": 253,
   "metadata": {
    "colab": {
     "base_uri": "https://localhost:8080/"
    },
    "id": "Hjwwlc-7jCp6",
    "outputId": "260c2a38-e80c-4a01-be8d-1805fedde541"
   },
   "outputs": [
    {
     "data": {
      "text/plain": [
       "(365, 103)"
      ]
     },
     "execution_count": 253,
     "metadata": {},
     "output_type": "execute_result"
    }
   ],
   "source": [
    "colunas_para_remover_df_economatica = [\n",
    "    'Classe',\n",
    "    'Bolsa / Fonte',\n",
    "    'Tipo de Ativo',\n",
    "    'Ativo /\\nCancelado',\n",
    "    'Setor Agro\\nBovespa',\n",
    "    # 'AtvCir\\n < Dez 2020\\n Em moeda orig\\n em milhares\\n consolid:sim*',\n",
    "    # 'AtvCir\\n < Dez 2021\\n Em moeda orig\\n em milhares\\n consolid:sim*',\n",
    "    # 'AtvCir\\n < Dez 2022\\n Em moeda orig\\n em milhares\\n consolid:sim*',\n",
    "    # 'AtvCir\\n < Dez 2023\\n Em moeda orig\\n em milhares\\n consolid:sim*',\n",
    "    # 'AtvCir\\n < Dez 2024\\n Em moeda orig\\n em milhares\\n consolid:sim*',\n",
    "    # 'AtvNaoCir\\n < Dez 2020\\n Em moeda orig\\n em milhares\\n consolid:sim*',\n",
    "    # 'AtvNaoCir\\n < Dez 2021\\n Em moeda orig\\n em milhares\\n consolid:sim*',\n",
    "    # 'AtvNaoCir\\n < Dez 2022\\n Em moeda orig\\n em milhares\\n consolid:sim*',\n",
    "    # 'AtvNaoCir\\n < Dez 2023\\n Em moeda orig\\n em milhares\\n consolid:sim*',\n",
    "    # 'AtvNaoCir\\n < Dez 2024\\n Em moeda orig\\n em milhares\\n consolid:sim*',\n",
    "    # 'PasCir\\n < Dez 2020\\n Em moeda orig\\n em milhares\\n consolid:sim*',\n",
    "    # 'PasCir\\n < Set 2021\\n Em moeda orig\\n em milhares\\n consolid:sim*',\n",
    "    # 'PasCir\\n < Dez 2022\\n Em moeda orig\\n em milhares\\n consolid:sim*',\n",
    "    # 'PasCir\\n < Dez 2023\\n Em moeda orig\\n em milhares\\n consolid:sim*',\n",
    "    # 'PasCir\\n < Dez 2024\\n Em moeda orig\\n em milhares\\n consolid:sim*',\n",
    "    # 'PasNoCir\\n < Dez 2020\\n Em moeda orig\\n em milhares\\n consolid:sim*',\n",
    "    # 'PasNoCir\\n < Dez 2021\\n Em moeda orig\\n em milhares\\n consolid:sim*',\n",
    "    # 'PasNoCir\\n < Dez 2022\\n Em moeda orig\\n em milhares\\n consolid:sim*',\n",
    "    # 'PasNoCir\\n < Dez 2023\\n Em moeda orig\\n em milhares\\n consolid:sim*',\n",
    "    # 'PasNoCir\\n < Dez 2024\\n Em moeda orig\\n em milhares\\n consolid:sim*',\n",
    "    # 'Ativo Tot\\n < Dez 2020\\n Em moeda orig\\n em milhares\\n consolid:sim*',\n",
    "    # 'Ativo Tot\\n < Dez 2021\\n Em moeda orig\\n em milhares\\n consolid:sim*',\n",
    "    # 'Ativo Tot\\n < Dez 2022\\n Em moeda orig\\n em milhares\\n consolid:sim*',\n",
    "    # 'Ativo Tot\\n < Dez 2023\\n Em moeda orig\\n em milhares\\n consolid:sim*',\n",
    "    # 'Ativo Tot\\n < Dez 2024\\n Em moeda orig\\n em milhares\\n consolid:sim*',\n",
    "    # 'Patrim Liq\\n < Dez 2020\\n Em moeda orig\\n em milhares\\n consolid:sim*',\n",
    "    # 'Patrim Liq\\n < Dez 2021\\n Em moeda orig\\n em milhares\\n consolid:sim*',\n",
    "    # 'Patrim Liq\\n < Dez 2022\\n Em moeda orig\\n em milhares\\n consolid:sim*',\n",
    "    # 'Patrim Liq\\n < Dez 2023\\n Em moeda orig\\n em milhares\\n consolid:sim*',\n",
    "    # 'Patrim Liq\\n < Dez 2024\\n Em moeda orig\\n em milhares\\n consolid:sim*',\n",
    "    # 'Receita\\n < Dez 2020\\n Em moeda orig\\n em milhares\\n no exercício\\n consolid:sim*',\n",
    "    # 'Receita\\n < Dez 2021\\n Em moeda orig\\n em milhares\\n no exercício\\n consolid:sim*',\n",
    "    # 'Receita\\n < Dez 2022\\n Em moeda orig\\n em milhares\\n no exercício\\n consolid:sim*',\n",
    "    # 'Receita\\n < Dez 2023\\n Em moeda orig\\n em milhares\\n no exercício\\n consolid:sim*',\n",
    "    # 'Receita\\n < Dez 2024\\n Em moeda orig\\n em milhares\\n no exercício\\n consolid:sim*',\n",
    "    # 'Lucro Liquido\\n < Dez 2020\\n Em moeda orig\\n em milhares\\n no exercício\\n consolid:sim*',\n",
    "    # 'Lucro Liquido\\n < Dez 2021\\n Em moeda orig\\n em milhares\\n no exercício\\n consolid:sim*',\n",
    "    # 'Lucro Liquido\\n < Dez 2022\\n Em moeda orig\\n em milhares\\n no exercício\\n consolid:sim*',\n",
    "    # 'Lucro Liquido\\n < Dez 2023\\n Em moeda orig\\n em milhares\\n no exercício\\n consolid:sim*',\n",
    "    # 'Lucro Liquido\\n < Dez 2024\\n Em moeda orig\\n em milhares\\n no exercício\\n consolid:sim*',\n",
    "]\n",
    "\n",
    "df_economatica_colunas_removidas = df_economatica_on.drop(columns=colunas_para_remover_df_economatica).copy()\n",
    "\n",
    "df_economatica_colunas_removidas.shape"
   ]
  },
  {
   "cell_type": "code",
   "execution_count": 254,
   "metadata": {
    "colab": {
     "base_uri": "https://localhost:8080/"
    },
    "id": "IOsuKudKjSN7",
    "outputId": "83dabd1c-e574-4764-ff85-fd8fcd6f0588"
   },
   "outputs": [
    {
     "data": {
      "text/plain": [
       "(361, 7)"
      ]
     },
     "execution_count": 254,
     "metadata": {},
     "output_type": "execute_result"
    }
   ],
   "source": [
    "colunas_para_remover_df_economatica_dividendos = [\n",
    "    'Classe',\n",
    "    'Bolsa / Fonte',\n",
    "    'Tipo de Ativo',\n",
    "    'Ativo /\\nCancelado'\n",
    "]\n",
    "\n",
    "df_economatica_dividendos_colunas_removidas = df_economatica_dividendos_on.drop(columns=colunas_para_remover_df_economatica_dividendos)\n",
    "\n",
    "df_economatica_dividendos_colunas_removidas.shape"
   ]
  },
  {
   "cell_type": "markdown",
   "metadata": {
    "id": "Uq2le294Ouhf"
   },
   "source": [
    "## Renomeando as colunas"
   ]
  },
  {
   "cell_type": "code",
   "execution_count": 255,
   "metadata": {
    "colab": {
     "base_uri": "https://localhost:8080/"
    },
    "id": "cMnCTKeBX17U",
    "outputId": "08278d1b-fb9e-4657-9b5a-2e735252e9d9"
   },
   "outputs": [
    {
     "data": {
      "text/plain": [
       "Index(['nome', 'codigo', 'setor', 'ativo_circulante_2020',\n",
       "       'ativo_circulante_2021', 'ativo_circulante_2022',\n",
       "       'ativo_circulante_2023', 'ativo_circulante_2024',\n",
       "       'ativo_nao_circulante_2020', 'ativo_nao_circulante_2021',\n",
       "       ...\n",
       "       'caixa_financeiro_2020', 'caixa_financeiro_2021',\n",
       "       'caixa_financeiro_2022', 'caixa_financeiro_2023',\n",
       "       'caixa_financeiro_2024', 'valor_mercado_2020', 'valor_mercado_2021',\n",
       "       'valor_mercado_2022', 'valor_mercado_2023', 'valor_mercado_2024'],\n",
       "      dtype='object', length=103)"
      ]
     },
     "execution_count": 255,
     "metadata": {},
     "output_type": "execute_result"
    }
   ],
   "source": [
    "novos_nomes_colunas_df_economatica = [\n",
    "    'nome', 'codigo', 'setor',\n",
    "    'ativo_circulante_2020', 'ativo_circulante_2021', 'ativo_circulante_2022', 'ativo_circulante_2023', 'ativo_circulante_2024',\n",
    "    'ativo_nao_circulante_2020', 'ativo_nao_circulante_2021', 'ativo_nao_circulante_2022', 'ativo_nao_circulante_2023', 'ativo_nao_circulante_2024',\n",
    "    'passivo_circulante_2020', 'passivo_circulante_2021', 'passivo_circulante_2022', 'passivo_circulante_2023', 'passivo_circulante_2024',\n",
    "    'passivo_nao_circulante_2020', 'passivo_nao_circulante_2021', 'passivo_nao_circulante_2022', 'passivo_nao_circulante_2023', 'passivo_nao_circulante_2024',\n",
    "    'patrimonio_liquido_2020', 'patrimonio_liquido_2021', 'patrimonio_liquido_2022', 'patrimonio_liquido_2023', 'patrimonio_liquido_2024',\n",
    "    'lpa_2020', 'lpa_2021', 'lpa_2022', 'lpa_2023', 'lpa_2024',\n",
    "    'receita_2020', 'receita_2021', 'receita_2022', 'receita_2023', 'receita_2024',\n",
    "    'lucro_liquido_2020', 'lucro_liquido_2021', 'lucro_liquido_2022', 'lucro_liquido_2023', 'lucro_liquido_2024',\n",
    "    'divida_bruta_ativo_2020', 'divida_bruta_ativo_2021', 'divida_bruta_ativo_2022', 'divida_bruta_ativo_2023', 'divida_bruta_ativo_2024',\n",
    "    'liquidez_corrente_2020', 'liquidez_corrente_2021', 'liquidez_corrente_2022', 'liquidez_corrente_2023', 'liquidez_corrente_2024',\n",
    "    'liquidez_geral_2020', 'liquidez_geral_2021', 'liquidez_geral_2022', 'liquidez_geral_2023', 'liquidez_geral_2024',\n",
    "    'rentabilidade_ativo_2020', 'rentabilidade_ativo_2021', 'rentabilidade_ativo_2022', 'rentabilidade_ativo_2023', 'rentabilidade_ativo_2024',\n",
    "    'roe_2020', 'roe_2021', 'roe_2022', 'roe_2023', 'roe_2024',\n",
    "    'margem_ebit_2020', 'margem_ebit_2021', 'margem_ebit_2022', 'margem_ebit_2023', 'margem_ebit_2024',\n",
    "    'margem_liquida_2020', 'margem_liquida_2021', 'margem_liquida_2022', 'margem_liquida_2023', 'margem_liquida_2024',\n",
    "    'ativo_total_2020', 'ativo_total_2021', 'ativo_total_2022', 'ativo_total_2023', 'ativo_total_2024',\n",
    "    'caixa_operacional_2020', 'caixa_operacional_2021', 'caixa_operacional_2022', 'caixa_operacional_2023', 'caixa_operacional_2024',\n",
    "    'caixa_investimento_2020', 'caixa_investimento_2021', 'caixa_investimento_2022', 'caixa_investimento_2023', 'caixa_investimento_2024',\n",
    "    'caixa_financeiro_2020', 'caixa_financeiro_2021', 'caixa_financeiro_2022', 'caixa_financeiro_2023', 'caixa_financeiro_2024',\n",
    "    'valor_mercado_2020', 'valor_mercado_2021', 'valor_mercado_2022', 'valor_mercado_2023', 'valor_mercado_2024'\n",
    "]\n",
    "\n",
    "df_economatica_renomeado = df_economatica_colunas_removidas.copy()\n",
    "df_economatica_renomeado.columns = novos_nomes_colunas_df_economatica\n",
    "\n",
    "df_economatica_renomeado.columns"
   ]
  },
  {
   "cell_type": "code",
   "execution_count": 256,
   "metadata": {
    "colab": {
     "base_uri": "https://localhost:8080/"
    },
    "id": "5MwkjSF0kkqx",
    "outputId": "09d5287b-441f-416d-c372-122464f3f6f2"
   },
   "outputs": [
    {
     "data": {
      "text/plain": [
       "Index(['nome', 'codigo', 'dividendos_2020', 'dividendos_2021',\n",
       "       'dividendos_2022', 'dividendos_2023', 'dividendos_2024'],\n",
       "      dtype='object')"
      ]
     },
     "execution_count": 256,
     "metadata": {},
     "output_type": "execute_result"
    }
   ],
   "source": [
    "novos_nomes_colunas_df_economatica_dividendos = [\n",
    "    'nome', 'codigo', 'dividendos_2020', 'dividendos_2021', 'dividendos_2022', 'dividendos_2023', 'dividendos_2024'\n",
    "]\n",
    "\n",
    "df_economatica_dividendos_renomeado = df_economatica_dividendos_colunas_removidas.copy()\n",
    "df_economatica_dividendos_renomeado.columns = novos_nomes_colunas_df_economatica_dividendos\n",
    "\n",
    "df_economatica_dividendos_renomeado.columns"
   ]
  },
  {
   "cell_type": "markdown",
   "metadata": {
    "id": "uPE2pN50miU5"
   },
   "source": [
    "## Verificando integridade dos dados"
   ]
  },
  {
   "cell_type": "markdown",
   "metadata": {
    "id": "uEdzUzrKmoz-"
   },
   "source": [
    "Antes de criar as novas features, devemos mesclar os dataframes, mas como vimos anteriormente, a quantidade de linhas está diferente, e é isso que iremos analisar neste bloco.\n",
    "\n",
    "Para fazer isso, basta verificar qual código não está presente no dataset dos dividendos."
   ]
  },
  {
   "cell_type": "code",
   "execution_count": 257,
   "metadata": {
    "colab": {
     "base_uri": "https://localhost:8080/",
     "height": 321
    },
    "id": "VHRDpBQLmoWM",
    "outputId": "79fab7f4-0e33-4b1f-b9cf-c244ac7b3b2a"
   },
   "outputs": [
    {
     "name": "stdout",
     "output_type": "stream",
     "text": [
      "Foi encontrado 7 códigos presentes em df_economatica_dividendos_renomeado, mas ausentes em df_economatica_renomeado:\n"
     ]
    },
    {
     "data": {
      "application/vnd.microsoft.datawrangler.viewer.v0+json": {
       "columns": [
        {
         "name": "index",
         "rawType": "int64",
         "type": "integer"
        },
        {
         "name": "codigo",
         "rawType": "object",
         "type": "string"
        }
       ],
       "ref": "eb94add4-eb56-4d97-bce4-c49349d9a8e0",
       "rows": [
        [
         "128",
         "CTAX3"
        ],
        [
         "216",
         "GOLL53"
        ],
        [
         "227",
         "TOKY3"
        ],
        [
         "270",
         "JBSS32"
        ],
        [
         "327",
         "MOTV3"
        ],
        [
         "391",
         "CCTY3"
        ],
        [
         "400",
         "RVEE3"
        ]
       ],
       "shape": {
        "columns": 1,
        "rows": 7
       }
      },
      "text/plain": [
       "128     CTAX3\n",
       "216    GOLL53\n",
       "227     TOKY3\n",
       "270    JBSS32\n",
       "327     MOTV3\n",
       "391     CCTY3\n",
       "400     RVEE3\n",
       "Name: codigo, dtype: object"
      ]
     },
     "execution_count": 257,
     "metadata": {},
     "output_type": "execute_result"
    }
   ],
   "source": [
    "codigos_ausentes_em_economatica_limpo = df_economatica_dividendos_renomeado[\n",
    "    ~df_economatica_dividendos_renomeado['codigo'].isin(df_economatica_renomeado['codigo'])\n",
    "]['codigo']\n",
    "\n",
    "print(f\"Foi encontrado {codigos_ausentes_em_economatica_limpo.count()} códigos presentes em df_economatica_dividendos_renomeado, mas ausentes em df_economatica_renomeado:\")\n",
    "codigos_ausentes_em_economatica_limpo"
   ]
  },
  {
   "cell_type": "code",
   "execution_count": 258,
   "metadata": {
    "colab": {
     "base_uri": "https://localhost:8080/",
     "height": 446
    },
    "id": "PCeH7AvsqMfx",
    "outputId": "bdb04c32-e080-4f58-d4fb-9879389de113"
   },
   "outputs": [
    {
     "name": "stdout",
     "output_type": "stream",
     "text": [
      "Foi encontrado 11 códigos presentes em df_economatica_renomeado, mas ausentes em df_economatica_dividendos_renomeado:\n"
     ]
    },
    {
     "data": {
      "application/vnd.microsoft.datawrangler.viewer.v0+json": {
       "columns": [
        {
         "name": "index",
         "rawType": "int64",
         "type": "integer"
        },
        {
         "name": "codigo",
         "rawType": "object",
         "type": "string"
        }
       ],
       "ref": "05e6accd-15a2-4771-bc09-35388c0c0f9e",
       "rows": [
        [
         "35",
         "ATMP3"
        ],
        [
         "93",
         "CRFB3"
        ],
        [
         "98",
         "CCRO3"
        ],
        [
         "116",
         "CLSA3"
        ],
        [
         "158",
         "DMFN3"
        ],
        [
         "170",
         "ELMD3"
        ],
        [
         "221",
         "GOLL3"
        ],
        [
         "274",
         "JBSS3"
        ],
        [
         "287",
         "KRSA3"
        ],
        [
         "331",
         "MBLY3"
        ],
        [
         "485",
         "UPKP3"
        ]
       ],
       "shape": {
        "columns": 1,
        "rows": 11
       }
      },
      "text/plain": [
       "35     ATMP3\n",
       "93     CRFB3\n",
       "98     CCRO3\n",
       "116    CLSA3\n",
       "158    DMFN3\n",
       "170    ELMD3\n",
       "221    GOLL3\n",
       "274    JBSS3\n",
       "287    KRSA3\n",
       "331    MBLY3\n",
       "485    UPKP3\n",
       "Name: codigo, dtype: object"
      ]
     },
     "execution_count": 258,
     "metadata": {},
     "output_type": "execute_result"
    }
   ],
   "source": [
    "codigos_ausentes_em_dividendos_limpo = df_economatica_renomeado[\n",
    "    ~df_economatica_renomeado['codigo'].isin(df_economatica_dividendos_renomeado['codigo'])\n",
    "]['codigo']\n",
    "\n",
    "print(f\"Foi encontrado {codigos_ausentes_em_dividendos_limpo.count()} códigos presentes em df_economatica_renomeado, mas ausentes em df_economatica_dividendos_renomeado:\")\n",
    "codigos_ausentes_em_dividendos_limpo"
   ]
  },
  {
   "cell_type": "code",
   "execution_count": 259,
   "metadata": {
    "colab": {
     "base_uri": "https://localhost:8080/",
     "height": 290
    },
    "id": "CkJCkPoKqWvr",
    "outputId": "7b584eed-f25c-46c9-d093-6e4aee378e9e"
   },
   "outputs": [
    {
     "name": "stdout",
     "output_type": "stream",
     "text": [
      "Foi encontrado 6 nomes de empresas presentes em df_economatica_dividendos_renomeado, mas ausentes em df_economatica_renomeado:\n"
     ]
    },
    {
     "data": {
      "application/vnd.microsoft.datawrangler.viewer.v0+json": {
       "columns": [
        {
         "name": "index",
         "rawType": "int64",
         "type": "integer"
        },
        {
         "name": "nome",
         "rawType": "object",
         "type": "string"
        }
       ],
       "ref": "b66bbe16-e0a3-42f2-ad7b-a56152f7df8e",
       "rows": [
        [
         "128",
         "Contax"
        ],
        [
         "227",
         "Grupo Toky"
        ],
        [
         "270",
         "JBS Nv"
        ],
        [
         "327",
         "Motiva SA"
        ],
        [
         "391",
         "Rdvc City"
        ],
        [
         "400",
         "Revee"
        ]
       ],
       "shape": {
        "columns": 1,
        "rows": 6
       }
      },
      "text/plain": [
       "128        Contax\n",
       "227    Grupo Toky\n",
       "270        JBS Nv\n",
       "327     Motiva SA\n",
       "391     Rdvc City\n",
       "400         Revee\n",
       "Name: nome, dtype: object"
      ]
     },
     "execution_count": 259,
     "metadata": {},
     "output_type": "execute_result"
    }
   ],
   "source": [
    "nomes_ausentes_em_economatica_limpo = df_economatica_dividendos_renomeado[\n",
    "    ~df_economatica_dividendos_renomeado['nome'].isin(df_economatica_renomeado['nome'])\n",
    "]['nome']\n",
    "\n",
    "print(f\"Foi encontrado {nomes_ausentes_em_economatica_limpo.count()} nomes de empresas presentes em df_economatica_dividendos_renomeado, mas ausentes em df_economatica_renomeado:\")\n",
    "nomes_ausentes_em_economatica_limpo"
   ]
  },
  {
   "cell_type": "code",
   "execution_count": 260,
   "metadata": {
    "colab": {
     "base_uri": "https://localhost:8080/",
     "height": 432
    },
    "id": "yCTDXzyAq1p3",
    "outputId": "308d4313-602f-4c52-ddf4-786b9e350653"
   },
   "outputs": [
    {
     "name": "stdout",
     "output_type": "stream",
     "text": [
      "\n",
      " Foi encontrado 10 nomes de empresas presentes em df_economatica_renomeado, mas ausentes em df_economatica_dividendos_renomeado:\n"
     ]
    },
    {
     "data": {
      "application/vnd.microsoft.datawrangler.viewer.v0+json": {
       "columns": [
        {
         "name": "index",
         "rawType": "int64",
         "type": "integer"
        },
        {
         "name": "nome",
         "rawType": "object",
         "type": "string"
        }
       ],
       "ref": "08b13410-d2c2-4207-8e92-e56168790088",
       "rows": [
        [
         "35",
         "Atmasa"
        ],
        [
         "93",
         "Carrefour BR"
        ],
        [
         "98",
         "CCR SA"
        ],
        [
         "116",
         "Clearsale"
        ],
        [
         "158",
         "Dmfinanceira"
        ],
        [
         "170",
         "Eletromidia"
        ],
        [
         "274",
         "JBS"
        ],
        [
         "287",
         "Kora Saude"
        ],
        [
         "331",
         "Mobly"
        ],
        [
         "485",
         "Uptick"
        ]
       ],
       "shape": {
        "columns": 1,
        "rows": 10
       }
      },
      "text/plain": [
       "35           Atmasa\n",
       "93     Carrefour BR\n",
       "98           CCR SA\n",
       "116       Clearsale\n",
       "158    Dmfinanceira\n",
       "170     Eletromidia\n",
       "274             JBS\n",
       "287      Kora Saude\n",
       "331           Mobly\n",
       "485          Uptick\n",
       "Name: nome, dtype: object"
      ]
     },
     "execution_count": 260,
     "metadata": {},
     "output_type": "execute_result"
    }
   ],
   "source": [
    "nomes_ausentes_em_dividendos_limpo = df_economatica_renomeado[\n",
    "    ~df_economatica_renomeado['nome'].isin(df_economatica_dividendos_renomeado['nome'])\n",
    "]['nome']\n",
    "\n",
    "print(f\"\\n Foi encontrado {nomes_ausentes_em_dividendos_limpo.count()} nomes de empresas presentes em df_economatica_renomeado, mas ausentes em df_economatica_dividendos_renomeado:\")\n",
    "nomes_ausentes_em_dividendos_limpo"
   ]
  },
  {
   "cell_type": "markdown",
   "metadata": {
    "id": "CUL9RLPbxupu"
   },
   "source": [
    "Verificado os valores inconsistentes, iremos removê-los."
   ]
  },
  {
   "cell_type": "code",
   "execution_count": 261,
   "metadata": {
    "colab": {
     "base_uri": "https://localhost:8080/"
    },
    "id": "W4wmE4cTyL6-",
    "outputId": "09833b46-e205-4120-8fcb-41fcbb4b3c92"
   },
   "outputs": [
    {
     "name": "stdout",
     "output_type": "stream",
     "text": [
      "Shape de df_economatica_renomeado após remoção: (354, 103)\n"
     ]
    }
   ],
   "source": [
    "df_economatica_filtrado = df_economatica_renomeado[\n",
    "    df_economatica_renomeado['codigo'].isin(df_economatica_dividendos_renomeado['codigo'])\n",
    "].copy()\n",
    "\n",
    "print(f\"Shape de df_economatica_renomeado após remoção: {df_economatica_filtrado.shape}\")"
   ]
  },
  {
   "cell_type": "code",
   "execution_count": 262,
   "metadata": {
    "colab": {
     "base_uri": "https://localhost:8080/"
    },
    "id": "MFq3QIaVyhwO",
    "outputId": "499ed631-00ae-4310-cb56-dd56c2de50f7"
   },
   "outputs": [
    {
     "name": "stdout",
     "output_type": "stream",
     "text": [
      "Shape de df_economatica_dividendos_renomeado após remoção: (354, 7)\n"
     ]
    }
   ],
   "source": [
    "df_economatica_dividendos_filtrado = df_economatica_dividendos_renomeado[\n",
    "    df_economatica_dividendos_renomeado['codigo'].isin(df_economatica_renomeado['codigo'])\n",
    "].copy()\n",
    "\n",
    "print(f\"Shape de df_economatica_dividendos_renomeado após remoção: {df_economatica_dividendos_filtrado.shape}\")"
   ]
  },
  {
   "cell_type": "markdown",
   "metadata": {
    "id": "oOnz4w5PYNzh"
   },
   "source": [
    "## Mesclagem dos datasets"
   ]
  },
  {
   "cell_type": "markdown",
   "metadata": {
    "id": "WhXJXKAwy29j"
   },
   "source": [
    "Agora que temos os datasets com os mesmos registros, iremos mesclá-los."
   ]
  },
  {
   "cell_type": "code",
   "execution_count": 263,
   "metadata": {
    "colab": {
     "base_uri": "https://localhost:8080/"
    },
    "id": "gWE9HRx_YT_q",
    "outputId": "51cea2f8-b76b-4d9b-eab5-4515d3f3e914"
   },
   "outputs": [
    {
     "name": "stdout",
     "output_type": "stream",
     "text": [
      "Shape do DataFrame mesclado:\n",
      "(354, 108)\n"
     ]
    }
   ],
   "source": [
    "colunas_dividendos_para_mesclar = [col for col in df_economatica_dividendos_filtrado.columns if col not in df_economatica_filtrado.columns or col == 'codigo']\n",
    "\n",
    "df_economatica_mesclado = pd.merge(\n",
    "    df_economatica_filtrado,\n",
    "    df_economatica_dividendos_filtrado[colunas_dividendos_para_mesclar],\n",
    "    on='codigo',\n",
    "    how='left'\n",
    ")\n",
    "\n",
    "print(\"Shape do DataFrame mesclado:\")\n",
    "print(df_economatica_mesclado.shape)"
   ]
  },
  {
   "cell_type": "code",
   "execution_count": 264,
   "metadata": {
    "colab": {
     "base_uri": "https://localhost:8080/"
    },
    "id": "s5RNiDy-Yhnd",
    "outputId": "8c6a2762-7bc4-458f-85d4-675a9c3c5324"
   },
   "outputs": [
    {
     "name": "stdout",
     "output_type": "stream",
     "text": [
      "<class 'pandas.core.frame.DataFrame'>\n",
      "RangeIndex: 354 entries, 0 to 353\n",
      "Columns: 108 entries, nome to dividendos_2024\n",
      "dtypes: object(108)\n",
      "memory usage: 298.8+ KB\n"
     ]
    }
   ],
   "source": [
    "df_economatica_mesclado.info()"
   ]
  },
  {
   "cell_type": "code",
   "execution_count": 265,
   "metadata": {
    "colab": {
     "base_uri": "https://localhost:8080/"
    },
    "id": "gOOnZCQJYnN7",
    "outputId": "7362fa9c-5ca9-457b-a287-2e497709272c"
   },
   "outputs": [
    {
     "data": {
      "text/plain": [
       "Index(['nome', 'codigo', 'setor', 'ativo_circulante_2020',\n",
       "       'ativo_circulante_2021', 'ativo_circulante_2022',\n",
       "       'ativo_circulante_2023', 'ativo_circulante_2024',\n",
       "       'ativo_nao_circulante_2020', 'ativo_nao_circulante_2021',\n",
       "       ...\n",
       "       'valor_mercado_2020', 'valor_mercado_2021', 'valor_mercado_2022',\n",
       "       'valor_mercado_2023', 'valor_mercado_2024', 'dividendos_2020',\n",
       "       'dividendos_2021', 'dividendos_2022', 'dividendos_2023',\n",
       "       'dividendos_2024'],\n",
       "      dtype='object', length=108)"
      ]
     },
     "execution_count": 265,
     "metadata": {},
     "output_type": "execute_result"
    }
   ],
   "source": [
    "df_economatica_mesclado.columns"
   ]
  },
  {
   "cell_type": "markdown",
   "metadata": {
    "id": "5W8jfdG9YuUB"
   },
   "source": [
    "Procurando atras do regex '_\\d{4}$' todas as colunas que terminam com _ano\n"
   ]
  },
  {
   "cell_type": "code",
   "execution_count": 266,
   "metadata": {
    "id": "3SbJME-OUlkI"
   },
   "outputs": [],
   "source": [
    "colunas_com_ano = [col for col in df_economatica_mesclado.columns if re.search(r'_\\d{4}$', col)]"
   ]
  },
  {
   "cell_type": "markdown",
   "metadata": {
    "id": "MAcPjnVuY8vk"
   },
   "source": [
    "Dividindo a base das colunas por ano"
   ]
  },
  {
   "cell_type": "code",
   "execution_count": 267,
   "metadata": {
    "id": "JPsIxZW5W12K"
   },
   "outputs": [],
   "source": [
    "base_colunas = defaultdict(list)\n",
    "for col in colunas_com_ano:\n",
    "    match = re.match(r\"(.*)_(\\d{4})$\", col)\n",
    "    if match:\n",
    "        base, ano = match.groups()\n",
    "        base_colunas[base].append(col)"
   ]
  },
  {
   "cell_type": "markdown",
   "metadata": {
    "id": "jD9vfAxEZYwj"
   },
   "source": [
    "Fazendo o melt (extensão dos dados) com o ano"
   ]
  },
  {
   "cell_type": "code",
   "execution_count": 268,
   "metadata": {
    "id": "j4aYr8ujWwP1"
   },
   "outputs": [],
   "source": [
    "dfs_long = []\n",
    "id_vars = [col for col in df_economatica_mesclado.columns if col not in colunas_com_ano]  # colunas que você quer manter (ex: nome, setor, etc.)\n",
    "\n",
    "for base, cols in base_colunas.items():\n",
    "    # melt para cada base\n",
    "    df_long = df_economatica_mesclado.melt(id_vars=id_vars, value_vars=cols,\n",
    "                      var_name='variavel', value_name=base)\n",
    "    # extrai o ano\n",
    "    df_long['ano'] = df_long['variavel'].str.extract(r'(\\d{4})$')\n",
    "    # drop coluna temporária\n",
    "    df_long = df_long.drop(columns=['variavel'])\n",
    "    dfs_long.append(df_long)\n",
    "\n",
    "# Agora você pode juntar tudo pelo id_vars + ano\n",
    "from functools import reduce\n",
    "\n",
    "df_economatica_com_ano = reduce(lambda left, right: pd.merge(left, right, on=id_vars + ['ano'], how='outer'), dfs_long)"
   ]
  },
  {
   "cell_type": "code",
   "execution_count": 269,
   "metadata": {
    "colab": {
     "base_uri": "https://localhost:8080/",
     "height": 1000
    },
    "id": "i1amKWvLXILz",
    "outputId": "ba79e816-d93a-4c31-ab5b-df6a8dda7293"
   },
   "outputs": [
    {
     "data": {
      "application/vnd.microsoft.datawrangler.viewer.v0+json": {
       "columns": [
        {
         "name": "index",
         "rawType": "int64",
         "type": "integer"
        },
        {
         "name": "nome",
         "rawType": "object",
         "type": "string"
        },
        {
         "name": "codigo",
         "rawType": "object",
         "type": "string"
        },
        {
         "name": "setor",
         "rawType": "object",
         "type": "string"
        },
        {
         "name": "ativo_circulante",
         "rawType": "object",
         "type": "string"
        },
        {
         "name": "ano",
         "rawType": "object",
         "type": "string"
        },
        {
         "name": "ativo_nao_circulante",
         "rawType": "object",
         "type": "string"
        },
        {
         "name": "passivo_circulante",
         "rawType": "object",
         "type": "string"
        },
        {
         "name": "passivo_nao_circulante",
         "rawType": "object",
         "type": "string"
        },
        {
         "name": "patrimonio_liquido",
         "rawType": "object",
         "type": "string"
        },
        {
         "name": "lpa",
         "rawType": "object",
         "type": "string"
        },
        {
         "name": "receita",
         "rawType": "object",
         "type": "string"
        },
        {
         "name": "lucro_liquido",
         "rawType": "object",
         "type": "string"
        },
        {
         "name": "divida_bruta_ativo",
         "rawType": "object",
         "type": "string"
        },
        {
         "name": "liquidez_corrente",
         "rawType": "object",
         "type": "string"
        },
        {
         "name": "liquidez_geral",
         "rawType": "object",
         "type": "string"
        },
        {
         "name": "rentabilidade_ativo",
         "rawType": "object",
         "type": "string"
        },
        {
         "name": "roe",
         "rawType": "object",
         "type": "string"
        },
        {
         "name": "margem_ebit",
         "rawType": "object",
         "type": "string"
        },
        {
         "name": "margem_liquida",
         "rawType": "object",
         "type": "string"
        },
        {
         "name": "ativo_total",
         "rawType": "object",
         "type": "string"
        },
        {
         "name": "caixa_operacional",
         "rawType": "object",
         "type": "string"
        },
        {
         "name": "caixa_investimento",
         "rawType": "object",
         "type": "string"
        },
        {
         "name": "caixa_financeiro",
         "rawType": "object",
         "type": "string"
        },
        {
         "name": "valor_mercado",
         "rawType": "object",
         "type": "string"
        },
        {
         "name": "dividendos",
         "rawType": "object",
         "type": "string"
        }
       ],
       "ref": "4bcc8f45-3706-400d-b0ba-db76fa15582d",
       "rows": [
        [
         "0",
         "3tentos",
         "TTEN3",
         "Atividades auxiliares à agricultura",
         "1.770.014",
         "2020",
         "551.359",
         "1.365.036",
         "244.205",
         "712.132",
         "0,6156575",
         "3.112.439",
         "246.263",
         "27,6",
         "1,3",
         "1,2",
         "10,6",
         "44,3",
         "10,5",
         "7,9",
         "2.321.373",
         "79.979",
         "-73.998",
         "82.741",
         "-",
         "-28.250"
        ],
        [
         "1",
         "524 Particip",
         "QVQP3",
         "Empresa de eletricidade, gás e água",
         "150",
         "2020",
         "0",
         "0",
         "0",
         "150",
         "-0,0005614052376",
         "0",
         "-126",
         "0",
         "-",
         "-",
         "-84",
         "-122,9",
         "-",
         "-",
         "150",
         "-116",
         "0",
         "221",
         "-",
         "0"
        ],
        [
         "2",
         "Aco Altona",
         "EALT3",
         "Transformação de aço em produtos de aço",
         "164.709",
         "2020",
         "252.517",
         "136.337",
         "97.249",
         "183.640",
         "1,121866667",
         "251.771",
         "25.242",
         "22,4",
         "1,2",
         "0,9",
         "6",
         "14,6",
         "12,7",
         "10",
         "417.226",
         "56.605",
         "-33.787",
         "-6.240",
         "190.118",
         "-2.464"
        ],
        [
         "3",
         "Aeris",
         "AERI3",
         "Indústria de motores, turbinas e transmissores de energia",
         "1.667.824",
         "2020",
         "702.805",
         "942.379",
         "461.998",
         "966.252",
         "3,578749147",
         "2.208.702",
         "113.199",
         "48,2",
         "1,8",
         "1,2",
         "4,8",
         "19,9",
         "9,3",
         "5,1",
         "2.370.629",
         "-495.109",
         "-296.159",
         "1.410.121",
         "7.662.135",
         "-106.513"
        ],
        [
         "4",
         "Aesoperacoes",
         "AESO3",
         "Geração, transmissão e distribuição de energia elétrica",
         "1.915",
         "2020",
         "239",
         "0",
         "0",
         "2.154",
         "-0,01739769519",
         "0",
         "-41",
         "0",
         "-",
         "-",
         "-1,9",
         "-",
         "-",
         "-",
         "2.154",
         "-14",
         "7",
         "0",
         "-",
         "0"
        ],
        [
         "5",
         "Afluente T",
         "AFLT3",
         "Empresa de eletricidade, gás e água",
         "55.097",
         "2020",
         "152.686",
         "6.964",
         "13.360",
         "187.459",
         "0,2965681224",
         "35.930",
         "18.709",
         "0,4",
         "7,9",
         "10,2",
         "9",
         "9,3",
         "53,4",
         "52,1",
         "207.783",
         "26.548",
         "-1.100",
         "-45.985",
         "622.018",
         "-45.477"
        ],
        [
         "6",
         "Agribrasil",
         "GRAO3",
         "Agricultura",
         "252.856",
         "2020",
         "10.864",
         "231.568",
         "6.114",
         "26.038",
         "0,263375",
         "1.368.190",
         "23.177",
         "24",
         "1,1",
         "1,1",
         "8,8",
         "169,5",
         "3,5",
         "1,7",
         "263.720",
         "60.475",
         "-678",
         "35.669",
         "-",
         "-1.368"
        ],
        [
         "7",
         "Agrogalaxy",
         "AGXY3",
         "Atividades auxiliares à agricultura",
         "3.206.373",
         "2020",
         "1.054.492",
         "3.110.584",
         "130.133",
         "1.015.667",
         "1,515002197",
         "2.630.908",
         "81.492",
         "21,3",
         "1",
         "1",
         "1,8",
         "11,9",
         "3,7",
         "2,9",
         "4.260.865",
         "102.800",
         "-56.291",
         "156.676",
         "-",
         "0"
        ],
        [
         "8",
         "Alfa Holding",
         "RPAD3",
         "Administração de empresas e empreendimentos",
         "22.235",
         "2020",
         "1.015.608",
         "9.586",
         "116",
         "1.028.141",
         "0,4009457989",
         "97",
         "33.953",
         "0",
         "2,3",
         "2,3",
         "3,3",
         "3,4",
         "34.974,20",
         "35.003,10",
         "1.037.843",
         "-2.083",
         "25.714",
         "-7.109",
         "561.841",
         "-7.109"
        ],
        [
         "9",
         "Aliperti",
         "APTI3",
         "Indústria de molas e produtos de arame",
         "145.286",
         "2020",
         "338.571",
         "58.277",
         "164.217",
         "261.523",
         "3590,502333",
         "17.825",
         "65.401",
         "8,9",
         "2,5",
         "1",
         "13,5",
         "26,3",
         "395,5",
         "367",
         "483.857",
         "33.939",
         "-2.496",
         "-6.633",
         "-",
         "0"
        ],
        [
         "10",
         "All Norte",
         "FRRN3B",
         "Transporte ferroviário",
         "4.191.783",
         "2020",
         "11.869.685",
         "1.972.341",
         "10.286.180",
         "3.802.947",
         "0,5899619189",
         "3.781.915",
         "701.708",
         "66,6",
         "2,1",
         "0,9",
         "4,4",
         "18,5",
         "36,3",
         "18,6",
         "16.061.468",
         "1.952.526",
         "-261.608",
         "-379.325",
         "-",
         "-511.477"
        ],
        [
         "11",
         "Alliar",
         "AALR3",
         "Laboratório de exames médicos",
         "568.932",
         "2020",
         "1.971.670",
         "476.481",
         "840.437",
         "1.190.537",
         "-0,8235538123",
         "928.787",
         "-97.416",
         "31,2",
         "1,2",
         "0,8",
         "-3,6",
         "-7,3",
         "-1",
         "-10",
         "2.540.602",
         "117.864",
         "-64.678",
         "87.600",
         "1.312.840",
         "-6.347"
        ],
        [
         "12",
         "Allied",
         "ALLD3",
         "Loja de utensílios eletrônicos",
         "2.724.356",
         "2020",
         "991.628",
         "2.021.812",
         "563.585",
         "1.130.587",
         "2,105456185",
         "4.722.413",
         "167.645",
         "11,9",
         "1,3",
         "1,1",
         "4,5",
         "16",
         "5,7",
         "3,5",
         "3.715.984",
         "326.763",
         "-55.023",
         "-181.694",
         "-",
         "-937"
        ],
        [
         "13",
         "Allos",
         "ALOS3",
         "Locadora de imóveis",
         "1.850.926",
         "2020",
         "9.036.649",
         "423.725",
         "2.846.768",
         "6.544.850",
         "0,6368553994",
         "797.585",
         "169.071",
         "0",
         "4,4",
         "0,6",
         "1,9",
         "2,7",
         "40,2",
         "25,4",
         "10.887.575",
         "303.913",
         "-38.928",
         "-284.554",
         "7.727.019",
         "0"
        ],
        [
         "14",
         "Alpargatas",
         "ALPA3",
         "Indústria de calçados",
         "2.679.455",
         "2020",
         "2.135.131",
         "1.277.051",
         "518.983",
         "2.948.735",
         "0,2421995889",
         "3.364.278",
         "140.195",
         "5,1",
         "2,1",
         "1,9",
         "2,6",
         "4,4",
         "8,2",
         "3,8",
         "4.814.586",
         "312.780",
         "-117.704",
         "-91.194",
         "23.136.438",
         "-30.207"
        ],
        [
         "15",
         "Alphaville",
         "AVLL3",
         "Construção de edifícios residenciais",
         "947.064",
         "2020",
         "1.348.187",
         "630.004",
         "1.268.574",
         "392.517",
         "-33,40966677",
         "180.202",
         "-306.709",
         "42,6",
         "1,5",
         "0,9",
         "-18,3",
         "-89,9",
         "-167,7",
         "-232,9",
         "2.295.251",
         "-63.417",
         "-293.962",
         "355.519",
         "528.484",
         "0"
        ],
        [
         "16",
         "Alupar",
         "ALUP3",
         "Geração, transmissão e distribuição de energia elétrica",
         "4.084.394",
         "2020",
         "18.492.116",
         "2.290.153",
         "11.341.675",
         "5.750.118",
         "0,990788475",
         "6.140.745",
         "942.088",
         "39,9",
         "1,8",
         "1,3",
         "9,1",
         "24,9",
         "54",
         "33,5",
         "22.576.510",
         "-604.806",
         "1.290.336",
         "-1.049.108",
         "7.859.908",
         "-655.655"
        ],
        [
         "17",
         "Amazonia",
         "BAZA3",
         "Bancos",
         "0",
         "2020",
         "-",
         "5.829.618",
         "-",
         "2.416.797",
         "8,957980693",
         "-",
         "265.568",
         "-",
         "0",
         "0",
         "1,3",
         "11,5",
         "-",
         "27,9",
         "20.815.709",
         "-598.538",
         "-1.043.481",
         "-166.850",
         "1.251.060",
         "-106.393"
        ],
        [
         "18",
         "Ambev S/A",
         "ABEV3",
         "Indústria de bebidas",
         "35.342.614",
         "2020",
         "89.853.965",
         "33.477.964",
         "16.567.491",
         "73.815.628",
         "0,723309244",
         "58.378.995",
         "11.379.394",
         "3,8",
         "1,1",
         "1",
         "9,4",
         "17",
         "27,3",
         "20,1",
         "125.196.579",
         "18.855.780",
         "-6.799.571",
         "-8.601.995",
         "246.251.420",
         "-6.850.271"
        ],
        [
         "19",
         "Ambipar",
         "AMBP3",
         "Água, esgoto e outros sistemas",
         "866.279",
         "2020",
         "777.882",
         "165.649",
         "252.762",
         "1.201.778",
         "0,4977071841",
         "701.612",
         "44.824",
         "12,6",
         "5,2",
         "2,1",
         "3",
         "6,9",
         "18,4",
         "7,1",
         "1.644.161",
         "9.523",
         "-196.541",
         "697.884",
         "2.983.758",
         "-2.100"
        ],
        [
         "20",
         "Americanas",
         "AMER3",
         "Vendas por correio ou meio eletrônico",
         "15.779.801",
         "2020",
         "6.826.974",
         "5.331.073",
         "7.789.996",
         "9.485.706",
         "-39,48291054",
         "10.124.347",
         "-210.758",
         "34,3",
         "3",
         "1,4",
         "-0,9",
         "-2,8",
         "1,8",
         "-2,1",
         "22.606.775",
         "-61.768",
         "-1.988.551",
         "5.148.799",
         "42.330.870",
         "0"
        ],
        [
         "21",
         "Ampla Energ",
         "CBEE3",
         "Geração, transmissão e distribuição de energia elétrica",
         "3.246.412",
         "2020",
         "8.392.458",
         "2.996.435",
         "5.051.200",
         "3.591.235",
         "0,2936015459",
         "6.224.316",
         "48.924",
         "39,6",
         "1,1",
         "1,1",
         "0,4",
         "1,3",
         "5",
         "0,8",
         "11.638.870",
         "783.922",
         "-869.936",
         "349.638",
         "3.316.017",
         "-66.295"
        ],
        [
         "22",
         "Anima",
         "ANIM3",
         "Escola de ensino superior",
         "2.106.414",
         "2020",
         "2.476.025",
         "441.043",
         "1.614.920",
         "2.505.518",
         "-0,1286403451",
         "1.421.989",
         "-41.108",
         "28,7",
         "4,8",
         "1,1",
         "-0,9",
         "-2,5",
         "8,3",
         "-2,9",
         "4.582.439",
         "124.528",
         "-1.677.326",
         "1.594.429",
         "4.767.612",
         "0"
        ],
        [
         "23",
         "Armac",
         "ARML3",
         "Locação de equipamentos para indústria e comércio",
         "122.237",
         "2020",
         "307.791",
         "89.840",
         "255.128",
         "85.060",
         "0,3148551327",
         "111.294",
         "17.533",
         "70,4",
         "1,4",
         "0,4",
         "4,1",
         "32,4",
         "35,8",
         "15,8",
         "430.028",
         "-75.112",
         "-280",
         "153.366",
         "-",
         "-21.389"
        ],
        [
         "24",
         "Assai",
         "ASAI3",
         "Loja de departamentos",
         "8.349.000",
         "2020",
         "10.472.000",
         "8.723.000",
         "8.688.000",
         "1.410.000",
         "1,05215514",
         "36.043.000",
         "1.398.000",
         "41,6",
         "1",
         "0,5",
         "8,3",
         "28",
         "5,7",
         "4,3",
         "18.821.000",
         "3.498.000",
         "-4.787.000",
         "-793.000",
         "-",
         "-489.000"
        ],
        [
         "25",
         "Atom Educ",
         "ATED3",
         "Serviços de apoio à educação",
         "-",
         "2020",
         "-",
         "-",
         "-",
         "-",
         "-",
         "-",
         "-",
         "-",
         "-",
         "-",
         "-",
         "-",
         "-",
         "-",
         "-",
         "-",
         "-",
         "-",
         "-",
         "-"
        ],
        [
         "26",
         "Aura 360",
         "AURA33",
         "Mineração de metais",
         "1.129.517",
         "2020",
         "1.656.900",
         "627.296",
         "534.041",
         "1.625.080",
         "1,89022757",
         "1.570.045",
         "384.991",
         "13,1",
         "1,8",
         "1,2",
         "13,8",
         "31,9",
         "29,3",
         "24,5",
         "2.786.417",
         "492.250",
         "-264.659",
         "219.340",
         "4.294.067",
         "-13.556"
        ],
        [
         "27",
         "Auren",
         "AURE3",
         "Geração, transmissão e distribuição de energia elétrica",
         "-",
         "2020",
         "-",
         "-",
         "-",
         "-",
         "-",
         "-",
         "-",
         "-",
         "-",
         "-",
         "-",
         "-",
         "-",
         "-",
         "-",
         "-",
         "-",
         "-",
         "-",
         "-"
        ],
        [
         "28",
         "Automob",
         "AMOB3",
         "Comércio atacadista de máquinas, equipamentos e acessórios",
         "-",
         "2020",
         "-",
         "-",
         "-",
         "-",
         "-",
         "-",
         "-",
         "-",
         "-",
         "-",
         "-",
         "-",
         "-",
         "-",
         "-",
         "-",
         "-",
         "-",
         "-",
         "-"
        ],
        [
         "29",
         "Azevedo",
         "AZEV3",
         "Outras construções pesadas e de engenharia civil",
         "39.712",
         "2020",
         "24.010",
         "157.693",
         "146.043",
         "-240.014",
         "-4,506249622",
         "25.536",
         "-36.869",
         "35,6",
         "0,3",
         "0,2",
         "-57,9",
         "-",
         "-78,2",
         "-144,4",
         "63.722",
         "10.120",
         "0",
         "-5.583",
         "82.632",
         "0"
        ],
        [
         "30",
         "Azt Energia",
         "AZTE3",
         "Administração de empresas e empreendimentos",
         "-",
         "2020",
         "-",
         "-",
         "-",
         "-",
         "-",
         "-",
         "-",
         "-",
         "-",
         "-",
         "-",
         "-",
         "-",
         "-",
         "-",
         "-",
         "-",
         "-",
         "-",
         "-"
        ],
        [
         "31",
         "Azzas 2154",
         "AZZA3",
         "Indústria de calçados",
         "1.564.868",
         "2020",
         "1.267.677",
         "911.418",
         "572.530",
         "1.348.597",
         "0,5302901581",
         "1.590.992",
         "48.584",
         "22,4",
         "1,7",
         "1,1",
         "1,7",
         "4,6",
         "5,8",
         "3,1",
         "2.832.545",
         "220.316",
         "-297.282",
         "101.451",
         "6.792.569",
         "-42.415"
        ],
        [
         "32",
         "B3",
         "B3SA3",
         "Bolsa de valores e commodities",
         "17.101.290",
         "2020",
         "29.231.493",
         "9.678.085",
         "12.133.274",
         "24.509.951",
         "0,6772392979",
         "9.327.395",
         "4.152.304",
         "15,2",
         "1,8",
         "0,9",
         "9",
         "16,6",
         "60,1",
         "44,5",
         "46.332.783",
         "2.753.083",
         "664.477",
         "-3.252.762",
         "124.944.358",
         "-3.884.422"
        ],
        [
         "33",
         "Banese",
         "BGIP3",
         "Bancos",
         "3.935.459",
         "2020",
         "-",
         "5.090.172",
         "-",
         "487.808",
         "3,555033042",
         "-",
         "54.339",
         "-",
         "0,8",
         "1,1",
         "0,9",
         "12,7",
         "-",
         "9,7",
         "7.239.542",
         "150.124",
         "-18.888",
         "-17.360",
         "538.647",
         "-21.357"
        ],
        [
         "34",
         "Banestes",
         "BEES3",
         "Bancos",
         "14.345.436",
         "2020",
         "-",
         "20.846.462",
         "-",
         "1.713.900",
         "0,7337391426",
         "-",
         "231.797",
         "-",
         "0,7",
         "1,1",
         "0,8",
         "14",
         "-",
         "14,5",
         "30.484.086",
         "1.277.823",
         "-2.127.003",
         "-74.096",
         "1.767.779",
         "-74.096"
        ],
        [
         "35",
         "Banpara",
         "BPAR3",
         "Bancos",
         "0",
         "2020",
         "-",
         "8.476.820",
         "-",
         "1.484.578",
         "25,33164161",
         "-",
         "241.199",
         "-",
         "0",
         "0",
         "2,3",
         "16,9",
         "-",
         "15,4",
         "10.586.556",
         "1.196.906",
         "-24.919",
         "-160.821",
         "-",
         "-160.821"
        ],
        [
         "36",
         "Banrisul",
         "BRSR3",
         "Bancos",
         "-",
         "2020",
         "-",
         "-",
         "-",
         "8.344.062",
         "1,778783003",
         "-",
         "727.476",
         "-",
         "-",
         "-",
         "0,8",
         "9",
         "-",
         "8,8",
         "91.822.901",
         "11.366.217",
         "-6.253.742",
         "-423.614",
         "6.176.016",
         "-216.673"
        ],
        [
         "37",
         "Bardella",
         "BDLL3",
         "Industria de máquinas agrícolas, de construção e mineração",
         "260.941",
         "2020",
         "401.561",
         "498.719",
         "326.928",
         "-163.145",
         "-40,909375",
         "20.374",
         "-65.455",
         "37",
         "0,5",
         "0,3",
         "-9,9",
         "-",
         "-295,3",
         "-321,3",
         "662.502",
         "-4.168",
         "-115",
         "4.307",
         "17.360",
         "0"
        ],
        [
         "38",
         "Baumer",
         "BALM3",
         "Indústria de equipamentos e materiais para uso médico",
         "129.953",
         "2020",
         "84.578",
         "63.472",
         "29.808",
         "113.079",
         "1,740622514",
         "162.973",
         "17.032",
         "8,7",
         "2",
         "1,9",
         "7,7",
         "14,3",
         "10,6",
         "10,1",
         "214.531",
         "26.325",
         "-7.458",
         "-651",
         "178.163",
         "-2.307"
        ],
        [
         "39",
         "Bbmlogistica",
         "BBML3",
         "Transporte rodoviário",
         "312.333",
         "2020",
         "502.124",
         "355.327",
         "331.593",
         "127.531",
         "0,2183221672",
         "1.002.017",
         "8.899",
         "35",
         "0,9",
         "0,5",
         "1,1",
         "7,2",
         "3,4",
         "0,9",
         "814.457",
         "86.863",
         "-112.991",
         "4.780",
         "-",
         "-3.265"
        ],
        [
         "40",
         "BBSeguridade",
         "BBSE3",
         "Seguradora",
         "3.618.881",
         "2020",
         "7.281.415",
         "2.853.303",
         "1.657.388",
         "6.389.605",
         "1,928641395",
         "-",
         "3.850.771",
         "-",
         "-",
         "-",
         "35,3",
         "66,2",
         "-",
         "-",
         "10.900.296",
         "2.284.693",
         "792.022",
         "-8.262.562",
         "59.160.286",
         "-5.562.658"
        ],
        [
         "41",
         "Bemobi Tech",
         "BMOB3",
         "Editoras de software",
         "220.219",
         "2020",
         "236.709",
         "299.520",
         "2.780",
         "154.628",
         "0,8677285715",
         "171.546",
         "35.730",
         "0",
         "0,7",
         "0,8",
         "7,8",
         "-",
         "36,2",
         "20,8",
         "456.928",
         "86.496",
         "-37.005",
         "-401",
         "-",
         "0"
        ],
        [
         "42",
         "Betapart",
         "BETP3",
         "Atividades relacionadas à intermediação de crédito",
         "785",
         "2020",
         "0",
         "0",
         "0",
         "785",
         "-0,04309064969",
         "0",
         "-119",
         "0",
         "-",
         "-",
         "-15,2",
         "-14,1",
         "-",
         "-",
         "785",
         "-104",
         "0",
         "0",
         "-",
         "0"
        ],
        [
         "43",
         "Bic Monark",
         "BMKS3",
         "Indústria de outros equipamentos de transporte",
         "165.455",
         "2020",
         "51.029",
         "5.225",
         "20.803",
         "190.456",
         "7,656954371",
         "21.790",
         "3.482",
         "2,1",
         "31,7",
         "8,1",
         "1,6",
         "1,8",
         "6,4",
         "16",
         "216.484",
         "7.441",
         "-2.839",
         "0",
         "114.570",
         "0"
        ],
        [
         "44",
         "Bioma Educ",
         "BIED3",
         "Administração de empresas e empreendimentos",
         "63.701",
         "2020",
         "539.005",
         "158.850",
         "257.285",
         "182.229",
         "-4,12507628",
         "196.345",
         "-45.877",
         "8,5",
         "0,4",
         "0,4",
         "-7,6",
         "-29,3",
         "-11,7",
         "-23,3",
         "602.706",
         "-17.819",
         "-15.889",
         "27.796",
         "193.905",
         "0"
        ],
        [
         "45",
         "Biomm",
         "BIOM3",
         "Pesquisa científica",
         "200.896",
         "2020",
         "234.074",
         "66.272",
         "177.219",
         "191.479",
         "-1,158110858",
         "58.668",
         "-70.767",
         "43,3",
         "3",
         "0,9",
         "-16,3",
         "-41",
         "-94,7",
         "-120,6",
         "434.970",
         "-96.874",
         "-6.842",
         "130.849",
         "1.097.680",
         "0"
        ],
        [
         "46",
         "Blau",
         "BLAU3",
         "Indústria de remédios",
         "800.495",
         "2020",
         "472.130",
         "363.829",
         "687.453",
         "221.343",
         "1,718445946",
         "1.181.804",
         "254.330",
         "54,2",
         "2,2",
         "0,8",
         "20",
         "104,4",
         "32,9",
         "21,5",
         "1.272.625",
         "226.515",
         "-220.783",
         "57.259",
         "-",
         "-326.923"
        ],
        [
         "47",
         "Boa Safra",
         "SOJA3",
         "Atividades auxiliares à agricultura",
         "213.627",
         "2020",
         "99.074",
         "145.697",
         "58.177",
         "108.827",
         "0,9933685817",
         "588.525",
         "70.207",
         "37,3",
         "1,5",
         "1,2",
         "22,5",
         "93,7",
         "17,6",
         "11,9",
         "312.701",
         "7.669",
         "-28.126",
         "32.833",
         "-",
         "0"
        ],
        [
         "48",
         "Bombril",
         "BOBR3",
         "Indústria de artigos de limpeza",
         "282.846",
         "2020",
         "392.101",
         "489.601",
         "430.507",
         "-245.161",
         "0,1533766588",
         "1.153.013",
         "39.956",
         "39,8",
         "0,6",
         "0,4",
         "5,9",
         "-",
         "11,1",
         "3,5",
         "674.947",
         "148.762",
         "-25.713",
         "-122.435",
         "578.330",
         "0"
        ],
        [
         "49",
         "Bradesco",
         "BBDC3",
         "Bancos",
         "-",
         "2020",
         "-",
         "-",
         "-",
         "143.702.640",
         "1,547712689",
         "-",
         "16.546.577",
         "-",
         "-",
         "-",
         "1,1",
         "12",
         "-",
         "16,8",
         "1.591.039.044",
         "143.181.458",
         "17.919.814",
         "-34.612.171",
         "226.778.471",
         "-1.432.130"
        ]
       ],
       "shape": {
        "columns": 25,
        "rows": 1770
       }
      },
      "text/html": [
       "<div>\n",
       "<style scoped>\n",
       "    .dataframe tbody tr th:only-of-type {\n",
       "        vertical-align: middle;\n",
       "    }\n",
       "\n",
       "    .dataframe tbody tr th {\n",
       "        vertical-align: top;\n",
       "    }\n",
       "\n",
       "    .dataframe thead th {\n",
       "        text-align: right;\n",
       "    }\n",
       "</style>\n",
       "<table border=\"1\" class=\"dataframe\">\n",
       "  <thead>\n",
       "    <tr style=\"text-align: right;\">\n",
       "      <th></th>\n",
       "      <th>nome</th>\n",
       "      <th>codigo</th>\n",
       "      <th>setor</th>\n",
       "      <th>ativo_circulante</th>\n",
       "      <th>ano</th>\n",
       "      <th>ativo_nao_circulante</th>\n",
       "      <th>passivo_circulante</th>\n",
       "      <th>passivo_nao_circulante</th>\n",
       "      <th>patrimonio_liquido</th>\n",
       "      <th>lpa</th>\n",
       "      <th>...</th>\n",
       "      <th>rentabilidade_ativo</th>\n",
       "      <th>roe</th>\n",
       "      <th>margem_ebit</th>\n",
       "      <th>margem_liquida</th>\n",
       "      <th>ativo_total</th>\n",
       "      <th>caixa_operacional</th>\n",
       "      <th>caixa_investimento</th>\n",
       "      <th>caixa_financeiro</th>\n",
       "      <th>valor_mercado</th>\n",
       "      <th>dividendos</th>\n",
       "    </tr>\n",
       "  </thead>\n",
       "  <tbody>\n",
       "    <tr>\n",
       "      <th>0</th>\n",
       "      <td>3tentos</td>\n",
       "      <td>TTEN3</td>\n",
       "      <td>Atividades auxiliares à agricultura</td>\n",
       "      <td>1.770.014</td>\n",
       "      <td>2020</td>\n",
       "      <td>551.359</td>\n",
       "      <td>1.365.036</td>\n",
       "      <td>244.205</td>\n",
       "      <td>712.132</td>\n",
       "      <td>0,6156575</td>\n",
       "      <td>...</td>\n",
       "      <td>10,6</td>\n",
       "      <td>44,3</td>\n",
       "      <td>10,5</td>\n",
       "      <td>7,9</td>\n",
       "      <td>2.321.373</td>\n",
       "      <td>79.979</td>\n",
       "      <td>-73.998</td>\n",
       "      <td>82.741</td>\n",
       "      <td>-</td>\n",
       "      <td>-28.250</td>\n",
       "    </tr>\n",
       "    <tr>\n",
       "      <th>1</th>\n",
       "      <td>524 Particip</td>\n",
       "      <td>QVQP3</td>\n",
       "      <td>Empresa de eletricidade, gás e água</td>\n",
       "      <td>150</td>\n",
       "      <td>2020</td>\n",
       "      <td>0</td>\n",
       "      <td>0</td>\n",
       "      <td>0</td>\n",
       "      <td>150</td>\n",
       "      <td>-0,0005614052376</td>\n",
       "      <td>...</td>\n",
       "      <td>-84</td>\n",
       "      <td>-122,9</td>\n",
       "      <td>-</td>\n",
       "      <td>-</td>\n",
       "      <td>150</td>\n",
       "      <td>-116</td>\n",
       "      <td>0</td>\n",
       "      <td>221</td>\n",
       "      <td>-</td>\n",
       "      <td>0</td>\n",
       "    </tr>\n",
       "    <tr>\n",
       "      <th>2</th>\n",
       "      <td>Aco Altona</td>\n",
       "      <td>EALT3</td>\n",
       "      <td>Transformação de aço em produtos de aço</td>\n",
       "      <td>164.709</td>\n",
       "      <td>2020</td>\n",
       "      <td>252.517</td>\n",
       "      <td>136.337</td>\n",
       "      <td>97.249</td>\n",
       "      <td>183.640</td>\n",
       "      <td>1,121866667</td>\n",
       "      <td>...</td>\n",
       "      <td>6</td>\n",
       "      <td>14,6</td>\n",
       "      <td>12,7</td>\n",
       "      <td>10</td>\n",
       "      <td>417.226</td>\n",
       "      <td>56.605</td>\n",
       "      <td>-33.787</td>\n",
       "      <td>-6.240</td>\n",
       "      <td>190.118</td>\n",
       "      <td>-2.464</td>\n",
       "    </tr>\n",
       "    <tr>\n",
       "      <th>3</th>\n",
       "      <td>Aeris</td>\n",
       "      <td>AERI3</td>\n",
       "      <td>Indústria de motores, turbinas e transmissores...</td>\n",
       "      <td>1.667.824</td>\n",
       "      <td>2020</td>\n",
       "      <td>702.805</td>\n",
       "      <td>942.379</td>\n",
       "      <td>461.998</td>\n",
       "      <td>966.252</td>\n",
       "      <td>3,578749147</td>\n",
       "      <td>...</td>\n",
       "      <td>4,8</td>\n",
       "      <td>19,9</td>\n",
       "      <td>9,3</td>\n",
       "      <td>5,1</td>\n",
       "      <td>2.370.629</td>\n",
       "      <td>-495.109</td>\n",
       "      <td>-296.159</td>\n",
       "      <td>1.410.121</td>\n",
       "      <td>7.662.135</td>\n",
       "      <td>-106.513</td>\n",
       "    </tr>\n",
       "    <tr>\n",
       "      <th>4</th>\n",
       "      <td>Aesoperacoes</td>\n",
       "      <td>AESO3</td>\n",
       "      <td>Geração, transmissão e distribuição de energia...</td>\n",
       "      <td>1.915</td>\n",
       "      <td>2020</td>\n",
       "      <td>239</td>\n",
       "      <td>0</td>\n",
       "      <td>0</td>\n",
       "      <td>2.154</td>\n",
       "      <td>-0,01739769519</td>\n",
       "      <td>...</td>\n",
       "      <td>-1,9</td>\n",
       "      <td>-</td>\n",
       "      <td>-</td>\n",
       "      <td>-</td>\n",
       "      <td>2.154</td>\n",
       "      <td>-14</td>\n",
       "      <td>7</td>\n",
       "      <td>0</td>\n",
       "      <td>-</td>\n",
       "      <td>0</td>\n",
       "    </tr>\n",
       "    <tr>\n",
       "      <th>...</th>\n",
       "      <td>...</td>\n",
       "      <td>...</td>\n",
       "      <td>...</td>\n",
       "      <td>...</td>\n",
       "      <td>...</td>\n",
       "      <td>...</td>\n",
       "      <td>...</td>\n",
       "      <td>...</td>\n",
       "      <td>...</td>\n",
       "      <td>...</td>\n",
       "      <td>...</td>\n",
       "      <td>...</td>\n",
       "      <td>...</td>\n",
       "      <td>...</td>\n",
       "      <td>...</td>\n",
       "      <td>...</td>\n",
       "      <td>...</td>\n",
       "      <td>...</td>\n",
       "      <td>...</td>\n",
       "      <td>...</td>\n",
       "      <td>...</td>\n",
       "    </tr>\n",
       "    <tr>\n",
       "      <th>1765</th>\n",
       "      <td>Wilson Sons</td>\n",
       "      <td>PORT3</td>\n",
       "      <td>Atividades auxiliares ao transporte aquático</td>\n",
       "      <td>1.208.728</td>\n",
       "      <td>2024</td>\n",
       "      <td>5.496.811</td>\n",
       "      <td>999.733</td>\n",
       "      <td>2.856.454</td>\n",
       "      <td>2.847.872</td>\n",
       "      <td>1,100954661</td>\n",
       "      <td>...</td>\n",
       "      <td>7,3</td>\n",
       "      <td>18,8</td>\n",
       "      <td>32,1</td>\n",
       "      <td>16,7</td>\n",
       "      <td>6.705.539</td>\n",
       "      <td>1.048.968</td>\n",
       "      <td>-167.912</td>\n",
       "      <td>-686.279</td>\n",
       "      <td>7.192.350</td>\n",
       "      <td>-473.111</td>\n",
       "    </tr>\n",
       "    <tr>\n",
       "      <th>1766</th>\n",
       "      <td>Wiz Co</td>\n",
       "      <td>WIZC3</td>\n",
       "      <td>Corretora de seguros</td>\n",
       "      <td>476.791</td>\n",
       "      <td>2024</td>\n",
       "      <td>1.968.521</td>\n",
       "      <td>718.264</td>\n",
       "      <td>569.661</td>\n",
       "      <td>546.370</td>\n",
       "      <td>1,001273976</td>\n",
       "      <td>...</td>\n",
       "      <td>12,1</td>\n",
       "      <td>25,7</td>\n",
       "      <td>43,9</td>\n",
       "      <td>23,6</td>\n",
       "      <td>2.445.312</td>\n",
       "      <td>512.456</td>\n",
       "      <td>21.521</td>\n",
       "      <td>-550.382</td>\n",
       "      <td>890.684</td>\n",
       "      <td>-180.082</td>\n",
       "    </tr>\n",
       "    <tr>\n",
       "      <th>1767</th>\n",
       "      <td>Wlm Ind Com</td>\n",
       "      <td>WLMM3</td>\n",
       "      <td>Concessionárias de outros veículos motorizados</td>\n",
       "      <td>809.745</td>\n",
       "      <td>2024</td>\n",
       "      <td>502.060</td>\n",
       "      <td>337.927</td>\n",
       "      <td>200.329</td>\n",
       "      <td>773.222</td>\n",
       "      <td>3,553430527</td>\n",
       "      <td>...</td>\n",
       "      <td>9,9</td>\n",
       "      <td>17,5</td>\n",
       "      <td>6,8</td>\n",
       "      <td>4,1</td>\n",
       "      <td>1.311.805</td>\n",
       "      <td>21.168</td>\n",
       "      <td>-168.065</td>\n",
       "      <td>143.446</td>\n",
       "      <td>1.007.098</td>\n",
       "      <td>-47.379</td>\n",
       "    </tr>\n",
       "    <tr>\n",
       "      <th>1768</th>\n",
       "      <td>Yduqs Part</td>\n",
       "      <td>YDUQ3</td>\n",
       "      <td>Escola de ensino superior</td>\n",
       "      <td>2.516.953</td>\n",
       "      <td>2024</td>\n",
       "      <td>7.421.471</td>\n",
       "      <td>1.436.490</td>\n",
       "      <td>5.362.974</td>\n",
       "      <td>3.124.958</td>\n",
       "      <td>1,177375757</td>\n",
       "      <td>...</td>\n",
       "      <td>3,4</td>\n",
       "      <td>11</td>\n",
       "      <td>17,1</td>\n",
       "      <td>6,4</td>\n",
       "      <td>9.938.424</td>\n",
       "      <td>1.218.469</td>\n",
       "      <td>-750.965</td>\n",
       "      <td>-292.003</td>\n",
       "      <td>2.374.489</td>\n",
       "      <td>-80.557</td>\n",
       "    </tr>\n",
       "    <tr>\n",
       "      <th>1769</th>\n",
       "      <td>Zamp S.A.</td>\n",
       "      <td>ZAMP3</td>\n",
       "      <td>Restaurantes e outros lugares para comer</td>\n",
       "      <td>1.303.166</td>\n",
       "      <td>2024</td>\n",
       "      <td>3.374.804</td>\n",
       "      <td>1.129.677</td>\n",
       "      <td>2.002.267</td>\n",
       "      <td>1.546.026</td>\n",
       "      <td>-0,6500581484</td>\n",
       "      <td>...</td>\n",
       "      <td>-4,1</td>\n",
       "      <td>-13</td>\n",
       "      <td>-0,8</td>\n",
       "      <td>-4,2</td>\n",
       "      <td>4.677.970</td>\n",
       "      <td>312.797</td>\n",
       "      <td>-689.466</td>\n",
       "      <td>343.649</td>\n",
       "      <td>901.540</td>\n",
       "      <td>0</td>\n",
       "    </tr>\n",
       "  </tbody>\n",
       "</table>\n",
       "<p>1770 rows × 25 columns</p>\n",
       "</div>"
      ],
      "text/plain": [
       "              nome codigo                                              setor  \\\n",
       "0          3tentos  TTEN3                Atividades auxiliares à agricultura   \n",
       "1     524 Particip  QVQP3                Empresa de eletricidade, gás e água   \n",
       "2       Aco Altona  EALT3            Transformação de aço em produtos de aço   \n",
       "3            Aeris  AERI3  Indústria de motores, turbinas e transmissores...   \n",
       "4     Aesoperacoes  AESO3  Geração, transmissão e distribuição de energia...   \n",
       "...            ...    ...                                                ...   \n",
       "1765   Wilson Sons  PORT3       Atividades auxiliares ao transporte aquático   \n",
       "1766        Wiz Co  WIZC3                               Corretora de seguros   \n",
       "1767   Wlm Ind Com  WLMM3     Concessionárias de outros veículos motorizados   \n",
       "1768    Yduqs Part  YDUQ3                          Escola de ensino superior   \n",
       "1769     Zamp S.A.  ZAMP3           Restaurantes e outros lugares para comer   \n",
       "\n",
       "     ativo_circulante   ano ativo_nao_circulante passivo_circulante  \\\n",
       "0           1.770.014  2020              551.359          1.365.036   \n",
       "1                 150  2020                    0                  0   \n",
       "2             164.709  2020              252.517            136.337   \n",
       "3           1.667.824  2020              702.805            942.379   \n",
       "4               1.915  2020                  239                  0   \n",
       "...               ...   ...                  ...                ...   \n",
       "1765        1.208.728  2024            5.496.811            999.733   \n",
       "1766          476.791  2024            1.968.521            718.264   \n",
       "1767          809.745  2024              502.060            337.927   \n",
       "1768        2.516.953  2024            7.421.471          1.436.490   \n",
       "1769        1.303.166  2024            3.374.804          1.129.677   \n",
       "\n",
       "     passivo_nao_circulante patrimonio_liquido               lpa  ...  \\\n",
       "0                   244.205            712.132         0,6156575  ...   \n",
       "1                         0                150  -0,0005614052376  ...   \n",
       "2                    97.249            183.640       1,121866667  ...   \n",
       "3                   461.998            966.252       3,578749147  ...   \n",
       "4                         0              2.154    -0,01739769519  ...   \n",
       "...                     ...                ...               ...  ...   \n",
       "1765              2.856.454          2.847.872       1,100954661  ...   \n",
       "1766                569.661            546.370       1,001273976  ...   \n",
       "1767                200.329            773.222       3,553430527  ...   \n",
       "1768              5.362.974          3.124.958       1,177375757  ...   \n",
       "1769              2.002.267          1.546.026     -0,6500581484  ...   \n",
       "\n",
       "     rentabilidade_ativo     roe margem_ebit margem_liquida ativo_total  \\\n",
       "0                   10,6    44,3        10,5            7,9   2.321.373   \n",
       "1                    -84  -122,9           -              -         150   \n",
       "2                      6    14,6        12,7             10     417.226   \n",
       "3                    4,8    19,9         9,3            5,1   2.370.629   \n",
       "4                   -1,9       -           -              -       2.154   \n",
       "...                  ...     ...         ...            ...         ...   \n",
       "1765                 7,3    18,8        32,1           16,7   6.705.539   \n",
       "1766                12,1    25,7        43,9           23,6   2.445.312   \n",
       "1767                 9,9    17,5         6,8            4,1   1.311.805   \n",
       "1768                 3,4      11        17,1            6,4   9.938.424   \n",
       "1769                -4,1     -13        -0,8           -4,2   4.677.970   \n",
       "\n",
       "     caixa_operacional caixa_investimento caixa_financeiro valor_mercado  \\\n",
       "0               79.979            -73.998           82.741             -   \n",
       "1                 -116                  0              221             -   \n",
       "2               56.605            -33.787           -6.240       190.118   \n",
       "3             -495.109           -296.159        1.410.121     7.662.135   \n",
       "4                  -14                  7                0             -   \n",
       "...                ...                ...              ...           ...   \n",
       "1765         1.048.968           -167.912         -686.279     7.192.350   \n",
       "1766           512.456             21.521         -550.382       890.684   \n",
       "1767            21.168           -168.065          143.446     1.007.098   \n",
       "1768         1.218.469           -750.965         -292.003     2.374.489   \n",
       "1769           312.797           -689.466          343.649       901.540   \n",
       "\n",
       "     dividendos  \n",
       "0       -28.250  \n",
       "1             0  \n",
       "2        -2.464  \n",
       "3      -106.513  \n",
       "4             0  \n",
       "...         ...  \n",
       "1765   -473.111  \n",
       "1766   -180.082  \n",
       "1767    -47.379  \n",
       "1768    -80.557  \n",
       "1769          0  \n",
       "\n",
       "[1770 rows x 25 columns]"
      ]
     },
     "execution_count": 269,
     "metadata": {},
     "output_type": "execute_result"
    }
   ],
   "source": [
    "df_economatica_com_ano"
   ]
  },
  {
   "cell_type": "markdown",
   "metadata": {
    "id": "s_PR2ip6jruB"
   },
   "source": [
    "## Criação de features"
   ]
  },
  {
   "cell_type": "markdown",
   "metadata": {
    "id": "AYN1XrXt09TL"
   },
   "source": [
    "### Feature - ano"
   ]
  },
  {
   "cell_type": "markdown",
   "metadata": {
    "id": "Iwr7x_0eSRWt"
   },
   "source": [
    "Agora iremos dividir em 5 datasets, sendo cada um as ações de um ano específico."
   ]
  },
  {
   "cell_type": "code",
   "execution_count": 270,
   "metadata": {
    "id": "6wRjgxk4GFsB"
   },
   "outputs": [],
   "source": [
    "def criar_df_ano(ano: int):\n",
    "  df_ano = df_economatica_mesclado[['nome', 'codigo', 'setor'] + [col for col in df_economatica_mesclado.columns if col.endswith(f'_{ano}')]].copy()\n",
    "  df_ano.columns = ['nome', 'codigo', 'setor'] + [col.replace(f'_{ano}', '') for col in df_ano.columns if col.endswith(f'_{ano}')]\n",
    "  df_ano['ano'] = ano\n",
    "\n",
    "  print(f\"Shape do DataFrame de {ano}:\", df_ano.shape)\n",
    "\n",
    "  return df_ano"
   ]
  },
  {
   "cell_type": "code",
   "execution_count": 271,
   "metadata": {
    "colab": {
     "base_uri": "https://localhost:8080/"
    },
    "id": "e9fLSIrd1D7g",
    "outputId": "bb11a08c-9760-49b2-a25d-faa71be1ba84"
   },
   "outputs": [
    {
     "name": "stdout",
     "output_type": "stream",
     "text": [
      "Shape do DataFrame de 2020: (354, 25)\n",
      "Shape do DataFrame de 2021: (354, 25)\n",
      "Shape do DataFrame de 2022: (354, 25)\n",
      "Shape do DataFrame de 2023: (354, 25)\n",
      "Shape do DataFrame de 2024: (354, 25)\n"
     ]
    }
   ],
   "source": [
    "df_economatica_2020 = criar_df_ano(2020)\n",
    "df_economatica_2021 = criar_df_ano(2021)\n",
    "df_economatica_2022 = criar_df_ano(2022)\n",
    "df_economatica_2023 = criar_df_ano(2023)\n",
    "df_economatica_2024 = criar_df_ano(2024)"
   ]
  },
  {
   "cell_type": "code",
   "execution_count": 272,
   "metadata": {},
   "outputs": [
    {
     "name": "stdout",
     "output_type": "stream",
     "text": [
      "Shape do DataFrame mesclado: (1770, 25)\n"
     ]
    }
   ],
   "source": [
    "dataframes_anos = [\n",
    "    df_economatica_2020,\n",
    "    df_economatica_2021, \n",
    "    df_economatica_2022,\n",
    "    df_economatica_2023,\n",
    "    df_economatica_2024\n",
    "]\n",
    "\n",
    "# Concatenar todos os DataFrames\n",
    "df_economatica_com_ano = pd.concat(dataframes_anos, ignore_index=True)\n",
    "\n",
    "print(f\"Shape do DataFrame mesclado: {df_economatica_com_ano.shape}\")"
   ]
  },
  {
   "cell_type": "markdown",
   "metadata": {
    "id": "ji1e4EoBfEbh"
   },
   "source": [
    "### Feature - pandemia"
   ]
  },
  {
   "cell_type": "markdown",
   "metadata": {
    "id": "thB2-4BWfIwz"
   },
   "source": [
    "Neste trecho iremos adicionar 1 na coluna pandemia nos anos que estavam em alerta emergencial de COVID-19, segundo a OMS, e 0 nos que nao estavam"
   ]
  },
  {
   "cell_type": "code",
   "execution_count": 273,
   "metadata": {
    "colab": {
     "base_uri": "https://localhost:8080/"
    },
    "id": "dQv5OPFKfLxn",
    "outputId": "c2439401-dfe5-43bf-bcee-6bd264a261c5"
   },
   "outputs": [
    {
     "name": "stdout",
     "output_type": "stream",
     "text": [
      "Coluna 'pandemia' criada com sucesso!\n",
      "Shape do DataFrame: (1770, 26)\n",
      "\n",
      "Distribuição da variável pandemia:\n",
      "pandemia\n",
      "1    1062\n",
      "0     708\n",
      "Name: count, dtype: int64\n",
      "\n",
      "Distribuição por ano e pandemia:\n",
      "ano   pandemia\n",
      "2020  1           354\n",
      "2021  1           354\n",
      "2022  1           354\n",
      "2023  0           354\n",
      "2024  0           354\n",
      "dtype: int64\n"
     ]
    }
   ],
   "source": [
    "df_economatica_manipulado = df_economatica_com_ano.copy()\n",
    "\n",
    "df_economatica_manipulado['pandemia'] = df_economatica_com_ano['ano'].apply(\n",
    "    lambda x: 1 if x in [2020, 2021, 2022] else 0\n",
    ")\n",
    "\n",
    "print(\"Coluna 'pandemia' criada com sucesso!\")\n",
    "print(f\"Shape do DataFrame: {df_economatica_manipulado.shape}\")\n",
    "print(\"\\nDistribuição da variável pandemia:\")\n",
    "print(df_economatica_manipulado['pandemia'].value_counts())\n",
    "print(\"\\nDistribuição por ano e pandemia:\")\n",
    "print(df_economatica_manipulado.groupby(['ano', 'pandemia']).size())"
   ]
  },
  {
   "cell_type": "markdown",
   "metadata": {
    "id": "aRnKAVzAJ2do"
   },
   "source": [
    "# Limpeza dos dados"
   ]
  },
  {
   "cell_type": "markdown",
   "metadata": {
    "id": "elOF-fQ1e21z"
   },
   "source": [
    "Antes e começar a utilizar os dados, precisamos realizar algumas etapas de  limpeza dos dados, como:\n",
    "- Verificar e tratar dados duplicados.\n",
    "- Verificar e tratar tipagem.\n",
    "- Verificar e tratar nulos."
   ]
  },
  {
   "cell_type": "markdown",
   "metadata": {
    "id": "2RTCRoUwlf-o"
   },
   "source": [
    "## Tratamento de valores duplicados"
   ]
  },
  {
   "cell_type": "code",
   "execution_count": 274,
   "metadata": {
    "colab": {
     "base_uri": "https://localhost:8080/",
     "height": 141
    },
    "id": "61oc9XSelihH",
    "outputId": "98c3cab6-97f7-4fd2-9b7f-2fc61e098270"
   },
   "outputs": [
    {
     "name": "stdout",
     "output_type": "stream",
     "text": [
      "Número de linhas duplicadas: 0\n"
     ]
    }
   ],
   "source": [
    "print(f\"Número de linhas duplicadas: {df_economatica_manipulado.duplicated().sum()}\")"
   ]
  },
  {
   "cell_type": "markdown",
   "metadata": {
    "id": "nb0GThYVl9s6"
   },
   "source": [
    "Mesmo que não tenha linhas com todos os valores iguais, irei verificar se não há códigos duplicados."
   ]
  },
  {
   "cell_type": "code",
   "execution_count": 275,
   "metadata": {
    "colab": {
     "base_uri": "https://localhost:8080/",
     "height": 141
    },
    "id": "Pmqn5gmxmLMn",
    "outputId": "93d71c2f-c9c3-4b94-c800-03dea4107ab7"
   },
   "outputs": [
    {
     "name": "stdout",
     "output_type": "stream",
     "text": [
      "Número de códigos duplicados: 1416\n",
      "Número de registros duplicados (mesmo código no mesmo ano): 0\n",
      "\n",
      "Códigos que aparecem 5 vezes (completos): 354\n",
      "Códigos que aparecem menos de 5 vezes (incompletos): 0\n"
     ]
    }
   ],
   "source": [
    "print(f\"Número de códigos duplicados: {df_economatica_manipulado['codigo'].duplicated().sum()}\")\n",
    "\n",
    "print(f\"Número de registros duplicados (mesmo código no mesmo ano): {df_economatica_manipulado.duplicated(subset=['codigo', 'ano']).sum()}\")\n",
    "\n",
    "contagem_por_codigo = df_economatica_manipulado['codigo'].value_counts()\n",
    "print(f\"\\nCódigos que aparecem 5 vezes (completos): {(contagem_por_codigo == 5).sum()}\")\n",
    "print(f\"Códigos que aparecem menos de 5 vezes (incompletos): {(contagem_por_codigo < 5).sum()}\")"
   ]
  },
  {
   "cell_type": "markdown",
   "metadata": {
    "id": "Ft5_GXnVmbdO"
   },
   "source": [
    "Show! Agora sabemos que nenhum registro é duplicado."
   ]
  },
  {
   "cell_type": "markdown",
   "metadata": {
    "id": "1vuagOXPCJwc"
   },
   "source": [
    "## Verificar e tratar tipagem"
   ]
  },
  {
   "cell_type": "markdown",
   "metadata": {},
   "source": [
    "Vamos iniciar filtrando somente as colunas numéricas."
   ]
  },
  {
   "cell_type": "code",
   "execution_count": 276,
   "metadata": {},
   "outputs": [],
   "source": [
    "colunas_numericas = [col for col in df_economatica_manipulado.columns if col not in ['nome', 'codigo', 'setor']]"
   ]
  },
  {
   "cell_type": "markdown",
   "metadata": {},
   "source": [
    "### Identificando formato dos valores inconsistentes"
   ]
  },
  {
   "cell_type": "code",
   "execution_count": 277,
   "metadata": {},
   "outputs": [],
   "source": [
    "def checagem_de_valores_nao_numericos(df, columns):\n",
    "    valores_nao_numericos = {}\n",
    "    for col in columns:\n",
    "        # Tentar converter a coluna para numérico, com errors='coerce' para transformar valores inválidos em NaN\n",
    "        # Usamos errors='coerce' aqui apenas para identificar o que NÃO é numérico, sem modificar o DataFrame original\n",
    "        col_numerica = pd.to_numeric(df[col], errors='coerce')\n",
    "        # Encontrar os valores no DataFrame original que se tornaram NaN após a coerção e que não eram NaN originalmente\n",
    "        valores_invalidos = df[col][col_numerica.isnull() & df[col].notnull()]\n",
    "        if not valores_invalidos.empty:\n",
    "            valores_nao_numericos[col] = valores_invalidos.unique().tolist()\n",
    "    return valores_nao_numericos"
   ]
  },
  {
   "cell_type": "code",
   "execution_count": 278,
   "metadata": {},
   "outputs": [],
   "source": [
    "def exibir_valores_nao_numericos(df_economatica_mesclado, colunas_numericas):\n",
    "    valores_nao_numericos_encontrados = checagem_de_valores_nao_numericos(df_economatica_mesclado, colunas_numericas)\n",
    "\n",
    "    if valores_nao_numericos_encontrados:\n",
    "        print(\"Valores não numéricos encontrados nas seguintes colunas:\")\n",
    "        for col, val in valores_nao_numericos_encontrados.items():\n",
    "            print(f\"- {col}: {val}\")\n",
    "    else:\n",
    "        print(\"Nenhum valor não numérico encontrado nas colunas a verificar.\")"
   ]
  },
  {
   "cell_type": "code",
   "execution_count": 279,
   "metadata": {},
   "outputs": [
    {
     "name": "stdout",
     "output_type": "stream",
     "text": [
      "Valores não numéricos encontrados nas seguintes colunas:\n",
      "- ativo_circulante: ['1.770.014', '1.667.824', '3.206.373', '4.191.783', '2.724.356', '1.850.926', '2.679.455', '4.084.394', '35.342.614', '15.779.801', '3.246.412', '2.106.414', '8.349.000', '-', '1.129.517', '1.564.868', '17.101.290', '3.935.459', '14.345.436', '3.618.881', '34.190.244', '22.911.984', '187.717.707', '4.309.678', '19.248.000', '3.405.147', '3.519.978', '3.318.072', '1.092.139', '3.955.299', '15.456.200', '4.144.000', '2.426.886', '9.272.019', '4.225.788', '4.981.507', '2.004.368', '11.407.431', '11.436.399', '1.686.156', '13.811.803', '6.597.075', '1.352.511', '3.124.219', '6.058.633', '4.210.871', '4.220.022', '1.376.502', '2.666.332', '1.750.088', '3.156.000', '45.191.737', '31.946.046', '13.594.051', '3.648.429', '2.930.402', '7.733.297', '3.277.130', '4.970.063', '14.645.300', '3.798.883', '3.798.373', '2.147.664', '1.880.199', '1.446.975', '2.542.887', '1.978.441', '23.409.453', '25.038.582', '2.143.790', '3.202.874', '6.066.016', '18.734.820', '3.289.039', '8.701.056', '3.502.091', '3.178.735', '1.427.511', '7.899.047', '1.858.917', '2.043.202', '6.303.152', '5.161.926', '15.423.203', '5.507.858', '8.023.000', '1.435.937.000', '1.315.728', '1.859.590', '1.080.933', '1.347.961', '1.900.423', '10.785.871', '1.398.361', '7.973.724', '5.569.622', '1.058.787', '1.787.275', '8.896.766', '3.870.602', '16.798.810', '3.171.052', '18.419.902', '1.587.034', '5.298.788', '1.578.998', '1.179.685', '11.286.313', '1.083.022', '2.380.202', '1.865.037', '8.564.095', '4.282.983', '1.838.108', '14.977.000', '33.795.738', '1.412.255', '17.641.000', '3.147.390', '1.112.757', '1.853.217', '1.366.354', '2.999.110', '142.323.000', '1.841.415', '25.135.042', '2.211.237', '2.484.144', '1.633.821', '1.602.379', '7.020.490', '5.307.593', '22.431.901', '7.845.423', '1.068.695', '11.354.756', '6.440.838', '1.756.277', '603.330.917', '1.239.116', '3.699.195', '1.166.920', '1.082.299', '1.316.150', '23.386.194', '11.495.872', '4.201.380', '1.311.049', '1.364.178', '18.010.820', '17.957.994', '2.360.161', '2.156.794', '1.316.529', '19.060.868', '2.758.896', '1.010.744', '10.411.556', '2.831.973', '1.680.830', '3.329.822', '17.489.071', '1.880.619', '11.829.602', '126.805.173', '1.304.819', '1.291.898', '13.351.000', '1.422.266', '2.870.295', '1.110.885', '12.556.143', '5.421.277', '2.736.397', '1.119.099', '3.354.305', '1.986.036', '2.279.670', '5.405.111', '1.468.343', '3.340.588', '1.775.374', '3.224.388', '4.400.677', '38.627.141', '1.500.173', '21.912.888', '3.843.829', '1.311.929', '1.897.148', '8.772.000', '1.520.417', '2.351.999', '1.646.786', '21.095.033', '4.267.190', '17.045.739', '5.125.631', '1.696.474', '1.782.404', '39.293.445', '2.713.458', '26.243.123', '252.876.387', '5.146.345', '18.464.000', '4.454.983', '3.929.398', '2.589.164', '3.765.568', '12.949.150', '5.636.000', '3.307.978', '6.967.942', '3.335.350', '4.148.735', '7.880.970', '2.563.011', '11.189.872', '27.293.183', '1.865.842', '15.552.504', '1.302.377', '12.797.847', '1.874.318', '2.982.947', '7.960.916', '6.867.533', '4.661.437', '1.395.084', '2.856.340', '2.593.505', '3.599.000', '39.744.996', '32.790.163', '16.109.077', '3.202.343', '3.189.501', '8.517.934', '2.701.698', '4.758.546', '21.690.029', '1.260.871', '3.453.302', '4.343.892', '2.203.071', '2.046.288', '1.401.854', '1.742.471', '1.611.991', '2.909.195', '32.640.477', '33.428.447', '3.434.659', '3.058.563', '6.272.157', '17.449.877', '3.617.346', '8.832.709', '3.318.191', '2.669.440', '1.226.381', '6.491.633', '2.353.500', '2.955.288', '3.370.129', '6.847.514', '13.990.281', '3.747.849', '9.772.000', '1.790.350', '2.041.760', '1.008.408', '1.553.036', '2.654.515', '13.892.141', '1.139.963', '9.324.029', '6.942.865', '1.777.308', '13.984.780', '2.151.915', '4.443.030', '24.509.810', '3.367.187', '19.514.305', '1.749.711', '1.689.609', '5.569.301', '1.600.986', '1.367.450', '13.767.100', '1.214.894', '1.227.498', '9.146.959', '2.679.386', '9.458.398', '5.704.262', '1.535.087', '21.780.000', '46.426.067', '2.871.229', '17.872.000', '3.512.500', '1.722.880', '1.088.529', '1.000.312', '3.922.555', '168.247.000', '1.032.807', '6.106.295', '1.362.704', '1.144.108', '27.311.577', '3.120.040', '2.582.007', '1.249.373', '1.823.057', '7.718.924', '6.556.760', '21.889.584', '7.308.224', '1.164.282', '12.381.244', '6.502.998', '2.071.647', '509.576.839', '1.334.219', '4.633.129', '1.426.864', '1.864.097', '34.972.354', '23.561.250', '5.109.406', '4.169.953', '1.481.108', '34.113.789', '34.102.941', '2.135.183', '1.455.990', '2.471.104', '1.457.061', '21.060.168', '2.815.936', '15.398.048', '5.486.233', '1.571.137', '4.583.947', '25.024.181', '2.842.827', '19.999.470', '124.800.000', '1.326.685', '4.868.367', '17.760.000', '1.583.220', '4.587.414', '1.299.297', '15.945.946', '6.968.198', '2.973.560', '4.257.219', '2.597.564', '2.055.896', '8.207.602', '1.535.693', '2.567.150', '3.265.974', '3.773.385', '5.373.445', '37.816.711', '4.394.313', '17.048.712', '3.232.384', '2.379.589', '1.290.609', '14.179.000', '1.292.025', '6.268.496', '2.383.445', '17.129.613', '4.484.432', '10.151.518', '7.221.098', '1.677.861', '1.275.791', '34.457.656', '1.570.700', '26.504.346', '1.666.990', '4.839.084', '17.123.000', '4.270.276', '4.753.223', '2.476.477', '1.171.292', '3.678.616', '13.465.203', '5.388.000', '2.849.930', '5.059.727', '4.469.573', '4.810.931', '7.563.371', '2.449.939', '9.327.249', '25.577.934', '1.142.509', '15.180.037', '1.121.194', '9.617.117', '2.063.522', '1.962.441', '9.166.995', '7.722.005', '5.173.901', '1.558.547', '2.777.103', '2.066.402', '2.765.000', '49.623.127', '30.036.698', '14.724.256', '3.017.672', '5.583.686', '7.378.528', '2.636.138', '4.422.555', '21.689.299', '1.358.091', '3.777.271', '5.100.052', '2.337.621', '2.340.350', '1.694.947', '2.391.404', '2.289.336', '3.969.282', '31.257.422', '32.219.794', '5.198.747', '2.968.359', '8.800.267', '16.121.527', '4.526.488', '10.203.609', '7.931.902', '3.006.275', '1.289.370', '8.530.120', '1.335.598', '2.176.945', '3.821.998', '3.453.077', '7.886.325', '1.505.181', '13.684.101', '4.670.170', '11.692.000', '2.095.530', '3.257.709', '1.773.058', '2.406.151', '1.089.018', '12.504.004', '1.517.195', '4.772.892', '11.688.910', '1.067.048', '1.572.060', '13.053.770', '2.189.457', '4.877.015', '21.938.136', '4.145.740', '50.598.078', '1.160.148', '1.844.235', '1.920.049', '1.192.191', '1.182.023', '12.986.719', '1.493.743', '1.064.763', '9.440.252', '2.014.023', '10.303.472', '5.524.085', '1.779.399', '21.588.000', '9.550.596', '2.826.829', '28.559.000', '4.127.912', '1.575.443', '4.685.130', '163.052.000', '2.132.604', '10.602.627', '1.089.232', '1.455.442', '32.647.490', '1.103.098', '3.430.062', '2.980.433', '1.197.620', '2.032.988', '9.577.068', '7.829.913', '41.677.689', '6.838.370', '1.388.934', '9.754.895', '7.284.664', '2.469.829', '6.395.726', '1.561.776', '2.526.156', '30.612.360', '21.632.846', '7.032.683', '3.516.159', '37.200.791', '37.122.650', '3.089.668', '1.467.612', '2.505.790', '1.528.710', '17.283.910', '2.008.988', '10.364.415', '6.230.161', '1.694.212', '6.426.680', '18.564.600', '2.603.075', '20.358.661', '81.009.000', '1.311.719', '4.190.099', '22.244.000', '1.761.019', '5.633.112', '1.593.107', '19.653.210', '5.972.765', '2.100.461', '1.002.007', '4.422.008', '2.724.116', '1.741.462', '5.553.467', '2.289.747', '3.824.320', '3.199.595', '5.419.566', '36.563.050', '4.840.740', '10.727.000', '3.110.978', '1.770.484', '1.187.936', '14.616.000', '1.834.557', '5.937.861', '2.932.687', '2.915.054', '18.843.820', '4.759.327', '5.933.758', '1.553.869', '1.549.353', '1.096.135', '37.441.000', '3.965.496', '25.954.262', '1.464.596', '6.158.482', '13.350.000', '4.862.397', '4.441.842', '3.063.620', '1.212.370', '3.409.987', '11.869.068', '6.075.000', '2.852.767', '4.984.323', '3.245.547', '4.633.445', '8.334.477', '2.543.503', '13.715.730', '28.610.189', '18.051.353', '12.987.583', '2.212.808', '2.301.361', '9.768.408', '7.031.514', '5.761.356', '1.840.064', '3.583.355', '5.185.647', '3.133.000', '47.897.131', '29.316.115', '17.206.180', '3.604.854', '6.061.440', '8.913.451', '2.567.345', '4.303.949', '27.952.915', '1.473.075', '6.430.618', '5.469.131', '2.510.852', '2.203.653', '1.584.250', '2.803.557', '2.372.623', '3.505.007', '29.197.937', '29.540.169', '5.475.713', '2.701.852', '10.370.535', '15.987.222', '4.688.724', '9.142.435', '9.181.580', '3.203.364', '1.320.223', '8.077.766', '1.602.774', '1.940.835', '1.131.846', '3.613.750', '3.491.658', '7.514.152', '1.134.869', '3.300.842', '5.978.428', '12.653.000', '2.526.128', '2.701.869', '1.762.272', '3.978.862', '1.309.773', '16.465.645', '1.737.964', '5.333.564', '17.764.403', '1.109.082', '12.191.644', '1.950.393', '5.700.122', '20.221.163', '4.810.225', '52.100.800', '1.258.173', '1.991.437', '1.672.991', '1.247.389', '1.015.304', '18.135.700', '1.658.151', '1.345.991', '1.393.879', '5.429.325', '4.627.422', '11.661.860', '4.012.088', '1.985.612', '23.125.000', '7.776.492', '3.105.442', '7.523.000', '4.493.557', '1.163.978', '5.580.496', '157.079.000', '1.147.431', '5.294.874', '1.378.657', '1.731.714', '26.456.059', '1.331.755', '3.575.173', '3.539.367', '1.618.706', '2.218.074', '11.561.674', '7.387.648', '43.123.481', '7.989.174', '1.400.895', '10.251.830', '7.783.450', '2.776.732', '1.045.216', '6.284.258', '1.554.732', '2.108.646', '33.077.700', '22.160.575', '7.367.273', '3.346.134', '38.624.387', '38.569.072', '3.503.237', '1.194.992', '2.569.527', '1.607.349', '19.244.962', '2.530.998', '11.404.293', '3.906.298', '2.063.152', '6.186.653', '18.648.895', '3.043.657', '17.931.648', '90.529.000', '1.267.435', '5.957.885', '23.599.000', '2.056.580', '5.974.663', '1.960.627', '21.562.311', '6.388.922', '2.109.291', '5.776.390', '1.062.544', '1.944.198', '2.381.398', '2.452.534', '4.271.851', '3.459.140', '6.244.064', '54.155.784', '6.243.543', '7.078.000', '4.301.772', '2.084.653', '1.364.732', '16.448.000', '2.410.879', '11.137.794', '5.362.972', '6.831.683', '15.187.412', '6.775.846', '9.905.706', '1.068.748', '1.676.152', '1.747.904', '1.096.290', '37.037.000', '9.205.489', '30.830.485', '1.969.462', '7.114.625', '1.050.772', '14.140.000', '4.561.891', '4.993.393', '2.550.887', '1.203.302', '3.898.270', '12.232.582', '6.346.000', '3.081.678', '4.627.366', '2.840.520', '5.277.580', '9.376.762', '2.406.411', '13.041.808', '30.774.403', '16.551.548', '17.832.106', '2.726.137', '2.226.986', '12.115.105', '8.203.062', '5.066.196', '2.012.581', '4.571.386', '4.726.035', '3.394.000', '64.451.102', '40.326.906', '18.016.017', '4.047.402', '8.518.296', '7.198.390', '3.400.863', '6.838.508', '28.527.346', '1.039.775', '1.654.280', '7.169.626', '4.261.694', '2.616.102', '2.257.506', '1.745.724', '4.375.794', '3.078.097', '3.196.748', '32.669.423', '32.802.961', '7.563.555', '3.042.039', '11.969.284', '15.139.547', '4.874.554', '8.781.164', '11.069.835', '2.926.495', '1.707.218', '1.056.634', '6.681.876', '3.487.279', '2.256.473', '4.076.783', '3.438.074', '7.390.947', '1.230.009', '5.003.598', '7.939.449', '12.519.000', '2.764.608', '4.186.122', '1.690.658', '4.618.574', '1.321.367', '1.070.027', '13.818.844', '2.636.142', '7.158.984', '20.781.969', '1.218.659', '12.316.659', '1.334.539', '5.999.125', '19.550.824', '5.660.221', '54.934.666', '1.477.702', '1.987.247', '2.167.878', '1.373.750', '1.459.069', '24.456.769', '1.705.374', '1.582.755', '1.939.944', '6.950.874', '5.372.741', '13.695.089', '3.651.399', '2.201.634', '24.895.000', '1.007.199', '8.049.705', '4.660.784', '6.116.000', '4.614.664', '1.204.075', '8.268.498', '135.212.000', '1.569.425', '7.952.572', '1.377.991', '2.191.461', '26.288.831', '1.016.380', '2.967.747', '4.020.094', '1.657.879', '2.639.842', '12.703.710', '8.911.878', '51.361.379', '8.455.659', '1.576.066', '10.872.559', '10.608.860', '3.296.187', '1.161.427', '7.586.111', '1.622.955', '2.827.378', '39.785.693', '27.220.964', '8.390.257', '4.112.295', '42.346.172', '42.182.960', '1.148.946', '3.022.657', '1.551.087', '2.881.088', '1.776.003', '22.814.327', '3.198.770', '12.662.929', '2.763.558', '2.266.110', '7.460.379', '16.047.721', '2.932.966', '17.430.918', '83.476.000', '1.552.569', '4.144.511', '25.841.000', '2.781.888', '5.269.722', '2.127.758', '27.221.359', '7.479.488', '1.208.728', '2.516.953', '1.303.166']\n",
      "- ativo_nao_circulante: ['1.054.492', '1.015.608', '11.869.685', '1.971.670', '9.036.649', '2.135.131', '1.348.187', '18.492.116', '-', '89.853.965', '6.826.974', '8.392.458', '2.476.025', '10.472.000', '1.656.900', '1.267.677', '29.231.493', '7.281.415', '10.882.559', '1.441.901', '51.893.675', '1.337.247', '26.752.922', '8.545.540', '2.294.502', '3.270.003', '13.808.000', '7.805.798', '3.789.669', '2.922.725', '2.598.376', '6.711.955', '1.633.149', '38.626.880', '16.777.000', '6.939.498', '21.511.769', '6.391.096', '10.046.169', '9.768.089', '35.377.233', '24.324.425', '2.574.792', '35.295.081', '3.224.265', '13.025.331', '1.972.373', '5.375.293', '9.132.625', '7.278.498', '2.435.077', '9.343.552', '6.122.000', '133.774.712', '22.866.799', '31.968.756', '5.817.884', '13.287.694', '27.452.951', '4.617.166', '7.271.204', '29.478.720', '2.494.126', '1.800.099', '2.513.222', '1.378.404', '2.568.786', '2.042.444', '3.643.611', '1.441.577', '1.207.112', '1.442.596', '3.742.144', '39.713.556', '39.725.893', '2.338.577', '1.472.832', '2.132.695', '42.182.777', '2.904.821', '5.125.536', '1.137.002', '10.017.628', '2.458.898', '1.175.905', '4.286.986', '9.350.763', '2.093.964', '5.154.914', '2.029.487', '1.080.812', '14.953.202', '7.249.877', '1.042.519', '7.297.759', '19.084.500', '64.577.000', '1.496.082', '5.422.449', '2.938.333', '24.484.390', '18.423.542', '2.750.146', '14.871.512', '3.428.829', '1.147.726', '1.580.379', '5.745.817', '5.859.256', '7.848.393', '2.689.859', '21.087.539', '1.313.256', '1.217.585', '5.636.938', '1.196.790', '6.122.425', '9.264.676', '9.497.920', '8.726.176', '51.320.000', '40.044.049', '1.950.403', '1.477.142', '35.654.000', '2.606.388', '2.178.497', '845.096.000', '1.757.189', '4.951.418', '1.006.613', '11.595.160', '1.117.585', '1.276.923', '2.773.157', '6.807.598', '3.672.865', '23.225.143', '13.807.964', '1.299.355', '1.031.296', '34.553.615', '43.977.798', '11.434.581', '2.990.148', '2.489.196', '8.581.630', '2.009.186', '9.262.195', '39.615.955', '14.066.376', '4.388.311', '7.181.446', '1.800.602', '83.851.798', '83.842.754', '4.390.692', '11.745.258', '1.039.377', '1.498.739', '2.927.484', '89.677.510', '1.477.823', '1.898.861', '31.242.861', '2.314.433', '3.173.653', '2.783.497', '18.761.091', '2.627.678', '18.122.535', '351.324.342', '1.564.313', '2.933.581', '1.624.965', '14.976.000', '1.724.924', '7.371.753', '1.679.136', '4.474.837', '6.528.869', '2.813.656', '1.041.296', '1.102.143', '9.488.979', '1.369.799', '7.655.051', '2.052.941', '1.188.374', '9.339.339', '4.807.376', '1.203.556', '21.319.255', '99.975.342', '3.361.196', '22.605.924', '12.384.634', '8.570.749', '1.384.339', '14.082.000', '1.785.924', '17.210.554', '1.719.540', '31.436.736', '8.188.590', '7.259.115', '1.846.761', '53.270.923', '2.740.023', '29.660.264', '9.683.722', '2.971.633', '3.424.586', '16.876.000', '7.510.244', '4.743.268', '4.154.583', '2.835.756', '8.192.677', '1.739.462', '39.096.658', '18.761.000', '7.929.873', '21.544.911', '3.328.975', '8.122.763', '12.101.639', '10.158.639', '38.347.663', '70.548.840', '2.363.047', '50.567.374', '3.473.640', '14.193.287', '1.974.242', '5.880.254', '1.075.966', '16.382.371', '1.618.745', '8.758.894', '2.823.279', '13.800.389', '7.078.000', '148.558.073', '1.108.384', '23.880.040', '38.148.923', '8.087.499', '15.055.054', '29.597.791', '5.117.625', '7.372.198', '40.024.271', '1.364.473', '2.298.326', '2.214.003', '4.446.975', '1.586.018', '2.872.427', '1.994.728', '4.331.299', '1.470.327', '1.813.029', '1.367.648', '3.551.069', '41.174.136', '41.184.219', '3.168.254', '1.495.932', '3.682.834', '42.998.613', '3.529.146', '5.645.712', '1.175.344', '17.716.198', '3.201.229', '1.637.270', '5.291.149', '4.148.218', '13.326.329', '9.938.581', '5.019.304', '2.296.262', '1.381.478', '1.878.739', '14.450.202', '7.672.016', '1.406.577', '8.684.160', '25.228.890', '76.209.000', '1.978.390', '6.369.774', '4.467.732', '28.183.566', '18.953.843', '3.090.657', '18.369.191', '4.384.806', '1.473.767', '1.645.877', '7.427.205', '2.423.944', '6.214.063', '13.874.806', '3.287.337', '28.488.953', '2.341.067', '1.316.868', '1.340.054', '6.302.362', '1.295.458', '1.466.029', '12.568.894', '10.755.350', '10.863.030', '9.127.373', '64.020.000', '1.660.719', '1.351.353', '31.524.409', '3.161.181', '2.216.478', '31.571.000', '3.060.754', '1.977.919', '804.704.000', '3.682.586', '6.115.121', '2.084.643', '14.317.661', '1.251.216', '1.450.887', '3.154.208', '7.056.582', '4.163.027', '30.591.036', '17.333.616', '1.561.280', '35.793.310', '46.662.487', '12.568.942', '3.418.098', '3.162.495', '9.765.149', '1.338.951', '2.375.387', '9.528.536', '44.406.749', '24.406.944', '7.756.937', '7.484.519', '1.715.084', '84.920.657', '84.872.211', '3.972.804', '13.760.452', '1.529.322', '2.641.993', '94.603.365', '1.625.561', '34.421.138', '4.458.792', '2.990.407', '2.926.681', '13.986.176', '3.405.381', '19.482.099', '374.327.000', '1.771.098', '5.317.158', '1.017.782', '16.124.000', '2.309.776', '7.986.841', '2.196.412', '4.809.417', '1.650.479', '6.924.235', '2.999.709', '1.824.770', '1.177.393', '9.330.484', '1.702.891', '1.008.999', '7.234.003', '2.131.170', '1.121.803', '9.019.231', '4.726.295', '1.078.874', '22.560.314', '100.141.372', '5.488.598', '14.243.548', '13.703.933', '8.352.408', '2.440.366', '26.439.000', '2.502.855', '26.014.397', '2.275.819', '30.465.160', '8.908.734', '7.412.150', '2.093.167', '53.591.202', '6.400.435', '31.350.101', '10.042.278', '3.721.313', '3.811.272', '18.451.000', '7.643.837', '4.876.371', '4.363.481', '3.098.507', '7.949.451', '40.205.634', '20.245.000', '9.459.474', '21.337.024', '9.182.085', '7.853.180', '17.558.815', '10.739.668', '40.376.451', '108.907.058', '2.417.652', '55.966.044', '3.586.428', '15.436.478', '1.955.125', '7.393.144', '1.059.615', '19.122.186', '2.127.639', '10.450.910', '1.174.579', '3.712.312', '16.042.507', '7.161.000', '220.594.335', '1.100.244', '22.881.627', '44.946.412', '8.789.701', '36.130.283', '30.808.224', '5.776.721', '8.367.983', '68.928.098', '1.348.282', '2.289.146', '2.325.170', '6.462.601', '1.598.072', '3.195.973', '2.372.438', '5.400.366', '1.476.540', '1.517.392', '1.241.682', '3.285.911', '42.541.230', '42.549.731', '3.797.752', '1.853.561', '4.463.671', '38.563.863', '3.943.759', '5.018.330', '1.221.407', '65.281.828', '3.905.014', '2.191.256', '5.074.159', '4.329.666', '15.225.513', '10.271.526', '5.871.192', '2.269.919', '1.211.054', '2.211.700', '1.165.384', '14.097.380', '7.309.130', '2.010.157', '9.293.461', '27.573.380', '84.945.000', '3.791.081', '7.064.028', '5.835.981', '35.073.354', '19.333.211', '3.197.617', '53.967.721', '5.502.309', '2.382.015', '1.532.892', '8.095.122', '2.535.145', '6.562.477', '15.827.709', '3.249.610', '85.506.245', '3.773.016', '1.318.515', '1.212.604', '1.406.417', '8.413.409', '1.304.568', '1.754.491', '16.808.628', '12.517.430', '12.297.857', '1.353.878', '9.097.912', '70.730.000', '1.749.708', '1.520.955', '20.065.502', '5.392.950', '1.493.085', '2.716.955', '15.280.000', '4.469.514', '1.418.634', '813.657.000', '4.452.490', '9.699.893', '2.557.897', '17.843.431', '1.376.672', '1.384.500', '3.314.408', '7.608.238', '5.052.434', '50.812.992', '18.417.684', '2.697.717', '1.466.207', '36.196.850', '49.923.101', '14.187.367', '3.490.853', '2.922.944', '12.460.040', '1.392.196', '2.639.440', '12.804.076', '54.741.999', '40.026.668', '7.835.706', '8.533.391', '1.813.457', '96.077.908', '96.075.318', '3.617.838', '14.219.413', '1.502.657', '2.506.701', '101.837.573', '2.119.366', '46.043.952', '4.386.032', '2.797.164', '3.816.578', '17.876.403', '1.213.985', '3.391.370', '19.641.790', '372.378.000', '1.351.632', '12.485.317', '1.092.302', '18.866.000', '5.246.053', '1.171.154', '3.926.512', '8.481.450', '2.462.101', '4.859.021', '1.809.612', '6.948.746', '3.128.946', '2.461.781', '1.290.365', '9.242.668', '2.160.549', '1.032.239', '6.929.095', '2.145.064', '1.106.004', '23.834.775', '3.127.794', '23.016.515', '96.081.083', '6.801.957', '16.388.000', '14.545.709', '7.884.993', '2.794.791', '28.561.000', '2.637.952', '23.056.696', '3.060.850', '30.577.802', '12.338.864', '1.499.659', '7.644.246', '2.186.066', '54.300.000', '16.154.362', '31.317.828', '2.474.363', '12.539.723', '4.175.100', '4.098.097', '18.646.000', '8.699.535', '4.975.814', '4.588.236', '3.320.822', '8.892.274', '43.131.012', '21.808.000', '10.244.646', '20.151.540', '12.380.659', '9.105.389', '20.502.026', '11.646.360', '42.103.344', '111.255.193', '2.090.563', '56.919.874', '3.653.936', '16.703.022', '1.729.523', '7.602.792', '1.076.173', '19.181.686', '2.647.151', '12.159.235', '1.237.406', '3.988.243', '20.774.254', '7.729.000', '219.160.523', '1.172.225', '22.885.113', '50.862.291', '9.406.165', '37.504.439', '33.311.022', '6.783.068', '9.969.370', '75.690.537', '1.331.922', '2.176.394', '2.635.340', '8.882.530', '1.829.498', '3.368.464', '2.526.447', '8.776.411', '1.539.376', '1.621.358', '1.173.394', '45.687.207', '45.692.293', '4.543.349', '1.579.346', '1.373.509', '5.986.761', '26.759.793', '3.925.723', '5.130.233', '1.360.837', '64.004.565', '4.219.685', '2.877.520', '4.928.824', '4.148.774', '16.430.985', '10.512.297', '5.850.844', '2.235.737', '1.059.523', '2.311.615', '1.274.535', '13.304.129', '7.019.964', '2.332.197', '12.185.590', '29.932.728', '92.695.000', '4.214.722', '8.376.200', '7.910.005', '38.969.045', '1.802.743', '18.383.372', '3.384.375', '63.182.681', '5.321.428', '2.510.206', '1.492.160', '8.298.994', '2.653.995', '6.640.870', '17.233.904', '3.149.078', '78.853.836', '3.913.278', '1.298.274', '1.127.934', '1.725.101', '10.458.454', '1.578.112', '2.044.346', '19.690.168', '13.437.650', '13.409.842', '1.445.950', '9.551.312', '75.987.000', '1.687.863', '1.646.798', '18.347.469', '6.075.712', '1.669.708', '2.357.383', '14.527.000', '4.495.041', '1.395.959', '893.809.000', '5.681.753', '23.016.058', '2.616.754', '17.783.540', '1.964.253', '1.006.660', '1.398.559', '2.890.619', '1.087.649', '8.532.738', '5.432.495', '47.218.875', '19.663.555', '2.937.256', '1.087.132', '38.986.606', '53.687.507', '16.027.173', '3.991.029', '2.519.317', '13.208.617', '1.227.297', '2.614.405', '15.081.345', '58.452.020', '47.980.265', '8.489.045', '10.884.043', '1.554.666', '105.030.636', '105.023.953', '3.588.036', '15.945.419', '1.956.013', '1.064.285', '2.396.238', '101.493.018', '2.014.147', '43.855.863', '4.922.562', '2.651.701', '4.098.092', '19.603.079', '1.464.217', '3.352.834', '22.230.103', '365.455.000', '1.278.191', '14.850.941', '1.127.647', '19.882.000', '5.290.584', '1.185.010', '4.212.030', '9.933.959', '2.632.212', '4.820.940', '1.970.665', '7.178.305', '3.215.389', '3.113.033', '1.305.070', '9.134.045', '6.289.899', '2.194.790', '1.027.705', '23.016.939', '3.380.585', '24.444.972', '108.352.165', '8.411.729', '10.387.000', '15.329.551', '7.604.220', '3.272.621', '29.145.000', '4.278.427', '41.616.323', '3.546.830', '8.421.862', '30.041.438', '11.709.881', '1.735.577', '8.246.274', '2.843.267', '64.538.000', '35.258.258', '31.844.591', '3.149.073', '12.054.554', '4.779.896', '4.505.760', '19.749.000', '9.271.129', '5.060.506', '5.661.850', '3.448.657', '9.139.488', '47.494.254', '24.937.000', '11.325.263', '19.573.034', '12.076.807', '10.313.913', '24.873.357', '13.105.378', '44.342.348', '110.491.499', '60.577.646', '3.721.968', '18.558.813', '1.613.158', '1.613.662', '9.125.857', '1.231.974', '18.255.409', '2.859.385', '13.077.914', '1.364.872', '5.496.020', '24.570.047', '8.617.000', '225.420.228', '1.414.325', '32.892.812', '59.165.636', '10.117.586', '44.252.484', '42.913.911', '7.849.147', '10.986.391', '87.884.745', '1.251.880', '2.068.660', '2.914.912', '11.024.636', '3.850.432', '2.642.156', '8.686.616', '1.791.517', '2.105.619', '1.001.229', '2.942.730', '54.145.070', '54.145.568', '6.806.858', '1.720.506', '1.458.020', '6.990.038', '21.993.876', '4.071.413', '4.852.103', '1.393.854', '62.429.811', '4.607.662', '3.770.918', '5.459.470', '4.137.207', '17.877.207', '15.749.476', '6.247.401', '2.311.303', '1.492.738', '12.424.255', '8.570.424', '2.390.628', '11.443.268', '35.365.183', '102.106.000', '4.584.635', '9.107.625', '7.861.608', '45.571.988', '1.850.838', '18.184.677', '3.687.106', '66.461.638', '5.555.542', '2.822.403', '1.327.756', '8.047.931', '2.676.083', '6.769.742', '17.761.034', '3.781.532', '82.575.473', '2.863.150', '1.298.636', '1.425.419', '2.410.174', '17.685.127', '2.208.225', '23.622.983', '15.240.341', '15.735.598', '1.657.301', '10.310.167', '84.646.000', '2.024.284', '1.631.993', '11.710.923', '6.541.548', '2.422.450', '1.384.710', '13.587.000', '4.369.031', '1.007.425', '1.229.175', '989.585.000', '5.868.146', '47.793.593', '2.517.468', '21.624.905', '2.330.390', '1.499.240', '1.596.144', '2.708.446', '1.062.405', '9.460.046', '6.525.758', '51.236.503', '21.603.582', '2.773.077', '39.720.464', '70.356.570', '17.211.813', '4.380.215', '2.072.270', '14.729.693', '2.469.953', '17.334.376', '64.120.961', '56.804.827', '9.184.085', '14.238.007', '123.760.551', '123.753.145', '1.999.224', '17.408.436', '1.077.560', '1.482.120', '2.313.982', '102.126.346', '2.150.167', '43.664.382', '5.768.163', '2.534.322', '4.050.484', '23.510.353', '1.614.720', '4.178.823', '22.440.872', '412.849.000', '1.391.280', '16.132.516', '1.168.324', '23.159.000', '5.012.772', '1.491.843', '4.274.475', '14.268.342', '3.089.850', '5.496.811', '1.968.521', '7.421.471', '3.374.804']\n",
      "- passivo_circulante: ['1.365.036', '3.110.584', '1.972.341', '2.021.812', '1.277.051', '2.290.153', '5.829.618', '33.477.964', '5.331.073', '2.996.435', '8.723.000', '-', '9.678.085', '5.090.172', '20.846.462', '8.476.820', '2.853.303', '28.387.174', '15.440.328', '179.301.351', '1.740.710', '18.497.000', '1.990.663', '2.251.711', '2.844.635', '2.161.791', '1.023.006', '3.522.162', '9.690.215', '3.475.000', '2.875.690', '5.261.918', '3.610.145', '4.087.148', '1.388.231', '9.654.392', '6.415.113', '1.511.169', '14.405.951', '4.598.123', '3.217.380', '2.106.359', '3.013.112', '2.411.801', '2.518.699', '3.054.000', '26.400.066', '12.621.398', '12.401.270', '2.518.733', '1.065.939', '5.380.926', '2.232.872', '2.535.530', '8.709.938', '1.416.769', '1.650.669', '1.109.771', '1.466.986', '2.963.948', '11.482.143', '11.589.655', '1.755.140', '1.361.330', '16.159.586', '1.852.278', '5.080.495', '2.120.613', '1.017.436', '2.623.249', '2.495.858', '1.081.371', '7.363.428', '4.352.451', '16.826.491', '1.372.497', '3.728.000', '1.134.166.000', '1.078.153', '1.167.150', '3.613.472', '7.216.957', '4.296.388', '1.463.232', '5.633.411', '1.634.008', '13.416.145', '1.718.308', '13.864.388', '3.018.031', '1.016.836', '6.395.662', '2.448.236', '2.131.436', '3.615.810', '2.500.956', '12.000.000', '14.921.683', '18.013.108', '1.013.906', '18.483.000', '1.889.099', '3.966.056', '3.570.893', '5.816.019', '136.287.000', '2.149.449', '20.806.607', '1.370.932', '1.543.856', '1.142.786', '4.801.303', '3.040.920', '3.861.050', '5.292.015', '1.803.751', '4.856.159', '5.900.130', '1.448.859', '657.760.203', '1.791.698', '14.725.696', '5.524.858', '2.337.097', '1.084.592', '1.095.085', '8.178.766', '8.172.823', '2.343.511', '17.875.084', '1.216.366', '1.101.747', '8.301.956', '2.040.031', '1.514.058', '9.240.841', '1.220.159', '4.479.098', '75.837.515', '1.090.884', '1.000.131', '6.942.000', '2.064.600', '5.882.044', '4.686.016', '1.292.768', '2.044.177', '3.987.621', '1.283.879', '2.052.820', '1.413.976', '2.037.251', '6.626.275', '31.107.336', '14.454.150', '3.024.795', '1.235.287', '9.167.000', '1.070.932', '15.654.356', '5.269.077', '22.624.016', '11.064.517', '1.813.127', '32.363.495', '20.233.893', '259.899.690', '1.601.515', '19.560.000', '2.328.592', '1.901.386', '2.211.298', '1.201.621', '3.613.999', '10.494.484', '5.505.000', '3.088.873', '5.095.707', '1.861.165', '2.707.343', '3.404.815', '2.016.853', '9.823.631', '9.222.328', '1.583.502', '13.533.339', '7.369.762', '3.291.464', '2.134.362', '4.856.655', '2.684.248', '5.785.446', '3.187.000', '26.600.098', '16.065.981', '10.919.128', '2.473.224', '1.405.553', '5.898.206', '2.030.531', '3.669.213', '12.216.041', '1.969.994', '2.271.734', '1.018.742', '1.171.871', '1.185.862', '13.155.055', '13.235.514', '1.487.018', '1.567.573', '12.747.056', '2.246.384', '5.294.222', '3.267.099', '1.046.434', '3.438.892', '1.386.009', '2.348.893', '8.263.775', '5.251.184', '18.274.627', '1.569.859', '4.790.000', '1.191.841', '1.052.468', '5.415.631', '4.172.977', '3.934.066', '1.472.166', '5.408.443', '1.463.238', '13.344.801', '1.626.569', '16.545.159', '4.231.781', '1.347.800', '7.560.328', '2.296.080', '2.204.503', '4.438.443', '2.799.274', '1.004.068', '19.714.000', '14.706.248', '23.469.967', '1.107.007', '14.291.000', '2.056.465', '3.894.001', '3.713.618', '6.687.638', '138.664.000', '1.225.154', '23.407.279', '1.660.665', '1.522.296', '2.577.393', '1.014.374', '5.155.725', '3.534.234', '5.068.174', '5.183.316', '1.712.250', '3.704.889', '6.137.903', '1.358.276', '602.423.116', '2.189.293', '22.192.748', '5.124.373', '4.040.434', '1.412.172', '1.108.727', '8.951.869', '8.946.413', '1.238.042', '2.468.629', '22.250.485', '1.090.658', '6.829.881', '3.083.473', '1.494.666', '10.345.230', '1.277.916', '6.805.830', '87.442.212', '6.095.000', '1.562.094', '7.533.439', '6.099.204', '2.497.570', '2.739.186', '1.332.523', '7.190.670', '1.507.761', '1.529.603', '1.015.789', '1.494.762', '1.203.615', '2.558.195', '8.338.455', '40.540.538', '1.822.364', '49.939.075', '4.575.450', '1.821.441', '16.416.000', '4.199.004', '1.635.360', '9.306.446', '5.840.907', '24.054.890', '12.448.917', '6.508.168', '24.185.247', '23.036.153', '22.297.939', '2.478.939', '19.750.000', '2.188.564', '3.679.731', '2.154.302', '1.121.801', '3.757.419', '11.205.178', '5.738.000', '4.162.838', '4.069.278', '3.444.694', '3.844.998', '4.582.545', '1.937.386', '7.156.597', '15.798.213', '1.690.910', '14.879.172', '4.642.823', '1.067.486', '3.130.395', '3.701.862', '6.165.915', '3.264.920', '1.008.234', '3.300.389', '2.245.000', '26.440.876', '16.786.744', '13.224.880', '2.725.405', '5.026.873', '5.890.219', '1.885.048', '3.259.202', '22.099.849', '2.489.047', '2.056.378', '1.551.261', '1.234.135', '1.886.426', '1.016.686', '13.462.581', '13.493.868', '1.960.993', '2.753.346', '13.337.868', '2.948.338', '6.307.421', '7.474.525', '5.225.194', '1.265.521', '1.707.808', '1.213.641', '1.006.037', '1.746.489', '4.561.795', '4.768.463', '17.506.102', '1.293.346', '7.359.000', '1.151.341', '1.024.737', '1.758.397', '6.461.750', '5.644.466', '11.236.806', '1.441.183', '7.005.579', '1.108.610', '2.467.420', '14.832.925', '2.288.932', '40.420.580', '1.039.127', '1.750.090', '8.129.741', '5.896.026', '2.659.693', '5.063.732', '2.203.989', '1.295.160', '18.416.000', '15.531.732', '10.185.041', '1.883.279', '17.747.000', '2.935.820', '3.475.280', '3.413.650', '8.931.289', '163.731.000', '1.391.367', '1.387.739', '30.083.227', '1.773.213', '1.956.323', '1.074.985', '6.367.168', '3.900.956', '16.743.802', '5.233.583', '1.426.360', '5.690.421', '6.657.342', '1.629.658', '3.029.920', '2.661.282', '22.475.119', '13.959.865', '4.589.690', '1.748.885', '1.333.456', '14.498.065', '14.492.543', '1.021.517', '2.544.912', '22.170.720', '1.480.765', '13.118.009', '3.336.366', '3.390.345', '12.766.252', '1.495.805', '5.392.626', '72.478.000', '4.325.800', '9.624.000', '3.215.396', '10.262.877', '5.737.324', '1.107.611', '2.784.746', '1.695.579', '1.284.788', '6.147.186', '2.091.361', '1.135.058', '2.137.335', '3.248.718', '11.322.771', '41.004.897', '2.045.901', '49.275.000', '7.846.753', '1.692.177', '16.425.000', '3.850.751', '1.026.459', '2.292.283', '12.154.194', '6.359.922', '22.704.900', '12.875.114', '5.478.106', '24.494.000', '3.336.511', '27.837.810', '19.390.348', '1.415.172', '3.541.706', '18.829.000', '2.056.235', '3.200.131', '2.822.722', '1.063.510', '3.730.676', '13.092.816', '6.962.000', '5.112.763', '3.669.988', '4.052.338', '3.877.440', '5.773.108', '2.011.670', '9.309.433', '16.158.805', '2.266.496', '19.762.108', '6.069.785', '1.088.136', '2.478.268', '3.454.384', '5.641.375', '3.608.696', '1.134.412', '1.042.766', '5.279.172', '2.628.000', '27.159.791', '17.746.077', '15.349.661', '3.014.192', '4.736.210', '6.113.665', '1.789.774', '2.925.099', '18.149.382', '6.390.301', '1.673.576', '1.971.651', '1.686.617', '1.113.326', '2.030.394', '11.284.612', '11.304.213', '2.450.842', '4.235.730', '10.413.499', '2.841.656', '5.519.087', '6.672.681', '1.457.487', '4.644.236', '1.076.186', '1.027.165', '1.366.286', '4.108.254', '4.617.386', '4.427.698', '2.444.736', '4.798.000', '1.238.472', '1.102.761', '2.367.201', '6.092.527', '1.260.289', '15.504.479', '18.417.023', '1.626.523', '7.492.553', '1.441.553', '2.425.812', '17.408.127', '2.386.866', '42.170.873', '1.059.262', '1.833.371', '9.746.503', '7.455.025', '3.342.471', '5.626.218', '1.217.725', '1.402.204', '21.699.000', '15.065.129', '14.285.499', '1.816.458', '6.225.000', '3.242.528', '3.867.545', '1.006.639', '10.574.138', '163.928.000', '1.065.860', '3.463.811', '23.359.565', '1.321.165', '1.934.265', '2.446.645', '1.303.623', '1.307.156', '8.079.497', '4.070.902', '14.237.547', '6.599.184', '5.477.537', '8.407.842', '1.970.093', '2.413.866', '4.208.964', '25.017.103', '15.328.767', '4.040.317', '2.244.232', '1.940.017', '14.800.142', '14.795.040', '1.750.274', '2.687.029', '20.084.184', '1.544.511', '12.882.966', '1.348.729', '3.246.790', '11.229.658', '1.290.184', '5.514.389', '70.948.000', '3.412.501', '9.996.000', '1.865.790', '3.056.590', '11.219.689', '6.329.202', '1.430.185', '1.306.667', '3.666.344', '2.069.726', '2.471.600', '2.335.134', '1.342.037', '2.265.460', '1.349.606', '3.053.989', '12.873.797', '49.388.714', '2.144.528', '4.382.000', '6.520.761', '16.312.000', '1.556.144', '7.148.376', '3.369.924', '4.517.132', '9.159.685', '7.014.390', '22.981.935', '12.319.461', '8.277.884', '28.272.000', '5.438.248', '20.820.577', '1.131.440', '3.491.010', '19.262.000', '2.345.979', '3.850.272', '2.221.043', '1.430.958', '3.049.785', '14.145.808', '6.673.000', '5.673.718', '2.881.057', '2.443.504', '3.675.447', '7.757.086', '1.673.202', '10.342.380', '17.912.834', '17.370.535', '7.545.988', '1.249.965', '2.531.686', '3.702.290', '5.299.051', '3.641.566', '1.184.660', '1.508.358', '7.054.690', '3.536.000', '31.630.370', '27.347.016', '14.653.391', '2.647.166', '5.783.912', '7.273.026', '2.506.315', '4.395.233', '19.605.209', '3.465.774', '2.843.265', '1.742.813', '1.499.219', '2.124.607', '1.149.284', '10.851.391', '10.905.469', '3.162.289', '4.673.250', '9.607.489', '3.222.231', '5.940.448', '5.249.738', '1.921.140', '2.390.677', '3.940.088', '3.446.063', '1.255.766', '1.204.311', '1.796.371', '3.332.745', '4.306.159', '4.778.980', '3.264.818', '5.776.000', '2.387.896', '3.008.405', '7.163.343', '1.486.687', '5.034.239', '17.713.794', '7.647.557', '1.129.811', '2.732.737', '16.710.550', '3.079.587', '42.965.775', '1.571.065', '1.131.637', '16.573.215', '9.252.585', '3.390.158', '8.141.830', '1.582.283', '1.543.893', '20.470.000', '17.122.833', '8.078.833', '2.453.206', '6.356.000', '3.381.427', '6.261.203', '1.024.150', '10.076.152', '194.808.000', '3.688.444', '22.875.026', '1.359.104', '1.503.102', '2.989.131', '1.503.375', '1.694.929', '9.194.959', '4.659.918', '17.855.726', '6.113.287', '6.668.802', '11.972.245', '1.850.428', '3.344.821', '2.851.182', '25.116.475', '21.080.863', '6.145.505', '2.791.653', '24.580.505', '24.477.938', '2.462.741', '1.016.957', '24.257.939', '1.951.017', '12.827.248', '1.144.197', '1.118.481', '3.390.939', '10.493.201', '1.018.758', '4.783.005', '81.055.000', '2.729.224', '8.514.000', '2.853.057', '15.454.265', '7.101.828', '1.436.490', '1.129.677']\n",
      "- passivo_nao_circulante: ['10.286.180', '2.846.768', '1.268.574', '11.341.675', '-', '16.567.491', '7.789.996', '5.051.200', '1.614.920', '8.688.000', '12.133.274', '1.657.388', '61.563.263', '25.411.044', '2.102.201', '1.872.105', '8.580.000', '5.480.149', '2.403.136', '7.595.967', '1.195.111', '5.160.450', '26.915.517', '11.337.000', '3.260.146', '11.236.706', '6.416.687', '7.594.604', '3.927.614', '16.879.754', '17.839.897', '1.259.140', '20.465.155', '2.682.265', '4.422.586', '1.821.554', '3.530.939', '6.793.856', '3.898.355', '3.189.279', '8.518.760', '3.242.000', '78.815.089', '26.918.732', '25.645.868', '4.166.917', '7.221.417', '22.063.324', '2.664.181', '6.332.559', '23.135.595', '1.199.708', '2.130.128', '1.044.691', '1.266.578', '2.663.189', '1.115.306', '1.884.603', '20.555.656', '20.550.580', '1.988.520', '1.129.841', '17.370.903', '2.390.896', '3.718.754', '3.568.119', '1.662.257', '3.742.707', '5.385.846', '1.772.462', '3.042.395', '1.172.502', '1.708.043', '15.585.415', '4.256.591', '1.638.341', '9.094.419', '8.239.000', '1.557.506', '2.377.211', '2.827.973', '27.272.028', '12.104.097', '10.092.087', '1.436.426', '3.507.856', '1.450.282', '3.905.771', '1.534.607', '22.128.990', '9.687.517', '3.695.711', '4.685.458', '8.411.620', '3.332.855', '32.788.000', '48.056.769', '1.671.446', '6.398.295', '18.005.000', '1.923.756', '3.544.240', '539.982.000', '1.492.121', '6.956.465', '1.578.817', '4.601.164', '3.275.374', '27.793.812', '10.630.012', '2.679.531', '25.755.885', '21.724.802', '4.798.836', '1.419.576', '1.835.668', '1.304.624', '6.451.858', '1.215.254', '6.124.982', '37.024.948', '16.813.540', '3.101.536', '4.939.102', '86.293.429', '86.290.547', '1.776.694', '7.237.872', '2.389.810', '21.306.530', '1.502.232', '1.023.132', '10.169.716', '1.583.493', '2.045.804', '17.099.056', '1.549.099', '8.634.869', '221.306.016', '2.719.110', '1.585.152', '9.178.000', '1.329.591', '2.115.554', '2.524.965', '4.767.529', '1.529.765', '1.379.054', '5.998.222', '3.869.258', '2.577.246', '1.167.320', '13.270.654', '15.718.460', '2.659.114', '15.270.982', '6.923.723', '6.235.199', '1.857.377', '11.444.000', '8.914.083', '17.153.406', '2.033.528', '61.167.017', '25.852.475', '3.058.355', '1.789.179', '11.026.000', '5.089.612', '3.262.602', '7.169.069', '1.265.576', '6.054.768', '21.896.450', '13.218.000', '4.291.558', '10.654.190', '3.533.431', '6.627.895', '8.536.002', '4.051.153', '19.382.307', '56.014.965', '36.400.283', '2.762.336', '6.460.264', '1.222.193', '4.477.027', '8.751.719', '4.313.729', '3.723.998', '9.982.769', '4.990.000', '88.002.933', '25.398.872', '32.521.060', '5.822.365', '7.811.394', '24.407.969', '2.675.600', '5.483.062', '34.120.385', '1.322.260', '2.319.675', '1.022.129', '1.169.167', '3.012.413', '1.150.843', '1.538.645', '2.146.617', '1.063.922', '16.962.150', '16.948.561', '2.890.296', '1.828.073', '18.187.888', '2.760.640', '3.126.265', '7.276.943', '1.179.110', '1.645.499', '4.667.588', '2.182.088', '7.207.965', '6.529.006', '3.424.583', '1.336.350', '1.738.497', '16.201.138', '4.954.683', '1.063.253', '1.688.318', '12.954.810', '10.646.000', '1.747.933', '3.021.350', '4.580.624', '29.418.639', '12.856.044', '12.710.466', '1.307.736', '1.493.559', '3.651.264', '2.295.658', '11.866.196', '1.672.253', '25.383.873', '2.061.130', '12.176.961', '1.000.239', '14.680.188', '6.189.171', '9.767.920', '3.241.110', '41.622.000', '1.212.573', '52.276.426', '2.536.745', '6.952.419', '16.513.000', '2.291.625', '2.891.018', '3.511.491', '448.457.000', '1.599.050', '4.515.170', '7.305.026', '1.087.063', '1.023.955', '4.160.511', '3.495.202', '32.653.653', '13.978.219', '2.225.719', '28.714.999', '23.140.699', '5.417.076', '1.623.280', '2.002.279', '1.342.976', '7.460.766', '1.110.772', '5.966.818', '31.463.098', '35.006.600', '5.258.287', '5.796.262', '92.251.679', '92.248.798', '1.787.157', '7.793.749', '1.035.198', '2.344.586', '23.197.939', '1.948.063', '14.100.598', '2.139.467', '1.704.989', '2.364.312', '15.900.887', '2.130.550', '8.791.077', '217.256.000', '6.355.614', '1.568.076', '14.237.000', '2.621.889', '1.994.231', '2.597.002', '4.790.272', '1.479.338', '1.557.566', '6.515.502', '1.218.357', '2.673.381', '3.392.385', '1.245.160', '15.003.945', '14.089.718', '6.760.997', '8.019.806', '7.125.977', '5.709.088', '2.179.404', '20.306.000', '1.335.983', '12.830.811', '18.005.184', '2.025.563', '57.755.394', '2.738.375', '23.733.639', '3.073.450', '1.778.339', '10.540.000', '4.762.664', '2.949.667', '7.430.313', '1.995.739', '4.987.472', '20.682.393', '13.984.000', '4.189.664', '9.086.085', '6.766.344', '7.786.360', '11.932.857', '3.997.707', '21.415.878', '70.517.380', '1.144.842', '38.726.965', '2.645.545', '9.017.345', '5.158.946', '13.588.877', '1.115.062', '6.398.327', '4.121.504', '12.289.840', '4.816.000', '132.747.950', '21.394.800', '33.962.036', '5.982.775', '22.951.078', '23.856.361', '3.077.560', '6.641.262', '49.950.568', '1.228.677', '3.823.302', '1.914.322', '1.097.469', '3.856.550', '1.125.312', '1.827.342', '2.027.167', '14.037.878', '13.986.545', '4.443.241', '2.968.607', '18.996.338', '3.112.055', '3.651.430', '16.982.494', '1.493.086', '2.082.578', '4.340.442', '2.267.220', '7.874.998', '7.313.940', '2.232.641', '1.083.838', '1.727.045', '16.046.610', '6.134.185', '1.812.793', '1.397.949', '14.413.723', '12.743.000', '3.029.281', '4.387.754', '5.071.122', '29.547.342', '15.616.880', '33.849.220', '2.007.039', '1.893.319', '1.146.585', '4.055.798', '2.263.351', '12.284.219', '1.901.645', '69.234.134', '2.787.109', '12.207.892', '1.258.392', '17.584.171', '6.358.126', '10.963.289', '2.999.608', '46.965.000', '41.277.059', '3.704.044', '1.168.947', '7.746.550', '12.359.000', '3.318.613', '1.330.883', '2.651.694', '448.593.000', '1.383.225', '9.022.764', '1.069.344', '9.766.637', '1.067.419', '1.020.292', '2.481.058', '1.419.554', '5.415.197', '5.160.125', '52.669.909', '14.510.455', '1.561.836', '1.079.284', '24.850.874', '23.216.890', '6.240.651', '1.996.593', '1.645.326', '1.798.904', '10.037.121', '1.602.319', '7.497.676', '41.063.196', '42.117.896', '5.382.267', '6.092.550', '85.540.730', '85.539.060', '1.406.053', '9.717.088', '2.050.398', '28.494.916', '1.929.977', '17.892.993', '2.694.978', '1.489.499', '3.818.553', '11.499.783', '2.143.307', '8.720.075', '186.015.000', '8.710.728', '18.873.000', '3.072.519', '4.063.786', '2.623.428', '2.577.183', '4.981.537', '1.708.664', '1.180.644', '5.764.495', '2.779.478', '10.417.028', '1.614.815', '1.100.745', '14.558.573', '11.495.434', '6.983.461', '6.690.000', '4.469.054', '5.105.957', '2.004.931', '22.122.000', '1.992.801', '12.774.853', '1.273.777', '16.981.329', '2.978.034', '63.968.000', '11.218.257', '22.238.086', '1.317.517', '3.753.233', '2.278.315', '9.713.000', '6.801.545', '3.204.806', '8.183.770', '2.080.513', '5.639.018', '17.252.071', '14.484.000', '3.793.503', '8.759.596', '8.041.430', '8.167.220', '14.269.775', '4.604.368', '22.317.974', '72.725.397', '1.004.042', '35.210.366', '2.332.922', '12.922.123', '1.006.907', '5.416.990', '13.238.006', '1.482.655', '7.789.817', '4.418.246', '17.694.469', '5.235.000', '127.433.219', '19.740.921', '37.003.114', '6.235.715', '23.892.033', '26.294.598', '3.804.173', '6.701.372', '60.210.411', '1.456.498', '4.816.148', '2.745.140', '1.024.295', '4.782.281', '1.388.680', '2.008.268', '14.361.669', '14.354.810', '4.579.939', '1.114.564', '3.348.053', '9.213.051', '3.231.190', '3.530.416', '17.258.321', '1.672.901', '2.253.800', '4.122.301', '2.251.106', '8.346.642', '8.777.712', '2.715.145', '1.170.125', '1.215.066', '16.020.440', '5.831.701', '1.884.525', '6.801.339', '15.674.708', '13.500.000', '4.016.963', '4.616.652', '7.858.223', '35.609.632', '1.079.670', '5.116.769', '37.132.246', '1.993.948', '1.964.976', '2.950.864', '2.310.486', '10.436.406', '1.984.728', '63.893.928', '2.931.652', '18.188.101', '1.132.108', '1.516.291', '15.142.331', '8.336.799', '11.880.842', '1.023.283', '3.200.722', '47.337.000', '1.029.910', '39.121.857', '4.685.325', '1.259.320', '8.342.870', '11.103.000', '3.085.564', '2.140.222', '2.984.105', '504.620.000', '1.245.441', '10.968.841', '1.426.498', '8.382.236', '1.588.854', '1.051.141', '1.920.169', '1.464.765', '5.986.614', '4.853.851', '52.269.163', '15.085.109', '1.705.204', '1.007.023', '27.889.844', '23.205.739', '7.089.612', '2.183.219', '1.723.102', '1.455.801', '10.599.449', '1.623.016', '7.739.280', '46.827.779', '48.060.341', '6.574.135', '6.890.311', '83.993.169', '83.987.685', '1.360.208', '11.019.072', '1.204.426', '2.297.276', '31.026.476', '2.136.197', '16.361.250', '2.467.460', '1.399.618', '3.710.113', '12.992.490', '2.658.455', '8.097.925', '186.711.000', '12.661.030', '17.754.000', '1.745.201', '3.840.743', '2.421.805', '2.536.231', '4.800.326', '1.417.119', '1.177.361', '4.946.753', '2.428.195', '1.086.005', '10.888.810', '1.453.740', '15.911.544', '13.538.721', '9.778.190', '8.113.000', '4.668.472', '5.945.747', '2.685.880', '24.026.000', '3.752.558', '31.122.387', '3.237.296', '3.014.898', '17.685.711', '3.642.282', '1.089.383', '77.581.000', '28.501.828', '25.355.295', '1.722.833', '4.850.239', '2.344.544', '12.150.000', '7.475.487', '2.895.139', '9.610.025', '1.629.006', '6.316.694', '18.197.949', '17.186.000', '3.593.601', '7.774.208', '8.694.484', '10.782.183', '19.760.651', '5.790.358', '21.404.841', '83.954.706', '37.963.630', '2.186.536', '18.575.817', '1.779.791', '7.589.398', '13.223.772', '1.716.221', '7.307.449', '6.335.297', '18.550.846', '6.462.000', '136.241.184', '25.161.794', '40.385.040', '7.257.944', '26.772.101', '30.558.877', '4.655.474', '8.441.165', '66.919.296', '1.506.320', '1.033.780', '9.920.319', '2.122.729', '1.201.030', '1.419.855', '5.944.766', '1.118.910', '1.225.764', '2.560.131', '17.789.316', '17.789.346', '7.717.775', '1.108.463', '4.322.624', '11.854.347', '2.711.392', '2.289.199', '19.572.985', '1.846.003', '2.065.079', '3.827.936', '2.090.122', '8.517.176', '11.768.620', '3.377.563', '1.131.027', '1.125.609', '16.735.582', '6.584.230', '1.760.866', '6.741.827', '19.968.532', '13.852.000', '4.494.941', '5.069.337', '7.701.417', '43.590.289', '1.181.598', '15.090.965', '43.187.099', '2.331.161', '1.958.516', '1.944.082', '2.038.187', '9.282.046', '2.279.830', '74.606.252', '2.397.003', '1.251.635', '1.766.594', '25.481.464', '1.015.362', '1.824.880', '18.828.780', '9.756.987', '13.818.434', '5.322.139', '56.324.000', '1.483.152', '27.968.397', '5.366.701', '2.037.234', '8.841.287', '10.412.000', '2.879.859', '1.651.745', '2.843.997', '5.129.166', '562.475.000', '2.469.938', '26.133.529', '1.409.812', '1.072.114', '10.893.312', '1.616.547', '1.317.764', '1.041.287', '1.561.380', '1.461.321', '6.521.910', '6.270.030', '58.040.288', '17.460.924', '1.882.753', '28.989.066', '32.065.131', '7.828.865', '2.177.750', '3.899.778', '1.054.761', '12.454.760', '1.516.759', '11.610.351', '63.331.063', '57.219.937', '7.324.295', '10.086.871', '109.046.659', '109.042.592', '1.086.739', '11.028.848', '2.293.396', '30.883.239', '2.441.565', '17.095.427', '2.400.403', '1.076.541', '4.620.577', '13.241.429', '3.279.102', '8.405.097', '201.550.000', '15.105.430', '20.101.000', '2.911.778', '4.764.618', '2.910.219', '2.856.454', '5.362.974', '2.002.267']\n",
      "- patrimonio_liquido: ['1.015.667', '1.028.141', '3.802.947', '1.190.537', '1.130.587', '6.544.850', '2.948.735', '5.750.118', '2.416.797', '73.815.628', '1.201.778', '9.485.706', '3.591.235', '2.505.518', '1.410.000', '-', '1.625.080', '1.348.597', '24.509.951', '1.713.900', '1.484.578', '8.344.062', '6.389.605', '143.702.640', '11.254.811', '124.567.652', '1.147.756', '-2.202.306', '1.077.100', '1.977.936', '8.585.784', '26.680.655', '9.085.407', '2.761.269', '1.324.157', '5.979.000', '3.563.399', '2.654.798', '-5.742.894', '1.194.109', '1.984.642', '1.418.781', '17.472.666', '6.109.000', '3.230.548', '13.209.083', '3.321.195', '6.456.612', '19.959.111', '10.847.665', '13.935.777', '10.601.697', '5.504.733', '3.536.231', '5.186.852', '1.010.640', '1.226.312', '2.982.000', '73.478.307', '14.687.511', '6.648.737', '2.780.663', '7.934.163', '7.739.529', '2.997.243', '3.373.178', '10.462.390', '1.481.292', '2.705.012', '1.745.958', '4.071.013', '1.765.575', '1.750.850', '1.562.377', '1.911.744', '30.860.271', '11.698.670', '4.230.168', '5.644.256', '27.364.327', '1.950.304', '5.027.343', '7.829.212', '1.101.941', '1.264.327', '1.525.827', '9.240.715', '1.616.700', '1.181.400', '-2.574.120', '3.462.285', '4.256.130', '13.754.283', '57.343.000', '136.593.000', '3.748.746', '1.063.318', '3.810.305', '1.217.041', '7.076.212', '2.688.642', '6.052.659', '3.060.121', '5.501.316', '6.645.568', '7.325.287', '2.552.217', '2.094.709', '1.162.779', '1.347.956', '1.097.899', '1.006.444', '1.004.649', '2.358.680', '4.312.819', '5.673.331', '1.524.055', '6.229.725', '21.167.000', '6.171.975', '1.202.279', '7.751.492', '-5.448.731', '13.695.000', '1.940.923', '-5.318.323', '-3.192.398', '308.410.000', '3.150.414', '8.967.002', '1.021.914', '1.046.324', '1.683.323', '4.363.126', '2.047.377', '13.613.122', '4.196.532', '-1.107.637', '14.983.606', '22.793.704', '6.943.163', '-1.364.699', '78.968.183', '2.097.210', '1.547.000', '4.037.269', '1.426.487', '3.733.163', '9.913.451', '1.892.598', '2.940.379', '2.446.136', '1.105.748', '2.023.366', '7.231.822', '1.627.647', '6.025.904', '2.181.732', '-1.678.232', '1.553.239', '69.556.764', '1.517.630', '23.182.745', '2.604.166', '1.161.046', '2.553.457', '9.533.746', '1.725.007', '14.867.466', '185.784.979', '1.062.878', '12.207.000', '1.171.476', '1.201.028', '1.125.078', '11.563.165', '1.926.797', '2.234.264', '3.204.969', '1.838.459', '2.236.240', '3.202.404', '1.458.744', '1.038.886', '4.170.094', '1.175.292', '1.511.717', '6.746.929', '3.395.645', '6.551.237', '2.944.953', '82.643.031', '1.177.228', '15.910.976', '3.712.963', '2.381.112', '1.112.697', '2.766.000', '1.519.428', '4.457.403', '1.590.580', '22.407.905', '1.889.666', '1.638.698', '9.046.217', '7.281.416', '1.029.723', '1.636.289', '147.121.011', '7.502.810', '141.995.018', '2.451.476', '7.865.819', '4.107.890', '2.601.551', '8.462.532', '37.379.747', '10.558.769', '2.872.439', '1.671.985', '5.637.000', '4.500.799', '2.995.006', '-2.657.840', '1.020.780', '2.621.369', '1.586.841', '19.456.411', '6.176.000', '3.486.805', '12.726.590', '1.134.843', '1.105.217', '6.344.647', '6.759.958', '21.837.024', '14.740.937', '15.146.202', '1.453.788', '13.998.289', '6.198.052', '7.542.288', '5.733.581', '1.046.195', '1.299.877', '2.120.309', '3.234.000', '76.121.204', '14.887.131', '8.037.151', '2.877.345', '9.000.054', '7.929.008', '3.063.846', '3.359.915', '12.756.361', '1.888.092', '3.318.236', '1.820.806', '4.283.453', '2.369.219', '1.845.283', '1.095.569', '1.815.251', '1.907.664', '42.604.282', '14.742.004', '2.195.112', '4.094.330', '6.403.187', '28.545.570', '2.223.990', '5.266.785', '10.572.141', '1.893.431', '1.333.222', '1.247.654', '1.909.987', '9.826.591', '2.881.948', '3.429.378', '1.126.686', '-1.260.671', '1.286.049', '1.900.426', '-1.113.260', '4.041.744', '3.634.360', '14.399.206', '65.886.000', '144.554.000', '1.328.174', '4.464.564', '1.323.387', '5.739.568', '1.178.133', '8.733.101', '3.095.310', '7.617.090', '3.311.569', '9.806.621', '2.935.066', '7.032.288', '11.261.231', '2.905.005', '3.916.920', '1.639.726', '1.155.000', '1.124.491', '1.714.805', '1.090.730', '1.074.616', '3.284.472', '4.847.467', '6.093.634', '4.008.678', '6.360.383', '23.886.000', '7.479.027', '1.115.804', '1.854.009', '-5.327.297', '13.649.000', '2.090.197', '-5.150.439', '-3.554.154', '387.329.000', '1.871.813', '6.620.249', '1.759.256', '9.364.559', '1.171.831', '1.086.070', '1.266.419', '4.677.673', '2.520.219', '13.583.378', '3.716.681', '14.795.421', '24.931.859', '7.826.342', '-1.477.478', '78.739.563', '2.187.228', '1.562.354', '4.842.159', '1.463.077', '4.306.249', '20.314.998', '3.516.078', '3.524.748', '4.396.505', '4.163.016', '15.075.467', '1.665.289', '6.684.756', '2.390.616', '-1.757.788', '1.430.758', '69.927.196', '1.203.413', '25.107.106', '4.232.929', '1.221.105', '2.752.544', '10.066.921', '2.288.743', '21.749.335', '192.403.000', '1.258.804', '2.640.186', '12.308.000', '1.392.731', '2.151.017', '1.356.221', '13.604.971', '2.106.990', '2.351.486', '3.241.584', '1.572.720', '2.816.976', '2.729.781', '1.485.032', '1.066.751', '4.588.554', '1.499.921', '6.805.618', '5.758.103', '6.958.063', '4.841.380', '81.955.633', '1.055.280', '-26.666.621', '5.234.890', '2.763.347', '1.158.521', '3.896.000', '1.618.151', '15.253.078', '2.653.792', '20.271.137', '2.035.292', '1.719.177', '9.413.893', '7.596.101', '1.058.526', '1.822.156', '154.263.000', '7.477.001', '160.278.681', '2.051.176', '7.321.799', '4.282.439', '2.227.812', '11.270.008', '42.371.767', '10.889.112', '3.008.162', '1.860.911', '5.284.000', '4.422.021', '3.000.195', '-2.744.657', '1.152.259', '2.883.176', '21.777.356', '5.911.000', '3.956.902', '12.176.562', '3.353.063', '1.032.753', '6.521.263', '7.254.514', '20.817.364', '20.653.167', '16.256.599', '1.405.394', '11.393.427', '7.121.744', '7.078.622', '5.872.342', '1.108.162', '1.289.981', '2.303.694', '2.865.000', '110.504.796', '1.124.182', '13.396.690', '11.019.892', '3.099.193', '13.678.298', '8.436.522', '3.450.251', '2.890.074', '16.614.353', '2.012.889', '3.871.904', '1.912.824', '4.469.647', '3.039.676', '2.681.536', '1.763.901', '1.772.108', '1.871.612', '46.116.194', '16.456.648', '2.590.384', '4.364.132', '7.455.606', '22.332.734', '2.408.597', '5.263.088', '48.749.437', '1.928.590', '1.372.150', '1.330.805', '2.210.290', '10.645.760', '3.020.198', '4.093.329', '1.130.789', '-1.620.653', '1.443.344', '2.231.037', '-1.268.927', '3.919.807', '1.125.085', '4.073.511', '16.177.452', '72.797.000', '160.925.000', '2.125.261', '4.893.108', '1.413.711', '9.559.484', '1.171.691', '2.844.757', '3.125.169', '20.559.196', '3.584.653', '10.087.515', '2.977.587', '6.708.721', '10.648.701', '3.162.365', '5.569.860', '1.617.491', '1.206.101', '1.273.010', '1.586.639', '1.237.205', '1.019.202', '1.181.739', '2.768.683', '5.513.634', '5.827.443', '4.053.574', '6.582.340', '26.739.000', '8.996.183', '1.184.159', '-21.878.805', '2.117.785', '-5.613.922', '11.545.000', '2.334.552', '-2.817.566', '-4.826.213', '-4.490.008', '362.594.000', '3.810.502', '9.892.017', '1.840.572', '10.583.107', '1.396.026', '1.191.014', '1.346.450', '5.340.862', '2.744.765', '21.812.039', '3.850.558', '1.093.127', '-1.108.100', '15.191.169', '27.333.533', '8.786.887', '-1.809.441', '82.061.914', '2.092.883', '1.477.075', '5.788.725', '1.114.869', '1.237.531', '5.171.274', '19.489.467', '2.881.776', '4.598.797', '4.186.386', '9.355.545', '33.061.032', '1.526.455', '6.570.476', '1.024.231', '2.568.133', '-1.917.957', '1.663.398', '68.403.740', '25.397.365', '4.308.616', '1.261.562', '3.039.843', '11.708.741', '2.317.404', '23.155.025', '187.112.000', '1.235.367', '3.638.888', '12.613.000', '2.177.722', '1.657.953', '2.280.442', '1.711.488', '14.834.795', '2.176.471', '2.345.826', '2.946.247', '1.485.188', '3.347.737', '1.138.258', '2.897.333', '1.113.385', '1.082.832', '2.946.751', '1.599.166', '13.997.882', '3.726.783', '7.355.541', '5.883.325', '78.969.290', '1.742.602', '-28.850.000', '5.340.880', '2.404.485', '1.229.942', '4.630.000', '1.524.051', '12.368.953', '1.593.729', '2.909.553', '20.273.510', '2.216.351', '1.908.309', '9.662.088', '9.816.482', '1.083.608', '2.001.464', '1.012.629', '161.182.000', '7.834.019', '169.365.702', '1.976.036', '3.992.000', '5.492.437', '2.582.437', '14.923.428', '1.536.082', '49.381.806', '12.585.880', '3.038.401', '2.003.578', '3.454.000', '4.458.435', '3.012.716', '1.008.340', '-3.354.636', '1.389.169', '2.932.567', '24.649.235', '6.437.000', '4.191.147', '11.665.394', '3.394.370', '1.694.174', '6.588.964', '7.573.825', '23.886.153', '20.955.307', '18.879.466', '1.386.483', '10.698.697', '7.690.341', '7.330.427', '1.283.594', '6.403.611', '1.173.416', '1.953.405', '2.737.986', '2.999.000', '112.333.372', '1.088.489', '13.490.312', '11.897.510', '3.761.112', '12.355.130', '8.862.771', '3.756.466', '4.646.848', '21.093.243', '2.407.330', '4.033.523', '1.946.402', '4.645.827', '3.190.099', '5.083.451', '1.838.188', '1.706.333', '49.058.959', '16.761.023', '2.982.265', '3.659.443', '8.672.272', '23.103.239', '2.540.958', '5.223.165', '49.253.774', '2.024.551', '1.409.509', '1.383.523', '2.335.854', '11.504.124', '2.664.023', '4.177.323', '1.022.851', '-1.124.647', '1.619.869', '2.600.824', '-1.433.260', '3.693.626', '1.279.704', '4.257.395', '17.380.140', '82.952.000', '180.788.000', '2.072.122', '4.806.797', '1.675.587', '11.585.123', '1.272.989', '3.095.688', '3.383.345', '25.388.882', '3.729.945', '10.047.221', '2.882.146', '7.604.694', '9.610.534', '3.545.663', '7.631.324', '1.655.141', '1.205.197', '1.553.053', '1.459.166', '1.515.156', '1.341.353', '2.522.137', '6.385.802', '6.745.355', '3.217.030', '6.933.916', '29.866.000', '10.708.591', '1.386.994', '-27.318.349', '2.301.226', '-6.796.145', '4.717.000', '2.652.989', '-4.223.510', '-3.249.706', '-5.469.071', '380.441.000', '4.517.883', '13.878.280', '1.808.893', '12.415.262', '1.587.400', '1.248.348', '1.270.214', '5.956.001', '2.777.775', '22.539.706', '4.022.096', '1.169.511', '15.671.352', '29.857.376', '9.744.200', '-1.945.576', '86.084.331', '2.217.018', '1.710.456', '6.479.560', '1.297.915', '1.209.487', '5.206.790', '17.500.675', '3.326.246', '4.927.058', '5.068.262', '12.793.820', '44.692.770', '1.516.277', '6.679.310', '1.091.805', '2.695.712', '-2.070.023', '1.425.651', '69.566.795', '26.015.940', '4.720.574', '1.347.166', '3.324.253', '13.506.495', '1.097.381', '2.422.333', '23.855.650', '190.965.000', '1.298.463', '4.735.295', '1.032.693', '15.731.000', '2.250.233', '1.933.722', '3.289.360', '1.994.987', '17.342.085', '1.952.050', '2.353.412', '3.042.336', '1.393.680', '4.037.714', '2.645.691', '3.907.968', '1.094.793', '1.588.986', '13.364.892', '4.035.592', '8.240.131', '6.531.091', '98.642.139', '1.628.304', '4.970.000', '8.442.090', '2.274.252', '1.258.625', '5.255.000', '1.380.604', '13.201.696', '2.302.582', '7.702.653', '18.370.755', '2.357.214', '2.106.280', '10.410.002', '9.695.421', '1.166.497', '2.163.989', '1.346.795', '160.487.000', '8.483.367', '185.571.510', '2.202.709', '-4.782.000', '10.523.671', '15.085.651', '1.517.175', '57.466.518', '12.889.324', '3.553.012', '2.258.409', '2.477.000', '3.784.334', '3.308.484', '1.065.393', '-3.618.331', '1.591.995', '3.671.279', '27.377.786', '7.424.000', '5.139.622', '12.395.676', '3.569.881', '1.133.863', '4.649.551', '8.048.229', '25.674.718', '10.903.764', '20.731.762', '1.470.789', '10.269.114', '1.118.278', '1.095.470', '8.894.662', '7.926.007', '1.348.244', '6.976.900', '1.234.714', '2.015.457', '3.427.360', '2.013.000', '121.863.225', '1.184.722', '19.045.206', '17.279.498', '4.259.878', '18.909.488', '11.266.701', '4.088.221', '4.988.501', '26.113.686', '2.570.790', '4.755.902', '1.799.389', '4.804.338', '-1.147.224', '3.339.257', '5.289.068', '2.218.850', '1.951.187', '-1.533.916', '1.594.524', '57.948.759', '20.035.526', '3.477.230', '4.040.946', '9.850.298', '15.671.408', '3.012.211', '5.403.620', '48.675.201', '2.068.676', '1.452.150', '2.524.645', '12.096.281', '4.018.263', '4.309.804', '1.041.298', '-1.448.530', '2.941.909', '-2.313.303', '4.557.905', '1.366.538', '4.926.059', '19.714.581', '90.443.000', '201.055.000', '2.017.032', '5.413.238', '1.770.360', '6.651.853', '1.485.863', '5.218.457', '3.696.407', '26.334.098', '3.586.009', '10.772.951', '2.745.843', '7.997.943', '11.319.262', '4.026.610', '2.824.144', '1.448.435', '1.211.564', '2.088.306', '1.445.279', '1.353.000', '1.540.280', '2.492.492', '7.465.937', '6.432.589', '2.891.745', '5.645.519', '32.638.000', '13.951.273', '1.227.769', '-16.316.375', '3.146.350', '-8.388.881', '2.926.000', '2.714.843', '-6.285.846', '-3.262.757', '-6.510.190', '366.006.000', '4.235.277', '25.924.192', '1.661.686', '1.227.207', '14.050.794', '1.635.829', '1.303.101', '1.282.265', '6.433.460', '3.229.923', '24.702.627', '4.303.727', '1.226.745', '14.731.244', '36.928.054', '10.828.707', '-1.968.399', '90.743.958', '1.543.787', '6.516.223', '1.424.146', '1.208.464', '5.635.036', '12.271.438', '2.751.515', '3.997.670', '5.455.896', '9.640.782', '32.284.269', '1.073.785', '6.939.504', '1.294.361', '2.723.990', '1.482.012', '69.729.582', '26.404.636', '4.681.352', '1.459.011', '3.491.580', '15.158.718', '1.197.858', '2.790.457', '23.881.787', '206.772.000', '1.794.711', '2.442.373', '1.043.284', '20.385.000', '2.558.217', '2.496.943', '1.926.522', '2.109.976', '22.204.221', '2.691.025', '2.847.872', '3.124.958', '1.546.026']\n",
      "- lpa: ['0,6156575', '-0,0005614052376', '1,121866667', '3,578749147', '-0,01739769519', '0,2965681224', '0,263375', '1,515002197', '0,4009457989', '3590,502333', '0,5899619189', '-0,8235538123', '2,105456185', '0,6368553994', '0,2421995889', '-33,40966677', '0,990788475', '8,957980693', '0,723309244', '0,4977071841', '-39,48291054', '0,2936015459', '-0,1286403451', '0,3148551327', '1,05215514', '-', '1,89022757', '-4,506249622', '0,5302901581', '0,6772392979', '3,555033042', '0,7337391426', '25,33164161', '1,778783003', '-40,909375', '1,740622514', '0,2183221672', '1,928641395', '0,8677285715', '-0,04309064969', '7,656954371', '-4,12507628', '-1,158110858', '1,718445946', '0,9933685817', '0,1533766588', '1,547712689', '3,73203979', '2,225937544', '1,878828561', '-8,406763764', '-10,51009796', '1,238422699', '1,70900155', '0,3196709974', '0,3732497513', '0,5898043333', '0,52362968', '1,246571154', '0,154608913', '17,15275074', '-1,510726473', '-0,539609607', '6,00176896', '-4,1486', '-167,6418326', '1,372416922', '13,44753831', '2,662695656', '-0,1850048156', '1,001198948', '4,650985281', '3,40607516', '-3,152163361', '0,04695311244', '8,682522663', '1,964829412', '286,1124604', '1,044289596', '2,153258873', '1,426685663', '0,5512355737', '-6,841591592', '3,161757398', '6,355270956', '-0,1139550136', '0,7422960671', '1,138112701', '0,1933979323', '0,6611567791', '-7,670447946', '4,578677917', '0,003369171299', '-0,3206773023', '0,4747898871', '0,5435055268', '1,274697587', '0,3939575853', '0,7625725003', '1,110657459', '-6,723993309', '0,02991240319', '-0,7603544709', '3,05532622', '4,109794316', '3,84733084', '5,372154708', '1,069756873', '-4,912060525', '0,8095314863', '3,123355613', '0,7980980902', '3,428111171', '-0,2500790084', '4,265174626', '0,32526932', '2,944786964', '0,3527547261', '-0,9402887631', '-1,942821782', '3,830358904', '1,564476932', '0,9546272999', '0,07050210611', '4,487744159', '1,78507489', '-3,698348398', '0,2049785714', '-6,379448367', '0,1582973607', '0,77218815', '0,8778977098', '-3,911190408', '-0,05269368027', '-252,1902893', '7,432444167', '1,104232112', '0,8075514432', '0,4945326814', '3,587101853', '0,4493167391', '0,4932677739', '-0,5229690597', '-0,4935792587', '-0,05439524165', '0,1602857641', '0,4687363025', '0,2108961892', '-0,3199927077', '0,1998436977', '-337,3516419', '-0,140252799', '-0,322636', '-4,940888308', '2,049269798', '-0,03041865348', '0,0870416093', '-2,023136025', '-0,5373064335', '-48,80689655', '-15,08266946', '-0,02958408646', '1,164570531', '-3,121037626', '1,438663283', '-3,227643855', '0,4525682497', '-43,82309381', '5,101818455', '0,6588095852', '1,432386032', '0,9780523302', '-160,3145285', '3,007843508', '0,7881086883', '950,925643', '12,97485898', '0,4285117057', '-0,422051525', '0,6535386302', '-2,461963649', '12,71639372', '2,276553013', '1,714174343', '1,393666538', '1,376445668', '0,1247117549', '-8,266228107', '1,142855142', '-0,03473281149', '0,8116092762', '0,04045349232', '2,258454757', '0,6043458665', '-5,356884721', '0,09216915012', '4,73513435', '0,2535071527', '-8,56915143', '0,3359394617', '0,3199818111', '-9,1182696', '0,4861188229', '0,5086010363', '1,440857753', '0,9705280632', '-37,0482381', '6,386837909', '-0,01898307726', '478,255675', '1,405580165', '2,331408451', '0,4775592655', '-0,7627811138', '-1,279648663', '0,3664878065', '1,265535294', '1,149035941', '0,701759131', '1,614409717', '-0,9035160598', '2,314225525', '1,724094573', '-250,8581557', '11,80050017', '-0,1022504153', '2,48109792', '0,2684731762', '-0,1854913306', '10,524763', '0,6191008268', '-176,9039119', '-0,3940643592', '0,06921004301', '-276,4372603', '1,663051957', '2,77219642', '0,2925279318', '0,2553477874', '7,625308744', '36,15478202', '-19,85152529', '-704523,6177', '-6,10158824', '0,5449164729', '-0,4871724425', '0,6699198716', '0,3956724995', '0,1640111817', '-0,4294341267', '0,6555611706', '-9,417545272', '-0,6418918919', '2,618328687', '0,8167440645', '1,400833389', '1,306234817', '-0,05893082236', '0,4268295667', '-0,001176810965', '1,386988048', '11,6854684', '0,4118946104', '0,2824614059', '1,966205193', '-0,02704014612', '-0,2882502671', '0,2405401852', '0,4344740744', '0,5377312659', '-0,979245283', '0,03504490202', '1,872658575', '0,8838285865', '0,1784614386', '1,423999922', '0,6593034418', '-18,11544243', '1,748383016', '-0,1964680047', '-0,01911323241', '1,546165433', '2,486241872', '0,3974230299', '1,329149985', '1,282100683', '0,278411074', '2,749260928', '0,3349040062', '1,078796564', '-1,351369157', '8,679555738', '-32,094', '-2,914337398', '-0,0009915886979', '-0,000007081602054', '-4,248704656', '-7,948900432', '0,3157254815', '2,189582553', '2,975461337', '-0,3643412352', '-2,239255879', '1,11659951', '0,2769159737', '-230,1848907', '4,34192673', '-1,694839197', '2,824982327', '2,046616538', '-2,625421469', '-4,204038507', '0,7616637074', '-1,613068068', '0,517884314', '0,4050712086', '0,9121936659', '4,365287856', '-0,5289689067', '0,8213901127', '0,2244487229', '0,1928096586', '3,158735779', '0,547148741', '5,207653253', '-2,892919449', '0,2257015659', '-232,9766017', '3,351931331', '0,6005509136', '0,6209716105', '0,4908348683', '-26,93039257', '0,1285421312', '1,575884086', '0,5579715777', '1,629080975', '14,34429066', '0,4740341115', '0,261856621', '1,217743356', '1,493958342', '0,3262533701', '-1,916069594', '0,9650311521', '-0,0003429842395', '1,613911111', '1,806121824', '3,64374627', '1,582119363', '0,1036478409', '0,7741928909', '0,2286192875', '-702,8822399', '0,973589174', '-0,04765911641', '3,238536986', '1,037182247', '1,191086004', '-16,88506709', '1,17306075', '24,88834316', '0,8051920273', '1,276506392', '75,90229351', '0,5005101', '-0,2203466324', '0,1928148662', '1,19803286', '1,112780139', '0,125861426', '3,961487718', '3,474935746', '0,7751944445', '5,478476084', '0,7932270615', '25,34067366', '2,319303917', '-10,914375', '1,632007317', '0,2949643115', '1,969891758', '0,8803596641', '-0,03910748039', '17,71742716', '-2,861558088', '-1,176274244', '1,913154029', '1,256230498', '0,2568279791', '2,054812246', '20,55286037', '3,453879176', '7,51132224', '17,56555838', '-0,006564026664', '1,673932375', '0,5190915662', '0,2765389576', '0,5967964216', '0,6320506667', '0,6507117446', '1,149035612', '0,1694885661', '-4,649137348', '1,276295669', '1,067360556', '17,34772169', '0,1532', '-10,3079326', '1,919008051', '14,60091779', '2,179178216', '-0,1937109245', '1,311338468', '6,367895733', '6,27557798', '-0,2615340999', '-2,602394757', '15,99088148', '2,640680618', '716,7788495', '4,013232326', '1,417758274', '1,809784661', '3,380488804', '-2,672052487', '4,12066019', '9,531700318', '0,2221382112', '1,144959762', '1,471208256', '0,3869642211', '1,026990876', '-2,307699668', '2,378014273', '0,03910912612', '-0,4276664842', '0,3669445098', '2,073483641', '2,050990529', '0,5310900267', '1,095392926', '1,022522422', '-6,998479108', '-0,4426707692', '0,5901814566', '4,24238358', '3,598718644', '1,874022441', '4,057650148', '4,972678331', '-0,3738990739', '1,429095337', '5,176692073', '0,9284710614', '1,91649937', '-0,6029930637', '5,746135923', '0,4642420294', '3,737183024', '0,758094457', '-1,139482794', '-0,5337871287', '4,69342415', '4,642120335', '1,116081953', '1,120411776', '1,338950594', '1,898414908', '12,38848212', '1,888669008', '-2,882559442', '0,07792903322', '1,052208073', '0,9844430152', '2,342462965', '-0,04546121435', '-136,7593469', '-0,09318776275', '7,21462555', '4,683996523', '0,6251645684', '8,921447562', '0,6663032254', '0,3435093339', '0,7611441686', '2,054256586', '0,9077118532', '20,78032672', '0,6741286555', '0,1297833933', '1,546303461', '0,7609160927', '0,8686291542', '-0,4460015545', '0,2696507203', '-2,173905944', '2,104318917', '-0,1515333203', '0,261969403', '-0,2818388599', '0,1770609199', '110,3310345', '38,96268831', '-0,1639643694', '1,12672906', '-1,283007293', '3,525766227', '1,121794007', '-16,31582071', '4,581386388', '1,139374332', '2,323786761', '1,202296397', '1,464933698', '-179,5733358', '2,905310905', '0,9670200706', '691,6799627', '9,264302982', '0,9065847401', '0,5000921718', '0,8341941436', '-4,73981065', '39,88413461', '1,078490666', '9,009039653', '2,717885756', '3,622056013', '0,9330657708', '-1,347908104', '0,6066946955', '0,2978024591', '-1,470654826', '-0,02721393546', '1,494831277', '0,9005549765', '25,82129101', '0,3251874327', '6,311348963', '0,4259186798', '-5,08135263', '-0,4850900524', '0,4053854042', '-8,428556771', '0,7334813992', '0,6996891192', '1,759858286', '4,417930223', '-15,35080991', '6,042598022', '0,412765074', '932,5448029', '1,114725576', '4,756901409', '0,2299318496', '48,27135189', '0,9811019179', '2,515396613', '2,0576', '1,614159172', '1,099865063', '0,7640607365', '-57,73801362', '3,233654869', '1,544305952', '-47,77941719', '18,73884753', '-1,159794593', '3,027962328', '0,5234914029', '-0,2494656012', '8,513778978', '0,6571827528', '-140,6131366', '-0,1080050188', '-0,8949148213', '38,9321857', '2,112859537', '1,236580057', '0,3256851498', '0,3711726497', '12,25730726', '10,51712656', '-18,45761324', '-45369,18781', '-5,34605895', '8,177426806', '0,80332432', '1,609437331', '1,481265998', '0,1893475989', '0,04010589685', '0,6613784307', '-9,837424547', '-0,1351351351', '2,413484334', '1,448705209', '1,427764902', '5,33249577', '0,3753840851', '0,6377241846', '-0,0002443553646', '1,296461187', '12,42596666', '0,3642853329', '0,438400138', '2,119071762', '-0,8936280093', '-0,3443809926', '0,8046848754', '0,7196570055', '0,3669795905', '15,23053173', '0,200578158', '2,187102761', '-11,2775676', '0,08125619483', '3,373570894', '0,7792659471', '-14,61549427', '2,007617936', '0,97420462', '0,3152225837', '0,6090631215', '4,223170614', '0,5397950717', '-2,635636678', '0,4077250151', '2,925127341', '8,883003293', '1,016764416', '2,325563667', '-1,362134984', '5,674208145', '-15,3576', '-8,735424959', '-0,0001629229664', '-0,000005311201541', '3,396541604', '6,393602154', '8,429325751', '2,141964611', '6,095256344', '0,03338913237', '0,3666727119', '-2,509202787', '1,639318356', '0,5474803513', '-159,2803181', '22,41112619', '-1,868707072', '3,703614085', '-1,979085676', '0,7036701046', '-5,116224466', '1,221858719', '-0,9507216709', '0,6361361419', '0,6922632795', '0,6503243103', '0,2432639605', '1,416444714', '0,7800049013', '0,3924868579', '0,2636459974', '17,37543934', '7,370820786', '24,02401617', '0,7596829906', '0,4261553248', '-93,45549084', '2,15640004', '0,7342008189', '1,263730273', '1,506157238', '-4,772275396', '1,277002393', '1,355516155', '0,8546431394', '-3,970073601', '74,83251057', '0,6523383902', '0,4952939912', '1,175900169', '2,903527617', '0,5244512939', '-0,9989358148', '1,152462679', '-0,0001071003069', '1,644533333', '-2,431349267', '0,0543757468', '0,594277562', '1,351421796', '0,1669779324', '0,7840011939', '-1383,749657', '1,109272142', '-1,93467488', '0,816833117', '0,587247901', '0,1838544222', '-18,44017067', '0,9659453549', '29,95942927', '0,9184485312', '0,5647821128', '-1437,551437', '-0,4071601141', '-0,267381733', '0,430122786', '0,9054885661', '1,58328917', '3,033402234', '-0,9082741284', '3,897761901', '0,7093978069', '4,940239148', '1,044730387', '18,81806397', '1,748116017', '41,05625', '0,5861305267', '-1,744297673', '3,027270272', '0,9717781044', '-0,0228126969', '57,72182518', '-4,983884361', '-1,254489466', '2,028390181', '1,445573918', '0,08668798391', '1,945124635', '9,482837569', '5,4337926', '1,434391753', '-0,4214793837', '0,7381100988', '0,8436550043', '-3,004023222', '0,6312525212', '0,6817791454', '0,98428', '1,342174759', '1,339533717', '0,1025430239', '-5,390271337', '1,456026295', '0,002701940283', '2,723873249', '-1,795', '-3,899674353', '1,107132465', '14,01472609', '10,08734986', '-0,1817400247', '1,430537517', '5,978725353', '8,22769944', '-0,2823273811', '-0,0708135906', '13,66941576', '2,58844251', '371,1979275', '3,107893302', '2,22416735', '0,4063530636', '0,6292439754', '-12,28306517', '4,425746452', '2,355546227', '0,01731819545', '0,5378330154', '1,78725977', '0,3683584272', '1,134954135', '-1,716977343', '2,113822886', '0,2243948919', '-0,6906282963', '0,5505722516', '0,9293916312', '1,600936999', '0,5810428992', '1,274351661', '0,04603062835', '-7,208009986', '-0,02443597151', '0,3532023904', '5,088795875', '1,842511894', '2,307759033', '1,84088018', '4,269851952', '-1,298139343', '1,126898264', '5,4384464', '0,2617362137', '3,263866234', '-0,3341273659', '3,947676989', '0,7045481478', '1,263114331', '-0,188894164', '-0,7528017566', '-5,756188119', '2,227759159', '2,793086243', '1,086027661', '0,5081360483', '-0,271926465', '1,476440295', '-2,795740684', '3,120790818', '-3,099308756', '0,1286871232', '0,9147595931', '0,8089299679', '-2,211291176', '-0,008782280045', '-46,27005905', '2,575635636', '5,353222636', '3,509159709', '0,7722677437', '6,160640142', '0,6297894755', '0,47634864', '-2,083160814', '0,842805913', '0,1041271365', '6,646056516', '0,466037395', '-0,1149704331', '0,610898561', '0,3847423395', '399,3341163', '-0,01073537941', '0,1833758188', '10,76061398', '2,684296101', '-1,435568027', '0,006536571945', '0,2545832', '0,7341859128', '154,5663351', '-9,995932659', '-0,8790143502', '1,465951506', '-0,3627152465', '4,386632826', '1,838812536', '1,522770137', '-11,41658457', '3,433453217', '1,278321743', '2,729780945', '2,925973261', '0,9115494043', '-117,1906171', '2,886127386', '0,682379943', '380,1964798', '-3,407896857', '2,133194767', '0,737774927', '0,5763432839', '-4,450074981', '-5,447443331', '-15,22512936', '8,254172951', '2,133583379', '3,829880647', '3,872124223', '-7,578874631', '1,202963809', '0,08651400727', '1,862566009', '0,05147307616', '1,431898642', '-0,7480043072', '44,73707691', '0,3981012421', '6,303766927', '0,2707223103', '0,2363238512', '-0,6748034263', '0,4173318164', '4,788079936', '-0,324375347', '2,022590674', '1,920437624', '4,405319991', '-50,82992553', '10,44047383', '0,8958772223', '1064,42055', '1,117178723', '0,9202816901', '0,3292844176', '18,83624498', '1,271515496', '1,53951883', '2,571105882', '-0,3656213087', '0,1104411748', '1,30851729', '88,9291303', '3,886976961', '1,534701826', '-63,01915155', '23,3334221', '-1,188189095', '2,472184106', '0,6392372272', '-0,4797989016', '10,26592818', '0,8069593441', '-323,5555049', '0,096117422', '-2,084', '-91,39406831', '2,430143533', '-0,2644868656', '0,1243339707', '0,5966127533', '2,327135216', '3,157908335', '-62,23350557', '-17723,81976', '-13,82805644', '14,43767972', '4,229461747', '4,015362249', '0,6772044608', '0,1098304506', '0,2346873475', '0,6702124693', '-7,816579477', '27,8445946', '1,779144864', '1,085901537', '2,167622169', '4,830118395', '0,5363954685', '0,6595982416', '-0,00007174285976', '0,333830182', '14,68084795', '-0,09986117785', '0,5813289692', '1,433158245', '-0,3006166867', '-2,710330292', '0,6034924692', '0,7042840061', '5,006285216', '11,41997751', '0,505935597', '2,307881013', '-22,07797035', '0,2779908928', '4,566528369', '0,7619995993', '-43,02044995', '1,686642765', '0,2222763869', '0,4975992554', '-1,412050131', '3,144839531', '0,7560524181', '-15,26641644', '-1,727614615', '-0,01415790538', '1,168443397', '0,5835580554', '2,776873825', '-0,1525495545', '5,900041135', '-63,0785', '7,578318895', '-0,00004854897593', '0,0000009450105292', '9,338644341', '17,50118852', '-0,3734244386', '1,402244032', '4,319554973', '-2,058983858', '0,5433759852', '0,01419470517', '2,415853541', '0,6050350633', '-317,4751491', '12,97489824', '-1,87485664', '2,44273994', '-5,668539578', '1,425612889', '0,2636769195', '0,6904015257', '-0,1641374809', '0,8207993808', '0,5401751347', '0,3729168154', '0,1932371605', '3,525932975', '1,649497113', '0,4985446014', '0,3664429522', '11,62708877', '1,312439688', '20,51223151', '0,3067585156', '0,6560688239', '2,107267421', '1,371413602', '1,039612355', '0,9550638858', '1,529560126', '0,914348506', '-0,8792620854', '1,912069603', '0,3597698342', '1,002877065', '-4,923384302', '14,53644315', '0,2772949708', '0,7449658625', '0,8422568273', '3,221174323', '-0,1963205755', '-0,2055828105', '1,155222012', '-0,00002990480433', '2,191688889', '-2,699261474', '0,06643131492', '0,4551319648', '0,02967664706', '-2,234584853', '0,1954954703', '888,278891', '1,124641917', '-1,931400626', '1,313480868', '5,964395825', '-2,766547145', '-22,34680321', '0,7299420333', '23,99556605', '0,9210873553', '-0,4656659046', '-251,7389915', '-0,793958149', '-0,873723828', '0,4727523633', '0,5258095553', '0,7487991107', '-0,317689', '0,08558082538', '-0,3826204609', '3,611357077', '0,7210213176', '2,942578279', '1,173174808', '29,52513793', '2,129841281', '-51,525', '0,9392396758', '-1,320410204', '3,983118006', '1,001157445', '-0,0199158465', '39,21495327', '-0,2653240614', '-0,9825459829', '1,405357966', '2,573844638', '0,3845011113', '1,420950754', '4,824811688', '5,925290874', '2,661829923', '-5,748764781', '1,810827102', '0,5643356121', '-1,490456861', '0,1260232828', '0,5228491975', '0,8668375631', '1,194081333', '1,713625665', '0,7739670015', '0,05239546214', '-36,13476191', '-1,522753008', '0,007636695479', '2,545853561', '8,0354', '-6,615771198', '2,412553752', '14,44178269', '0,6156105641', '-0,1643278068', '2,014999217', '7,016513033', '4,052081285', '-0,2633541304', '0,1151009144', '10,63070299', '2,244485063', '-607,2791618', '2,600934004', '3,637698091', '0,7971082083', '0,5862220845', '-22,44743901', '4,796771276', '1,240301657', '0,2736262929', '0,650595543', '2,14416521', '0,3890515186', '1,661921739', '-1,223522699', '2,511446337', '0,4221488845', '-1,701250071', '0,9373559184', '0,9772094573', '1,930534584', '0,6248593481', '2,059356693', '0,00617357113', '-4,575960383', '-0,3554894907', '0,8187849418', '5,011380117', '1,997229252', '1,626024691', '4,072861125', '1,046692473', '1,066599241', '0,9302466059', '6,298674463', '0,137572853', '4,203258244', '-0,2628766221', '4,734879636', '1,007576475', '1,849250304', '-0,06394445229', '-0,3447273466', '-2,698704041', '2,060370809', '4,579617379', '0,6515479971', '1,059131328', '3,384718104', '1,097839442', '-6,702955908', '1,124159339', '-5,226342019', '-0,006611428554', '0,8449487947', '1,413342272', '-3,312951817', '0,001033209417', '49,67904452', '3,617551342', '3,575051413', '2,479259814', '0,9566320852', '0,01368699828', '4,886718845', '0,6182306431', '0,5525871529', '2,162027083', '0,6942990664', '-0,06863015964', '30,77431929', '0,208770084', '-0,1023339764', '1,279118904', '0,3831974317', '-1,243139692', '0,02314491513', '0,04826426144', '6,722784672', '2,605626061', '-0,8978811745', '0,2471712215', '-0,2872622253', '0,5294448374', '138,417282', '11,96080484', '-0,7487900006', '1,661210452', '-0,3829076465', '5,081218274', '0,203613032', '1,58713208', '-1,513301951', '4,312018506', '1,257369409', '3,095100233', '0,0735595772', '0,6678932877', '-46,41181501', '1,521924022', '1,236354274', '619,5608514', '6,794520548', '1,379971193', '0,4446055298', '1,184280029', '-1,454826635', '-6,413893911', '0,6848969363', '3,786356992', '1,770411224', '1,924773615', '0,5689809363', '-7,598975938', '0,9255417584', '0,171100169', '1,532910564', '-0,1249267462', '2,642806852', '-1,464849063', '5,88721285', '0,7226715071', '-2,096956011', '0,3131947664', '1,231322288', '-0,2144905988', '0,5131257883', '-73,98737617', '0,1536923931', '1,505906736', '4,028368251', '5,773668078', '-1,97917869', '9,929669419', '1,152478576', '671,2544803', '0,7186715343', '1,673943662', '0,8544850277', '71,74639981', '1,870591215', '-1,804823964', '3,535613481', '-0,05726846423', '-1,028983349', '1,746498061', '-0,6883499766', '3,677709716', '0,2858565792', '-19,10526874', '24,2940223', '-1,061017973', '2,865549756', '0,2650112594', '0,3704551952', '8,062371576', '0,9256072658', '-91,16593945', '0,4484765614', '0,4949906287', '-377,6225065', '-0,9286818473', '-8,41176536', '0,1958621132', '0,0004587978633', '0,5606719037', '0,9443375466', '-32,02434637', '12622,92573', '-14,46499224', '9,558113351', '2,420728917', '6,153152806', '0,5101674445', '0,03558810743', '0,983021474', '1,354581955', '-0,05746478873', '10,14864865', '3,540284896', '-0,2491719095', '1,762075496', '7,822115949', '0,3692170182', '0,5741491383', '-0,00002355274916', '-0,2958698304', '22,93738662', '0,1050723477', '0,6154294375', '1,162637758', '0,06935564078', '-0,2011442804', '0,9052891998', '0,7856269899', '-0,03709799934', '9,007100183', '-4,59085847', '1,761132163', '12,96320172', '0,3883730538', '5,155055047', '0,9948104219', '-17,64229433', '1,205698813', '-3,400157875', '0,5836926128', '5,355788665', '2,889567115', '0,7782770225', '-86,2762317', '-0,218522246', '0,1009136446', '-0,239957358', '-0,5990902423', '2,009030614', '1,768132425', '4,882352941', '-106,5922', '10,05958792', '-0,00001475019023', '-0,000001519194605', '5,709376229', '10,84029138', '-0,06578706009', '1,323500697', '1,206555379', '-6,082354513', '0,7981881055', '-0,7629552154', '2,751260689', '0,3333876636', '-301,2823062', '12,24864315', '-1,474331198', '3,030013971', '-0,8792044474', '0,3660232623', '3,931674102', '1,172156607', '0,8510821355', '1,217069361', '0,8895785219', '0,6802369957', '-0,1849141895', '3,526375802', '2,22772973', '0,2295027156', '0,4110158922', '6,916978352', '1,12996815', '9,095461195', '2,66704956', '0,5359268114', '0,2022260398', '4,274806929', '0,9592295722', '0,6259792897', '1,568793343', '1,205216181', '-3,124760793', '2,017915764', '-0,1867510795', '1,366011905', '-4,864620839', '-12,29639932', '0,1676346466', '0,9077769074', '0,8854009303', '3,148209225', '0,5242941538', '-0,366794862', '1,523263451', '-0,00001590832001', '2,957377778', '-15,25238424', '-0,04667898044', '0,5394150749', '0,2914684552', '-1,363508576', '2810,485863', '1,697904833', '-1,092570957', '1,554189215', '1,295347267', '0,159770462', '0,3581341949', '1,142234561', '20,19373932', '0,9173638221', '-1,734088667', '90,32075974', '2,516832615', '0,2255717574', '0,4919460316', '0,5688339935', '-0,09405609566', '-1,005707482', '0,2488522264', '-0,08677896443', '-1,036569632', '-0,1956175999', '2,264504815', '0,8315747933', '8,022183242', '1,242392601', '38,65601431', '2,238714442', '-19,239375', '3,230207747', '4,448099812', '1,387494652', '-0,03657273629', '33,06432106', '-2,729989054', '-0,6278179071', '1,222451017', '0,720610873', '1,797292676', '3,032859574', '6,208973424', '2,794321662', '-14,2016808', '-2,724224358', '1,934862398', '0,0472205329', '0,4726130884', '1,027888647', '1,255061333', '1,823055273', '1,019701284', '0,2271968917', '-11,00160325', '-0,2786600793', '1,479858625', '2,417083397', '11,0535', '-6,43012893', '2,128887937', '18,55803583', '0,4700160651', '-0,1741221794', '2,487954515', '-8,32075684', '6,898235761', '5,971513902', '0,4699843104', '0,3827542695', '13,52592862', '2,753573613', '-85,20111952', '2,136538944', '3,473064315', '0,9419457186', '-5,054922171', '4,736498998', '-3,917950007', '0,3958550222', '0,8274645659', '2,202183199', '0,5374177812', '2,241732398', '-0,196621742', '4,398518134', '0,51097761', '-1,496791346', '0,7773257649', '0,2133165497', '1,407813681', '0,7076097757', '3,687481899', '-0,2034405256', '-1,246922032', '-0,102325633', '1,29969768', '4,722361284', '4,612333412', '2,213620545', '1,481148672', '-0,4569313594', '2,611984488', '1,670942507', '4,969728527', '0,02536828282', '5,24476469', '-0,1174901349', '4,515284413', '0,8945259388', '2,40815111', '0,006966904542', '-0,07387128518', '-3,001206631', '0,6285230058', '2,149175168', '0,1187577849', '0,2122606954', '4,944829998', '1,854916658', '-21,44075813', '0,9621554067', '-0,06041181922', '1,130337964', '1,377228331', '-0,4936379893', '-0,02066418834', '-434,7312325', '4,566938544', '2,177751426', '1,5013289', '0,9756787709', '0,01542099831', '5,104517412', '0,8149742866', '0,5966884273', '-6,45350764', '2,20002474', '0,471032063', '1,637673811', '0,2154488235', '-0,08663941256', '0,4636905631', '0,4258519602', '1,417649839', '-0,8176129661', '0,2058643321', '4,416176791', '2,119390429', '-0,7235159175', '0,3289054569', '-0,2672267037', '0,6731390542', '160,05423', '-5,225523625', '-2,728699126', '1,614518525', '-2,050565479', '4,866328257', '1,766053697', '1,275815065', '9,844960626', '5,309613977', '1,362844661', '3,732908696', '-0,1149967456', '1,263061411', '-24,96731224', '2,224532225', '0,7285817029', '390,0532441', '19,08283642', '1,130887207', '0,30145657', '1,752578278', '-0,892996817', '-10,85335646', '4,412174231', '2,580709529', '1,709185695', '3,590343946', '0,5056551402', '-1,240945889', '1,137958865', '0,1354233436', '-0,7635006927', '0,07278037335', '1,923982024', '0,6145010368', '-7,188911629', '1,061769579', '3,073368164', '-0,9087025108', '0,5176617693', '-0,09149688286', '0,3509660496', '24,85056222', '1,390535466', '1,489533679', '7,199085019', '3,99434849', '-2,679638662', '3,488486586', '1,199483964', '915,0015537', '-2,654535632', '1,693661972', '0,4650350622', '5,929368183', '2,992820693', '0,6469453334', '4,188184403', '-0,8940928564', '-0,3964048875', '2,353138703', '0,3849588071', '2,998091516', '-3,699678205', '-18,33815346', '25,31537484', '5,999546896', '0,7586295734', '0,7765200175', '-0,07867252447', '3,252751727', '0,9813907009', '99,90907074', '-1,137405295', '0,7341321985', '-504,5336175', '2,498344449', '-5,388173779', '-0,350604327', '0,1808212116', '3,537481197', '2,207193453', '-36,48354346', '-96,76482554', '-15,3841176', '2,83624885', '1,492468844', '12,31447369', '0,651754609', '-0,09481874693', '1,226785482', '1,733544834', '-8,852716298', '14,64864865', '4,12243273', '-0,7237404867', '0,5741305995', '9,723600303', '0,2277469868', '0,9344920113', '-0,00001086944412', '0,02351986771', '29,88392709', '0,000753696219', '0,6996559964', '1,244314547', '-0,5772176607', '1,710707021', '0,699480003', '-0,4692446035', '9,672391623', '-3,361469153', '1,222304248', '-0,5185385891', '14,01525191', '1,022592216', '-2,957726401', '1,808493683', '0,8591035238', '5,111606534', '3,171433974', '0,7148226187', '-0,009085277323', '0,4776597214', '-1,954500287', '-0,2308802318', '1,1579076', '0,7444703463', '6,018922254', '17,58780145', '0,0000003732374954', '-0,000005729877338', '-3,052735077', '-5,569095434', '3,578620843', '1,639012982', '0,6069795802', '-2,177946655', '0,9798814951', '-2,01594697', '4,091994495', '0,009052794446', '17,10006784', '-0,7706617188', '3,370519621', '0,8644856776', '0,07621067074', '-9,261798544', '1,303357582', '-1,030439233', '1,199863818', '1,786662818', '0,9433653099', '0,8204347926', '0,5541422595', '2,145068551', '0,1883747152', '0,4944518159', '4,890664382', '-0,1185644179', '7,381494728', '4,754987181', '0,3492935894', '0,005838504408', '5,710424195', '2,152119191', '0,4944257138', '2,779328202', '-4,448520421', '2,110732949', '0,45156868', '1,440290395', '-2,304933321', '15,97959184', '0,6046875603', '1,100954661', '1,001273976', '3,553430527', '1,177375757', '-0,6500581484']\n",
      "- receita: ['3.112.439', '2.208.702', '1.368.190', '2.630.908', '3.781.915', '4.722.413', '3.364.278', '6.140.745', '-', '58.378.995', '10.124.347', '6.224.316', '1.421.989', '36.043.000', '1.570.045', '1.590.992', '9.327.395', '1.002.017', '1.181.804', '1.153.013', '58.543.494', '39.469.700', '5.635.412', '1.143.679', '28.901.000', '5.411.382', '4.085.486', '3.514.445', '3.184.991', '8.858.700', '25.227.625', '11.285.000', '5.867.331', '5.269.144', '8.317.691', '9.093.170', '5.343.338', '18.633.249', '13.508.787', '1.976.967', '30.898.458', '1.800.968', '13.789.531', '1.144.682', '3.823.695', '1.004.375', '7.039.331', '5.879.616', '2.819.110', '1.500.723', '3.999.786', '6.833.000', '29.080.513', '19.641.764', '20.330.208', '5.095.899', '3.243.309', '12.259.159', '4.106.994', '5.874.849', '17.890.069', '1.797.590', '5.723.191', '1.671.020', '2.214.192', '1.622.019', '2.971.616', '1.670.789', '1.451.174', '43.814.661', '4.942.186', '1.896.785', '12.397.038', '36.921.980', '2.406.863', '6.245.372', '8.554.961', '1.462.103', '4.088.871', '1.153.670', '2.134.376', '1.475.759', '8.760.568', '1.029.605', '3.696.428', '5.880.000', '1.170.550', '1.564.081', '2.826.797', '11.948.794', '13.073.468', '10.307.615', '1.126.179', '2.139.417', '7.537.180', '7.252.524', '29.177.113', '3.589.662', '67.481.532', '2.402.578', '1.445.244', '19.406.344', '4.085.259', '3.604.965', '6.646.359', '3.077.116', '1.081.576', '31.989.000', '1.765.338', '9.284.303', '2.035.191', '51.253.000', '6.858.492', '1.436.306', '4.293.474', '1.495.594', '272.069.000', '1.904.185', '1.436.756', '18.619.960', '1.331.780', '2.192.173', '5.481.341', '2.025.951', '1.621.164', '20.066.840', '5.363.035', '14.029.408', '11.297.925', '6.966.159', '17.797.541', '4.799.655', '3.151.727', '1.051.181', '1.250.463', '1.102.141', '30.064.020', '9.807.057', '3.873.081', '1.256.244', '1.535.079', '30.465.380', '30.460.277', '3.561.286', '1.773.188', '1.012.035', '43.126.472', '2.282.369', '1.233.462', '17.267.812', '2.596.077', '4.257.596', '81.241.102', '3.868.223', '16.088.052', '208.528.759', '1.939.142', '1.513.187', '81.501.000', '1.047.547', '4.413.421', '1.179.227', '17.469.557', '9.258.703', '1.815.562', '3.853.737', '2.238.127', '5.339.317', '2.486.150', '2.511.746', '2.184.137', '6.580.618', '3.745.014', '1.136.572', '5.738.533', '3.948.561', '5.234.208', '72.854.344', '1.916.332', '22.695.861', '8.473.369', '2.650.805', '41.898.000', '2.400.998', '2.624.114', '2.923.827', '10.288.124', '1.356.199', '1.366.407', '1.044.336', '1.139.064', '1.116.111', '105.625.201', '48.343.305', '6.748.647', '1.217.771', '30.899.000', '8.423.180', '5.153.205', '4.888.063', '4.413.489', '11.341.550', '33.646.118', '14.265.000', '8.109.507', '4.778.057', '3.715.510', '11.709.713', '12.330.209', '5.894.710', '23.984.287', '24.907.150', '2.212.210', '39.210.148', '1.820.615', '19.039.870', '1.738.295', '4.790.833', '1.141.394', '10.418.674', '8.170.241', '1.774.394', '3.225.408', '1.776.380', '4.651.761', '8.505.000', '37.616.241', '22.669.705', '26.475.504', '7.323.266', '5.124.441', '12.540.673', '5.389.645', '8.119.519', '24.240.886', '1.123.125', '2.449.439', '7.067.827', '2.275.744', '4.291.368', '2.389.477', '3.872.651', '2.582.166', '1.346.811', '78.345.081', '6.615.255', '2.342.546', '15.876.857', '40.164.687', '5.110.462', '7.221.181', '9.883.385', '1.115.417', '5.937.373', '1.058.152', '1.852.245', '3.087.172', '1.634.799', '13.688.367', '1.605.834', '5.534.129', '8.170.000', '1.072.861', '2.007.441', '2.002.742', '4.295.978', '1.226.179', '16.481.388', '14.897.920', '10.901.336', '1.397.039', '2.525.448', '10.571.556', '7.814.046', '35.278.150', '3.499.439', '85.388.468', '1.024.313', '3.615.096', '2.046.441', '26.965.360', '5.332.623', '4.427.385', '7.106.201', '4.846.652', '1.288.393', '43.165.000', '1.842.434', '10.483.479', '2.702.066', '51.291.000', '7.528.710', '2.668.221', '4.714.962', '2.211.159', '452.668.000', '1.040.604', '4.396.003', '2.097.525', '1.271.260', '21.225.633', '1.912.127', '3.365.487', '6.413.199', '2.096.548', '2.033.606', '24.127.002', '9.057.457', '20.381.883', '15.610.686', '1.383.499', '7.439.632', '19.491.061', '5.204.412', '1.534.229', '4.237.317', '1.705.670', '1.520.357', '1.407.358', '47.912.039', '13.866.219', '6.324.369', '1.706.851', '1.720.723', '40.972.610', '40.965.431', '2.306.112', '3.472.049', '2.740.464', '1.007.343', '1.472.883', '44.032.613', '2.539.954', '18.058.027', '3.258.863', '1.048.294', '7.082.535', '109.732.842', '6.289.369', '33.736.964', '293.524.000', '2.198.001', '2.823.495', '130.121.000', '1.466.387', '6.218.759', '1.867.176', '1.066.582', '23.563.338', '11.380.278', '2.138.715', '1.858.776', '4.391.378', '2.753.287', '6.885.839', '2.468.884', '2.781.576', '3.993.829', '11.592.510', '5.058.588', '1.085.009', '5.127.781', '1.111.321', '4.181.866', '3.833.708', '79.708.827', '3.789.791', '25.808.906', '7.732.721', '3.563.231', '54.520.000', '2.029.142', '5.515.706', '4.233.726', '10.110.682', '1.631.761', '1.475.824', '1.406.909', '1.771.465', '1.471.180', '96.519.284', '1.722.422', '53.805.028', '7.693.248', '1.409.964', '30.898.000', '8.824.627', '6.183.550', '1.227.649', '4.467.992', '6.133.756', '10.082.841', '34.462.808', '13.978.000', '8.568.304', '5.092.202', '4.499.030', '17.414.153', '20.133.787', '6.176.855', '21.927.721', '39.737.368', '1.520.957', '39.354.237', '2.028.320', '13.272.564', '2.257.294', '1.221.595', '5.412.295', '1.483.148', '13.128.893', '8.486.650', '2.098.108', '3.990.475', '2.162.616', '6.061.329', '8.388.000', '34.074.233', '1.086.530', '23.448.771', '26.503.137', '7.131.856', '6.128.603', '11.906.605', '4.842.716', '8.513.222', '27.132.507', '1.112.959', '1.187.383', '2.510.647', '8.006.280', '2.317.936', '1.121.260', '5.675.134', '3.139.016', '4.463.040', '3.058.171', '1.135.997', '1.369.443', '82.412.210', '9.218.683', '2.512.656', '21.768.477', '36.349.623', '6.260.707', '8.458.663', '23.748.803', '1.767.900', '7.546.355', '2.072.156', '1.016.341', '2.240.696', '4.232.623', '2.461.896', '16.947.869', '1.686.666', '5.450.570', '8.486.000', '1.437.956', '1.902.092', '2.265.866', '6.022.405', '1.815.401', '20.032.699', '13.253.286', '17.783.568', '2.067.050', '2.749.921', '13.271.137', '1.138.433', '10.129.205', '37.299.002', '1.017.186', '5.415.618', '130.631.697', '1.763.132', '1.029.568', '4.224.030', '1.990.331', '1.092.097', '30.977.769', '9.600.029', '5.592.118', '6.645.285', '4.383.845', '1.797.605', '42.787.000', '1.200.957', '1.902.422', '10.485.230', '4.088.252', '1.041.107', '17.321.000', '9.189.075', '2.331.132', '2.005.986', '4.981.609', '641.256.000', '2.975.939', '6.363.475', '2.834.533', '1.492.205', '27.723.741', '2.196.681', '4.993.235', '7.816.218', '1.951.408', '2.312.668', '29.067.380', '11.152.417', '22.987.443', '15.119.769', '1.592.302', '9.841.508', '22.055.720', '5.673.647', '1.931.841', '4.813.348', '2.093.038', '1.804.323', '1.676.343', '2.436.675', '44.362.120', '24.381.791', '9.589.710', '2.930.438', '1.217.445', '49.835.599', '49.830.946', '2.616.517', '2.540.021', '1.370.509', '1.497.439', '48.041.162', '2.412.586', '21.530.801', '3.792.932', '1.121.819', '10.178.416', '143.634.708', '7.270.406', '32.470.510', '226.508.000', '1.879.437', '4.913.454', '1.065.898', '181.446.000', '1.317.346', '1.843.735', '8.746.531', '2.536.936', '1.070.905', '29.904.722', '10.798.149', '2.271.892', '1.974.513', '4.564.940', '3.644.674', '8.998.985', '2.831.915', '3.018.802', '2.092.686', '9.399.096', '5.858.606', '1.179.584', '5.854.915', '2.712.274', '3.734.146', '3.311.381', '79.736.856', '4.872.707', '14.942.000', '7.796.488', '3.732.940', '1.360.967', '66.503.000', '2.080.537', '6.181.890', '2.536.766', '4.846.768', '9.921.251', '1.608.505', '1.307.844', '1.372.633', '2.078.749', '1.420.683', '70.569.000', '5.619.989', '53.615.440', '1.227.870', '8.567.316', '1.634.101', '28.847.000', '7.348.067', '6.719.317', '1.115.439', '4.792.835', '5.602.206', '10.402.608', '36.849.769', '15.159.000', '8.623.294', '5.814.798', '4.665.847', '15.158.674', '17.767.327', '7.404.379', '21.479.468', '39.468.497', '39.743.190', '2.297.787', '18.880.426', '2.886.172', '1.432.690', '6.252.699', '1.748.909', '14.252.235', '7.383.409', '1.745.275', '4.461.017', '2.355.183', '8.845.179', '8.703.000', '37.158.908', '26.110.517', '28.531.858', '7.565.255', '10.090.895', '10.747.784', '5.669.353', '10.378.384', '40.985.077', '1.006.447', '1.356.341', '1.129.213', '2.677.586', '9.120.676', '2.973.650', '1.083.172', '5.335.669', '2.435.135', '6.470.850', '3.388.657', '1.103.532', '1.391.868', '68.916.447', '10.631.154', '1.858.241', '2.433.607', '26.773.586', '26.737.277', '6.988.671', '8.795.386', '27.769.790', '1.276.089', '1.924.350', '1.178.733', '7.914.658', '2.343.954', '1.157.163', '2.226.345', '1.072.489', '4.103.676', '2.931.053', '14.955.220', '1.594.245', '6.215.521', '7.383.000', '1.406.851', '1.593.474', '2.119.154', '7.574.644', '1.512.134', '18.023.749', '2.087.226', '14.116.325', '28.902.284', '2.338.625', '1.646.097', '13.647.849', '1.292.756', '10.840.280', '36.768.149', '6.683.218', '132.218.010', '2.187.665', '1.183.709', '4.338.825', '1.966.737', '1.377.756', '26.891.609', '1.151.243', '10.342.015', '6.449.125', '7.429.915', '3.499.079', '2.029.569', '44.343.000', '1.648.883', '2.118.667', '9.717.700', '5.488.776', '19.250.000', '11.202.122', '1.879.266', '5.041.332', '511.994.000', '2.814.361', '11.905.041', '3.173.241', '2.072.023', '32.395.077', '2.190.834', '3.926.631', '1.046.411', '8.661.744', '1.749.906', '2.398.127', '33.973.790', '10.887.843', '46.508.558', '16.131.441', '1.227.247', '10.937.716', '25.572.056', '6.292.736', '2.134.925', '1.400.006', '4.469.977', '1.925.762', '1.830.934', '3.037.319', '45.437.950', '31.843.613', '9.122.124', '4.244.743', '39.760.439', '39.755.575', '3.362.116', '1.781.887', '1.583.468', '1.269.463', '52.100.151', '2.903.087', '23.833.893', '4.497.028', '1.046.690', '1.031.011', '11.368.190', '126.048.701', '4.897.288', '27.638.348', '208.066.000', '2.255.510', '6.085.482', '1.109.824', '162.947.000', '1.962.525', '2.186.975', '11.083.830', '2.817.679', '32.503.601', '11.487.988', '2.427.182', '1.121.480', '2.379.737', '5.147.562', '3.841.961', '12.825.771', '1.516.484', '3.438.492', '2.191.955', '7.767.972', '1.216.992', '5.521.381', '2.739.848', '4.108.311', '4.002.104', '89.452.669', '6.413.676', '14.349.000', '8.741.530', '3.801.379', '1.765.969', '73.819.000', '3.221.711', '8.059.951', '12.240.032', '8.379.753', '10.572.738', '1.498.065', '1.754.376', '1.841.052', '77.411.000', '8.726.361', '61.379.038', '1.427.794', '9.265.791', '1.950.410', '27.206.000', '8.173.649', '7.636.539', '1.036.777', '5.339.988', '5.162.070', '10.658.858', '39.819.620', '16.529.000', '8.442.129', '6.390.593', '4.089.224', '15.443.193', '18.383.448', '7.878.006', '22.651.036', '43.950.742', '42.628.210', '2.568.352', '16.496.317', '3.926.310', '1.420.763', '7.965.688', '2.160.645', '15.322.079', '1.128.842', '8.234.647', '1.810.394', '4.942.462', '3.348.470', '9.872.372', '9.328.000', '40.181.552', '35.424.174', '33.715.476', '8.214.479', '11.387.505', '11.218.635', '6.212.072', '10.861.897', '45.366.675', '1.029.771', '1.584.808', '1.161.752', '2.857.809', '10.973.515', '2.157.292', '1.560.541', '4.608.584', '2.236.704', '7.684.659', '3.965.776', '1.012.352', '1.204.173', '67.026.656', '14.774.369', '2.059.397', '2.628.580', '32.085.428', '24.089.804', '7.151.714', '9.634.207', '28.914.698', '1.270.376', '1.352.406', '1.171.317', '7.442.466', '2.623.120', '1.236.345', '2.224.984', '1.065.320', '4.756.146', '3.331.291', '15.331.813', '1.627.470', '7.966.581', '8.235.000', '1.684.321', '1.607.933', '2.212.219', '9.056.258', '1.254.533', '1.607.297', '19.645.264', '1.549.299', '2.232.796', '14.876.283', '37.271.558', '2.795.756', '1.392.169', '14.436.366', '1.370.032', '9.662.833', '38.038.068', '8.593.837', '148.860.959', '2.226.001', '1.028.992', '4.557.980', '2.189.092', '1.575.405', '1.312.999', '34.068.866', '1.179.438', '1.570.024', '13.481.270', '7.024.973', '9.009.035', '3.388.498', '2.544.789', '48.993.000', '1.721.058', '2.281.192', '3.180.421', '6.227.227', '1.024.792', '18.790.000', '12.641.825', '2.109.725', '6.983.506', '490.829.000', '3.264.554', '14.360.653', '3.322.608', '2.589.397', '1.131.800', '35.243.466', '2.407.806', '3.688.326', '1.100.583', '10.153.623', '1.580.459', '2.666.330', '38.871.522', '11.915.741', '50.571.261', '17.884.954', '1.220.011', '13.936.389', '36.145.477', '6.848.219', '2.903.016', '5.424.459', '1.945.886', '1.981.354', '4.124.980', '43.687.460', '41.062.901', '7.803.627', '5.580.304', '47.405.389', '47.403.282', '1.357.743', '3.718.138', '1.672.674', '2.090.127', '1.294.214', '55.845.048', '3.284.401', '25.447.930', '5.224.007', '1.346.694', '1.322.852', '10.665.110', '133.498.913', '1.025.379', '5.431.599', '25.869.799', '206.005.000', '2.171.344', '4.699.312', '1.111.555', '172.272.000', '2.141.809', '2.577.113', '11.583.371', '3.048.578', '37.986.941', '12.931.658', '2.925.895', '1.257.265', '3.123.742', '5.351.785', '4.556.360']\n",
      "- lucro_liquido: ['11.379.394', '1.398.000', '-', '4.152.304', '3.850.771', '16.546.577', '1.467.052', '12.697.385', '-6.691.720', '1.383.564', '3.976.382', '1.769.413', '1.004.000', '-1.622.898', '2.864.110', '1.219.000', '-5.805.835', '1.150.613', '3.904.202', '3.643.149', '4.030.710', '-1.196.627', '1.760.257', '6.338.688', '-3.616.014', '1.468.945', '1.007.606', '2.797.091', '2.975.089', '2.365.763', '1.295.116', '-1.339.460', '-1.521.263', '3.361.503', '7.056.000', '18.909.000', '-2.487.870', '1.048.180', '1.096.269', '3.301.755', '2.809.000', '1.019.221', '-10.529.963', '2.179.000', '7.108.000', '1.688.191', '13.469.380', '3.794.295', '-2.938.863', '-10.724.828', '2.262.927', '4.770.527', '1.843.690', '26.712.713', '-2.005.084', '3.905.000', '2.340.873', '1.157.999', '1.115.401', '12.670.968', '1.610.000', '4.717.097', '3.933.217', '21.945.688', '8.079.261', '19.710.402', '13.984.946', '6.342.155', '1.896.152', '1.250.457', '3.751.321', '1.669.000', '2.119.121', '1.725.111', '4.952.573', '6.123.216', '4.748.049', '6.370.966', '1.725.407', '5.646.141', '2.591.500', '1.133.395', '1.173.300', '1.563.725', '1.025.545', '3.694.527', '15.494.111', '5.063.330', '1.047.960', '1.330.208', '1.287.018', '3.018.599', '12.200.000', '24.988.000', '1.003.464', '3.019.870', '1.941.403', '2.043.677', '4.341.997', '3.925.000', '1.618.493', '-8.516.185', '106.668.000', '1.333.046', '1.544.249', '1.575.306', '1.518.709', '2.305.869', '1.177.631', '14.987.716', '1.255.441', '12.258.628', '1.062.116', '2.349.415', '8.626.386', '1.286.686', '2.213.714', '6.239.364', '2.957.174', '1.984.764', '9.070.524', '121.228.000', '2.497.000', '3.585.947', '1.319.382', '1.122.314', '14.457.943', '-12.911.538', '1.220.000', '2.674.400', '4.226.057', '6.044.571', '20.732.000', '3.727.675', '31.011.487', '-3.166.403', '7.841.837', '2.952.840', '4.092.313', '1.567.000', '1.811.479', '1.848.640', '1.112.007', '1.176.032', '5.099.586', '2.950.298', '3.635.377', '2.135.461', '1.190.704', '2.663.079', '1.556.399', '1.373.938', '1.062.276', '11.425.512', '3.744.624', '1.052.419', '-2.859.629', '1.696.697', '2.262.245', '13.674.000', '29.414.000', '4.461.251', '-5.672.203', '1.778.733', '1.844.306', '1.291.704', '4.165.827', '4.718.000', '2.015.331', '-19.268.496', '-2.701.084', '188.328.000', '1.153.391', '3.427.072', '1.134.847', '1.194.966', '1.486.267', '3.121.267', '1.151.538', '12.570.191', '1.554.060', '1.267.459', '6.459.615', '23.381.617', '1.449.215', '4.085.013', '1.670.755', '1.800.839', '1.325.921', '1.615.538', '95.924.000', '1.537.000', '4.208.084', '1.337.663', '3.386.958', '-1.866.620', '1.345.151', '14.501.944', '-2.272.000', '4.131.929', '7.947.203', '15.122.000', '1.896.619', '33.818.951', '-4.579.000', '-2.028.559', '9.924.566', '3.582.244', '-2.625.000', '5.764.273', '1.839.000', '1.408.787', '1.602.989', '1.379.346', '2.258.810', '1.094.391', '5.527.101', '3.568.737', '-1.166.016', '4.549.774', '1.894.219', '1.379.044', '3.429.555', '2.225.811', '2.075.593', '7.501.565', '2.560.346', '1.220.856', '2.973.731', '1.647.960', '2.841.117', '13.466.000', '33.368.000', '2.694.538', '1.805.566', '-1.517.776', '1.200.149', '1.020.390', '4.461.000', '2.098.299', '-5.430.918', '-1.188.770', '-2.271.000', '-1.389.934', '1.124.493', '124.606.000', '5.179.905', '2.266.149', '1.054.973', '2.040.722', '1.657.927', '3.523.531', '1.503.363', '8.973.657', '1.036.554', '-1.065.922', '3.949.227', '14.084.848', '1.367.834', '5.029.389', '2.837.422', '2.439.795', '1.390.926', '39.940.000', '4.766.000', '5.731.670', '2.019.509', '1.086.090', '1.132.027', '14.437.238', '8.281.000', '4.576.581', '8.703.353', '19.086.000', '1.192.208', '35.439.890', '-11.320.000', '3.213.274', '11.789.387', '3.765.184', '-1.045.000', '7.117.146', '1.808.000', '1.792.464', '1.966.575', '1.316.920', '2.809.631', '-9.423.795', '5.457.652', '4.527.718', '1.648.996', '-1.198.990', '10.378.122', '1.918.850', '3.789.678', '1.088.082', '4.279.349', '1.976.074', '2.811.675', '-1.154.741', '4.566.317', '1.544.820', '1.318.193', '-8.929.859', '1.340.990', '-1.756.143', '3.498.416', '14.778.000', '40.231.000', '1.831.011', '1.643.779', '1.813.627', '1.196.668', '1.200.019', '2.795.401', '-1.558.712', '1.415.510', '1.340.814', '3.635.000', '2.342.566', '9.610.795', '-1.588.291', '-2.407.000', '-2.138.610', '-1.041.274', '36.606.000', '10.301.606', '2.644.845', '1.199.864', '3.846.945', '1.476.129', '9.579.563', '1.545.347', '13.477.390', '-2.591.851', '-2.111.606', '-7.074.198', '1.693.915', '5.547.948', '3.153.881', '2.362.740', '31.592.000', '6.367.000', '-1.415.491', '6.042.593']\n",
      "- divida_bruta_ativo: ['27,6', '22,4', '48,2', '0,4', '21,3', '8,9', '66,6', '31,2', '11,9', '5,1', '42,6', '39,9', '-', '3,8', '12,6', '34,3', '39,6', '28,7', '70,4', '41,6', '13,1', '35,6', '15,2', '8,7', '2,1', '8,5', '43,3', '54,2', '37,3', '39,8', '29,9', '48,7', '45,1', '27,5', '25,4', '40,5', '39,1', '26,4', '16,6', '2,5', '32,9', '24,5', '34,6', '18,4', '5,2', '27,8', '37,4', '26,6', '33,3', '66,3', '46,9', '12,8', '32,1', '43,4', '36,5', '38,4', '0,5', '6,8', '24,7', '12,4', '16,8', '29,6', '23,6', '49,9', '27,9', '29,8', '63,9', '11,3', '76,6', '43,1', '26,9', '3,9', '29,5', '42,2', '44,3', '47,2', '47,6', '34,4', '40,3', '54,9', '27,4', '18,5', '31,6', '8,8', '0,1', '18,8', '34,5', '25,1', '102,1', '27,7', '32,3', '2,2', '14,4', '22,7', '29,1', '10,2', '15,4', '33,8', '32,8', '2.754,20', '69,3', '0,3', '60,5', '31,1', '24,8', '53,8', '24,6', '20,5', '41,3', '32,4', '7,9', '68,7', '21,5', '45,7', '49,7', '52,4', '13,5', '104,9', '1,8', '74,7', '3,5', '40,1', '36,7', '51,4', '23,1', '25,7', '10,6', '16,3', '183,2', '69,6', '6,5', '4,4', '0,2', '20,3', '66,8', '6,4', '17,9', '2,6', '68,4', '3,4', '24,3', '6,1', '51,8', '26,8', '25,8', '15,1', '17,6', '19,4', '216,4', '3,3', '13,3', '71,6', '22,6', '35,7', '48,5', '302,5', '17,2', '22,8', '15,3', '71,7', '73,1', '33,9', '26,2', '30,2', '30,4', '35,8', '42,1', '19,1', '30,7', '22,5', '16,9', '41,9', '63,7', '5,5', '27,3', '54,1', '34,2', '46,8', '47,7', '38,6', '43,5', '56,9', '69,2', '28,1', '30,8', '30,6', '2,3', '30,3', '52,5', '17,5', '51,3', '12,2', '37,7', '121,6', '5,6', '6,3', '16,5', '24,9', '53,5', '36,4', '15,8', '19,9', '45,6', '67,8', '40,9', '18,2', '18,6', '13,4', '25,3', '4,2', '1,6', '21,1', '26,5', '47,3', '50,7', '1,4', '50,2', '39,3', '36,8', '51,2', '58,2', '35,1', '26,7', '24,1', '4,5', '15,9', '33,6', '9,5', '41,2', '10,4', '49,8', '16,1', '38,3', '21,7', '37,8', '0,9', '45,5', '46,2', '26,3', '47,4', '31,9', '21,8', '33,1', '34,7', '44,7', '56,6', '38,7', '7,5', '31,3', '23,9', '35,2', '18,3', '32,6', '28,8', '4,9', '8,3', '11,6', '60,9', '39,7', '42,7', '42,5', '52,8', '3,7', '30,1', '5,3', '0,6', '17,4', '33,2', '112,4', '28,3', '3.191,90', '75,8', '49,3', '37,1', '46,3', '46,4', '56,2', '13,2', '21,9', '38,1', '25,6', '10,3', '23,5', '52,6', '55,4', '88,5', '69,7', '44,5', '39,4', '49,1', '61,3', '16,2', '17,7', '125,7', '34,9', '64,5', '27,2', '10,1', '7,2', '9,3', '72,2', '13,9', '6,7', '4,6', '32,2', '14,9', '28,4', '11,7', '214,3', '14,6', '33,4', '42,3', '46,1', '213,1', '18,1', '2,9', '88,1', '33,7', '15,7', '6,6', '31,4', '35,3', '34,8', '13,8', '50,6', '22,3', '9,9', '52,1', '45,8', '14,1', '20,1', '31,5', '3,6', '66,9', '32,7', '42,8', '1,2', '20,8', '36,1', '52,7', '6,9', '131,9', '7,7', '53,9', '45,4', '17,8', '59,8', '113,8', '40,8', '11,4', '68,8', '12,9', '10,5', '55,6', '20,7', '48,1', '17,1', '58,7', '41,8', '2,7', '71,9', '72,7', '30,5', '52,3', '57,4', '29,4', '12,3', '8,6', '43,7', '28,9', '12,5', '19,5', '46,5', '40,4', '40,6', '44,8', '24,4', '49,2', '29,3', '19,7', '37,9', '29,2', '55,1', '38,2', '33,5', '22,9', '26,1', '10,7', '64,3', '22,2', '43,6', '39,5', '53,4', '36,2', '36,3', '120,4', '36,6', '3,1', '2.469,10', '71,5', '55,8', '38,5', '25,5', '66,4', '52,2', '29,7', '57,9', '20,9', '93,2', '44,1', '47,1', '86,7', '9,8', '14,8', '89,9', '9,7', '37,6', '41,7', '24,2', '67,5', '9,4', '15,5', '75,3', '194,6', '7,1', '160,5', '108,9', '31,8', '13,6', '3,2', '87,8', '28,6', '55,3', '51,6', '35,4', '44,4', '47,9', '64,6', '23,2', '1,5', '21,4', '0,7', '18,7', '0,8', '35,9', '123,6', '5,8', '56,4', '19,3', '44,9', '73,9', '55,7', '50,3', '31,7', '11,1', '40,7', '39,2', '93,6', '86,8', '53,6', '22,1', '5,4', '8,1', '2,4', '44,6', '51,1', '30,9', '50,8', '20,4', '11,2', '19,8', '19,6', '1,7', '38,9', '20,6', '69,9', '41,4', '45,2', '56,1', '10,9', '14,5', '14,3', '14,7', '2.493,30', '43,2', '75,1', '18,9', '59,6', '57,7', '62,7', '77,8', '56,5', '27,1', '82,7', '11,8', '83,7', '4,7', '75,4', '196,3', '49,6', '97,6', '255,6', '15,6', '1,9', '56,8', '48,9', '58,6', '54,4', '53,7', '16,7', '151,1', '36,9', '56,3', '37,2', '21,6', '8,4', '23,3', '65,8', '25,9', '41,5', '60,2', '54,8', '10,8', '16,4', '43,8', '69,5', '25,2', '48,3', '62,8', '48,4', '51,7', '1,3', '58,3', '9,6', '35,5', '2.754,70', '71,4', '99,4', '53,1', '46,6', '62,2', '62,1', '37,5', '85,6', '5,7', '28,5', '192,6', '482,8', '9,1', '320,6', '40,2', '14,2', '68,3', '61,1', '181,3']\n",
      "- liquidez_corrente: ['1,3', '-', '1,2', '1,8', '7,9', '1,1', '2,3', '2,5', '2,1', '4,4', '1,5', '5,2', '4,8', '1,4', '0,3', '1,7', '0,8', '0,7', '0,5', '0,9', '31,7', '0,4', '2,2', '0,6', '11,8', '6,7', '1,6', '4,2', '3,1', '2,6', '5,3', '2,8', '2,9', '4,7', '2,7', '17,9', '0,2', '5,5', '6,8', '2,4', '9,1', '4,5', '3,2', '1,9', '595,6', '4,3', '18,5', '4,1', '3,8', '5,1', '4,9', '5,9', '559,2', '5,8', '505,5', '3,3', '3,6', '3,7', '7,3', '6,1', '26,8', '10,2', '3,9', '5,7', '10,6', '3,5', '11,1', '4,6', '0,1', '5,6', '2.474,00', '591,5', '15,1', '623,7', '3,4', '15,4', '7,2', '8,3', '1.047,00', '15,3', '7,6', '6,6', '512,4', '15,5', '561,5', '9,3', '19,6', '35,3', '10,8', '6,2', '30,6', '1.049,00', '8,6', '17,7', '11,3', '6,5', '21,2', '25,3', '15,8', '1.009,00', '7,1', '11,2']\n",
      "- liquidez_geral: ['1,2', '-', '0,9', '10,2', '1,1', '2,3', '0,8', '0,6', '1,9', '1,3', '2,1', '1,4', '0,4', '0,5', '0,2', '0,3', '8,1', '14,1', '1,5', '2,5', '0,7', '2,8', '2,7', '1,6', '2,4', '15,9', '0,1', '7,4', '8,6', '10,6', '1,8', '9,3', '3,1', '4,3', '18,8', '5,6', '3,5', '2,2', '4,2', '3,4', '559,2', '505,5', '14,6', '2,6', '1,7', '9,6', '7,2', '8,9', '9,9', '2,9', '10,1', '3,3', '8,8', '6,5', '3,8', '591,5', '15,1', '623,7', '14,9', '11,1', '5,9', '7,7', '5,3', '3,6', '6,7', '1.047,00', '8,5', '512,4', '14,7', '561,5', '10,8', '5,1', '6,4', '4,1', '4,5', '1.049,00', '7,6', '16,5', '3,2', '3,7', '1.009,00', '4,4']\n",
      "- rentabilidade_ativo: ['10,6', '4,8', '-1,9', '8,8', '1,8', '3,3', '13,5', '4,4', '-3,6', '4,5', '1,9', '2,6', '-18,3', '9,1', '1,3', '9,4', '-0,9', '0,4', '4,1', '8,3', '-', '13,8', '-57,9', '1,7', '0,9', '0,8', '2,3', '-9,9', '7,7', '1,1', '35,3', '7,8', '-15,2', '1,6', '-7,6', '-16,3', '22,5', '5,9', '5,1', '-8,1', '-13,1', '2,8', '16,2', '18,7', '-7,8', '-2,3', '12,1', '-6,7', '-40,4', '10,3', '4,9', '8,2', '5,3', '5,8', '-18,9', '-0,1', '10,8', '6,3', '6,9', '8,4', '2,5', '-8,5', '7,5', '17,3', '20,5', '8,7', '6,8', '11,6', '-24,1', '-1,1', '6,6', '3,9', '2,9', '9,7', '-32,2', '-3,8', '6,4', '3,6', '18,2', '10,2', '-6,6', '3,5', '7,2', '6,2', '7,9', '-5,9', '8,9', '-6,3', '-6,4', '21,3', '13,4', '15,7', '-12,8', '45,3', '4,7', '-2,1', '-27,9', '12,3', '3,8', '3,7', '-1,8', '-0,2', '0,1', '9,3', '1,4', '-1.459,90', '-32,3', '-19,6', '-17,2', '-4,9', '-33,3', '-1,6', '1,5', '-3,4', '10,1', '-13,4', '2,7', '5,5', '15,8', '7,1', '-6,8', '-4,3', '12,6', '3,4', '0,6', '4,2', '11,5', '6,1', '-3,9', '5,2', '3,2', '-4,1', '1,2', '16,1', '-0,3', '7,3', '-0,6', '9,5', '-0,8', '-86,7', '13,6', '20,3', '-14,3', '-3,7', '-58,6', '8,1', '4,6', '13,3', '52,5', '-21,4', '-26,4', '6,7', '3,1', '-0,5', '-19,3', '-149,9', '-10,9', '-3,1', '5,7', '-2,4', '0,3', '0,7', '7,6', '-35,2', '0,5', '-7,1', '21,5', '-10,1', '-7,9', '-159,7', '-5,1', '-10,5', '-4,7', '-9,6', '-11,5', '-2,5', '-9,3', '-20,7', '-1,2', '11,1', '4,3', '2,2', '20,8', '9,6', '-11,3', '9,8', '-114,3', '7,4', '36,2', '12,7', '8,6', '-20,5', '45,4', '-2,7', '29,5', '-6,2', '-21,7', '13,9', '18,5', '15,1', '2,1', '11,7', '17,8', '85,5', '-5,8', '33,1', '6,5', '-3,3', '23,1', '23,6', '12,8', '-9,8', '12,9', '17,7', '-20,2', '-31,8', '9,2', '28,6', '-25,2', '8,5', '-8,7', '-1,5', '26,6', '23,2', '18,9', '22,7', '-7,4', '-14,9', '21,1', '13,2', '14,4', '2,4', '-5,2', '-8,8', '-0,4', '86,4', '-1,4', '10,5', '15,5', '-16,1', '15,2', '22,9', '62,5', '-8,2', '25,3', '5,4', '-2,2', '-3,5', '19,3', '-2,8', '11,4', '27,4', '-45,9', '-43,5', '19,7', '-4,6', '14,7', '17,9', '-26,1', '-9,5', '-8,6', '10,9', '11,3', '-19,8', '-105,2', '31,3', '10,4', '-25,4', '17,1', '-5,4', '14,3', '-4,8', '-23,8', '-101,1', '28,7', '30,3', '0,2', '-11,9', '-7,5', '19,6', '-4,4', '-10,4', '5,6', '32,1', '25,5', '24,3', '-52,9', '-17,6', '15,3', '10,7', '-7,2', '-98,3', '12,5', '-5,3', '-8,4', '-23,5', '-41,3', '-14,6', '9,9', '37,5', '-10,3', '11,2', '-22,8', '46,2', '20,9', '25,2', '107,7', '-21,6', '-18,8', '11,8', '-11,1', '-24,2', '20,1', '-15,4', '12,2', '-6,1', '-16,7', '26,1', '-6,9', '15,6', '1.549,20', '39,7', '-27,8', '-8,3', '-1,3', '14,6', '52,6', '32,3', '-11,6', '68,6', '-105,3', '-43,3', '22,3', '-65,1', '-135,8', '-18,6', '19,4', '17,5', '16,9', '-94,3', '-21,8', '27,6', '20,2', '-65,6', '-73,9', '-6,5', '-0,7', '14,5', '-23,4', '19,5', '-88,6', '17,6', '22,8', '-14,5', '-3,2', '-13,5', '14,1', '21,2', '15,4', '18,6', '-12,9', '-71,7', '-29,5', '-45,4', '-14,4', '43,5', '18,3', '25,6', '21,4', '16,6', '-19,5', '-45,1', '-66,7', '-7,3', '-13,7', '13,7', '24,1', '40,9', '16,7', '-5,7', '23,9', '-21,2', '-2,6', '-50,5', '26,7', '15,9', '30,1', '-15,3', '-36,3', '-20,8', '-50,3', '-9,7', '-77,9', '-16,4', '11,9', '-82,7', '-1,7', '-27,3', '-52,7', '-52,3', '19,1', '-78,7', '12,4', '-22,9', '-120,4', '-39,5', '23,3', '47,4', '-38,7', '-20,1', '-5,6', '40,3', '-22,1', '-14,1', '-16,6', '26,8', '20,7', '-17,5', '13,1', '-4,5', '-11,7', '-37,1', '-141.900,00', '-66,8', '16,3', '-115,7', '-5,5', '-26,2', '16,8', '14,8', '-140,7', '201,6', '25,4', '48,6', '-12,2', '-131,4', '-80,4', '-42,1', '14,9', '-4,2', '20,4', '-22,5', '-14,8']\n",
      "- roe: ['44,3', '-122,9', '14,6', '19,9', '-', '9,3', '169,5', '11,9', '3,4', '26,3', '18,5', '-7,3', '2,7', '4,4', '-89,9', '24,9', '11,5', '6,9', '-2,8', '1,3', '-2,5', '32,4', '31,9', '4,6', '16,6', '12,7', '16,9', '14,3', '7,2', '66,2', '-14,1', '1,8', '-29,3', '104,4', '93,7', '14,1', '12,1', '10,6', '-42,1', '16,4', '42,1', '15,9', '25,8', '18,9', '8,7', '30,6', '-19,8', '-6,2', '48,9', '-26,7', '33,4', '17,2', '21,5', '8,4', '-38,6', '207,4', '18,1', '83,4', '12,4', '20,7', '8,1', '26,9', '28,3', '-7,2', '40,4', '9,5', '37,8', '-286,3', '33,3', '-4,3', '55,7', '7,3', '11,1', '13,4', '4,8', '-165,8', '8,8', '23,8', '23,2', '88,1', '-24,1', '27,1', '13,6', '-12,2', '24,2', '31,3', '20,6', '-26,9', '10,3', '2,4', '28,7', '10,4', '3,9', '-11,7', '125,5', '-6,3', '-8,5', '40,5', '8,2', '11,7', '10,2', '-0,5', '0,5', '3,8', '-6,9', '14,4', '-0,6', '5,7', '-40,7', '-80,3', '-5,3', '-13,1', '38,6', '1,5', '-11,5', '16,5', '-37,1', '24,3', '12,3', '18,6', '5,6', '7,6', '12,2', '13,7', '-43,9', '16,8', '-19,3', '29,3', '18,2', '4,7', '-35,8', '7,4', '5,2', '5,3', '3,7', '171,3', '13,1', '-6,4', '6,7', '-4,2', '3,6', '15,6', '-0,4', '9,2', '-0,9', '-19,2', '33,2', '16,3', '4,2', '17,6', '20,3', '23,6', '-14,8', '-82,4', '-18,8', '15,3', '28,4', '6,5', '35,4', '84,7', '-8,4', '9,1', '-7,8', '81,1', '-0,2', '19,6', '32,7', '10,1', '-2,1', '5,1', '-85,8', '25,4', '21,7', '34,4', '23,5', '0,7', '22,2', '2,5', '15,2', '17,9', '-1,3', '-0,8', '5,9', '22,3', '20,8', '2,8', '1,6', '14,2', '16,7', '-25,5', '34,7', '-25,8', '-155,2', '-88,9', '-5,1', '-84,3', '41,3', '5,5', '-6,6', '6,8', '13,9', '-46,9', '11,6', '8,6', '-3,1', '9,4', '53,3', '14,7', '-18,1', '35,9', '-156,7', '37,2', '33,8', '15,4', '2,9', '69,1', '28,9', '80,7', '3,1', '-24,6', '29,2', '-97,7', '45,9', '9,6', '1,9', '-5,2', '0,2', '21,8', '4,1', '21,4', '-186,4', '22,4', '27,5', '13,3', '4,3', '2,3', '-3,3', '77,1', '23,4', '20,1', '15,5', '10,9', '57,5', '-22,7', '34,9', '33,6', '86,1', '15,7', '37,4', '0,6', '28,1', '19,3', '14,9', '19,8', '132,1', '-1,4', '42,9', '24,5', '11,3', '27,2', '14,5', '-3,7', '-37,4', '43,9', '119,8', '31,5', '-9,8', '34,5', '51,8', '43,6', '-224,8', '16,1', '-3,9', '6,1', '31,6', '54,3', '7,7', '11,4', '-182,4', '30,8', '26,4', '127,3', '-1,7', '33,9', '40,1', '31,1', '30,5', '33,5', '-35,9', '69,2', '32,5', '-6,7', '19,5', '20,4', '-7,9', '40,8', '25,3', '12,6', '50,7', '5,4', '9,7', '8,3', '-24,5', '-2,6', '10,5', '27,7', '-5,8', '25,1', '-17,3', '17,3', '36,7', '22,8', '59,4', '-50,6', '64,1', '67,1', '29,9', '24,1', '31,4', '6,4', '12,9', '146,3', '-6,5', '37,1', '80,2', '62,4', '17,8', '3,2', '23,7', '21,1', '34,1', '32,8', '-1,5', '5,8', '22,1', '40,2', '27,3', '0,8', '49,4', '55,9', '18,3', '35,2', '-123,5', '25,5', '19,7', '29,8', '22,9', '2,2', '32,9', '23,3', '-3,5', '78,5', '29,4', '32,6', '-18,4', '-14,7', '-4,4', '76,3', '76,7', '49,1', '34,8', '158,9', '-25,6', '30,9', '8,9', '-14,4', '-39,7', '98,7', '48,8', '64,2', '25,6', '19,1', '28,2', '-21,9', '48,6', '4,9', '-16,1', '-100,4', '18,4', '14,8', '97,7', '6,3', '30,1', '28,8', '0,4', '36,6', '21,9', '-78,4', '10,7', '-69,3', '81,3', '-96,4', '-68,4', '13,8', '49,8', '-4,9', '-13,3', '-30,4', '57,6', '38,3', '22,6', '-20,3', '25,2', '71,3', '25,9', '-1,2', '42,7', '-63,6', '30,4', '15,1', '43,1', '-125,3', '11,8', '29,5', '32,3', '12,5', '61,9', '22,5', '39,8', '3,3', '-16,5', '-31,9', '13,2', '27,4', '-33,9', '39,3', '-4,6', '-1,6', '21,6', '-11,2', '-20,7', '0,3', '-19,4', '36,3', '-16,4', '19,4', '49,9', '72,2', '50,3', '-76,6', '-8,1', '57,2', '61,1', '-68,5', '-2,3', '7,5', '34,2', '20,2', '-1,9', '18,7', '39,1', '-30,2', '6,6', '50,1', '40,6', '41,5', '36,5', '18,8', '37,7', '-5,4', '20,5', '26,7', '-92,1', '-90,7', '2,1', '96,5', '96,8', '58,4', '-14,3', '-8,3', '-57,6', '-6,8', '17,4', '57,1', '49,2', '1,2', '21,3', '-15,8', '-1,8', '-3,6', '-77,6', '-10,5', '8,5', '11,2', '-27,8', '35,5', '7,9', '-39,4', '-129,6', '91,3', '-9,4', '-59,1', '24,8', '-104,2', '-13,6', '36,1', '35,6', '2,6', '-60,1', '0,1', '19,2', '7,1', '103,3', '9,9', '13,5', '52,9', '-98,8', '33,1', '37,6', '59,1', '-2,9', '16,2', '-14,9', '10,8', '15,8', '-0,7', '48,2', '-13,4', '-7,6', '7,8', '17,1', '-48,8', '-10,4', '-201,2', '30,3', '-9,7', '141,3', '23,9', '0,9', '-3,2', '-42,8', '1,1', '69,4', '-0,3', '-4,5', '-23,1', '52,5', '-8,2', '37,5', '-5,7', '-34,7', '-265,7', '-10,6', '36,2', '-59,7', '-9,5', '22,7', '39,5', '-19,1', '-105,7', '24,7', '-138,9', '-11,4', '58,9', '-11,3', '-10,3', '-117,5', '89,2', '-19,9', '-60,3', '29,6', '29,7', '-35,2', '17,5', '43,3', '35,3', '26,1', '126,8', '-21,6', '27,6', '-17,8', '43,2', '60,6', '-15,6', '-2,2', '38,9', '-2,4', '-53,3', '-7,4', '-28,6', '-18,7', '-221,5', '-21,3', '-200,2', '-20,1', '6,2', '40,7', '64,3', '-7,5', '25,7', '41,2', '-23,7', '-62,8', '36,4', '-103,7', '32,2', '-36,3', '51,6', '-0,1', '-8,8', '92,5', '-18,3', '-18,2', '-36,1', '-32,8', '21,2', '-54,3', '27,8', '39,2']\n",
      "- margem_ebit: ['10,5', '-', '12,7', '9,3', '53,4', '3,5', '3,7', '34.974,20', '395,5', '36,3', '5,7', '40,2', '8,2', '-167,7', '27,3', '18,4', '1,8', '8,3', '35,8', '29,3', '-78,2', '5,8', '60,1', '-295,3', '10,6', '3,4', '36,2', '6,4', '-11,7', '-94,7', '32,9', '17,6', '11,1', '22,1', '-0,1', '-84,4', '7,2', '13,4', '10,1', '8,6', '24,2', '5,6', '51,5', '0,2', '-19,5', '19,2', '7,7', '86,1', '18,7', '6,7', '-61,4', '24,1', '18,5', '23,8', '22,8', '2,1', '16,5', '18,2', '9,8', '45,7', '15,5', '28,7', '19,7', '-224,6', '57,7', '0,7', '2,4', '28,4', '11,4', '17,7', '3,3', '14,8', '13,3', '-14,8', '7,4', '21,6', '13,9', '29,7', '6,5', '-8,6', '18,3', '34,4', '45,4', '-39,1', '21,8', '19,9', '26,7', '13,2', '1,3', '27,6', '10,8', '16,3', '17,2', '16,1', '14,4', '0,4', '11,9', '11,8', '9,4', '16,9', '15,9', '-0,5', '46,4', '25,2', '113,1', '5,5', '-10.956,90', '32,3', '49,4', '-48,3', '-11,4', '-6,2', '-4.195,20', '2,5', '18,1', '25,6', '-2,1', '119,8', '131,4', '69,7', '-508,8', '7,5', '6,9', '26,9', '33,1', '-3,4', '13,6', '17,5', '177,2', '17,1', '-13,7', '21,3', '10,9', '9,1', '9,9', '2,8', '4,8', '11,6', '-65,3', '22,7', '-22,4', '8,1', '19,1', '2,7', '9,2', '14,6', '-27,3', '-14,1', '10,7', '15,2', '-171,3', '121,2', '20,9', '25,9', '29,2', '26,3', '-5.794,60', '5,1', '4,7', '16,4', '392,4', '-5,4', '-132,9', '-25,8', '29,4', '49,5', '6,2', '16,7', '-22,7', '8,7', '-1,9', '2,2', '30,1', '16,2', '9,5', '4,6', '18,9', '-1,5', '2,3', '11,7', '-3,9', '3,8', '-499,6', '32,7', '-9,9', '2,9', '64,7', '35,2', '13,7', '4,4', '47,5', '20,2', '-31,3', '28,9', '3,2', '-5,7', '27,7', '50,2', '89,7', '24,5', '-78,9', '16,6', '13,5', '-26,9', '15,3', '20,1', '4,5', '-199,2', '12,8', '23,9', '30,9', '19,4', '-5,6', '24,4', '-209,7', '19,6', '-332,2', '3,1', '31,9', '40,5', '7,8', '-17,3', '6,6', '11,5', '8,4', '85,8', '1,2', '4,9', '-105,7', '36,8', '7,1', '52,3', '15,7', '-112,5', '72,2', '23,3', '33,2', '26,1', '51,8', '290,9', '61,4', '-128,5', '8,9', '1,5', '17,4', '-5,8', '-61,3', '33,4', '41,7', '24,7', '22,9', '-1,1', '547,7', '0,8', '81,7', '20,7', '19,8', '11,3', '1,6', '-4,7', '45,5', '18,8', '34,8', '7,3', '29,6', '49,7', '17,8', '21,7', '-53,7', '22,2', '-0,2', '23,1', '14,3', '12,4', '-59,4', '33,7', '34,7', '31,1', '39,1', '-127,3', '20,3', '20,6', '30,8', '22,4', '20,5', '33,5', '-155,1', '25,7', '38,6', '26,8', '16,8', '7,9', '352,1', '88,7', '90,3', '-63,6', '39,8', '7,6', '5.810,10', '-6,7', '104,2', '27,1', '80,2', '160,3', '63,9', '55,5', '-4.728,30', '4,2', '12,2', '-12,4', '36,6', '-52,4', '1,1', '23,7', '-25,7', '-16,8', '13,1', '34.485,50', '31,3', '31,8', '13,8', '10,4', '-38,3', '-38,8', '21,5', '-19,4', '3.158,40', '15,6', '562,9', '-81,4', '-13,1', '46,6', '27,4', '48,3', '12,9', '5,9', '15,1', '30,4', '-83,4', '1,4', '20,4', '334,4', '21,1', '-454,6', '36,1', '-0,9', '24,6', '54,1', '42,4', '14,1', '12,6', '334,2', '42,9', '22,6', '30,3', '-21,1', '-24,8', '44,4', '70,9', '98,9', '35,5', '-29,3', '-87,5', '23,4', '-23,4', '-3,6', '20,8', '-179,2', '6,1', '28,3', '46,8', '34,1', '48,2', '-77,3', '-73,5', '-20,4', '9,6', '42,7', '-6,3', '53,2', '-96,5', '42,3', '-69,2', '74,8', '-30,3', '5,2', '22,5', '-33,2', '55,2', '-84,2', '56,5', '-13,4', '-82,2', '32,1', '15,4', '-0,3', '4,3', '88,3', '9.173,50', '-14,7', '19,5', '34,9', '-3,1', '-75,3', '-9,4', '25,4', '-2,4', '48,7', '-68,9', '6,8', '14,9', '5,4', '21,4', '-224,9', '-11,5', '6,3', '-1,3', '44,2', '-0,7', '159,4', '91,5', '17,9', '56,3', '225,3', '-763,9', '-9,5', '49,2', '183,5', '46,9', '-1.440,60', '28,5', '-14,4', '25,5', '229,3', '-8,8', '-53,6', '-38,4', '31,7', '29,5', '59,4', '-113,1', '30,2', '-174,2', '1.590,30', '-3,3', '100,5', '-70,5', '-50,7', '45,9', '61,5', '2,6', '12,5', '18,6', '54,4', '11,2', '-85,3', '485,7', '26,2', '31,5', '-6,4', '31,2', '38,9', '-1,4', '24,3', '-20,5', '27,2', '44,6', '93,3', '-110,1', '15,8', '14,7', '-40,5', '-10,8', '59,1', '39,9', '32,8', '-37,4', '-32,8', '37,6', '30,7', '44,8', '1,9', '199,6', '-53,3', '-44,3', '71,2', '52,9', '-286,6', '1,7', '-12,1', '63,1', '145,2', '24,9', '14,5', '-101,2', '26,6', '-9,1', '33,3', '-42,2', '21,2', '28,6', '26,5', '59,2', '-38,5', '27,8', '-6,9', '14,2', '-0,6', '96,2', '282,7', '57,6', '121,8', '53,8', '3,6', '-1.248,10', '-1,7', '35,9', '34,6', '63,4', '191,1', '57,8', '-99,8', '23,6', '118,6', '-17,5', '-35,2', '-21,8', '0,9', '-20,8', '66,9', '-25,9', '30,5', '-18,6', '-770,5', '-77,8', '-581,3', '-22,8', '5,3', '60,9', '-44,6', '87,9', '-28,3', '-3.559,40', '24,8', '37,3', '-67,7', '36,5', '39,4', '-94,4', '-100,4', '40,6', '69,5', '12,3', '-372,6', '-7,9', '-16,2', '64,8', '25,1', '31,4', '34,2', '-103,3', '19,3', '-35,9', '-4,5', '9,7', '-48,9', '50,7', '107,2', '72,3', '-2.601,10', '57,2', '-50,3', '-7,6', '-44,2', '50,8', '25,3', '-5,1', '-2,7', '-4,6', '-10,7', '35,7', '55,4', '-1,6', '-10,4', '68,5', '-5,5', '-5,9', '-55,3', '47,9', '84,7', '48,9', '81,4', '23,5', '58,3', '-2.009,40', '64,4', '76,1', '-101,8', '-6,5', '222,1', '4,1', '-15,1', '67,2', '-24,3', '1.382,50', '-61,5', '-1.519,60', '-2,3', '-95,5', '-127,9', '-18,2', '48,4', '17,3', '8,8', '-74,9', '22,3', '-9,3', '41,6', '12,1', '-200,5', '29,9', '-17,4', '54,5', '3,9', '-7,5', '-23,8', '23,2', '43,9', '-0,8']\n",
      "- margem_liquida: ['7,9', '-', '5,1', '52,1', '1,7', '2,9', '35.003,10', '18,6', '3,5', '25,4', '3,8', '-232,9', '33,5', '27,9', '20,1', '7,1', '-2,1', '0,8', '-2,9', '15,8', '4,3', '24,5', '-144,4', '3,1', '44,5', '9,7', '14,5', '15,4', '8,8', '-321,3', '10,1', '0,9', '20,8', '-23,3', '-120,6', '21,5', '11,9', '16,8', '11,7', '13,7', '-135,4', '17,2', '8,7', '14,1', '6,5', '9,8', '-16,3', '-4,1', '182,4', '-7,4', '-46,2', '11,1', '5,9', '59,8', '11,4', '10,8', '4,5', '-110,2', '-0,1', '13,8', '10,3', '15,3', '6,7', '-18,3', '25,2', '-1,9', '29,2', '10,2', '19,9', '16,6', '-196,3', '47,8', '15,9', '7,7', '16,1', '-57,9', '1,4', '-10,6', '44,4', '13,3', '22,8', '-39,1', '17,1', '12,2', '19,3', '11,3', '-26,3', '-11,3', '23,2', '14,8', '3,2', '12,3', '44,3', '8,6', '10,9', '-8,7', '-515,3', '48,4', '5,5', '5,4', '5,7', '21,4', '-1,8', '-4,7', '-0,4', '18,7', '9,2', '-35,4', '6,4', '-10.958,50', '-7,2', '-251,1', '31,7', '-0,6', '-17,9', '-5,1', '-7.066,60', '-2,8', '-95,9', '-4,8', '91,5', '124,9', '54,6', '-589,8', '2,5', '4,6', '17,3', '21,2', '33,1', '11,8', '5,3', '100,7', '1,2', '-20,2', '7,8', '37,7', '10,5', '1,3', '-5,7', '-54,5', '15,7', '-29,5', '21,9', '-9,7', '15,6', '-0,9', '3,6', '-8,6', '-20,3', '2,7', '9,3', '14,4', '89,1', '-1,7', '9,1', '5,8', '-175,1', '25,8', '-41,6', '12,9', '-3,5', '20,6', '20,4', '-113,4', '-6,2', '-8.692,20', '12,7', '256,9', '-20,1', '-219,4', '-27,6', '2,3', '-10,4', '23,8', '4,9', '4,1', '-9,6', '14,7', '-31,7', '9,6', '8,9', '-1,3', '1,1', '19,5', '4,2', '15,5', '3,3', '31,8', '-11,7', '4,4', '-27,5', '12,5', '-0,8', '-1,5', '26,2', '13,5', '0,7', '13,2', '14,3', '-48,1', '32,8', '-20,9', '-11,2', '-35,2', '26,3', '63,5', '14,9', '-11,5', '-92,4', '7,3', '12,1', '-87,6', '-39,8', '-4,6', '-21,4', '10,7', '-273,6', '20,9', '17,4', '9,9', '17,6', '-334,8', '4,8', '16,2', '2,8', '-411,8', '24,9', '-19,9', '8,1', '9,4', '0,4', '1,8', '-53,1', '30,9', '0,2', '17,5', '-167,5', '40,6', '52,3', '2,4', '-3,1', '247,4', '45,8', '11,5', '13,1', '11,6', '-82,4', '7,6', '45,7', '-14,3', '-74,9', '23,7', '18,5', '35,6', '2,2', '377,3', '-0,2', '-8,1', '62,7', '11,2', '-10,7', '18,1', '25,5', '-6,4', '12,4', '28,9', '-58,9', '21,1', '-66,6', '-50,3', '15,2', '28,3', '-1,2', '10,6', '22,9', '-111,9', '12,6', '17,7', '25,1', '-26,8', '-2,4', '47,2', '26,9', '-142,4', '21,6', '8,2', '-196,4', '-0,7', '28,5', '25,7', '2,6', '6,3', '71,1', '205,3', '16,9', '-30,4', '53,8', '-86,6', '22,4', '-4,5', '40,3', '-4,3', '7,5', '5.339,20', '-9,2', '-69,4', '17,8', '-8,5', '54,9', '162,7', '48,9', '-4.552,20', '1,9', '20,7', '-14,8', '26,6', '256,6', '-44,2', '-22,6', '-27,2', '27,2', '18,2', '7,2', '-2,7', '13,9', '40.093,80', '35,1', '-82,9', '32,3', '-386,9', '5,2', '-5,4', '14,6', '-12,7', '465,3', '7,4', '451,6', '-28,1', '-16,4', '30,3', '0,6', '3,4', '-65,7', '32,7', '27,5', '-317,9', '2,1', '22,6', '-15,4', '27,1', '3,7', '28,4', '17,9', '-37,1', '-8,9', '-42,9', '60,9', '63,8', '-126,8', '-35,1', '-44,4', '-7,7', '36,5', '-13,4', '16,4', '-206,1', '0,5', '31,9', '29,8', '41,3', '-91,8', '-85,2', '6,8', '53,2', '-9,9', '8,3', '-3,8', '-60,9', '26,1', '1,5', '-154,9', '43,4', '0,3', '48,6', '-20,8', '41,8', '6,9', '241,3', '-4,4', '141,8', '-31,9', '-88,2', '25,6', '-5,8', '-1,1', '80,1', '-2,2', '7.040,60', '10,4', '4,7', '8,5', '22,2', '30,5', '-35,5', '-68,4', '3,9', '12,8', '16,7', '6,1', '-47,9', '13,4', '18,3', '-14,2', '-26,4', '8,4', '33,8', '6,6', '-7,3', '-56,3', '5,6', '-7,9', '35,8', '19,7', '-3,3', '85,5', '6.806,80', '-0,5', '34,3', '196,8', '22,5', '-3.418,80', '-29,7', '47,7', '42,6', '166,8', '47,5', '33,2', '-1.912,00', '1,6', '23,4', '23,6', '-13,7', '-12,1', '-42,8', '184,5', '-18,9', '49,7', '-15,8', '23,5', '-9,8', '19,8', '42,8', '115,9', '-125,4', '-488,3', '-183,7', '-22,9', '-822,1', '95,1', '-134,7', '-18,8', '29,5', '38,8', '53,9', '-27,8', '-17,1', '376,5', '13,6', '1.181,80', '14,2', '20,3', '-39,9', '-21,5', '-5,9', '-13,3', '-0,3', '-51,8', '46,9', '-6,9', '55,4', '20,5', '-99,4', '-36,7', '144,4', '-2,6', '19,2', '18,4', '42,5', '19,6', '-10,3', '-21,1', '42,7', '0,1', '-3,9', '-18,5', '128,8', '-122,5', '34,8', '32,6', '18,8', '-15,2', '-2,5', '-11,8', '41,7', '-319,7', '112,1', '-70,5', '21,7', '-9,1', '66,7', '-9,4', '343,7', '-8,8', '-158,7', '18,9', '33,4', '-43,6', '-62,5', '-13,6', '22,7', '-6,8', '-497,3', '-17,7', '88,5', '174,2', '-16,8', '83,6', '26,7', '-3,7', '9,5', '7.364,30', '61,5', '24,1', '46,5', '189,3', '31,2', '27,3', '-6,5', '6,2', '88,6', '-31,6', '19,4', '-7,8', '-193,2', '20,2', '-6,3', '-23,9', '50,3', '-280,6', '15,1', '-55,9', '-2.632,40', '-5,3', '-11,1', '-142,9', '1.220,10', '-19,4', '24,4', '43,5', '-1,6', '-48,7', '2.568,30', '23,9', '-15,5', '-94,6', '-110,4', '24,6', '-155,3', '35,4', '35,5', '40,7', '-451,6', '-12,6', '-50,9', '-30,6', '38,4', '-104,6', '-27,1', '-61,6', '39,6', '133,8', '29,6', '23,1', '57,7', '-175,5', '-1.758,50', '43,3', '99,8', '-15,6', '64,4', '-8,2', '119,8', '-18,6', '-17,2', '27,4', '42,1', '-19,3', '-27,9', '-15,7', '-25,1', '-451,7', '83,2', '32,2', '49,9', '-3,4', '-5.378,80', '-164,8', '-26,2', '44,6', '180,8', '53,6', '-134,4', '25,3', '-25,5', '156,7', '-22,7', '-25,8', '-14,6', '57,9', '29,1', '-9,5', '52,7', '-12,3', '-42,4', '28,2', '1.564,50', '302,2', '-2.470,20', '-12,8', '-9,3', '46,8', '-358,3', '-14,9', '71,7', '-4,2', '-99,3', '-45,2', '-25,2', '26,5', '57,5', '45,6', '-197,1', '-32,1', '-16,1', '-33,5', '-41,2', '-12,2']\n",
      "- ativo_total: ['2.321.373', '2.370.629', '4.260.865', '1.037.843', '16.061.468', '2.540.602', '3.715.984', '10.887.575', '4.814.586', '2.295.251', '22.576.510', '20.815.709', '125.196.579', '1.644.161', '22.606.775', '11.638.870', '4.582.439', '18.821.000', '-', '2.786.417', '2.832.545', '46.332.783', '7.239.542', '30.484.086', '10.586.556', '91.822.901', '10.900.296', '1.272.625', '1.591.039.044', '11.297.846', '1.725.671.888', '2.175.976', '86.083.919', '2.109.064', '25.374.422', '49.664.906', '244.925.333', '9.457.308', '6.604.180', '3.767.464', '33.056.000', '11.210.945', '7.309.647', '3.833.792', '4.014.864', '3.412.226', '10.667.254', '2.033.989', '54.083.080', '20.921.000', '9.366.384', '30.783.788', '1.267.090', '10.616.884', '15.027.676', '11.772.457', '46.784.664', '35.760.824', '4.260.948', '49.106.884', '1.063.400', '3.670.738', '19.622.406', '1.644.712', '5.096.592', '11.433.926', '1.454.977', '13.343.496', '11.498.520', '2.194.373', '5.101.409', '11.093.640', '9.278.000', '178.966.449', '1.711.417', '54.812.845', '45.562.807', '9.466.313', '16.218.096', '35.186.248', '7.894.296', '12.241.267', '44.124.020', '1.460.045', '2.697.105', '2.734.249', '6.312.105', '5.176.777', '4.716.450', '1.810.913', '2.817.187', '5.523.810', '2.888.552', '3.749.999', '1.693.377', '5.720.585', '63.123.009', '64.764.475', '4.482.367', '4.675.706', '8.198.711', '60.917.597', '6.193.860', '13.826.592', '1.333.656', '13.519.719', '2.613.689', '4.354.640', '5.714.497', '17.249.810', '2.933.780', '7.013.831', '2.752.978', '1.629.781', '2.442.150', '21.256.354', '12.411.803', '1.814.117', '22.720.962', '24.592.358', '72.600.000', '2.112.586.000', '2.811.810', '7.282.039', '1.280.373', '2.031.804', '4.838.756', '1.196.535', '35.270.261', '1.693.791', '1.294.682', '26.397.266', '2.930.529', '20.441.134', '4.212.183', '2.206.513', '3.367.654', '14.642.583', '1.452.364', '9.729.858', '24.647.203', '5.860.911', '39.507.441', '1.183.929', '1.392.075', '1.790.464', '10.718.363', '2.796.583', '1.719.772', '1.475.392', '16.923.251', '1.321.191', '1.650.514', '2.077.260', '8.502.627', '11.129.713', '18.062.015', '4.687.365', '10.564.284', '1.109.891', '66.297.000', '61.817.640', '1.123.531', '1.921.049', '73.839.787', '3.362.658', '1.487.657', '1.103.937', '53.295.000', '5.753.778', '1.369.593', '4.031.714', '1.730.597', '3.235.804', '987.419.000', '2.080.173', '6.792.833', '1.892.888', '13.696.534', '36.730.202', '2.034.288', '2.824.635', '3.761.067', '4.406.978', '2.218.692', '13.828.088', '8.980.458', '45.657.044', '21.653.387', '2.296.932', '1.579.829', '1.746.708', '1.632.496', '45.908.371', '50.418.636', '13.190.858', '1.002.388.978', '4.229.264', '3.075.269', '12.280.825', '1.782.481', '1.375.878', '3.091.485', '10.578.345', '63.002.149', '25.562.248', '8.589.691', '8.492.495', '3.164.780', '101.862.618', '101.800.748', '4.924.971', '14.105.419', '1.460.650', '1.743.807', '1.026.932', '3.655.533', '1.002.531', '4.244.013', '108.738.378', '4.236.719', '2.909.605', '41.654.417', '5.146.406', '2.176.901', '3.366.078', '6.113.319', '36.250.162', '4.508.297', '29.952.137', '478.129.515', '2.869.132', '4.225.479', '2.155.276', '28.327.000', '2.140.697', '4.595.219', '1.679.254', '19.927.896', '7.100.413', '5.401.310', '9.265.266', '3.932.755', '4.395.601', '3.088.179', '11.768.649', '6.774.910', '1.048.687', '9.123.394', '2.542.229', '4.528.962', '11.114.713', '8.031.764', '1.862.404', '25.719.932', '25.952.485', '138.602.483', '4.861.369', '44.518.812', '16.228.463', '9.882.678', '3.281.487', '22.854.000', '3.306.341', '19.562.553', '3.366.326', '52.531.769', '7.805.344', '34.007.297', '12.518.708', '104.575.764', '13.314.221', '1.445.472', '2.328.047', '1.653.665.568', '7.553.824', '1.932.532.979', '3.629.165', '92.564.368', '5.453.481', '31.696.359', '55.903.387', '346.142.668', '10.655.114', '8.117.978', '3.907.671', '35.340.000', '11.965.227', '8.672.666', '1.514.386', '6.743.747', '3.739.598', '11.958.245', '2.225.226', '52.045.808', '24.397.000', '11.237.851', '28.512.853', '6.664.325', '12.271.498', '19.982.609', '12.721.650', '49.537.535', '97.842.023', '4.228.889', '66.119.878', '1.198.556', '4.776.017', '26.991.134', '2.597.922', '4.957.189', '13.841.170', '1.470.516', '23.249.904', '2.164.654', '13.420.331', '1.295.524', '2.381.060', '5.679.619', '16.393.894', '10.677.000', '188.303.069', '1.632.597', '56.670.203', '54.258.000', '11.289.842', '18.244.555', '38.115.725', '7.819.323', '12.130.744', '61.714.300', '2.215.889', '2.575.218', '1.011.931', '3.474.874', '7.900.277', '5.929.910', '5.075.498', '2.881.373', '3.396.582', '6.073.770', '3.082.318', '4.722.224', '1.726.089', '3.964.955', '73.814.613', '74.612.666', '6.602.913', '1.084.724', '4.554.495', '9.954.991', '60.448.490', '7.146.492', '14.478.421', '1.322.394', '21.034.389', '3.768.362', '4.306.710', '6.517.530', '4.331.261', '19.817.962', '10.833.858', '7.372.804', '2.951.198', '1.506.981', '2.761.538', '3.555.796', '17.820.331', '14.519.530', '2.365.300', '22.674.441', '28.976.739', '85.981.000', '2.166.019.000', '3.768.740', '8.411.534', '1.199.309', '2.196.576', '7.122.247', '1.466.555', '1.018.396', '42.075.707', '1.751.040', '1.231.368', '28.277.872', '3.105.035', '25.312.056', '5.159.903', '2.438.464', '3.423.185', '21.411.985', '4.575.859', '10.657.093', '38.384.616', '6.654.524', '48.003.258', '4.090.778', '1.449.953', '1.951.410', '12.423.365', '2.941.040', '1.970.587', '1.449.952', '20.069.462', '1.585.090', '2.156.525', '2.693.527', '21.715.853', '13.434.736', '20.321.428', '6.679.387', '10.662.460', '1.248.044', '85.800.000', '60.302.033', '2.485.140', '1.933.841', '77.950.476', '6.032.410', '1.206.063', '2.231.041', '1.192.643', '49.443.000', '6.573.254', '1.992.069', '3.066.448', '1.275.373', '4.196.772', '972.951.000', '4.715.393', '12.221.416', '3.447.347', '15.263.602', '1.268.517', '41.629.238', '2.157.347', '3.754.136', '4.032.894', '4.403.581', '2.692.070', '14.775.506', '10.719.787', '52.480.620', '24.641.840', '2.280.703', '1.936.890', '1.954.520', '1.266.760', '48.174.554', '53.165.485', '14.640.589', '963.375.970', '4.752.317', '3.459.214', '14.398.278', '2.180.790', '1.982.172', '3.092.589', '11.392.633', '79.379.103', '47.968.194', '12.866.343', '11.654.472', '3.196.192', '119.034.446', '118.975.152', '4.892.885', '15.895.635', '2.093.620', '1.556.408', '1.044.778', '4.000.426', '1.061.314', '4.099.054', '115.663.533', '4.441.497', '1.008.081', '49.819.186', '9.945.025', '2.340.065', '3.158.604', '7.510.628', '39.010.357', '1.617.617', '6.248.208', '39.481.569', '499.128.000', '3.097.783', '10.185.525', '1.521.465', '33.884.000', '2.563.869', '6.897.190', '1.995.237', '1.491.836', '23.932.787', '9.164.610', '5.724.443', '2.173.169', '9.897.795', '3.813.408', '6.081.989', '3.774.957', '11.386.380', '1.065.410', '9.910.493', '1.078.619', '8.769.696', '2.615.454', '3.688.953', '12.285.205', '8.499.680', '1.746.464', '27.933.759', '34.595.899', '137.958.083', '9.882.911', '31.292.260', '16.936.317', '10.731.997', '3.730.975', '40.618.000', '3.794.880', '32.282.893', '4.659.264', '47.594.773', '8.339.340', '36.784.144', '15.276.815', '113.166.188', '1.061.298', '16.129.832', '1.349.318', '2.499.048', '1.449.473', '1.779.324.000', '8.062.022', '2.028.958.136', '3.368.958', '88.048.858', '7.971.135', '40.090.803', '57.854.447', '450.612.088', '11.709.268', '8.560.397', '4.343.394', '35.574.000', '12.274.705', '9.629.594', '1.436.827', '6.839.958', '4.269.799', '11.628.067', '53.670.837', '25.633.000', '12.309.404', '26.396.751', '13.651.658', '12.664.111', '25.122.186', '13.189.607', '49.703.700', '134.484.992', '3.560.161', '71.146.081', '1.056.857', '4.707.622', '25.053.595', '1.039.450', '2.798.431', '3.917.566', '16.560.139', '1.470.715', '26.844.191', '2.520.858', '15.624.811', '1.307.748', '2.733.126', '6.489.415', '18.108.909', '9.926.000', '270.217.462', '1.990.685', '52.918.325', '59.670.668', '11.807.373', '41.713.969', '38.186.752', '8.412.859', '12.790.538', '90.617.397', '2.328.604', '2.564.006', '1.222.267', '3.683.261', '10.239.872', '6.698.124', '5.533.594', '3.017.250', '4.067.385', '7.791.770', '3.765.876', '5.486.674', '1.496.797', '3.716.951', '73.798.652', '74.769.525', '8.996.499', '1.171.754', '4.821.920', '13.263.938', '54.685.390', '8.470.247', '15.221.939', '1.337.076', '73.213.730', '4.281.969', '5.197.531', '6.363.529', '5.039.228', '23.755.633', '11.607.124', '8.048.137', '2.954.544', '1.320.033', '3.209.582', '4.987.382', '17.550.457', '15.195.455', '3.515.338', '22.977.562', '32.243.550', '96.637.000', '2.469.958.000', '5.886.611', '10.321.737', '1.133.288', '2.411.619', '8.242.132', '1.646.817', '1.273.778', '47.577.358', '1.928.664', '1.263.729', '24.106.103', '3.384.007', '65.656.631', '6.150.606', '3.449.063', '3.104.952', '21.148.892', '4.724.602', '11.439.492', '37.765.845', '7.395.350', '136.104.323', '4.933.164', '1.418.108', '1.357.951', '2.301.121', '14.848.428', '3.132.653', '1.674.053', '2.588.440', '21.400.128', '2.061.151', '2.257.938', '2.819.254', '26.248.880', '14.531.453', '22.601.329', '6.877.963', '10.877.311', '1.285.218', '92.318.000', '63.167.204', '2.274.211', '2.019.853', '29.616.098', '8.219.779', '2.073.296', '2.746.315', '1.346.505', '43.839.000', '8.597.426', '1.899.576', '1.988.597', '1.174.676', '5.044.804', '976.709.000', '6.585.094', '20.302.520', '3.647.129', '16.313.794', '1.621.634', '50.490.921', '2.479.770', '4.199.825', '4.364.933', '4.512.028', '3.031.361', '17.185.306', '12.882.347', '92.490.681', '25.256.054', '2.814.419', '2.211.773', '2.244.933', '45.951.745', '57.207.765', '16.657.196', '1.048.517.957', '4.348.678', '3.519.439', '18.855.766', '2.370.322', '1.982.851', '3.392.077', '15.330.232', '85.354.359', '61.659.514', '14.868.389', '12.049.550', '2.695.117', '133.278.699', '133.197.968', '4.075.077', '17.309.081', '2.276.173', '1.607.828', '1.111.080', '4.008.447', '1.099.856', '4.035.411', '119.121.483', '4.128.354', '56.408.367', '10.616.193', '2.575.050', '2.952.556', '10.243.258', '36.441.003', '1.919.412', '5.994.445', '40.000.451', '453.387.000', '2.663.351', '16.675.416', '1.591.681', '41.110.000', '5.641.781', '2.932.173', '9.559.624', '2.520.756', '1.638.623', '28.134.660', '8.434.866', '5.731.104', '2.302.777', '9.049.207', '4.130.953', '6.883.789', '4.014.481', '10.984.130', '7.714.016', '1.094.723', '7.817.590', '2.669.811', '3.395.751', '27.659.095', '6.327.389', '1.279.172', '28.436.081', '45.212.324', '132.644.133', '11.642.697', '27.115.000', '17.656.687', '9.655.477', '3.982.727', '43.177.000', '4.472.509', '28.994.557', '3.893.965', '5.975.904', '49.421.622', '9.674.770', '41.494.245', '17.063.590', '125.063.684', '1.160.905', '18.272.622', '1.443.377', '3.053.528', '2.358.531', '1.915.475.000', '7.890.458', '2.172.479.983', '3.282.201', '91.741.000', '20.119.858', '49.184.951', '57.272.090', '3.195.271', '493.232.849', '14.004.319', '10.333.582', '5.015.791', '31.996.000', '13.561.932', '9.417.656', '1.415.858', '7.651.856', '4.533.192', '12.302.261', '55.000.080', '27.883.000', '13.097.413', '25.135.863', '15.626.206', '13.738.834', '28.836.503', '14.189.863', '55.819.074', '139.865.382', '2.727.228', '74.971.227', '4.515.809', '29.690.605', '1.233.565', '3.092.023', '4.030.884', '17.371.200', '1.548.519', '26.213.200', '3.258.890', '17.920.591', '1.462.436', '3.077.470', '7.571.598', '25.959.901', '10.862.000', '267.057.654', '2.087.290', '52.201.228', '68.068.471', '13.011.019', '43.565.879', '42.224.473', '9.350.413', '14.273.319', '103.643.452', '2.284.617', '2.515.092', '1.300.366', '4.108.415', '15.313.148', '7.298.629', '5.879.316', '3.003.463', '4.110.697', '11.579.968', '3.911.999', '5.126.365', '1.527.137', '74.885.144', '75.232.462', '10.019.062', '2.229.776', '1.274.618', '4.075.361', '16.357.296', '42.747.015', '8.614.447', '14.272.668', '1.591.908', '73.186.145', '4.689.030', '6.080.884', '6.249.047', '5.015.241', '24.508.751', '12.115.071', '7.791.679', '2.740.000', '1.000.821', '1.166.605', '3.443.461', '4.888.285', '16.795.787', '14.534.116', '3.467.066', '15.486.432', '35.911.156', '105.348.000', '2.696.522.000', '6.740.850', '11.078.069', '1.057.095', '2.388.031', '11.888.867', '1.990.895', '1.471.280', '55.434.690', '2.218.279', '2.779.922', '23.716.936', '3.408.880', '80.947.084', '6.254.445', '3.619.288', '2.453.893', '20.490.638', '4.604.388', '12.340.992', '37.455.067', '7.959.303', '130.954.636', '5.171.451', '1.416.676', '2.421.373', '19.282.882', '2.800.925', '1.790.891', '2.740.405', '28.594.154', '2.165.237', '2.924.103', '3.438.225', '25.119.493', '18.065.072', '25.071.702', '5.458.038', '11.536.924', '1.349.974', '99.112.000', '65.731.260', '2.383.270', '2.163.973', '26.123.961', '9.181.154', '2.262.344', '2.366.947', '1.279.009', '22.050.000', '8.988.598', '1.564.782', '1.784.257', '5.973.871', '1.050.888.000', '6.829.184', '28.310.932', '3.995.411', '20.892.707', '2.039.019', '44.239.599', '3.296.008', '4.581.833', '4.937.926', '4.509.325', '3.305.723', '20.094.412', '12.820.143', '90.342.356', '27.652.729', '3.076.138', '1.924.679', '2.282.042', '49.238.436', '61.470.957', '18.803.905', '1.153.196.431', '4.707.845', '3.564.533', '19.492.875', '2.380.110', '1.561.132', '3.488.933', '17.189.991', '91.529.720', '70.140.840', '15.856.318', '14.230.177', '2.036.925', '143.655.023', '143.593.025', '4.004.467', '19.448.656', '2.153.861', '1.527.112', '1.199.711', '4.525.540', '1.176.189', '4.003.587', '120.737.980', '4.545.145', '55.260.156', '8.828.860', '2.757.738', '2.823.549', '10.284.745', '38.251.974', '2.016.925', '6.396.491', '40.161.751', '455.984.000', '2.545.626', '20.808.826', '1.652.876', '43.481.000', '5.861.224', '3.241.590', '10.186.693', '2.775.153', '1.353.051', '31.496.270', '9.021.134', '5.766.860', '2.543.864', '1.008.709', '9.287.596', '4.117.466', '8.889.423', '2.367.614', '11.078.243', '8.671.297', '2.889.222', '3.480.239', '27.288.790', '6.839.725', '1.364.835', '30.689.036', '54.315.898', '162.507.949', '14.655.272', '17.465.000', '19.631.323', '9.688.873', '4.637.353', '45.593.000', '6.689.306', '52.754.117', '8.909.802', '15.253.545', '45.228.850', '12.419.295', '37.058.266', '17.964.377', '147.417.948', '21.615.587', '1.627.212', '3.411.729', '2.666.602', '2.053.126.000', '8.606.884', '2.433.868.331', '3.939.557', '101.575.000', '44.463.747', '62.675.076', '4.026.085', '646.841.806', '14.024.016', '11.894.521', '5.556.532', '33.889.000', '13.833.020', '10.053.899', '1.484.640', '8.212.737', '4.651.959', '13.037.758', '59.726.836', '31.283.000', '14.406.941', '24.200.400', '14.917.327', '15.591.493', '34.250.119', '15.511.789', '57.384.156', '141.265.902', '77.129.194', '4.569.487', '36.390.919', '1.467.419', '4.339.295', '3.840.648', '21.240.962', '1.834.454', '26.458.471', '3.510.912', '18.144.110', '1.557.125', '3.377.453', '10.067.406', '29.296.082', '12.011.000', '289.871.330', '2.087.293', '73.219.718', '77.181.653', '14.164.988', '52.770.780', '50.112.301', '11.250.010', '17.824.899', '116.412.091', '2.291.655', '2.507.306', '1.306.516', '4.569.192', '18.194.262', '5.178.914', '6.466.534', '3.115.896', '4.387.880', '13.062.410', '4.869.614', '5.302.367', '1.219.757', '3.547.850', '86.814.493', '86.948.529', '14.370.413', '2.465.342', '1.353.420', '4.500.059', '18.959.322', '37.133.423', '8.945.967', '13.633.267', '1.593.259', '73.499.646', '5.090.774', '6.697.413', '7.166.688', '5.193.841', '24.559.083', '19.236.755', '8.503.874', '2.796.869', '1.292.673', '1.517.558', '5.569.521', '15.862.329', '15.961.371', '3.620.637', '16.446.866', '43.304.632', '114.625.000', '3.048.537.000', '7.349.243', '13.293.747', '2.306.859', '12.480.182', '1.916.393', '1.594.030', '59.390.832', '3.457.891', '2.815.001', '25.343.661', '3.767.669', '87.243.607', '6.774.201', '3.812.832', '1.904.258', '20.364.590', '4.010.622', '12.768.867', '37.311.858', '9.441.753', '137.510.139', '4.340.852', '1.423.973', '2.594.695', '25.421.420', '3.593.297', '1.980.185', '3.869.243', '42.141.896', '2.200.285', '2.510.241', '4.148.169', '30.573.857', '20.613.082', '29.430.687', '5.308.700', '12.511.801', '1.448.472', '109.541.000', '69.962.975', '3.031.483', '1.032.741', '2.122.069', '19.760.628', '11.202.332', '3.334.198', '1.392.267', '1.384.706', '19.703.000', '8.983.695', '1.617.429', '1.239.221', '1.627.102', '8.693.163', '1.124.797.000', '7.437.571', '55.746.165', '1.094.080', '3.895.459', '27.678.451', '2.581.180', '47.913.736', '3.346.770', '4.466.987', '1.229.162', '5.616.238', '4.366.325', '3.702.247', '22.163.756', '15.437.636', '102.597.882', '30.059.241', '3.061.346', '1.613.887', '2.546.623', '50.593.023', '80.965.430', '20.508.000', '1.335.237.634', '5.541.642', '2.873.684', '22.315.804', '2.602.298', '3.456.087', '20.161.754', '103.906.654', '84.025.791', '17.574.342', '18.350.302', '166.106.723', '165.936.105', '3.148.170', '20.431.093', '2.628.647', '1.339.070', '1.329.394', '4.363.208', '4.089.985', '124.940.673', '5.348.937', '56.327.311', '8.531.721', '3.042.594', '2.767.002', '11.510.863', '39.558.074', '2.282.619', '7.111.789', '39.871.790', '496.325.000', '2.943.849', '20.277.027', '1.656.533', '49.000.000', '5.825.334', '4.273.730', '9.544.197', '2.993.308', '1.455.435', '41.489.701', '10.569.338', '6.705.539', '2.445.312', '1.311.805', '9.938.424', '4.677.970']\n",
      "- caixa_operacional: ['1.952.526', '18.855.780', '3.498.000', '-', '2.753.083', '1.277.823', '1.196.906', '11.366.217', '2.284.693', '143.181.458', '209.330.358', '6.292.991', '2.903.713', '4.417.630', '2.346.455', '2.961.869', '-4.221.000', '8.609.107', '1.678.000', '2.096.546', '2.095.026', '1.739.882', '3.940.844', '2.142.815', '6.361.434', '5.829.008', '2.129.879', '1.507.730', '1.471.177', '1.101.000', '4.198.719', '-6.512.364', '4.806.513', '1.646.566', '1.245.953', '1.342.251', '1.406.008', '1.578.251', '3.480.740', '6.407.906', '4.927.433', '1.285.632', '1.390.431', '1.325.635', '1.183.054', '-1.486.544', '1.376.437', '1.346.000', '82.133.000', '-1.331.683', '5.791.245', '2.333.644', '2.603.882', '7.691.205', '3.223.827', '2.002.137', '3.543.000', '4.406.703', '4.742.000', '148.106.000', '1.617.546', '1.438.758', '1.477.238', '3.244.309', '2.906.270', '4.978.208', '1.595.544', '44.240.462', '2.527.065', '9.576.874', '-2.177.349', '13.117.638', '13.124.636', '19.341.750', '8.673.871', '3.138.119', '1.068.636', '3.759.388', '75.207.873', '1.818.000', '3.930.032', '1.605.997', '1.137.210', '3.067.946', '1.055.179', '22.900.951', '3.272.000', '1.016.884', '3.213.723', '3.518.002', '3.663.997', '2.825.755', '-92.266.622', '4.252.450', '-46.191.952', '14.786.485', '3.923.636', '-15.648.821', '1.585.276', '1.118.000', '1.161.062', '3.683.357', '2.508.482', '2.171.057', '1.674.905', '3.386.832', '5.221.982', '3.861.591', '9.041.771', '1.298.179', '1.708.383', '1.873.082', '8.230.605', '2.853.204', '1.232.792', '1.989.161', '1.065.291', '1.304.261', '1.356.818', '1.018.669', '12.516.933', '13.193.250', '1.399.131', '2.512.576', '1.380.000', '90.692.000', '4.891.249', '-3.371.341', '1.215.600', '-4.364.476', '9.033.865', '2.594.661', '-8.269.520', '1.570.863', '-2.371.977', '2.728.000', '203.126.000', '2.183.736', '2.471.524', '1.550.545', '1.038.650', '3.340.015', '3.913.753', '1.701.536', '16.662.756', '3.178.668', '14.793.263', '-14.713.651', '17.632.683', '17.637.493', '2.202.166', '1.448.574', '18.072.600', '10.078.087', '2.585.960', '2.289.901', '5.296.571', '136.766.000', '-4.872.445', '2.276.000', '2.287.063', '2.100.537', '2.313.705', '1.608.107', '20.642.153', '-6.207.579', '5.144.000', '9.887.484', '5.413.850', '3.275.011', '1.259.442', '64.694.673', '8.951.739', '1.876.384', '21.901.441', '2.416.314', '3.079.000', '1.090.374', '6.613.083', '2.673.000', '3.439.487', '3.926.605', '1.117.315', '3.902.649', '9.972.232', '8.980.126', '1.339.682', '1.885.829', '2.295.000', '9.275.733', '3.840.872', '5.685.800', '2.014.181', '1.268.090', '3.337.493', '1.046.334', '1.701.925', '3.467.507', '1.570.090', '1.194.604', '11.150.338', '10.980.478', '1.107.540', '2.038.793', '2.282.328', '1.878.665', '114.727.000', '8.420.814', '-9.096.644', '1.536.237', '3.064.122', '9.335.052', '3.134.692', '-4.171.865', '1.872.199', '1.203.854', '4.620.000', '2.951.699', '-2.588.421', '255.410.000', '1.506.150', '4.927.159', '2.850.592', '1.682.255', '1.129.815', '1.318.303', '3.818.142', '4.830.993', '3.967.599', '1.991.254', '2.831.945', '2.042.793', '-6.842.547', '1.991.777', '21.636.179', '21.640.620', '2.010.871', '18.941.925', '9.429.075', '2.004.694', '2.036.327', '58.201.000', '-2.318.972', '1.263.000', '2.982.930', '1.438.227', '3.372.500', '2.110.635', '1.441.890', '2.376.712', '5.299.702', '24.711.429', '5.963.000', '4.661.845', '3.755.446', '6.065.549', '3.697.841', '13.313.919', '-2.272.000', '1.008.698', '4.169.711', '3.939.397', '-18.664.571', '2.827.442', '4.024.000', '6.644.278', '2.188.000', '3.431.728', '3.302.639', '1.734.308', '3.518.476', '10.276.444', '8.899.917', '8.246.363', '1.345.983', '3.551.004', '1.302.000', '8.242.958', '2.827.132', '6.682.422', '2.142.051', '2.790.182', '4.585.942', '1.869.421', '3.139.179', '1.439.304', '1.037.516', '11.138.710', '11.854.805', '-2.347.673', '1.327.995', '2.334.666', '2.395.993', '2.419.100', '1.993.295', '89.736.000', '-1.315.218', '7.592.726', '1.395.924', '-9.913.135', '2.663.364', '2.125.782', '3.354.622', '1.061.126', '12.556.380', '2.697.488', '3.227.152', '3.622.408', '1.187.600', '1.632.000', '3.822.732', '-2.798.190', '215.696.000', '1.391.806', '7.740.287', '1.785.327', '2.181.891', '4.231.935', '5.450.996', '4.854.352', '2.382.264', '25.677.692', '2.320.103', '7.292.608', '-1.380.342', '1.852.819', '1.310.283', '17.325.413', '17.315.478', '18.785.926', '12.420.656', '3.849.822', '1.065.124', '4.568.077', '65.905.000', '-2.686.027', '6.247.000', '7.021.823', '1.048.905', '3.454.518', '1.299.080', '1.679.910', '2.275.251', '3.394.739', '26.099.035', '1.132.253', '-3.547.000', '1.131.116', '4.932.000', '1.214.182', '9.297.325', '1.993.458', '-8.090.909', '16.542.212', '4.223.583', '126.136.377', '2.435.000', '1.854.060', '10.776.742', '2.934.653', '3.599.712', '10.643.000', '1.485.047', '5.496.902', '2.859.000', '1.748.490', '2.881.592', '3.867.362', '2.050.527', '3.393.536', '13.081.286', '6.788.942', '11.756.687', '1.283.924', '3.935.501', '1.582.000', '12.385.583', '5.532.441', '7.218.141', '1.864.288', '4.155.634', '4.154.242', '2.233.304', '4.251.208', '1.588.542', '1.930.488', '11.381.243', '11.688.689', '1.460.996', '-2.553.253', '1.069.935', '1.505.901', '2.726.232', '2.539.599', '1.814.413', '2.196.997', '-3.748.000', '7.425.327', '2.150.286', '1.057.443', '2.487.007', '15.835.331', '1.244.148', '12.766.349', '1.686.063', '6.556.461', '-2.514.109', '2.782.234', '1.489.466', '3.242.000', '1.813.569', '-1.341.643', '1.363.000', '204.037.000', '2.219.127', '9.669.485', '2.031.613', '2.415.087', '2.771.263', '6.420.407', '4.014.057', '7.664.727', '7.404.568', '2.775.021', '-33.792.043', '1.403.022', '3.995.632', '8.650.505', '-3.560.134', '1.480.131', '1.375.541', '20.567.711', '20.604.427', '1.540.337', '19.876.568', '12.331.543', '1.114.611', '1.353.491', '3.735.576', '50.199.000', '-2.702.817', '4.148.000', '7.252.269', '2.379.939', '1.048.968', '1.218.469']\n",
      "- caixa_investimento: ['1.290.336', '-1.043.481', '-6.799.571', '-1.988.551', '-1.677.326', '-4.787.000', '-', '-2.127.003', '-6.253.742', '17.919.814', '-95.646.413', '-2.721.827', '-1.375.696', '-1.430.989', '-1.619.351', '-5.076.987', '-1.965.000', '-1.533.908', '-1.768.298', '-1.667.571', '-2.340.738', '-3.123.532', '-1.569.839', '-1.052.048', '2.441.552', '-5.374.480', '-1.595.894', '-2.266.266', '-2.438.112', '-2.229.077', '-2.226.611', '-1.895.113', '-1.157.671', '-1.269.749', '2.253.000', '-19.263.000', '-5.069.428', '-2.706.894', '-1.401.432', '1.031.874', '-4.803.000', '-3.385.351', '-4.291.000', '-23.455.000', '-13.388.247', '-3.184.534', '-2.469.266', '-6.768.668', '-4.004.463', '-1.184.337', '-1.188.172', '-1.863.655', '1.388.896', '-6.408.456', '-5.293.356', '-2.136.405', '-1.479.159', '-24.233.837', '-2.348.765', '-1.123.540', '-1.347.125', '2.061.172', '-7.734.882', '-1.836.497', '3.650.020', '-1.119.649', '-2.323.202', '-3.276.000', '-2.200.854', '-4.980.699', '1.060.036', '-30.720.239', '-53.278.152', '-3.380.676', '-2.329.389', '-2.274.289', '-3.548.791', '-3.761.437', '2.510.477', '1.371.198', '-2.489.000', '-1.158.731', '-1.025.104', '-1.903.753', '5.005.204', '-4.206.517', '-1.336.004', '-4.951.718', '-1.798.812', '-1.068.845', '-3.468.200', '-2.793.622', '-1.245.682', '-4.740.537', '-1.607.206', '-1.649.713', '-2.996.103', '-2.993.415', '-1.333.016', '-1.423.406', '-4.338.857', '-1.146.352', '-4.412.425', '-5.062.463', '-1.828.794', '-41.244.000', '-3.675.855', '-1.957.518', '1.097.283', '-1.029.815', '-1.141.473', '-1.317.403', '-4.665.502', '-1.235.918', '-1.515.438', '-10.324.000', '3.027.637', '-4.797.640', '-2.029.911', '11.073.000', '-1.318.153', '-4.743.320', '-1.651.881', '-3.355.254', '-2.663.207', '-1.321.112', '-2.204.892', '1.118.893', '-2.348.269', '-10.395.092', '-10.358.691', '-8.127.768', '-6.689.396', '-2.146.887', '-1.414.177', '-35.288.000', '-2.415.000', '-1.310.134', '-2.289.780', '-1.387.546', '-2.796.457', '-1.244.566', '-1.200.889', '-5.004.139', '-1.954.393', '-1.491.693', '1.575.294', '-3.790.000', '-1.096.668', '-6.323.966', '2.636.797', '-17.883.187', '-4.947.273', '-3.258.787', '-1.060.274', '-1.008.923', '2.156.049', '-3.206.096', '-2.707.000', '-1.987.500', '-3.528.382', '-1.750.107', '-1.238.749', '-2.774.996', '-20.609.423', '-6.259.031', '-1.538.268', '-1.599.800', '-1.638.478', '-2.604.681', '-1.134.000', '-28.801.652', '-5.094.117', '-9.089.333', '-1.784.437', '-1.324.330', '-8.738.771', '-2.156.018', '-1.384.473', '-4.459.684', '-1.220.831', '2.099.888', '-1.742.337', '-1.573.709', '2.132.000', '-65.700.000', '-1.045.393', '-7.876.677', '4.522.366', '-1.190.486', '-1.043.558', '-6.444.504', '-1.658.144', '-1.838.154', '-1.538.737', '-7.409.000', '-2.619.057', '17.418.798', '2.834.000', '-4.377.000', '-1.799.094', '-1.526.193', '-1.229.582', '-2.969.204', '-2.303.580', '-2.878.348', '-1.749.322', '-3.179.611', '-3.624.673', '-4.243.851', '-11.454.532', '-1.795.036', '-16.976.882', '-17.015.758', '-14.203.027', '-8.619.945', '-1.063.907', '7.903.101', '-3.340.897', '-24.176.000', '-2.011.000', '-2.709.346', '-1.758.941', '-1.346.394', '-4.631.924', '-5.765.984', '-1.140.408', '-3.055.000', '-1.765.456', '-2.658.386', '-3.356.979', '2.563.562', '21.769.845', '-4.525.000', '-8.618.745', '-2.583.056', '-2.113.844', '-1.009.682', '-3.967.244', '-2.510.000', '-1.292.582', '-2.596.772', '-1.654.396', '-2.334.461', '-1.566.556', '-3.135.091', '-4.303.092', '-4.640.793', '-1.208.712', '-1.302.983', '-5.817.695', '-2.249.964', '-6.521.501', '-1.730.000', '-2.042.414', '-7.492.329', '-2.618.573', '-5.772.841', '-5.770.375', '-1.080.243', '9.953.557', '6.628.000', '-34.061.000', '-4.291.404', '-6.120.367', '-2.483.869', '-1.938.170', '-1.703.627', '-4.749.000', '-3.583.084', '1.312.622', '-1.597.000', '-39.495.000', '-13.244.756', '-1.307.123', '1.750.401', '-2.275.854', '-3.905.723', '-4.905.512', '-1.914.714', '-2.818.942', '-1.114.844', '-1.917.193', '-4.589.126', '-1.394.047', '-26.035.443', '-26.035.297', '-7.850.993', '-4.683.538', '-1.021.555', '-2.674.365', '-31.425.000', '-1.714.206', '-3.815.375', '-5.463.488', '1.910.000', '-1.201.680', '-1.670.000', '-4.503.278', '-1.374.914', '10.845.671', '-19.904.207', '5.173.520', '-93.672.636', '-3.485.000', '-3.498.579', '-1.098.617', '-2.376.700', '-2.957.000', '-1.453.756', '-1.628.768', '-1.938.967', '-2.270.202', '-5.739.414', '-4.488.257', '-5.531.381', '-1.763.970', '-1.980.727', '-4.564.701', '-1.038.000', '-8.660.321', '-3.214.108', '-7.787.530', '-1.879.783', '-3.405.202', '-5.910.504', '-1.810.857', '-1.893.281', '-14.190.999', '-1.196.093', '-2.056.630', '-5.034.350', '-5.032.012', '-1.824.559', '-1.133.210', '2.275.361', '-2.225.363', '-4.470.232', '1.317.777', '6.389.000', '9.262.000', '-8.603.683', '-1.774.559', '-1.290.606', '-6.540.335', '-6.465.920', '-2.611.220', '-5.819.000', '-1.699.439', '-1.721.085', '-72.363.000', '-1.602.586', '-14.814.285', '-1.412.911', '-1.149.015', '-2.856.263', '-3.602.565', '-4.723.828', '-9.975.642', '-1.908.908', '-1.720.629', '-2.934.096', '-1.119.735', '-1.528.622', '-2.128.231', '-20.512.761', '-20.512.741', '1.573.708', '-8.914.793', '-4.953.872', '-1.333.632', '-6.387.950', '-30.781.000', '1.876.482', '-4.094.629']\n",
      "- caixa_financeiro: ['1.410.121', '-1.049.108', '-8.601.995', '5.148.799', '1.594.429', '-', '-3.252.762', '-8.262.562', '-34.612.171', '-1.117.168', '-19.751.128', '2.173.222', '1.552.383', '20.314.541', '-1.844.200', '6.285.000', '-2.387.480', '3.269.197', '-1.715.113', '-1.537.196', '-1.256.269', '-2.642.640', '-6.688.971', '5.241.843', '-2.493.789', '-1.015.773', '2.590.069', '1.293.506', '3.208.921', '1.015.759', '2.813.420', '-3.093.000', '-13.887.000', '1.034.032', '-3.853.373', '1.016.237', '1.013.300', '-4.307.482', '-1.828.340', '2.279.000', '-101.773.000', '13.543.396', '5.419.603', '-32.680.347', '-1.123.123', '1.185.072', '2.379.807', '-9.790.834', '-9.785.139', '-1.092.971', '-10.564.590', '-3.089.273', '-18.040.617', '-2.360.601', '-1.186.980', '2.235.719', '1.116.915', '1.546.236', '-5.523.404', '-16.041.823', '1.891.859', '-6.751.770', '1.530.220', '2.042.093', '2.292.399', '-1.119.934', '-1.990.675', '-4.020.304', '-23.778.200', '-16.965.504', '2.092.691', '22.438.438', '-1.835.080', '-1.363.000', '-1.547.240', '1.740.058', '-5.909.744', '1.913.000', '1.073.662', '2.156.357', '-2.202.276', '1.395.521', '-2.884.427', '1.049.226', '-1.373.917', '4.042.958', '1.132.389', '2.323.170', '-8.448.540', '-2.379.941', '1.623.285', '-1.382.318', '-1.033.476', '-1.098.408', '-1.061.996', '4.213.319', '1.632.275', '-9.982.642', '-10.659.623', '-1.245.182', '-1.069.855', '4.330.491', '5.086.620', '-1.824.639', '-31.240.000', '1.743.140', '-1.088.880', '1.376.105', '3.237.799', '2.169.475', '6.566.721', '-5.122.334', '1.961.704', '-1.972.380', '8.452.201', '1.950.305', '10.677.000', '1.077.848', '3.782.624', '1.834.718', '-2.743.000', '-220.297.000', '2.627.429', '-1.057.347', '-1.188.834', '1.751.387', '-2.319.078', '1.297.878', '-11.242.040', '-8.529.859', '15.785.450', '-1.423.168', '3.259.344', '-1.574.728', '-1.573.891', '-1.513.199', '-1.830.963', '-9.258.430', '3.565.704', '-3.355.541', '-1.443.733', '-1.879.962', '-109.226.000', '5.085.719', '1.523.104', '-1.443.405', '2.129.138', '-1.698.146', '-2.676.341', '3.509.792', '-1.249.445', '-16.337.906', '3.722.700', '6.380.698', '1.938.000', '2.151.111', '-9.558.764', '-3.128.178', '-3.925.751', '-1.145.322', '-26.978.741', '2.255.538', '7.682.271', '-1.945.710', '-1.913.000', '-1.731.361', '-2.791.534', '1.068.739', '-2.036.823', '2.745.274', '-2.443.161', '-2.335.221', '-1.922.041', '8.169.118', '-1.174.889', '-2.099.170', '1.083.511', '1.226.557', '-1.258.000', '30.072.386', '-3.374.198', '8.120.248', '-4.473.575', '5.441.037', '-8.256.287', '-8.088.488', '1.054.015', '-2.151.136', '1.512.249', '-1.659.285', '1.158.227', '-1.370.000', '-31.490.000', '-2.265.392', '5.720.615', '-2.984.396', '-2.166.737', '1.585.802', '-1.451.922', '5.084.343', '-1.003.801', '2.120.788', '4.046.000', '-14.854.943', '-4.703.000', '-264.156.000', '4.009.917', '2.636.076', '-1.446.836', '-5.983.722', '20.467.041', '3.053.013', '4.747.026', '9.326.225', '-8.081.019', '-8.107.207', '-1.001.313', '-8.913.547', '-3.489.032', '-6.910.741', '-1.673.236', '-1.088.028', '-71.005.000', '2.391.269', '1.240.000', '2.560.406', '-1.166.854', '-2.999.559', '-1.703.449', '-1.775.369', '-2.218.838', '-16.115.207', '-1.457.000', '-3.291.000', '-2.783.954', '1.072.945', '-3.009.699', '-7.585.279', '-1.151.658', '-33.043.858', '8.873.000', '8.691.277', '14.653.786', '-3.030.376', '1.158.812', '-2.965.000', '1.393.017', '-1.244.331', '1.159.609', '-2.580.213', '1.646.927', '-1.173.452', '2.696.572', '-4.516.583', '-3.570.096', '-3.734.414', '4.411.473', '-6.755.131', '-1.723.124', '-1.261.376', '-1.018.305', '5.799.036', '2.971.419', '-1.437.053', '-4.125.428', '-4.843.979', '-1.263.639', '-7.761.759', '-1.140.858', '-1.278.109', '-1.886.385', '1.105.889', '-2.136.850', '-5.431.000', '-22.494.000', '1.600.538', '1.573.562', '10.218.933', '-2.009.108', '-3.032.921', '-6.229.903', '1.144.198', '5.354.032', '-3.373.485', '2.223.800', '3.763.000', '-1.705.000', '-153.435.000', '-1.470.461', '-1.214.944', '-1.923.447', '-1.696.474', '17.422.621', '-1.333.823', '1.312.650', '1.323.583', '2.401.839', '7.767.356', '7.798.864', '-8.850.491', '-7.207.900', '-2.494.396', '-37.002.000', '2.974.336', '-4.117.000', '-2.963.451', '-2.030.574', '-1.415.880', '-1.764.239', '-1.742.232', '-10.351.988', '1.033.000', '7.864.899', '-8.996.122', '-6.359.970', '-20.109.691', '-1.456.986', '-6.727.312', '27.749.099', '-3.241.014', '-10.861.000', '-2.759.460', '-1.158.054', '-6.605.868', '-3.719.346', '-4.594.195', '9.800.889', '-1.911.350', '8.633.907', '-2.687.204', '-2.903.026', '1.550.566', '-2.095.162', '-1.319.380', '-2.788.727', '4.704.826', '-2.276.328', '1.532.628', '-8.153.000', '-21.680.000', '-2.432.792', '1.367.630', '-1.017.573', '-2.426.212', '-15.310.874', '-10.604.254', '3.285.632', '1.232.010', '2.859.000', '1.905.411', '-2.041.000', '-179.974.000', '5.830.780', '-1.561.837', '-1.242.671', '-2.714.880', '3.415.196', '13.800.855', '5.647.131', '1.079.556', '-1.561.727', '-2.058.117', '-8.628.953', '-7.196.859', '-1.234.102', '-11.468.000', '-2.764.198']\n",
      "- valor_mercado: ['-', '7.662.135', '1.312.840', '7.727.019', '23.136.438', '7.859.908', '1.251.060', '246.251.420', '2.983.758', '42.330.870', '3.316.017', '4.767.612', '4.294.067', '6.792.569', '124.944.358', '1.767.779', '6.176.016', '59.160.286', '1.097.680', '226.778.471', '21.382.800', '110.705.777', '1.472.980', '19.504.087', '4.073.562', '5.663.424', '17.801.866', '105.092.856', '4.075.336', '25.808.199', '3.973.279', '1.965.741', '14.845.920', '2.154.346', '2.143.020', '22.605.151', '11.665.138', '5.276.974', '23.032.000', '6.218.568', '19.791.280', '3.035.501', '3.554.292', '11.335.178', '34.845.706', '13.217.338', '1.920.378', '1.201.385', '4.873.057', '57.626.441', '2.786.173', '6.515.131', '21.857.285', '6.990.942', '35.851.865', '2.492.217', '7.880.827', '7.296.678', '1.802.071', '1.159.043', '2.489.675', '1.984.460', '8.569.828', '2.171.408', '4.073.839', '39.208.449', '11.653.433', '18.470.133', '72.179.153', '7.188.966', '7.443.072', '1.622.848', '2.310.602', '1.370.914', '10.268.244', '18.720.769', '100.421.661', '290.294.405', '61.765.025', '28.948.079', '7.385.598', '51.827.715', '3.494.312', '1.687.095', '1.780.801', '34.527.699', '10.129.256', '11.512.358', '161.261.510', '2.644.735', '1.599.284', '1.798.172', '6.146.983', '12.240.000', '13.963.597', '21.387.103', '1.689.448', '6.564.196', '13.191.866', '2.050.062', '20.121.881', '4.002.184', '373.468.194', '9.606.916', '15.676.276', '1.060.069', '9.886.962', '3.054.700', '41.302.241', '4.785.302', '23.530.106', '1.133.009', '35.646.655', '30.375.179', '8.014.770', '168.302.152', '4.523.295', '2.506.862', '9.476.822', '1.204.908', '2.897.749', '2.010.631', '7.907.014', '43.956.648', '7.288.023', '5.149.196', '78.983.431', '2.091.223', '11.570.739', '1.397.539', '1.778.342', '4.925.592', '78.500.091', '2.969.247', '35.458.962', '16.306.056', '2.278.721', '3.022.888', '25.882.917', '4.751.034', '18.736.848', '448.610.718', '25.781.450', '6.958.386', '1.963.590', '158.882.831', '11.398.625', '3.243.902', '1.285.655', '9.918.171', '2.988.047', '4.807.768', '4.999.048', '1.786.471', '1.761.918', '1.584.757', '5.742.242', '19.529.513', '7.097.902', '1.224.082', '242.690.276', '4.763.623', '28.393.540', '3.832.582', '3.305.079', '9.055.442', '17.452.895', '3.251.008', '7.648.672', '67.351.604', '1.603.440', '4.409.678', '41.431.245', '1.349.453', '6.529.939', '1.857.846', '171.479.631', '9.380.546', '82.321.813', '2.855.735', '45.481.533', '6.796.998', '8.423.690', '18.183.091', '117.620.173', '25.080.000', '4.119.714', '8.379.693', '8.145.042', '1.894.388', '1.132.611', '3.276.237', '14.351.056', '2.507.698', '25.253.701', '8.780.216', '4.562.511', '19.800.806', '4.819.391', '17.095.387', '2.086.592', '36.974.554', '2.042.995', '3.018.512', '6.067.473', '18.908.544', '1.595.434', '11.286.931', '1.896.286', '1.162.589', '6.060.297', '52.310.576', '2.807.603', '18.233.591', '17.616.307', '17.671.196', '31.339.784', '6.789.004', '11.338.315', '2.032.040', '1.345.452', '4.394.913', '5.702.268', '2.988.904', '3.091.107', '43.759.115', '12.027.776', '13.322.357', '34.958.240', '5.469.885', '4.917.095', '3.144.270', '9.163.283', '1.735.723', '5.046.252', '17.639.881', '79.911.699', '195.493.661', '87.049.861', '28.756.604', '4.377.525', '39.866.176', '2.557.097', '2.469.088', '1.302.135', '24.088.553', '7.722.724', '8.606.786', '48.125.042', '2.678.603', '5.161.453', '1.208.115', '5.701.561', '13.940.022', '6.785.605', '11.069.150', '19.663.502', '6.299.901', '4.604.871', '1.923.350', '1.371.074', '5.850.064', '4.127.042', '1.671.753', '387.852.546', '17.347.365', '13.340.935', '1.359.115', '1.523.580', '4.694.045', '2.095.775', '40.025.979', '66.773.686', '3.774.410', '13.801.515', '1.350.078', '32.914.948', '27.463.427', '5.638.324', '112.481.869', '5.545.309', '2.328.106', '11.929.157', '1.501.273', '1.971.556', '1.350.289', '7.022.196', '33.529.934', '9.633.162', '8.506.453', '9.379.877', '81.101.709', '1.099.037', '12.552.551', '2.880.985', '1.672.355', '1.030.607', '2.457.857', '80.811.642', '1.608.471', '2.163.183', '31.828.341', '17.415.363', '1.083.572', '2.876.351', '15.868.248', '2.371.594', '9.743.958', '18.204.547', '377.296.542', '11.608.476', '24.130.854', '2.062.768', '6.008.871', '5.399.148', '2.246.210', '1.101.312', '138.384.464', '10.695.264', '4.056.843', '1.272.862', '1.353.985', '6.211.443', '1.639.314', '4.632.208', '1.650.853', '2.544.702', '4.520.050', '9.089.555', '8.162.700', '2.800.113', '228.569.992', '2.360.354', '8.709.338', '3.240.433', '1.457.581', '4.057.619', '26.268.243', '2.158.409', '14.730.000', '8.622.061', '76.043.469', '1.820.542', '4.185.058', '67.309.648', '1.241.484', '4.680.505', '1.218.259', '152.273.967', '11.110.184', '99.106.787', '2.960.223', '19.608.737', '7.666.558', '6.235.559', '8.926.808', '120.658.236', '25.050.000', '2.898.112', '3.792.806', '6.881.875', '2.593.195', '2.036.121', '3.506.760', '28.200.447', '10.165.636', '3.508.160', '17.213.347', '5.949.350', '20.597.463', '22.380.182', '3.669.935', '1.244.803', '4.910.804', '7.367.993', '5.477.704', '2.330.128', '6.517.048', '97.238.416', '2.512.027', '10.512.598', '20.444.043', '17.921.516', '30.907.343', '4.104.597', '14.056.088', '4.742.103', '5.660.941', '2.566.024', '2.480.439', '46.079.188', '13.065.594', '13.963.067', '15.943.920', '3.113.159', '3.254.767', '3.297.335', '9.975.758', '1.971.212', '2.111.546', '16.689.045', '83.859.228', '229.428.383', '48.776.379', '22.138.746', '1.724.931', '52.059.498', '1.610.501', '3.694.553', '19.873.485', '4.138.023', '12.045.360', '18.295.590', '2.514.420', '2.754.533', '1.045.617', '2.762.998', '7.758.324', '3.274.606', '12.817.675', '18.753.155', '6.477.825', '1.065.731', '2.421.705', '1.308.166', '4.460.053', '1.927.399', '345.928.430', '31.386.412', '14.770.232', '1.160.323', '1.314.393', '1.634.526', '39.084.634', '38.590.161', '2.669.660', '11.395.746', '1.230.177', '34.472.761', '39.069.424', '5.146.811', '104.885.378', '6.744.747', '1.032.027', '9.185.867', '1.682.145', '5.978.213', '19.294.667', '5.585.046', '9.580.203', '7.967.033', '63.163.141', '12.028.426', '1.685.925', '1.277.874', '1.280.560', '62.082.401', '2.765.951', '30.014.880', '16.603.537', '3.910.005', '13.810.453', '1.376.893', '8.907.030', '8.989.637', '398.455.974', '12.860.354', '1.773.557', '17.336.757', '1.850.161', '5.284.287', '4.570.432', '3.060.895', '161.588.553', '7.287.616', '4.756.061', '1.120.950', '2.951.253', '1.452.392', '5.997.883', '1.102.014', '1.228.037', '14.683.506', '6.937.630', '9.604.066', '5.325.540', '216.239.935', '2.714.430', '3.759.718', '1.683.145', '5.869.847', '18.290.300', '2.528.980', '13.310.000', '7.162.133', '81.095.679', '3.051.189', '5.570.677', '66.521.563', '1.207.050', '2.915.741', '1.901.187', '172.226.833', '9.768.112', '158.070.655', '2.660.729', '17.347.002', '6.306.804', '4.580.875', '23.182.240', '175.290.649', '38.700.000', '2.893.817', '1.079.541', '3.038.750', '2.392.805', '1.258.012', '1.656.856', '2.461.612', '27.947.872', '10.621.305', '3.378.920', '16.281.690', '7.765.627', '29.809.465', '1.111.868', '42.514.957', '5.215.018', '1.839.540', '9.028.098', '7.186.603', '1.627.547', '6.521.706', '1.085.975', '3.866.608', '7.362.842', '96.729.083', '2.179.873', '16.448.433', '25.461.331', '14.841.979', '36.986.004', '4.891.038', '16.837.759', '1.031.359', '1.475.356', '1.628.955', '4.419.490', '9.832.539', '4.539.272', '2.500.593', '40.127.389', '11.295.509', '15.861.874', '23.319.077', '2.858.472', '3.264.751', '3.925.812', '7.207.444', '2.618.944', '3.625.640', '19.768.950', '106.996.426', '307.422.592', '55.253.279', '24.348.734', '2.980.443', '67.261.125', '2.290.032', '4.073.783', '16.646.569', '3.543.109', '12.992.230', '14.454.528', '6.142.308', '3.190.063', '1.997.976', '1.116.464', '4.254.007', '8.178.333', '1.698.433', '16.541.780', '25.868.175', '9.457.625', '1.257.209', '3.206.886', '1.398.495', '1.096.115', '2.134.352', '494.840.194', '38.430.161', '18.424.955', '1.051.763', '1.129.257', '50.402.841', '41.614.243', '4.108.950', '13.970.341', '1.189.924', '42.446.109', '51.516.139', '8.576.432', '119.725.761', '8.090.770', '1.570.470', '10.152.253', '2.517.899', '1.008.711', '6.357.709', '26.071.007', '7.964.410', '8.283.541', '15.259.887', '71.726.653', '13.242.045', '1.906.995', '1.865.380', '1.306.001', '88.314.089', '1.825.484', '1.644.178', '43.401.341', '20.342.234', '1.056.255', '4.187.346', '29.134.942', '1.408.668', '7.711.456', '11.372.588', '331.948.730', '1.642.630', '11.041.081', '2.313.911', '25.376.490', '1.516.127', '8.055.628', '4.464.656', '4.937.321', '154.846.098', '6.721.298', '7.682.206', '1.159.328', '6.532.157', '1.520.606', '6.845.098', '1.010.627', '9.176.452', '4.111.967', '8.527.103', '4.818.212', '184.644.959', '21.683.710', '1.241.514', '2.946.665', '1.741.389', '7.591.580', '1.810.711', '9.164.457', '6.107.354', '53.999.763', '2.706.853', '4.474.962', '70.232.110', '1.162.562', '1.352.130', '2.336.502', '1.379.012', '114.645.739', '6.404.396', '137.963.507', '2.271.358', '9.464.257', '10.917.160', '3.190.606', '41.104.606', '1.130.059', '133.565.750', '42.750.000', '1.995.267', '3.053.532', '2.347.199', '1.175.579', '13.777.157', '3.048.517', '35.145.544', '10.028.427', '1.999.994', '15.902.470', '7.894.548', '26.062.177', '27.975.029', '5.061.380', '6.212.717', '2.374.325', '1.208.227', '4.817.849', '4.601.584', '9.494.191', '77.730.413', '1.963.514', '41.279.028', '19.082.356', '18.391.123', '28.965.435', '3.866.531', '12.423.301', '1.379.144', '1.055.150', '3.165.264', '6.569.456', '5.473.828', '2.785.782', '36.187.993', '10.269.671', '14.366.093', '17.686.534', '2.577.184', '3.090.032', '2.741.882', '4.186.273', '1.592.668', '3.474.231', '17.090.279', '96.328.198', '281.256.877', '80.517.624', '28.766.435', '1.512.575', '33.930.788', '1.567.428', '2.198.137', '12.746.992', '1.853.674', '6.721.295', '4.784.391', '7.592.934', '1.242.956', '3.546.793', '2.074.477', '1.264.177', '10.367.214', '10.101.337', '22.940.791', '10.001.271', '1.048.774', '3.139.695', '1.249.597', '1.816.555', '490.407.224', '32.802.606', '1.020.054', '23.139.435', '37.663.882', '22.321.971', '3.054.364', '13.295.037', '33.016.421', '60.490.623', '8.213.827', '88.905.869', '11.293.113', '1.109.179', '7.683.980', '2.042.917', '3.424.786', '11.749.192', '3.018.461', '7.712.550', '9.942.669', '76.560.360', '11.346.298', '1.066.685', '1.887.798', '1.004.460', '76.079.945', '1.531.289', '1.352.670', '35.050.333', '15.672.538', '3.071.561', '17.406.958', '1.235.673', '5.326.417', '6.548.615', '232.858.677', '1.923.211', '5.132.534', '19.882.876', '4.524.966', '4.217.156', '221.398.507', '5.950.851', '7.192.350', '1.007.098', '2.374.489']\n",
      "- dividendos: ['-6.850.271', '-', '-3.884.422', '-5.562.658', '-1.432.130', '-6.070.657', '-1.844.200', '-1.135.669', '-1.044.982', '-2.116.379', '-2.380.000', '-1.018.061', '-2.593.945', '-1.240.918', '-4.569.000', '-12.058.000', '-1.283.405', '-6.657.000', '-10.211.084', '-1.106.182', '-5.259.367', '-1.153.054', '-18.708.953', '-1.080.000', '-11.115.251', '-6.705.127', '-1.990.675', '-9.914.297', '-4.020.304', '-7.124.620', '-5.993.265', '-1.746.000', '-1.835.080', '-1.446.682', '-1.416.333', '-1.711.000', '-1.649.653', '-1.001.855', '-3.874.318', '-1.841.494', '-4.298.495', '-3.609.607', '-1.393.749', '-3.747.606', '-1.119.108', '-2.792.602', '-1.220.079', '-5.339.426', '-6.163.616', '-2.656.470', '-3.335.000', '-6.397.000', '-3.744.927', '-72.718.000', '-3.071.597', '-2.583.322', '-9.995.696', '-3.290.544', '-1.249.960', '-1.551.506', '-4.901.326', '-1.042.976', '-1.365.042', '-1.849.264', '-73.287.000', '-2.761.000', '-1.657.345', '-1.063.689', '-12.242.324', '-2.610.466', '-3.925.751', '-1.145.322', '-13.175.440', '-1.350.293', '-2.025.000', '-1.945.710', '-1.180.829', '-2.093.907', '-1.674.000', '-1.872.732', '-1.709.838', '-2.167.769', '-1.908.171', '-3.872.339', '-5.438.635', '-1.428.000', '-1.490.058', '-1.581.828', '-2.286.031', '-1.950.544', '-1.091.565', '-5.891.690', '-5.220.630', '-1.017.145', '-3.851.000', '-6.999.000', '-1.746.676', '-1.357.128', '-2.769.703', '-1.036.000', '-194.609.000', '-2.861.362', '-1.453.156', '-7.556.433', '-3.756.738', '-4.123.620', '-4.150.782', '-1.672.384', '-5.709.263', '-1.199.201', '-1.355.350', '-1.233.223', '-34.157.000', '-1.887.512', '-1.113.386', '-11.921.949', '-2.999.626', '-2.035.569', '-6.960.998', '-1.151.658', '-15.358.323', '-2.845.000', '-3.030.376', '-1.823.019', '-1.166.000', '-1.340.220', '-2.582.447', '-3.570.467', '-3.854.265', '-1.256.640', '-2.379.596', '-2.683.328', '-3.401.879', '-1.251.403', '-4.561.000', '-10.714.000', '-1.478.395', '-1.341.977', '-1.344.601', '-1.378.000', '-98.178.000', '-1.892.655', '-5.655.046', '-3.980.871', '-1.004.020', '-3.832.612', '-2.174.929', '-27.967.000', '-2.308.620', '-4.056.383', '-2.043.770', '-5.193.340', '-14.824.290', '-1.144.453', '-2.995.000', '-3.241.014', '-4.294.458', '-2.735.338', '-3.073.706', '-1.157.515', '-1.586.565', '-3.447.103', '-3.479.652', '-4.326.702', '-1.973.000', '-1.307.858', '-1.596.264', '-1.133.999', '-1.678.075', '-1.433.959', '-1.656.414', '-1.567.719', '-1.022.860', '-1.239.070', '-8.196.000', '-21.903.000', '-1.779.031', '-1.294.383', '-3.135.078', '-100.692.000', '-1.381.135', '-1.534.780', '-5.618.714', '-2.535.325', '-1.583.777', '-1.624.653', '-1.006.548', '-2.532.399', '-2.720.095', '-20.663.000', '-1.528.000', '-2.934.611']\n"
     ]
    }
   ],
   "source": [
    "exibir_valores_nao_numericos(df_economatica_manipulado, colunas_numericas)"
   ]
  },
  {
   "cell_type": "markdown",
   "metadata": {},
   "source": [
    "Identifiquei padrões:\n",
    "- Valores nulos representados por: '-'\n",
    "- Valores com casas decimais representados por: '#,##########'\n",
    "- Valores com casas de milhar em diante representados por: '#.###.###'"
   ]
  },
  {
   "cell_type": "markdown",
   "metadata": {},
   "source": [
    "### Tratando a inconsistência dos tipos"
   ]
  },
  {
   "cell_type": "code",
   "execution_count": 280,
   "metadata": {},
   "outputs": [],
   "source": [
    "def limpar_e_converter(value):\n",
    "    \"\"\"\n",
    "    Converte um valor dinamicamente identificando se é inteiro, float ou string.\n",
    "    Trata pontuação brasileira (. para milhares, , para decimais).\n",
    "    \n",
    "    Args:\n",
    "        value: O valor a ser convertido\n",
    "        \n",
    "    Returns:\n",
    "        int, float ou np.nan dependendo do tipo identificado\n",
    "    \"\"\"\n",
    "    # Se já é numérico, retorna como está\n",
    "    if isinstance(value, (int, float)):\n",
    "        if isinstance(value, float):\n",
    "            return round(value, 2)\n",
    "        return value\n",
    "        \n",
    "    # Se não é string, tenta converter para string\n",
    "    if not isinstance(value, str):\n",
    "        value = str(value)\n",
    "    \n",
    "    # Remove espaços e verifica se é valor nulo\n",
    "    value = value.strip()\n",
    "    if value == '-' or value == '' or value.lower() in ['nan', 'null', 'none']:\n",
    "        return np.nan\n",
    "    \n",
    "    # Remove pontos (separador de milhares) e substitui vírgula por ponto (decimal)\n",
    "    # Primeiro identifica o padrão: se tem vírgula, ela é o separador decimal\n",
    "    if ',' in value:\n",
    "        # Padrão brasileiro: 1.234.567,89\n",
    "        # Remove todos os pontos (milhares) e substitui vírgula por ponto (decimal)\n",
    "        value_clean = value.replace('.', '').replace(',', '.')\n",
    "    else:\n",
    "        # Se não tem vírgula, assume padrão americano ou número sem decimais\n",
    "        # Se tem apenas um ponto e dígitos depois dele <= 3, pode ser decimal\n",
    "        # Se tem mais de um ponto ou mais de 3 dígitos após o último ponto, são milhares\n",
    "        parts = value.split('.')\n",
    "        if len(parts) == 2 and len(parts[1]) <= 3 and len(parts[1]) > 0:\n",
    "            # Provavelmente decimal: 1234.56\n",
    "            value_clean = value\n",
    "        elif len(parts) > 2:\n",
    "            # Múltiplos pontos: separadores de milhares: 1.234.567\n",
    "            value_clean = value.replace('.', '')\n",
    "        else:\n",
    "            # Um ponto com mais de 3 dígitos ou sem ponto\n",
    "            value_clean = value.replace('.', '')\n",
    "    \n",
    "    # Remove outros caracteres não numéricos (exceto - no início)\n",
    "    # Preserva sinal negativo no início\n",
    "    is_negative = value_clean.startswith('-')\n",
    "    value_clean = re.sub(r'[^\\d.]', '', value_clean.lstrip('-'))\n",
    "    if is_negative:\n",
    "        value_clean = '-' + value_clean\n",
    "    \n",
    "    try:\n",
    "        # Tenta converter para float primeiro\n",
    "        float_value = float(value_clean)\n",
    "        \n",
    "        # Verifica se é um inteiro (sem parte decimal)\n",
    "        if float_value.is_integer():\n",
    "            return int(float_value)\n",
    "        else:\n",
    "            return round(float_value, 2)\n",
    "            \n",
    "    except (ValueError, TypeError):\n",
    "        return np.nan"
   ]
  },
  {
   "cell_type": "code",
   "execution_count": 281,
   "metadata": {},
   "outputs": [],
   "source": [
    "def aplicar_conversao(df):\n",
    "    \"\"\"\n",
    "    Aplica a conversão dinâmica para as colunas especificadas.\n",
    "    \n",
    "    Args:\n",
    "        df: DataFrame a ser processado\n",
    "        colunas_numericas: Lista de colunas para converter\n",
    "        \n",
    "    Returns:\n",
    "        DataFrame com as colunas convertidas\n",
    "    \"\"\"\n",
    "    df_convertido = df.copy()\n",
    "    \n",
    "    for col in colunas_numericas:\n",
    "        if col in df_convertido.columns:\n",
    "            print(f\"Convertendo coluna: {col}\")\n",
    "            df_convertido[col] = df_convertido[col].apply(limpar_e_converter)\n",
    "    \n",
    "    return df_convertido"
   ]
  },
  {
   "cell_type": "markdown",
   "metadata": {},
   "source": [
    "Antes de tratar, vamos criar uma cópia para podermos comparar o começo e o fim de cada dataframe."
   ]
  },
  {
   "cell_type": "code",
   "execution_count": 282,
   "metadata": {},
   "outputs": [
    {
     "name": "stdout",
     "output_type": "stream",
     "text": [
      "Convertendo coluna: ativo_circulante\n",
      "Convertendo coluna: ativo_nao_circulante\n",
      "Convertendo coluna: passivo_circulante\n",
      "Convertendo coluna: passivo_nao_circulante\n",
      "Convertendo coluna: patrimonio_liquido\n",
      "Convertendo coluna: lpa\n",
      "Convertendo coluna: receita\n",
      "Convertendo coluna: lucro_liquido\n",
      "Convertendo coluna: divida_bruta_ativo\n",
      "Convertendo coluna: liquidez_corrente\n",
      "Convertendo coluna: liquidez_geral\n",
      "Convertendo coluna: rentabilidade_ativo\n",
      "Convertendo coluna: roe\n",
      "Convertendo coluna: margem_ebit\n",
      "Convertendo coluna: margem_liquida\n",
      "Convertendo coluna: ativo_total\n",
      "Convertendo coluna: caixa_operacional\n",
      "Convertendo coluna: caixa_investimento\n",
      "Convertendo coluna: caixa_financeiro\n",
      "Convertendo coluna: valor_mercado\n",
      "Convertendo coluna: dividendos\n",
      "Convertendo coluna: ano\n",
      "Convertendo coluna: pandemia\n"
     ]
    }
   ],
   "source": [
    "df_economatica_correcao_tipagem = aplicar_conversao(df_economatica_manipulado)"
   ]
  },
  {
   "cell_type": "code",
   "execution_count": 283,
   "metadata": {},
   "outputs": [
    {
     "name": "stdout",
     "output_type": "stream",
     "text": [
      "\n",
      "Tipagem das colunas após tratamento:\n"
     ]
    },
    {
     "data": {
      "application/vnd.microsoft.datawrangler.viewer.v0+json": {
       "columns": [
        {
         "name": "index",
         "rawType": "object",
         "type": "string"
        },
        {
         "name": "0",
         "rawType": "object",
         "type": "unknown"
        }
       ],
       "ref": "97dffdd7-8a90-413a-8f7f-146d29ba0142",
       "rows": [
        [
         "nome",
         "object"
        ],
        [
         "codigo",
         "object"
        ],
        [
         "setor",
         "object"
        ],
        [
         "ativo_circulante",
         "float64"
        ],
        [
         "ativo_nao_circulante",
         "float64"
        ],
        [
         "passivo_circulante",
         "float64"
        ],
        [
         "passivo_nao_circulante",
         "float64"
        ],
        [
         "patrimonio_liquido",
         "float64"
        ],
        [
         "lpa",
         "float64"
        ],
        [
         "receita",
         "float64"
        ],
        [
         "lucro_liquido",
         "float64"
        ],
        [
         "divida_bruta_ativo",
         "float64"
        ],
        [
         "liquidez_corrente",
         "float64"
        ],
        [
         "liquidez_geral",
         "float64"
        ],
        [
         "rentabilidade_ativo",
         "float64"
        ],
        [
         "roe",
         "float64"
        ],
        [
         "margem_ebit",
         "float64"
        ],
        [
         "margem_liquida",
         "float64"
        ],
        [
         "ativo_total",
         "float64"
        ],
        [
         "caixa_operacional",
         "float64"
        ],
        [
         "caixa_investimento",
         "float64"
        ],
        [
         "caixa_financeiro",
         "float64"
        ],
        [
         "valor_mercado",
         "float64"
        ],
        [
         "dividendos",
         "float64"
        ],
        [
         "ano",
         "int64"
        ],
        [
         "pandemia",
         "int64"
        ]
       ],
       "shape": {
        "columns": 1,
        "rows": 26
       }
      },
      "text/plain": [
       "nome                       object\n",
       "codigo                     object\n",
       "setor                      object\n",
       "ativo_circulante          float64\n",
       "ativo_nao_circulante      float64\n",
       "passivo_circulante        float64\n",
       "passivo_nao_circulante    float64\n",
       "patrimonio_liquido        float64\n",
       "lpa                       float64\n",
       "receita                   float64\n",
       "lucro_liquido             float64\n",
       "divida_bruta_ativo        float64\n",
       "liquidez_corrente         float64\n",
       "liquidez_geral            float64\n",
       "rentabilidade_ativo       float64\n",
       "roe                       float64\n",
       "margem_ebit               float64\n",
       "margem_liquida            float64\n",
       "ativo_total               float64\n",
       "caixa_operacional         float64\n",
       "caixa_investimento        float64\n",
       "caixa_financeiro          float64\n",
       "valor_mercado             float64\n",
       "dividendos                float64\n",
       "ano                         int64\n",
       "pandemia                    int64\n",
       "dtype: object"
      ]
     },
     "execution_count": 283,
     "metadata": {},
     "output_type": "execute_result"
    }
   ],
   "source": [
    "print(\"\\nTipagem das colunas após tratamento:\")\n",
    "df_economatica_correcao_tipagem.dtypes"
   ]
  },
  {
   "cell_type": "code",
   "execution_count": 284,
   "metadata": {},
   "outputs": [
    {
     "data": {
      "application/vnd.microsoft.datawrangler.viewer.v0+json": {
       "columns": [
        {
         "name": "index",
         "rawType": "int64",
         "type": "integer"
        },
        {
         "name": "nome",
         "rawType": "object",
         "type": "string"
        },
        {
         "name": "codigo",
         "rawType": "object",
         "type": "string"
        },
        {
         "name": "setor",
         "rawType": "object",
         "type": "string"
        },
        {
         "name": "ativo_circulante",
         "rawType": "float64",
         "type": "float"
        },
        {
         "name": "ativo_nao_circulante",
         "rawType": "float64",
         "type": "float"
        },
        {
         "name": "passivo_circulante",
         "rawType": "float64",
         "type": "float"
        },
        {
         "name": "passivo_nao_circulante",
         "rawType": "float64",
         "type": "float"
        },
        {
         "name": "patrimonio_liquido",
         "rawType": "float64",
         "type": "float"
        },
        {
         "name": "lpa",
         "rawType": "float64",
         "type": "float"
        },
        {
         "name": "receita",
         "rawType": "float64",
         "type": "float"
        },
        {
         "name": "lucro_liquido",
         "rawType": "float64",
         "type": "float"
        },
        {
         "name": "divida_bruta_ativo",
         "rawType": "float64",
         "type": "float"
        },
        {
         "name": "liquidez_corrente",
         "rawType": "float64",
         "type": "float"
        },
        {
         "name": "liquidez_geral",
         "rawType": "float64",
         "type": "float"
        },
        {
         "name": "rentabilidade_ativo",
         "rawType": "float64",
         "type": "float"
        },
        {
         "name": "roe",
         "rawType": "float64",
         "type": "float"
        },
        {
         "name": "margem_ebit",
         "rawType": "float64",
         "type": "float"
        },
        {
         "name": "margem_liquida",
         "rawType": "float64",
         "type": "float"
        },
        {
         "name": "ativo_total",
         "rawType": "float64",
         "type": "float"
        },
        {
         "name": "caixa_operacional",
         "rawType": "float64",
         "type": "float"
        },
        {
         "name": "caixa_investimento",
         "rawType": "float64",
         "type": "float"
        },
        {
         "name": "caixa_financeiro",
         "rawType": "float64",
         "type": "float"
        },
        {
         "name": "valor_mercado",
         "rawType": "float64",
         "type": "float"
        },
        {
         "name": "dividendos",
         "rawType": "float64",
         "type": "float"
        },
        {
         "name": "ano",
         "rawType": "int64",
         "type": "integer"
        },
        {
         "name": "pandemia",
         "rawType": "int64",
         "type": "integer"
        }
       ],
       "ref": "4395a63a-cf4f-42ab-a632-8c339bea59c2",
       "rows": [
        [
         "0",
         "3tentos",
         "TTEN3",
         "Atividades auxiliares à agricultura",
         "1770014.0",
         "551.36",
         "1365036.0",
         "244.21",
         "712.13",
         "0.62",
         "3112439.0",
         "246.26",
         "27.6",
         "1.3",
         "1.2",
         "10.6",
         "44.3",
         "10.5",
         "7.9",
         "2321373.0",
         "79.98",
         "-74.0",
         "82.74",
         null,
         "-28.25",
         "2020",
         "1"
        ],
        [
         "1",
         "524 Particip",
         "QVQP3",
         "Empresa de eletricidade, gás e água",
         "150.0",
         "0.0",
         "0.0",
         "0.0",
         "150.0",
         "-0.0",
         "0.0",
         "-126.0",
         "0.0",
         null,
         null,
         "-84.0",
         "-122.9",
         null,
         null,
         "150.0",
         "-116.0",
         "0.0",
         "221.0",
         null,
         "0.0",
         "2020",
         "1"
        ],
        [
         "2",
         "Aco Altona",
         "EALT3",
         "Transformação de aço em produtos de aço",
         "164.71",
         "252.52",
         "136.34",
         "97.25",
         "183.64",
         "1.12",
         "251.77",
         "25.24",
         "22.4",
         "1.2",
         "0.9",
         "6.0",
         "14.6",
         "12.7",
         "10.0",
         "417.23",
         "56.6",
         "-33.79",
         "-6.24",
         "190.12",
         "-2.46",
         "2020",
         "1"
        ],
        [
         "3",
         "Aeris",
         "AERI3",
         "Indústria de motores, turbinas e transmissores de energia",
         "1667824.0",
         "702.8",
         "942.38",
         "462.0",
         "966.25",
         "3.58",
         "2208702.0",
         "113.2",
         "48.2",
         "1.8",
         "1.2",
         "4.8",
         "19.9",
         "9.3",
         "5.1",
         "2370629.0",
         "-495.11",
         "-296.16",
         "1410121.0",
         "7662135.0",
         "-106.51",
         "2020",
         "1"
        ],
        [
         "4",
         "Aesoperacoes",
         "AESO3",
         "Geração, transmissão e distribuição de energia elétrica",
         "1.92",
         "239.0",
         "0.0",
         "0.0",
         "2.15",
         "-0.02",
         "0.0",
         "-41.0",
         "0.0",
         null,
         null,
         "-1.9",
         null,
         null,
         null,
         "2.15",
         "-14.0",
         "7.0",
         "0.0",
         null,
         "0.0",
         "2020",
         "1"
        ]
       ],
       "shape": {
        "columns": 26,
        "rows": 5
       }
      },
      "text/html": [
       "<div>\n",
       "<style scoped>\n",
       "    .dataframe tbody tr th:only-of-type {\n",
       "        vertical-align: middle;\n",
       "    }\n",
       "\n",
       "    .dataframe tbody tr th {\n",
       "        vertical-align: top;\n",
       "    }\n",
       "\n",
       "    .dataframe thead th {\n",
       "        text-align: right;\n",
       "    }\n",
       "</style>\n",
       "<table border=\"1\" class=\"dataframe\">\n",
       "  <thead>\n",
       "    <tr style=\"text-align: right;\">\n",
       "      <th></th>\n",
       "      <th>nome</th>\n",
       "      <th>codigo</th>\n",
       "      <th>setor</th>\n",
       "      <th>ativo_circulante</th>\n",
       "      <th>ativo_nao_circulante</th>\n",
       "      <th>passivo_circulante</th>\n",
       "      <th>passivo_nao_circulante</th>\n",
       "      <th>patrimonio_liquido</th>\n",
       "      <th>lpa</th>\n",
       "      <th>receita</th>\n",
       "      <th>...</th>\n",
       "      <th>margem_ebit</th>\n",
       "      <th>margem_liquida</th>\n",
       "      <th>ativo_total</th>\n",
       "      <th>caixa_operacional</th>\n",
       "      <th>caixa_investimento</th>\n",
       "      <th>caixa_financeiro</th>\n",
       "      <th>valor_mercado</th>\n",
       "      <th>dividendos</th>\n",
       "      <th>ano</th>\n",
       "      <th>pandemia</th>\n",
       "    </tr>\n",
       "  </thead>\n",
       "  <tbody>\n",
       "    <tr>\n",
       "      <th>0</th>\n",
       "      <td>3tentos</td>\n",
       "      <td>TTEN3</td>\n",
       "      <td>Atividades auxiliares à agricultura</td>\n",
       "      <td>1770014.00</td>\n",
       "      <td>551.36</td>\n",
       "      <td>1365036.00</td>\n",
       "      <td>244.21</td>\n",
       "      <td>712.13</td>\n",
       "      <td>0.62</td>\n",
       "      <td>3112439.00</td>\n",
       "      <td>...</td>\n",
       "      <td>10.5</td>\n",
       "      <td>7.9</td>\n",
       "      <td>2321373.00</td>\n",
       "      <td>79.98</td>\n",
       "      <td>-74.00</td>\n",
       "      <td>82.74</td>\n",
       "      <td>NaN</td>\n",
       "      <td>-28.25</td>\n",
       "      <td>2020</td>\n",
       "      <td>1</td>\n",
       "    </tr>\n",
       "    <tr>\n",
       "      <th>1</th>\n",
       "      <td>524 Particip</td>\n",
       "      <td>QVQP3</td>\n",
       "      <td>Empresa de eletricidade, gás e água</td>\n",
       "      <td>150.00</td>\n",
       "      <td>0.00</td>\n",
       "      <td>0.00</td>\n",
       "      <td>0.00</td>\n",
       "      <td>150.00</td>\n",
       "      <td>-0.00</td>\n",
       "      <td>0.00</td>\n",
       "      <td>...</td>\n",
       "      <td>NaN</td>\n",
       "      <td>NaN</td>\n",
       "      <td>150.00</td>\n",
       "      <td>-116.00</td>\n",
       "      <td>0.00</td>\n",
       "      <td>221.00</td>\n",
       "      <td>NaN</td>\n",
       "      <td>0.00</td>\n",
       "      <td>2020</td>\n",
       "      <td>1</td>\n",
       "    </tr>\n",
       "    <tr>\n",
       "      <th>2</th>\n",
       "      <td>Aco Altona</td>\n",
       "      <td>EALT3</td>\n",
       "      <td>Transformação de aço em produtos de aço</td>\n",
       "      <td>164.71</td>\n",
       "      <td>252.52</td>\n",
       "      <td>136.34</td>\n",
       "      <td>97.25</td>\n",
       "      <td>183.64</td>\n",
       "      <td>1.12</td>\n",
       "      <td>251.77</td>\n",
       "      <td>...</td>\n",
       "      <td>12.7</td>\n",
       "      <td>10.0</td>\n",
       "      <td>417.23</td>\n",
       "      <td>56.60</td>\n",
       "      <td>-33.79</td>\n",
       "      <td>-6.24</td>\n",
       "      <td>190.12</td>\n",
       "      <td>-2.46</td>\n",
       "      <td>2020</td>\n",
       "      <td>1</td>\n",
       "    </tr>\n",
       "    <tr>\n",
       "      <th>3</th>\n",
       "      <td>Aeris</td>\n",
       "      <td>AERI3</td>\n",
       "      <td>Indústria de motores, turbinas e transmissores...</td>\n",
       "      <td>1667824.00</td>\n",
       "      <td>702.80</td>\n",
       "      <td>942.38</td>\n",
       "      <td>462.00</td>\n",
       "      <td>966.25</td>\n",
       "      <td>3.58</td>\n",
       "      <td>2208702.00</td>\n",
       "      <td>...</td>\n",
       "      <td>9.3</td>\n",
       "      <td>5.1</td>\n",
       "      <td>2370629.00</td>\n",
       "      <td>-495.11</td>\n",
       "      <td>-296.16</td>\n",
       "      <td>1410121.00</td>\n",
       "      <td>7662135.00</td>\n",
       "      <td>-106.51</td>\n",
       "      <td>2020</td>\n",
       "      <td>1</td>\n",
       "    </tr>\n",
       "    <tr>\n",
       "      <th>4</th>\n",
       "      <td>Aesoperacoes</td>\n",
       "      <td>AESO3</td>\n",
       "      <td>Geração, transmissão e distribuição de energia...</td>\n",
       "      <td>1.92</td>\n",
       "      <td>239.00</td>\n",
       "      <td>0.00</td>\n",
       "      <td>0.00</td>\n",
       "      <td>2.15</td>\n",
       "      <td>-0.02</td>\n",
       "      <td>0.00</td>\n",
       "      <td>...</td>\n",
       "      <td>NaN</td>\n",
       "      <td>NaN</td>\n",
       "      <td>2.15</td>\n",
       "      <td>-14.00</td>\n",
       "      <td>7.00</td>\n",
       "      <td>0.00</td>\n",
       "      <td>NaN</td>\n",
       "      <td>0.00</td>\n",
       "      <td>2020</td>\n",
       "      <td>1</td>\n",
       "    </tr>\n",
       "  </tbody>\n",
       "</table>\n",
       "<p>5 rows × 26 columns</p>\n",
       "</div>"
      ],
      "text/plain": [
       "           nome codigo                                              setor  \\\n",
       "0       3tentos  TTEN3                Atividades auxiliares à agricultura   \n",
       "1  524 Particip  QVQP3                Empresa de eletricidade, gás e água   \n",
       "2    Aco Altona  EALT3            Transformação de aço em produtos de aço   \n",
       "3         Aeris  AERI3  Indústria de motores, turbinas e transmissores...   \n",
       "4  Aesoperacoes  AESO3  Geração, transmissão e distribuição de energia...   \n",
       "\n",
       "   ativo_circulante  ativo_nao_circulante  passivo_circulante  \\\n",
       "0        1770014.00                551.36          1365036.00   \n",
       "1            150.00                  0.00                0.00   \n",
       "2            164.71                252.52              136.34   \n",
       "3        1667824.00                702.80              942.38   \n",
       "4              1.92                239.00                0.00   \n",
       "\n",
       "   passivo_nao_circulante  patrimonio_liquido   lpa     receita  ...  \\\n",
       "0                  244.21              712.13  0.62  3112439.00  ...   \n",
       "1                    0.00              150.00 -0.00        0.00  ...   \n",
       "2                   97.25              183.64  1.12      251.77  ...   \n",
       "3                  462.00              966.25  3.58  2208702.00  ...   \n",
       "4                    0.00                2.15 -0.02        0.00  ...   \n",
       "\n",
       "   margem_ebit  margem_liquida  ativo_total  caixa_operacional  \\\n",
       "0         10.5             7.9   2321373.00              79.98   \n",
       "1          NaN             NaN       150.00            -116.00   \n",
       "2         12.7            10.0       417.23              56.60   \n",
       "3          9.3             5.1   2370629.00            -495.11   \n",
       "4          NaN             NaN         2.15             -14.00   \n",
       "\n",
       "   caixa_investimento  caixa_financeiro  valor_mercado  dividendos   ano  \\\n",
       "0              -74.00             82.74            NaN      -28.25  2020   \n",
       "1                0.00            221.00            NaN        0.00  2020   \n",
       "2              -33.79             -6.24         190.12       -2.46  2020   \n",
       "3             -296.16        1410121.00     7662135.00     -106.51  2020   \n",
       "4                7.00              0.00            NaN        0.00  2020   \n",
       "\n",
       "   pandemia  \n",
       "0         1  \n",
       "1         1  \n",
       "2         1  \n",
       "3         1  \n",
       "4         1  \n",
       "\n",
       "[5 rows x 26 columns]"
      ]
     },
     "execution_count": 284,
     "metadata": {},
     "output_type": "execute_result"
    }
   ],
   "source": [
    "df_economatica_correcao_tipagem.head()"
   ]
  },
  {
   "cell_type": "markdown",
   "metadata": {},
   "source": [
    "## Tratamento de nulos"
   ]
  },
  {
   "cell_type": "code",
   "execution_count": 285,
   "metadata": {
    "id": "SSuYCMnrCSjy"
   },
   "outputs": [],
   "source": [
    "def contar_e_exibir_nulos(df):\n",
    "    \"\"\"\n",
    "    Conta os valores nulos por coluna em um DataFrame e exibe as colunas com nulos.\n",
    "\n",
    "    Args:\n",
    "        df (pd.DataFrame): O DataFrame de entrada.\n",
    "    \"\"\"\n",
    "    null_counts = df.isnull().sum()\n",
    "    columns_with_nulls = null_counts[null_counts > 0]\n",
    "\n",
    "    print(\"Contagem de valores nulos por coluna (apenas colunas com nulos):\")\n",
    "    print(columns_with_nulls)\n",
    "    print(f'\\n{columns_with_nulls.sum()} células possuem valores nulos no total.')\n",
    "    num_linhas_com_nulos = df.isnull().any(axis=1).sum()\n",
    "    print(f\"Número de linhas com pelo menos um valor nulo: {num_linhas_com_nulos}\")"
   ]
  },
  {
   "cell_type": "code",
   "execution_count": 286,
   "metadata": {
    "colab": {
     "base_uri": "https://localhost:8080/"
    },
    "id": "VDBeXJt4-nLd",
    "outputId": "0b9c90e2-96c7-4575-8c2d-355f7c893711"
   },
   "outputs": [
    {
     "name": "stdout",
     "output_type": "stream",
     "text": [
      "Contagem de valores nulos por coluna (apenas colunas com nulos):\n",
      "ativo_circulante           89\n",
      "ativo_nao_circulante      128\n",
      "passivo_circulante         84\n",
      "passivo_nao_circulante    128\n",
      "patrimonio_liquido         44\n",
      "lpa                        45\n",
      "receita                   138\n",
      "lucro_liquido              44\n",
      "divida_bruta_ativo        138\n",
      "liquidez_corrente         118\n",
      "liquidez_geral            116\n",
      "rentabilidade_ativo        46\n",
      "roe                       276\n",
      "margem_ebit               211\n",
      "margem_liquida            124\n",
      "ativo_total                44\n",
      "caixa_operacional          47\n",
      "caixa_investimento         47\n",
      "caixa_financeiro           47\n",
      "valor_mercado             290\n",
      "dividendos                 97\n",
      "dtype: int64\n",
      "\n",
      "2301 células possuem valores nulos no total.\n",
      "Número de linhas com pelo menos um valor nulo: 648\n"
     ]
    }
   ],
   "source": [
    "contar_e_exibir_nulos(df_economatica_correcao_tipagem)"
   ]
  },
  {
   "cell_type": "markdown",
   "metadata": {
    "id": "mFuoJAowyqiH"
   },
   "source": [
    "São muitas células com valores nulos... Tentaremos adotar as seguintes abordagens:\n",
    "\n",
    "- criar uma matriz de correlação para eliminar variáveis altamente correlacionadas;\n",
    "- coletar as colunas derivadas a partir de cálculos de outras colunas e realizar os cálculos (mas para isso precisamos verificar antes se essa coluna utilizada no cálculo possui valor);\n",
    "- substituir valores nulos com base na média da linha (ex: ativo_circulante de 2020 até de 2023 possuem valores, mas 2024 não, logo coleto a média dos 4 anos para gerar o valor em 2024);\n",
    "- e por fim, eliminar as ações cujas linhas possuem valores nulos."
   ]
  },
  {
   "cell_type": "markdown",
   "metadata": {
    "id": "9KV4Cd5Qvhm7"
   },
   "source": [
    "### Matriz de Correlação"
   ]
  },
  {
   "cell_type": "markdown",
   "metadata": {
    "id": "kX7Ga_XpAMHG"
   },
   "source": [
    "Nessa etapa iremos selecionar as features que causam a multicolinearidade e remover a que tiver menos correlação com a variável target."
   ]
  },
  {
   "cell_type": "markdown",
   "metadata": {
    "id": "EzUaPnN0AjZ9"
   },
   "source": [
    "Primeiro selecionamos somente os valores númericos.\n",
    "\n",
    "Depois criamos uma função para calcular a correlação e exibir um mapa de calor conforme o ano."
   ]
  },
  {
   "cell_type": "code",
   "execution_count": 287,
   "metadata": {
    "id": "iouKQWuY_MEt"
   },
   "outputs": [],
   "source": [
    "df_numerico = df_economatica_correcao_tipagem[colunas_numericas].astype(float)"
   ]
  },
  {
   "cell_type": "code",
   "execution_count": 288,
   "metadata": {
    "id": "sC48I-akvsGD"
   },
   "outputs": [],
   "source": [
    "def calcular_e_exibir_correlacao(df: pd.DataFrame):\n",
    "    \"\"\"\n",
    "    Calcula e exibe a matriz de correlação para todas as colunas numéricas.\n",
    "    \n",
    "    Args:\n",
    "        df: DataFrame com os dados\n",
    "    \"\"\"\n",
    "    # Seleciona apenas colunas numéricas (excluindo colunas de identificação)\n",
    "    colunas_numericas_filtradas = [col for col in df.columns \n",
    "                                 if col not in ['nome', 'codigo', 'setor'] \n",
    "                                 and df[col].dtype in ['int64', 'float64', 'int32', 'float32']]\n",
    "    \n",
    "    if not colunas_numericas_filtradas:\n",
    "        print(\"Nenhuma coluna numérica encontrada\")\n",
    "        return\n",
    "    \n",
    "    # Seleciona apenas as colunas numéricas\n",
    "    df_numerico = df[colunas_numericas_filtradas]\n",
    "    \n",
    "    # Remove linhas com muitos NaN para melhorar a correlação\n",
    "    df_numerico_limpo = df_numerico.dropna(thresh=len(colunas_numericas_filtradas)*0.5)\n",
    "    \n",
    "    # Calcula a matriz de correlação\n",
    "    matriz_correlacao = df_numerico_limpo.corr()\n",
    "    \n",
    "    # Cria uma máscara para mostrar apenas o triângulo superior\n",
    "    mask = np.triu(np.ones_like(matriz_correlacao, dtype=bool))\n",
    "    \n",
    "    plt.figure(figsize=(20, 18))\n",
    "    sns.heatmap(matriz_correlacao, \n",
    "                mask=mask,\n",
    "                annot=True, \n",
    "                cmap=sns.cubehelix_palette(as_cmap=True),\n",
    "                fmt='.2f',\n",
    "                vmin=-1,\n",
    "                vmax=1,\n",
    "                linewidths=0.1)\n",
    "    plt.title(f'Matriz de Correlação')\n",
    "    plt.tight_layout()\n",
    "    plt.show()"
   ]
  },
  {
   "cell_type": "markdown",
   "metadata": {},
   "source": [
    "**SUBSTITUIR PELA VARIAVEL TARGET**"
   ]
  },
  {
   "cell_type": "code",
   "execution_count": 289,
   "metadata": {},
   "outputs": [],
   "source": [
    "def calcular_correlacao_com_receita(df: pd.DataFrame):\n",
    "    \"\"\"\n",
    "    Calcula e exibe a correlação de todas as variáveis numéricas com 'receita'.\n",
    "    \"\"\"\n",
    "    # Verifica se a coluna 'receita' existe\n",
    "    if 'receita' not in df.columns:\n",
    "        print(\"Coluna 'receita' não encontrada no DataFrame\")\n",
    "        return\n",
    "    \n",
    "    # Seleciona apenas colunas numéricas\n",
    "    df_numerico = df.select_dtypes(include=[np.number])\n",
    "    \n",
    "    # Calcula correlação com receita e ordena\n",
    "    correlacoes = df_numerico.corr()['receita'].drop('receita').sort_values(key=abs, ascending=False)\n",
    "    \n",
    "    # Heatmap vertical - correlação com receita\n",
    "    plt.figure(figsize=(8, 15))\n",
    "    \n",
    "    # Cria um DataFrame só com as correlações com receita\n",
    "    correlacoes_df = correlacoes.to_frame(name='Correlação com Receita')\n",
    "    \n",
    "    # Heatmap\n",
    "    sns.heatmap(correlacoes_df, \n",
    "                annot=True, \n",
    "                cmap=sns.cubehelix_palette(as_cmap=True),\n",
    "                center=0,\n",
    "                fmt='.3f',\n",
    "                cbar_kws={'label': 'Correlação'},\n",
    "                linewidths=0.5)\n",
    "    \n",
    "    plt.title('Correlação de todas as variáveis com RECEITA')\n",
    "    plt.ylabel('Variáveis')\n",
    "    plt.tight_layout()\n",
    "    plt.show()"
   ]
  },
  {
   "cell_type": "markdown",
   "metadata": {
    "id": "tNSQpJ34Ayud"
   },
   "source": [
    "Antes de sair selecionando as features com alta correlação, vamos definir um threshold (limiar) para considerar se está muito correlacionado ou não, sendo um dos nossos critérios de exclusão."
   ]
  },
  {
   "cell_type": "code",
   "execution_count": 290,
   "metadata": {
    "colab": {
     "base_uri": "https://localhost:8080/",
     "height": 1000
    },
    "id": "ccgfCcnOyydp",
    "outputId": "25fbc9af-df3e-4805-8f31-6bda174086ed"
   },
   "outputs": [
    {
     "data": {
      "image/png": "[encoded data removed]",
      "text/plain": [
       "<Figure size 2000x1800 with 2 Axes>"
      ]
     },
     "metadata": {},
     "output_type": "display_data"
    }
   ],
   "source": [
    "calcular_e_exibir_correlacao(df_economatica_correcao_tipagem)"
   ]
  },
  {
   "cell_type": "markdown",
   "metadata": {
    "id": "_SJDmM-Oy4Mw"
   },
   "source": [
    "Visualizando de forma geral, parece estar bem dividido entre fortemente correlacionadas ou não. Vamos considerar uma correlação sendo forte como seu valor acima de 0.85.\n",
    "\n",
    "As seguintes variáveis estão fortemente correlacionadas:\n",
    "- caixa_financeiro <- **0.91** -> dividendos\n",
    "- ano <- **-0.87** -> pandemia\n",
    "- margem_liquida <- **0.96** -> margem_ebit\n",
    "- receita <- **-0.83** -> dividendos\n",
    "- lucro_liquido <- **-0.90** -> dividendos\n",
    "- caixa_financeiro <- **-0.84** -> receita\n",
    "- caixa_financeiro <- **-0.84** -> lucro_liquido\n",
    "- caixa_operacional <- **0.81** -> patrimonio_liquido\n",
    "- caixa_operacional <- **0.90** -> receita\n",
    "- ativo_total <- **0.91** -> receita\n",
    "- lucro_liquido <- **0.81** -> patrimonio_liquido\n",
    "- lucro_liquido <- **0.80** -> receita\n",
    "- receita <- **0.87** -> patrimonio_liquido\n",
    "\n",
    "As seguintes variáveis não são consideradas, porque já estão marcadas para remover:\n",
    "- ativo_circulante\n",
    "- ativo_nao_circulante\n",
    "- passivo_circulante\n",
    "- passivo_nao_circulante"
   ]
  },
  {
   "cell_type": "code",
   "execution_count": 291,
   "metadata": {},
   "outputs": [
    {
     "data": {
      "image/png": "[encoded data removed]",
      "text/plain": [
       "<Figure size 800x1500 with 2 Axes>"
      ]
     },
     "metadata": {},
     "output_type": "display_data"
    }
   ],
   "source": [
    "calcular_correlacao_com_receita(df_economatica_correcao_tipagem)"
   ]
  },
  {
   "cell_type": "markdown",
   "metadata": {
    "id": "a6EpZeZNvlez"
   },
   "source": [
    "### Colunas derivadas"
   ]
  },
  {
   "cell_type": "markdown",
   "metadata": {
    "id": "62kZk2o8y7uJ"
   },
   "source": [
    "As colunas derivadas são:\n",
    "\n",
    "**Endividamento**:\n",
    "- divida_bruta_ativo_* → já está no dataset\n",
    "\n",
    "**Liquidez**:\n",
    "- liquidez_corrente_* = ativo_circulante_* / passivo_circulante_*\n",
    "- liquidez_geral_* = (ativo_circulante_* + ativo_nao_circulante_*) / (passivo_circulante_* + passivo_nao_circulante_*)\n",
    "\n",
    "**Rentabilidade**:\n",
    "- rentabilidade_ativo_* (ROA) = lucro_liquido_* / ((ativo_total_* + ativo_total*_(ano-1)) / 2)\n",
    "- roe_* = lucro_liquido_* / ((patrimonio_liquido_* + patrimonio_liquido*_(ano-1)) / 2)\n",
    "\n",
    "**Margens**:\n",
    "- margem_liquida_* = lucro_liquido_* / receita_*\n",
    "- margem_ebit_* → já está no dataset (mas não pode ser recalculada, pois falta ebit_*)\n",
    "\n",
    "**Lucro por Ação**:\n",
    "- lpa_* → já está no dataset (não dá para recalcular, pois falta numero_acoes_*)\n",
    "\n",
    "**Valor de Mercado da Empresa**:\n",
    "- valor_mercado_* → já está no dataset (não dá para recalcular, pois falta preco_acao_31dez_* e numero_acoes_*)\n"
   ]
  },
  {
   "cell_type": "markdown",
   "metadata": {
    "id": "gjrYXg4s3U72"
   },
   "source": [
    "#### Liquidez"
   ]
  },
  {
   "cell_type": "code",
   "execution_count": 292,
   "metadata": {
    "id": "v7veJ1FG3UEn"
   },
   "outputs": [],
   "source": [
    "def analisar_nulos_coluna_derivada(df, coluna_derivada, colunas_calculo):\n",
    "    \"\"\"\n",
    "    Analisa valores nulos em uma coluna derivada e verifica valores não nulos nas colunas de cálculo.\n",
    "\n",
    "    Args:\n",
    "        df (pd.DataFrame): O DataFrame de entrada.\n",
    "        coluna_derivada (str): O nome da coluna derivada (ex: 'liquidez_corrente').\n",
    "        colunas_calculo (list): Uma lista de nomes das colunas usadas para cálculo\n",
    "                               (ex: ['ativo_circulante', 'passivo_circulante']).\n",
    "    \"\"\"\n",
    "    print(f\"Análise de valores nulos para a coluna {coluna_derivada}:\")\n",
    "\n",
    "    # Verifica se a coluna derivada e as colunas de cálculo existem\n",
    "    if coluna_derivada in df.columns and all(c in df.columns for c in colunas_calculo):\n",
    "        # Filtra as linhas onde a coluna derivada é nula\n",
    "        linhas_com_nulos_derivada = df[df[coluna_derivada].isnull()]\n",
    "\n",
    "        # Constrói a condição para verificar se todas as colunas de cálculo não são nulas nessas linhas\n",
    "        if not linhas_com_nulos_derivada.empty:\n",
    "            condicao_nao_nula = linhas_com_nulos_derivada[colunas_calculo[0]].notnull()\n",
    "            for col_calc in colunas_calculo[1:]:\n",
    "                condicao_nao_nula = condicao_nao_nula & linhas_com_nulos_derivada[col_calc].notnull()\n",
    "\n",
    "            # Conta as linhas onde todas as colunas de cálculo não são nulas\n",
    "            contagem_nao_nula = linhas_com_nulos_derivada[condicao_nao_nula].shape[0]\n",
    "            \n",
    "            print(f\"Total de linhas com {coluna_derivada} nulo: {len(linhas_com_nulos_derivada)}\")\n",
    "            print(f\"Linhas com valores não nulos nas colunas de cálculo: {contagem_nao_nula}\")\n",
    "        else:\n",
    "            print(f\"Nenhuma linha com valor nulo encontrada em {coluna_derivada}\")\n",
    "    else:\n",
    "        colunas_faltando = [col for col in [coluna_derivada] + colunas_calculo if col not in df.columns]\n",
    "        print(f\"Colunas não encontradas no DataFrame: {colunas_faltando}\")"
   ]
  },
  {
   "cell_type": "code",
   "execution_count": 293,
   "metadata": {
    "colab": {
     "base_uri": "https://localhost:8080/"
    },
    "id": "ONyL454B5P7c",
    "outputId": "c86117b6-0b14-45c0-99cc-c9aeac674b44"
   },
   "outputs": [
    {
     "name": "stdout",
     "output_type": "stream",
     "text": [
      "Análise de valores nulos para a coluna liquidez_corrente:\n",
      "Total de linhas com liquidez_corrente nulo: 118\n",
      "Linhas com valores não nulos nas colunas de cálculo: 29\n"
     ]
    }
   ],
   "source": [
    "analisar_nulos_coluna_derivada(df_economatica_correcao_tipagem, 'liquidez_corrente', ['ativo_circulante', 'passivo_circulante'])"
   ]
  },
  {
   "cell_type": "code",
   "execution_count": 294,
   "metadata": {
    "colab": {
     "base_uri": "https://localhost:8080/"
    },
    "id": "Po9QWUh48MSk",
    "outputId": "24f818d2-d391-4ae3-dbe0-48af28b9500c"
   },
   "outputs": [
    {
     "name": "stdout",
     "output_type": "stream",
     "text": [
      "Calculados e preenchidos nulos para 'liquidez_corrente' onde 'ativo_circulante' e 'passivo_circulante' não eram nulos.\n"
     ]
    }
   ],
   "source": [
    "# Aplica a lógica para liquidez_corrente no dataset com ano como feature\n",
    "# Identifica as linhas onde a coluna derivada é nula e as colunas de cálculo não são nulas\n",
    "condicao = (df_economatica_correcao_tipagem['liquidez_corrente'].isnull()) & \\\n",
    "           (df_economatica_correcao_tipagem['ativo_circulante'].notnull()) & \\\n",
    "           (df_economatica_correcao_tipagem['passivo_circulante'].notnull()) & \\\n",
    "           (df_economatica_correcao_tipagem['passivo_circulante'] != 0) # Evita divisão por zero\n",
    "\n",
    "# Calcula o valor derivado\n",
    "valores_calculados = df_economatica_correcao_tipagem.loc[condicao].apply(\n",
    "    lambda row: row['ativo_circulante'] / row['passivo_circulante'], axis=1\n",
    ")\n",
    "\n",
    "# Aplica a função limpar_e_converter nos valores calculados e preenche os nulos\n",
    "df_economatica_correcao_tipagem.loc[condicao, 'liquidez_corrente'] = valores_calculados.apply(limpar_e_converter)\n",
    "\n",
    "print(f\"Calculados e preenchidos nulos para 'liquidez_corrente' onde 'ativo_circulante' e 'passivo_circulante' não eram nulos.\")"
   ]
  },
  {
   "cell_type": "code",
   "execution_count": 295,
   "metadata": {
    "colab": {
     "base_uri": "https://localhost:8080/"
    },
    "collapsed": true,
    "id": "6d80Y26l_ZQN",
    "outputId": "5ac7ae50-212e-4e26-f282-ece6355ea8f8"
   },
   "outputs": [
    {
     "name": "stdout",
     "output_type": "stream",
     "text": [
      "Contagem de valores nulos por coluna (apenas colunas com nulos):\n",
      "ativo_circulante           89\n",
      "ativo_nao_circulante      128\n",
      "passivo_circulante         84\n",
      "passivo_nao_circulante    128\n",
      "patrimonio_liquido         44\n",
      "lpa                        45\n",
      "receita                   138\n",
      "lucro_liquido              44\n",
      "divida_bruta_ativo        138\n",
      "liquidez_corrente         108\n",
      "liquidez_geral            116\n",
      "rentabilidade_ativo        46\n",
      "roe                       276\n",
      "margem_ebit               211\n",
      "margem_liquida            124\n",
      "ativo_total                44\n",
      "caixa_operacional          47\n",
      "caixa_investimento         47\n",
      "caixa_financeiro           47\n",
      "valor_mercado             290\n",
      "dividendos                 97\n",
      "dtype: int64\n",
      "\n",
      "2291 células possuem valores nulos no total.\n",
      "Número de linhas com pelo menos um valor nulo: 648\n"
     ]
    }
   ],
   "source": [
    "contar_e_exibir_nulos(df_economatica_correcao_tipagem)"
   ]
  },
  {
   "cell_type": "markdown",
   "metadata": {
    "id": "ECX3ia0T_bBr"
   },
   "source": [
    "Diminuimos em 10, as células nulas e nenhuma linha ainda..."
   ]
  },
  {
   "cell_type": "code",
   "execution_count": 297,
   "metadata": {
    "colab": {
     "base_uri": "https://localhost:8080/"
    },
    "collapsed": true,
    "id": "REAEqwyuCFUp",
    "outputId": "9a0ad1c7-ea79-492f-9f38-246525078527"
   },
   "outputs": [
    {
     "name": "stdout",
     "output_type": "stream",
     "text": [
      "Análise de valores nulos para a coluna liquidez_geral:\n",
      "Total de linhas com liquidez_geral nulo: 116\n",
      "Linhas com valores não nulos nas colunas de cálculo: 25\n"
     ]
    }
   ],
   "source": [
    "analisar_nulos_coluna_derivada(df_economatica_correcao_tipagem, 'liquidez_geral', ['ativo_circulante', 'ativo_nao_circulante', 'passivo_circulante', 'passivo_nao_circulante'])"
   ]
  },
  {
   "cell_type": "code",
   "execution_count": 298,
   "metadata": {
    "colab": {
     "base_uri": "https://localhost:8080/"
    },
    "id": "iTIgrHi8Aw_G",
    "outputId": "36a1421e-4bad-4769-a97e-adc4d739c7d8"
   },
   "outputs": [
    {
     "name": "stdout",
     "output_type": "stream",
     "text": [
      "Calculados e preenchidos nulos para 'liquidez_geral' onde as colunas de cálculo não eram nulas.\n"
     ]
    }
   ],
   "source": [
    "condicao = (df_economatica_correcao_tipagem['liquidez_geral'].isnull()) & \\\n",
    "           (df_economatica_correcao_tipagem['ativo_circulante'].notnull()) & \\\n",
    "           (df_economatica_correcao_tipagem['ativo_nao_circulante'].notnull()) & \\\n",
    "           (df_economatica_correcao_tipagem['passivo_circulante'].notnull()) & \\\n",
    "           (df_economatica_correcao_tipagem['passivo_nao_circulante'].notnull())\n",
    "\n",
    "# Calcula o divisor e evita divisão por zero\n",
    "divisor = df_economatica_correcao_tipagem.loc[condicao, 'passivo_circulante'] + df_economatica_correcao_tipagem.loc[condicao, 'passivo_nao_circulante']\n",
    "condicao = condicao & (divisor != 0)\n",
    "\n",
    "# Calcula o valor derivado\n",
    "valores_calculados = df_economatica_correcao_tipagem.loc[condicao].apply(\n",
    "    lambda row: (row['ativo_circulante'] + row['ativo_nao_circulante']) / (row['passivo_circulante'] + row['passivo_nao_circulante']), axis=1\n",
    ")\n",
    "\n",
    "# Aplica a função limpar_e_converter nos valores calculados e preenche os nulos\n",
    "df_economatica_correcao_tipagem.loc[condicao, 'liquidez_geral'] = valores_calculados.apply(limpar_e_converter)\n",
    "\n",
    "print(f\"Calculados e preenchidos nulos para 'liquidez_geral' onde as colunas de cálculo não eram nulas.\")"
   ]
  },
  {
   "cell_type": "code",
   "execution_count": 300,
   "metadata": {
    "colab": {
     "base_uri": "https://localhost:8080/"
    },
    "collapsed": true,
    "id": "4oWMHGgACQqX",
    "outputId": "c03ac95e-7aa7-4752-ecfd-021f4c08ffc8"
   },
   "outputs": [
    {
     "name": "stdout",
     "output_type": "stream",
     "text": [
      "Contagem de valores nulos por coluna (apenas colunas com nulos):\n",
      "ativo_circulante           89\n",
      "ativo_nao_circulante      128\n",
      "passivo_circulante         84\n",
      "passivo_nao_circulante    128\n",
      "patrimonio_liquido         44\n",
      "lpa                        45\n",
      "receita                   138\n",
      "lucro_liquido              44\n",
      "divida_bruta_ativo        138\n",
      "liquidez_corrente         108\n",
      "liquidez_geral            106\n",
      "rentabilidade_ativo        46\n",
      "roe                       276\n",
      "margem_ebit               211\n",
      "margem_liquida            124\n",
      "ativo_total                44\n",
      "caixa_operacional          47\n",
      "caixa_investimento         47\n",
      "caixa_financeiro           47\n",
      "valor_mercado             290\n",
      "dividendos                 97\n",
      "dtype: int64\n",
      "\n",
      "2281 células possuem valores nulos no total.\n",
      "Número de linhas com pelo menos um valor nulo: 648\n"
     ]
    }
   ],
   "source": [
    "contar_e_exibir_nulos(df_economatica_correcao_tipagem)"
   ]
  },
  {
   "cell_type": "markdown",
   "metadata": {
    "id": "a157Nteq_mAZ"
   },
   "source": [
    "Diminuimos em mais 10, e nenhuma linha recuperada 100% ainda..."
   ]
  },
  {
   "cell_type": "markdown",
   "metadata": {
    "id": "CoA5Cec6Ci3D"
   },
   "source": [
    "#### Margens"
   ]
  },
  {
   "cell_type": "code",
   "execution_count": 302,
   "metadata": {
    "colab": {
     "base_uri": "https://localhost:8080/"
    },
    "id": "qtP7sg9ADcR4",
    "outputId": "b690a54d-fdac-4af5-ea33-ce5f7cf010b0"
   },
   "outputs": [
    {
     "name": "stdout",
     "output_type": "stream",
     "text": [
      "Análise de valores nulos para a coluna margem_liquida:\n",
      "Total de linhas com margem_liquida nulo: 124\n",
      "Linhas com valores não nulos nas colunas de cálculo: 73\n"
     ]
    }
   ],
   "source": [
    "analisar_nulos_coluna_derivada(df_economatica_correcao_tipagem, 'margem_liquida', ['lucro_liquido', 'receita'])"
   ]
  },
  {
   "cell_type": "code",
   "execution_count": 303,
   "metadata": {
    "colab": {
     "base_uri": "https://localhost:8080/"
    },
    "id": "oo719nDhDMba",
    "outputId": "637d24fd-42b4-4249-83ad-93670414abcf"
   },
   "outputs": [
    {
     "name": "stdout",
     "output_type": "stream",
     "text": [
      "Calculados e preenchidos nulos para 'margem_liquida' onde 'lucro_liquido' e 'receita' não eram nulos.\n"
     ]
    }
   ],
   "source": [
    "# Aplica a lógica para margem_liquida no dataset com ano como feature\n",
    "# Identifica as linhas onde a coluna derivada é nula e as colunas de cálculo não são nulas\n",
    "condicao = (df_economatica_correcao_tipagem['margem_liquida'].isnull()) & \\\n",
    "           (df_economatica_correcao_tipagem['lucro_liquido'].notnull()) & \\\n",
    "           (df_economatica_correcao_tipagem['receita'].notnull()) & \\\n",
    "           (df_economatica_correcao_tipagem['receita'] != 0) # Evita divisão por zero\n",
    "\n",
    "# Calcula o valor derivado\n",
    "valores_calculados = df_economatica_correcao_tipagem.loc[condicao].apply(\n",
    "    lambda row: row['lucro_liquido'] / row['receita'], axis=1\n",
    ")\n",
    "\n",
    "# Aplica a função limpar_e_converter nos valores calculados e preenche os nulos\n",
    "df_economatica_correcao_tipagem.loc[condicao, 'margem_liquida'] = valores_calculados.apply(limpar_e_converter)\n",
    "\n",
    "print(f\"Calculados e preenchidos nulos para 'margem_liquida' onde 'lucro_liquido' e 'receita' não eram nulos.\")"
   ]
  },
  {
   "cell_type": "code",
   "execution_count": 305,
   "metadata": {
    "colab": {
     "base_uri": "https://localhost:8080/"
    },
    "id": "F277B9K6D0G8",
    "outputId": "65df09c0-3f58-4fc9-a025-789e5924528f"
   },
   "outputs": [
    {
     "name": "stdout",
     "output_type": "stream",
     "text": [
      "Contagem de valores nulos por coluna (apenas colunas com nulos):\n",
      "ativo_circulante           89\n",
      "ativo_nao_circulante      128\n",
      "passivo_circulante         84\n",
      "passivo_nao_circulante    128\n",
      "patrimonio_liquido         44\n",
      "lpa                        45\n",
      "receita                   138\n",
      "lucro_liquido              44\n",
      "divida_bruta_ativo        138\n",
      "liquidez_corrente         108\n",
      "liquidez_geral            106\n",
      "rentabilidade_ativo        46\n",
      "roe                       276\n",
      "margem_ebit               211\n",
      "margem_liquida            123\n",
      "ativo_total                44\n",
      "caixa_operacional          47\n",
      "caixa_investimento         47\n",
      "caixa_financeiro           47\n",
      "valor_mercado             290\n",
      "dividendos                 97\n",
      "dtype: int64\n",
      "\n",
      "2280 células possuem valores nulos no total.\n",
      "Número de linhas com pelo menos um valor nulo: 648\n"
     ]
    }
   ],
   "source": [
    "contar_e_exibir_nulos(df_economatica_correcao_tipagem)"
   ]
  },
  {
   "cell_type": "markdown",
   "metadata": {
    "id": "ypN7QaOlD1se"
   },
   "source": [
    "Eliminamos incríveis 1 resultados."
   ]
  },
  {
   "cell_type": "markdown",
   "metadata": {
    "id": "Wv3lmdUOEAK8"
   },
   "source": [
    "#### Rentabilidade"
   ]
  },
  {
   "cell_type": "code",
   "execution_count": 306,
   "metadata": {
    "colab": {
     "base_uri": "https://localhost:8080/"
    },
    "id": "ZjNdKRx_EXTj",
    "outputId": "3dfac81a-676b-41e2-ed40-a99bfdf99c05"
   },
   "outputs": [
    {
     "name": "stdout",
     "output_type": "stream",
     "text": [
      "Análise de valores nulos para a coluna rentabilidade_ativo:\n",
      "Total de linhas com rentabilidade_ativo nulo: 46\n",
      "Linhas com valores não nulos nas colunas de cálculo: 1\n"
     ]
    }
   ],
   "source": [
    "analisar_nulos_coluna_derivada(df_economatica_correcao_tipagem, 'rentabilidade_ativo', ['lucro_liquido', 'ativo_total'])"
   ]
  },
  {
   "cell_type": "code",
   "execution_count": 313,
   "metadata": {
    "colab": {
     "base_uri": "https://localhost:8080/"
    },
    "id": "F9zr4fGxEFOy",
    "outputId": "7a0f11e7-9276-4fda-a5df-53bd537565fb"
   },
   "outputs": [
    {
     "name": "stdout",
     "output_type": "stream",
     "text": [
      "Calculados e preenchidos nulos para 'rentabilidade_ativo' onde as colunas de cálculo não eram nulas.\n"
     ]
    }
   ],
   "source": [
    "# Aplica a lógica para rentabilidade_ativo no dataset com ano como feature\n",
    "# Para calcular ROA, precisamos do ativo total do ano anterior, então criamos um DataFrame auxiliar\n",
    "df_economatica_sorted = df_economatica_correcao_tipagem.sort_values(['codigo', 'ano']).copy()\n",
    "df_economatica_sorted['ativo_total_anterior'] = df_economatica_sorted.groupby('codigo')['ativo_total'].shift(1)\n",
    "\n",
    "# Identifica as linhas onde a coluna derivada é nula e as colunas de cálculo não são nulas\n",
    "condicao = (df_economatica_sorted['rentabilidade_ativo'].isnull()) & \\\n",
    "           (df_economatica_sorted['lucro_liquido'].notnull()) & \\\n",
    "           (df_economatica_sorted['ativo_total'].notnull()) & \\\n",
    "           (df_economatica_sorted['ativo_total_anterior'].notnull()) & \\\n",
    "           (df_economatica_sorted['ano'] > 2020)  # Só calcula a partir de 2021\n",
    "\n",
    "# Calcula o denominador (média do ativo total atual e anterior) e evita divisão por zero\n",
    "denominador = (df_economatica_sorted.loc[condicao, 'ativo_total'] + df_economatica_sorted.loc[condicao, 'ativo_total_anterior']) / 2\n",
    "condicao = condicao & (denominador != 0)\n",
    "\n",
    "# Calcula o valor derivado\n",
    "valores_calculados = df_economatica_sorted.loc[condicao].apply(\n",
    "    lambda row: row['lucro_liquido'] / ((row['ativo_total'] + row['ativo_total_anterior']) / 2), axis=1\n",
    ")\n",
    "\n",
    "# Aplica a função limpar_e_converter nos valores calculados e preenche os nulos\n",
    "df_economatica_sorted.loc[condicao, 'rentabilidade_ativo'] = valores_calculados.apply(limpar_e_converter)\n",
    "\n",
    "# Atualiza o DataFrame original\n",
    "df_economatica_correcao_tipagem = df_economatica_sorted.drop(columns=['ativo_total_anterior']).copy()\n",
    "\n",
    "print(f\"Calculados e preenchidos nulos para 'rentabilidade_ativo' onde as colunas de cálculo não eram nulas.\")"
   ]
  },
  {
   "cell_type": "code",
   "execution_count": 314,
   "metadata": {
    "colab": {
     "base_uri": "https://localhost:8080/"
    },
    "collapsed": true,
    "id": "2Q6_UqvoEdZV",
    "outputId": "c3d38e74-a809-45e8-f368-0222a19d232f"
   },
   "outputs": [
    {
     "name": "stdout",
     "output_type": "stream",
     "text": [
      "Contagem de valores nulos por coluna (apenas colunas com nulos):\n",
      "ativo_circulante           89\n",
      "ativo_nao_circulante      128\n",
      "passivo_circulante         84\n",
      "passivo_nao_circulante    128\n",
      "patrimonio_liquido         44\n",
      "lpa                        45\n",
      "receita                   138\n",
      "lucro_liquido              44\n",
      "divida_bruta_ativo        138\n",
      "liquidez_corrente         108\n",
      "liquidez_geral            106\n",
      "rentabilidade_ativo        46\n",
      "roe                       276\n",
      "margem_ebit               211\n",
      "margem_liquida            123\n",
      "ativo_total                44\n",
      "caixa_operacional          47\n",
      "caixa_investimento         47\n",
      "caixa_financeiro           47\n",
      "valor_mercado             290\n",
      "dividendos                 97\n",
      "dtype: int64\n",
      "\n",
      "2280 células possuem valores nulos no total.\n",
      "Número de linhas com pelo menos um valor nulo: 648\n"
     ]
    }
   ],
   "source": [
    "contar_e_exibir_nulos(df_economatica_correcao_tipagem)"
   ]
  },
  {
   "cell_type": "code",
   "execution_count": 310,
   "metadata": {
    "colab": {
     "base_uri": "https://localhost:8080/"
    },
    "id": "CvtzRAXCEw2N",
    "outputId": "d2049ae5-7461-4adb-b5cd-53561303a257"
   },
   "outputs": [
    {
     "name": "stdout",
     "output_type": "stream",
     "text": [
      "Análise de valores nulos para a coluna roe:\n",
      "Total de linhas com roe nulo: 276\n",
      "Linhas com valores não nulos nas colunas de cálculo: 231\n"
     ]
    }
   ],
   "source": [
    "analisar_nulos_coluna_derivada(df_economatica_correcao_tipagem, 'roe', ['lucro_liquido', 'patrimonio_liquido'])"
   ]
  },
  {
   "cell_type": "code",
   "execution_count": 315,
   "metadata": {
    "colab": {
     "base_uri": "https://localhost:8080/"
    },
    "id": "oFl5dM9oEkP3",
    "outputId": "c08c60f1-1464-432c-a9d3-61668faaf5e6"
   },
   "outputs": [
    {
     "name": "stdout",
     "output_type": "stream",
     "text": [
      "Calculados e preenchidos nulos para 'roe' onde as colunas de cálculo não eram nulas.\n"
     ]
    }
   ],
   "source": [
    "# Aplica a lógica para roe no dataset com ano como feature\n",
    "# Para calcular ROE, precisamos do patrimônio líquido do ano anterior\n",
    "df_economatica_sorted = df_economatica_correcao_tipagem.sort_values(['codigo', 'ano']).copy()\n",
    "df_economatica_sorted['patrimonio_liquido_anterior'] = df_economatica_sorted.groupby('codigo')['patrimonio_liquido'].shift(1)\n",
    "\n",
    "# Identifica as linhas onde a coluna derivada é nula e as colunas de cálculo não são nulas\n",
    "condicao = (df_economatica_sorted['roe'].isnull()) & \\\n",
    "           (df_economatica_sorted['lucro_liquido'].notnull()) & \\\n",
    "           (df_economatica_sorted['patrimonio_liquido'].notnull()) & \\\n",
    "           (df_economatica_sorted['patrimonio_liquido_anterior'].notnull()) & \\\n",
    "           (df_economatica_sorted['ano'] > 2020)  # Só calcula a partir de 2021\n",
    "\n",
    "# Calcula o denominador (média do patrimônio líquido atual e anterior) e evita divisão por zero\n",
    "denominador = (df_economatica_sorted.loc[condicao, 'patrimonio_liquido'] + df_economatica_sorted.loc[condicao, 'patrimonio_liquido_anterior']) / 2\n",
    "condicao = condicao & (denominador != 0)\n",
    "\n",
    "# Calcula o valor derivado\n",
    "valores_calculados = df_economatica_sorted.loc[condicao].apply(\n",
    "    lambda row: row['lucro_liquido'] / ((row['patrimonio_liquido'] + row['patrimonio_liquido_anterior']) / 2), axis=1\n",
    ")\n",
    "\n",
    "# Aplica a função limpar_e_converter nos valores calculados e preenche os nulos\n",
    "df_economatica_sorted.loc[condicao, 'roe'] = valores_calculados.apply(limpar_e_converter)\n",
    "\n",
    "# Atualiza o DataFrame original\n",
    "df_economatica_correcao_tipagem = df_economatica_sorted.drop(columns=['patrimonio_liquido_anterior']).copy()\n",
    "\n",
    "print(f\"Calculados e preenchidos nulos para 'roe' onde as colunas de cálculo não eram nulas.\")"
   ]
  },
  {
   "cell_type": "code",
   "execution_count": 317,
   "metadata": {
    "colab": {
     "base_uri": "https://localhost:8080/"
    },
    "collapsed": true,
    "id": "xJM1YKilE0kF",
    "outputId": "7962a974-d95f-47ed-84a9-330b8694112c"
   },
   "outputs": [
    {
     "name": "stdout",
     "output_type": "stream",
     "text": [
      "Contagem de valores nulos por coluna (apenas colunas com nulos):\n",
      "ativo_circulante           89\n",
      "ativo_nao_circulante      128\n",
      "passivo_circulante         84\n",
      "passivo_nao_circulante    128\n",
      "patrimonio_liquido         44\n",
      "lpa                        45\n",
      "receita                   138\n",
      "lucro_liquido              44\n",
      "divida_bruta_ativo        138\n",
      "liquidez_corrente         108\n",
      "liquidez_geral            106\n",
      "rentabilidade_ativo        46\n",
      "roe                       107\n",
      "margem_ebit               211\n",
      "margem_liquida            123\n",
      "ativo_total                44\n",
      "caixa_operacional          47\n",
      "caixa_investimento         47\n",
      "caixa_financeiro           47\n",
      "valor_mercado             290\n",
      "dividendos                 97\n",
      "dtype: int64\n",
      "\n",
      "2111 células possuem valores nulos no total.\n",
      "Número de linhas com pelo menos um valor nulo: 509\n"
     ]
    }
   ],
   "source": [
    "contar_e_exibir_nulos(df_economatica_correcao_tipagem)"
   ]
  },
  {
   "cell_type": "markdown",
   "metadata": {},
   "source": [
    "Aqui já obtivemos resultados significativos, de 648 linhas com valores nulos, fomos para 509."
   ]
  },
  {
   "cell_type": "markdown",
   "metadata": {},
   "source": [
    "#### Remover colunas de ativo/passivo "
   ]
  },
  {
   "cell_type": "code",
   "execution_count": 329,
   "metadata": {},
   "outputs": [],
   "source": [
    "df_economatica_correcao_tipagem.drop(columns=['ativo_circulante', 'ativo_nao_circulante', 'passivo_circulante', 'passivo_nao_circulante'], inplace=True)"
   ]
  },
  {
   "cell_type": "markdown",
   "metadata": {},
   "source": [
    "### Preenchimento com base em média"
   ]
  },
  {
   "cell_type": "code",
   "execution_count": 330,
   "metadata": {},
   "outputs": [],
   "source": [
    "def identificar_features_com_nulo_unico_ano(df):\n",
    "    \"\"\"\n",
    "    Identifica features onde há ações que possuem valores nulos em apenas um dos cinco anos (2020-2024).\n",
    "    \n",
    "    Args:\n",
    "        df (pd.DataFrame): DataFrame com dados organizados por ano\n",
    "        \n",
    "    Returns:\n",
    "        dict: Dicionário com features como chave e lista de códigos de ações que atendem o critério\n",
    "    \"\"\"\n",
    "    # Colunas que são features numéricas (excluindo identificadores e categóricas)\n",
    "    features_numericas = [col for col in df.columns if col not in ['nome', 'codigo', 'setor', 'ano', 'pandemia']]\n",
    "    \n",
    "    resultado = {}\n",
    "    \n",
    "    for feature in features_numericas:\n",
    "        acoes_com_nulo_unico = []\n",
    "        \n",
    "        # Agrupa por código da ação\n",
    "        for codigo, grupo in df.groupby('codigo'):\n",
    "            # Verifica se há exatamente 5 anos de dados (2020-2024)\n",
    "            if len(grupo) == 5:\n",
    "                # Conta quantos valores nulos existem para essa feature\n",
    "                nulos_count = grupo[feature].isnull().sum()\n",
    "                \n",
    "                # Se há exatamente 1 valor nulo (nulo em apenas um ano)\n",
    "                if nulos_count == 1:\n",
    "                    acoes_com_nulo_unico.append(codigo)\n",
    "        \n",
    "        # Se há ações que atendem o critério, adiciona ao resultado\n",
    "        if acoes_com_nulo_unico:\n",
    "            resultado[feature] = acoes_com_nulo_unico\n",
    "    \n",
    "    return resultado"
   ]
  },
  {
   "cell_type": "code",
   "execution_count": 331,
   "metadata": {},
   "outputs": [],
   "source": [
    "def exibir_relatorio_nulos_unicos(df):\n",
    "    \"\"\"\n",
    "    Exibe um relatório detalhado das features com nulos únicos.\n",
    "    \n",
    "    Args:\n",
    "        df (pd.DataFrame): DataFrame com dados organizados por ano\n",
    "    \"\"\"\n",
    "    resultado = identificar_features_com_nulo_unico_ano(df)\n",
    "    \n",
    "    if not resultado:\n",
    "        print(\"Nenhuma feature possui ações com nulo em apenas um ano.\")\n",
    "        return\n",
    "    \n",
    "    print(\"=== RELATÓRIO: Features com nulos em apenas um ano ===\\n\")\n",
    "    \n",
    "    # Lista apenas os nomes das features\n",
    "    features_com_nulo_unico = list(resultado.keys())\n",
    "    print(f\"Total de features identificadas: {len(features_com_nulo_unico)}\")\n",
    "    print(f\"Features: {features_com_nulo_unico}\\n\")\n",
    "    \n",
    "    # Relatório detalhado por feature\n",
    "    for feature, acoes in resultado.items():\n",
    "        print(f\"Feature: '{feature}'\")\n",
    "        print(f\"  - Quantidade de ações afetadas: {len(acoes)}\")\n",
    "        print(f\"  - Códigos das ações: {acoes[:10]}{'...' if len(acoes) > 10 else ''}\")\n",
    "        \n",
    "        # Mostra em qual ano está o nulo para as primeiras 3 ações\n",
    "        print(\"  - Detalhes dos primeiros casos:\")\n",
    "        for i, codigo in enumerate(acoes[:3]):\n",
    "            dados_acao = df[df['codigo'] == codigo][['ano', feature]]\n",
    "            ano_nulo = dados_acao[dados_acao[feature].isnull()]['ano'].iloc[0]\n",
    "            print(f\"    * {codigo}: nulo no ano {ano_nulo}\")\n",
    "        print()\n",
    "    \n",
    "    return features_com_nulo_unico"
   ]
  },
  {
   "cell_type": "code",
   "execution_count": 332,
   "metadata": {},
   "outputs": [
    {
     "name": "stdout",
     "output_type": "stream",
     "text": [
      "=== RELATÓRIO: Features com nulos em apenas um ano ===\n",
      "\n",
      "Total de features identificadas: 17\n",
      "Features: ['patrimonio_liquido', 'lpa', 'receita', 'lucro_liquido', 'divida_bruta_ativo', 'liquidez_corrente', 'liquidez_geral', 'rentabilidade_ativo', 'roe', 'margem_ebit', 'margem_liquida', 'ativo_total', 'caixa_operacional', 'caixa_investimento', 'caixa_financeiro', 'valor_mercado', 'dividendos']\n",
      "\n",
      "Feature: 'patrimonio_liquido'\n",
      "  - Quantidade de ações afetadas: 17\n",
      "  - Códigos das ações: ['AGXY3', 'AURE3', 'BBML3', 'BOBR3', 'BSLI3', 'CTNM3', 'CTSA3', 'FIEI3', 'FIGE3', 'GEPA3']...\n",
      "  - Detalhes dos primeiros casos:\n",
      "    * AGXY3: nulo no ano 2024\n",
      "    * AURE3: nulo no ano 2020\n",
      "    * BBML3: nulo no ano 2024\n",
      "\n",
      "Feature: 'lpa'\n",
      "  - Quantidade de ações afetadas: 17\n",
      "  - Códigos das ações: ['AGXY3', 'AURE3', 'BBML3', 'BOBR3', 'BSLI3', 'CTNM3', 'CTSA3', 'FIEI3', 'FIGE3', 'JALL3']...\n",
      "  - Detalhes dos primeiros casos:\n",
      "    * AGXY3: nulo no ano 2024\n",
      "    * AURE3: nulo no ano 2020\n",
      "    * BBML3: nulo no ano 2024\n",
      "\n",
      "Feature: 'receita'\n",
      "  - Quantidade de ações afetadas: 15\n",
      "  - Códigos das ações: ['AGXY3', 'AURE3', 'BBML3', 'BOBR3', 'CTNM3', 'CTSA3', 'FIEI3', 'OPTS3', 'REAG3', 'RSID3']...\n",
      "  - Detalhes dos primeiros casos:\n",
      "    * AGXY3: nulo no ano 2024\n",
      "    * AURE3: nulo no ano 2020\n",
      "    * BBML3: nulo no ano 2024\n",
      "\n",
      "Feature: 'lucro_liquido'\n",
      "  - Quantidade de ações afetadas: 16\n",
      "  - Códigos das ações: ['AGXY3', 'AURE3', 'BBML3', 'BOBR3', 'BSLI3', 'CTNM3', 'CTSA3', 'FIEI3', 'FIGE3', 'REAG3']...\n",
      "  - Detalhes dos primeiros casos:\n",
      "    * AGXY3: nulo no ano 2024\n",
      "    * AURE3: nulo no ano 2020\n",
      "    * BBML3: nulo no ano 2024\n",
      "\n",
      "Feature: 'divida_bruta_ativo'\n",
      "  - Quantidade de ações afetadas: 16\n",
      "  - Códigos das ações: ['AGXY3', 'AURE3', 'BBML3', 'BOBR3', 'CTNM3', 'CTSA3', 'FIEI3', 'GEPA3', 'OPTS3', 'REAG3']...\n",
      "  - Detalhes dos primeiros casos:\n",
      "    * AGXY3: nulo no ano 2024\n",
      "    * AURE3: nulo no ano 2020\n",
      "    * BBML3: nulo no ano 2024\n",
      "\n",
      "Feature: 'liquidez_corrente'\n",
      "  - Quantidade de ações afetadas: 19\n",
      "  - Códigos das ações: ['AESO3', 'AGXY3', 'AURE3', 'BBML3', 'BOBR3', 'CTNM3', 'CTSA3', 'FIEI3', 'GEPA3', 'OPSE3']...\n",
      "  - Detalhes dos primeiros casos:\n",
      "    * AESO3: nulo no ano 2020\n",
      "    * AGXY3: nulo no ano 2024\n",
      "    * AURE3: nulo no ano 2020\n",
      "\n",
      "Feature: 'liquidez_geral'\n",
      "  - Quantidade de ações afetadas: 18\n",
      "  - Códigos das ações: ['AESO3', 'AGXY3', 'AURE3', 'BBML3', 'BOBR3', 'CTNM3', 'CTSA3', 'FIEI3', 'GEPA3', 'OPSE3']...\n",
      "  - Detalhes dos primeiros casos:\n",
      "    * AESO3: nulo no ano 2020\n",
      "    * AGXY3: nulo no ano 2024\n",
      "    * AURE3: nulo no ano 2020\n",
      "\n",
      "Feature: 'rentabilidade_ativo'\n",
      "  - Quantidade de ações afetadas: 18\n",
      "  - Códigos das ações: ['AGXY3', 'AURE3', 'BBML3', 'BOBR3', 'BSLI3', 'CTNM3', 'CTSA3', 'FIEI3', 'FIGE3', 'GEPA3']...\n",
      "  - Detalhes dos primeiros casos:\n",
      "    * AGXY3: nulo no ano 2024\n",
      "    * AURE3: nulo no ano 2020\n",
      "    * BBML3: nulo no ano 2024\n",
      "\n",
      "Feature: 'roe'\n",
      "  - Quantidade de ações afetadas: 57\n",
      "  - Códigos das ações: ['AESO3', 'AGXY3', 'AZEV3', 'BBML3', 'BDLL3', 'BEEF3', 'BMOB3', 'BRKM3', 'BSLI3', 'CASH3']...\n",
      "  - Detalhes dos primeiros casos:\n",
      "    * AESO3: nulo no ano 2020\n",
      "    * AGXY3: nulo no ano 2024\n",
      "    * AZEV3: nulo no ano 2020\n",
      "\n",
      "Feature: 'margem_ebit'\n",
      "  - Quantidade de ações afetadas: 18\n",
      "  - Códigos das ações: ['AESO3', 'AGXY3', 'AURE3', 'BBML3', 'BOBR3', 'CTNM3', 'CTSA3', 'FICT3', 'FIEI3', 'HMOB3']...\n",
      "  - Detalhes dos primeiros casos:\n",
      "    * AESO3: nulo no ano 2020\n",
      "    * AGXY3: nulo no ano 2024\n",
      "    * AURE3: nulo no ano 2020\n",
      "\n",
      "Feature: 'margem_liquida'\n",
      "  - Quantidade de ações afetadas: 18\n",
      "  - Códigos das ações: ['AESO3', 'AGXY3', 'AURE3', 'BBML3', 'BOBR3', 'BSLI3', 'CTNM3', 'CTSA3', 'FICT3', 'FIEI3']...\n",
      "  - Detalhes dos primeiros casos:\n",
      "    * AESO3: nulo no ano 2020\n",
      "    * AGXY3: nulo no ano 2024\n",
      "    * AURE3: nulo no ano 2020\n",
      "\n",
      "Feature: 'ativo_total'\n",
      "  - Quantidade de ações afetadas: 17\n",
      "  - Códigos das ações: ['AGXY3', 'AURE3', 'BBML3', 'BOBR3', 'BSLI3', 'CTNM3', 'CTSA3', 'FIEI3', 'FIGE3', 'GEPA3']...\n",
      "  - Detalhes dos primeiros casos:\n",
      "    * AGXY3: nulo no ano 2024\n",
      "    * AURE3: nulo no ano 2020\n",
      "    * BBML3: nulo no ano 2024\n",
      "\n",
      "Feature: 'caixa_operacional'\n",
      "  - Quantidade de ações afetadas: 17\n",
      "  - Códigos das ações: ['AGXY3', 'AURE3', 'BBML3', 'BOBR3', 'BSLI3', 'CTNM3', 'CTSA3', 'FIEI3', 'FIGE3', 'JALL3']...\n",
      "  - Detalhes dos primeiros casos:\n",
      "    * AGXY3: nulo no ano 2024\n",
      "    * AURE3: nulo no ano 2020\n",
      "    * BBML3: nulo no ano 2024\n",
      "\n",
      "Feature: 'caixa_investimento'\n",
      "  - Quantidade de ações afetadas: 17\n",
      "  - Códigos das ações: ['AGXY3', 'AURE3', 'BBML3', 'BOBR3', 'BSLI3', 'CTNM3', 'CTSA3', 'FIEI3', 'FIGE3', 'JALL3']...\n",
      "  - Detalhes dos primeiros casos:\n",
      "    * AGXY3: nulo no ano 2024\n",
      "    * AURE3: nulo no ano 2020\n",
      "    * BBML3: nulo no ano 2024\n",
      "\n",
      "Feature: 'caixa_financeiro'\n",
      "  - Quantidade de ações afetadas: 17\n",
      "  - Códigos das ações: ['AGXY3', 'AURE3', 'BBML3', 'BOBR3', 'BSLI3', 'CTNM3', 'CTSA3', 'FIEI3', 'FIGE3', 'JALL3']...\n",
      "  - Detalhes dos primeiros casos:\n",
      "    * AGXY3: nulo no ano 2024\n",
      "    * AURE3: nulo no ano 2020\n",
      "    * BBML3: nulo no ano 2024\n",
      "\n",
      "Feature: 'valor_mercado'\n",
      "  - Quantidade de ações afetadas: 39\n",
      "  - Códigos das ações: ['AGXY3', 'ALLD3', 'ALPK3', 'ARML3', 'ASAI3', 'BLAU3', 'BMOB3', 'CBAV3', 'CEED3', 'CSAN3']...\n",
      "  - Detalhes dos primeiros casos:\n",
      "    * AGXY3: nulo no ano 2020\n",
      "    * ALLD3: nulo no ano 2020\n",
      "    * ALPK3: nulo no ano 2021\n",
      "\n",
      "Feature: 'dividendos'\n",
      "  - Quantidade de ações afetadas: 17\n",
      "  - Códigos das ações: ['AURE3', 'BBML3', 'BOBR3', 'CTCA3', 'CTNM3', 'CTSA3', 'FIGE3', 'GMAT3', 'GPAR3', 'OPSE3']...\n",
      "  - Detalhes dos primeiros casos:\n",
      "    * AURE3: nulo no ano 2020\n",
      "    * BBML3: nulo no ano 2024\n",
      "    * BOBR3: nulo no ano 2024\n",
      "\n"
     ]
    }
   ],
   "source": [
    "features_nulo_unico = exibir_relatorio_nulos_unicos(df_economatica_correcao_tipagem)"
   ]
  },
  {
   "cell_type": "code",
   "execution_count": 333,
   "metadata": {},
   "outputs": [],
   "source": [
    "def preencher_nulos_com_media_temporal(df):\n",
    "    \"\"\"\n",
    "    Preenche valores nulos com a média dos outros anos para ações que possuem \n",
    "    exatamente 1 valor nulo em uma feature (4 valores válidos e 1 nulo).\n",
    "    \n",
    "    Args:\n",
    "        df (pd.DataFrame): DataFrame com dados organizados por ano\n",
    "        \n",
    "    Returns:\n",
    "        pd.DataFrame: DataFrame com os valores nulos preenchidos\n",
    "        dict: Relatório das alterações realizadas\n",
    "    \"\"\"\n",
    "    df_resultado = df.copy()\n",
    "    relatorio = {\n",
    "        'features_processadas': [],\n",
    "        'total_valores_preenchidos': 0,\n",
    "        'detalhes_por_feature': {}\n",
    "    }\n",
    "    \n",
    "    # Identifica features com nulos únicos\n",
    "    features_com_nulo_unico = identificar_features_com_nulo_unico_ano(df)\n",
    "    \n",
    "    if not features_com_nulo_unico:\n",
    "        print(\"Nenhuma feature encontrada com o critério de 1 nulo em 5 anos.\")\n",
    "        return df_resultado, relatorio\n",
    "    \n",
    "    print(\"=== PREENCHIMENTO COM MÉDIA TEMPORAL ===\\n\")\n",
    "    \n",
    "    for feature, acoes_afetadas in features_com_nulo_unico.items():\n",
    "        valores_preenchidos = 0\n",
    "        detalhes_acoes = []\n",
    "        \n",
    "        print(f\"Processando feature: '{feature}'\")\n",
    "        print(f\"  - Ações afetadas: {len(acoes_afetadas)}\")\n",
    "        \n",
    "        for codigo in acoes_afetadas:\n",
    "            # Obtém os dados da ação para todos os anos\n",
    "            dados_acao = df_resultado[df_resultado['codigo'] == codigo].copy()\n",
    "            \n",
    "            if len(dados_acao) == 5:  # Confirma que tem 5 anos de dados\n",
    "                valores_feature = dados_acao[feature]\n",
    "                \n",
    "                # Verifica se há exatamente 1 nulo\n",
    "                if valores_feature.isnull().sum() == 1:\n",
    "                    # Calcula a média dos valores não nulos\n",
    "                    valores_nao_nulos = valores_feature.dropna()\n",
    "                    \n",
    "                    if len(valores_nao_nulos) == 4:  # Confirma que tem 4 valores válidos\n",
    "                        media = valores_nao_nulos.mean()\n",
    "                        \n",
    "                        # Identifica o índice onde está o nulo\n",
    "                        indice_nulo = dados_acao[valores_feature.isnull()].index[0]\n",
    "                        ano_nulo = dados_acao.loc[indice_nulo, 'ano']\n",
    "                        \n",
    "                        # Aplica a função limpar_e_converter para garantir formatação\n",
    "                        media_formatada = limpar_e_converter(media)\n",
    "                        \n",
    "                        # Preenche o valor nulo com a média\n",
    "                        df_resultado.loc[indice_nulo, feature] = media_formatada\n",
    "                        \n",
    "                        valores_preenchidos += 1\n",
    "                        detalhes_acoes.append({\n",
    "                            'codigo': codigo,\n",
    "                            'ano_nulo': ano_nulo,\n",
    "                            'media_calculada': media_formatada,\n",
    "                            'valores_originais': valores_nao_nulos.tolist()\n",
    "                        })\n",
    "        \n",
    "        # Atualiza o relatório\n",
    "        relatorio['features_processadas'].append(feature)\n",
    "        relatorio['total_valores_preenchidos'] += valores_preenchidos\n",
    "        relatorio['detalhes_por_feature'][feature] = {\n",
    "            'valores_preenchidos': valores_preenchidos,\n",
    "            'acoes_processadas': detalhes_acoes[:5]  # Mostra apenas os primeiros 5 exemplos\n",
    "        }\n",
    "        \n",
    "        print(f\"  - Valores preenchidos: {valores_preenchidos}\")\n",
    "        \n",
    "        # Mostra alguns exemplos\n",
    "        if detalhes_acoes:\n",
    "            print(\"  - Exemplos:\")\n",
    "            for exemplo in detalhes_acoes[:3]:\n",
    "                print(f\"    * {exemplo['codigo']} (ano {exemplo['ano_nulo']}): \"\n",
    "                      f\"média = {exemplo['media_calculada']}\")\n",
    "        print()\n",
    "    \n",
    "    print(f\"=== RESUMO ===\")\n",
    "    print(f\"Features processadas: {len(relatorio['features_processadas'])}\")\n",
    "    print(f\"Total de valores preenchidos: {relatorio['total_valores_preenchidos']}\")\n",
    "    \n",
    "    return df_resultado, relatorio"
   ]
  },
  {
   "cell_type": "code",
   "execution_count": 334,
   "metadata": {},
   "outputs": [],
   "source": [
    "def exibir_relatorio_preenchimento(relatorio):\n",
    "    \"\"\"\n",
    "    Exibe um relatório detalhado do preenchimento realizado.\n",
    "    \n",
    "    Args:\n",
    "        relatorio (dict): Relatório retornado pela função de preenchimento\n",
    "    \"\"\"\n",
    "    print(\"=== RELATÓRIO DETALHADO DE PREENCHIMENTO ===\\n\")\n",
    "    \n",
    "    if not relatorio['features_processadas']:\n",
    "        print(\"Nenhum preenchimento foi realizado.\")\n",
    "        return\n",
    "    \n",
    "    for feature in relatorio['features_processadas']:\n",
    "        detalhes = relatorio['detalhes_por_feature'][feature]\n",
    "        print(f\"Feature: '{feature}'\")\n",
    "        print(f\"  - Valores preenchidos: {detalhes['valores_preenchidos']}\")\n",
    "        \n",
    "        if detalhes['acoes_processadas']:\n",
    "            print(\"  - Detalhes das ações processadas:\")\n",
    "            for acao in detalhes['acoes_processadas']:\n",
    "                print(f\"    * {acao['codigo']} (ano {acao['ano_nulo']}): \"\n",
    "                      f\"média = {acao['media_calculada']}\")\n",
    "                print(f\"      Valores originais: {acao['valores_originais']}\")\n",
    "        print()"
   ]
  },
  {
   "cell_type": "code",
   "execution_count": 335,
   "metadata": {},
   "outputs": [
    {
     "name": "stdout",
     "output_type": "stream",
     "text": [
      "Antes do preenchimento:\n",
      "Contagem de valores nulos por coluna (apenas colunas com nulos):\n",
      "patrimonio_liquido      44\n",
      "lpa                     45\n",
      "receita                138\n",
      "lucro_liquido           44\n",
      "divida_bruta_ativo     138\n",
      "liquidez_corrente      108\n",
      "liquidez_geral         106\n",
      "rentabilidade_ativo     46\n",
      "roe                    107\n",
      "margem_ebit            211\n",
      "margem_liquida         123\n",
      "ativo_total             44\n",
      "caixa_operacional       47\n",
      "caixa_investimento      47\n",
      "caixa_financeiro        47\n",
      "valor_mercado          290\n",
      "dividendos              97\n",
      "dtype: int64\n",
      "\n",
      "1682 células possuem valores nulos no total.\n",
      "Número de linhas com pelo menos um valor nulo: 509\n",
      "\n",
      "==================================================\n",
      "\n",
      "=== PREENCHIMENTO COM MÉDIA TEMPORAL ===\n",
      "\n",
      "Processando feature: 'patrimonio_liquido'\n",
      "  - Ações afetadas: 17\n",
      "  - Valores preenchidos: 17\n",
      "  - Exemplos:\n",
      "    * AGXY3 (ano 2024): média = 1268207.0\n",
      "    * AURE3 (ano 2020): média = 11320282.5\n",
      "    * BBML3 (ano 2024): média = 86.83\n",
      "\n",
      "Processando feature: 'lpa'\n",
      "  - Ações afetadas: 17\n",
      "  - Valores preenchidos: 17\n",
      "  - Exemplos:\n",
      "    * AGXY3 (ano 2024): média = 0.06\n",
      "    * AURE3 (ano 2020): média = 0.77\n",
      "    * BBML3 (ano 2024): média = -0.64\n",
      "\n",
      "Processando feature: 'receita'\n",
      "  - Ações afetadas: 15\n",
      "  - Valores preenchidos: 15\n",
      "  - Exemplos:\n",
      "    * AGXY3 (ano 2024): média = 7550783.0\n",
      "    * AURE3 (ano 2020): média = 5595415.25\n",
      "    * BBML3 (ano 2024): média = 1399620.5\n",
      "\n",
      "Processando feature: 'lucro_liquido'\n",
      "  - Ações afetadas: 16\n",
      "  - Valores preenchidos: 16\n",
      "  - Exemplos:\n",
      "    * AGXY3 (ano 2024): média = -36.58\n",
      "    * AURE3 (ano 2020): média = 668598.0\n",
      "    * BBML3 (ano 2024): média = -26.0\n",
      "\n",
      "Processando feature: 'divida_bruta_ativo'\n",
      "  - Ações afetadas: 16\n",
      "  - Valores preenchidos: 16\n",
      "  - Exemplos:\n",
      "    * AGXY3 (ano 2024): média = 20.98\n",
      "    * AURE3 (ano 2020): média = 29.0\n",
      "    * BBML3 (ano 2024): média = 39.98\n",
      "\n",
      "Processando feature: 'liquidez_corrente'\n",
      "  - Ações afetadas: 19\n",
      "  - Valores preenchidos: 19\n",
      "  - Exemplos:\n",
      "    * AESO3 (ano 2020): média = 1.58\n",
      "    * AGXY3 (ano 2024): média = 1.03\n",
      "    * AURE3 (ano 2020): média = 1.52\n",
      "\n",
      "Processando feature: 'liquidez_geral'\n",
      "  - Ações afetadas: 18\n",
      "  - Valores preenchidos: 18\n",
      "  - Exemplos:\n",
      "    * AESO3 (ano 2020): média = 0.35\n",
      "    * AGXY3 (ano 2024): média = 1.02\n",
      "    * AURE3 (ano 2020): média = 0.75\n",
      "\n",
      "Processando feature: 'rentabilidade_ativo'\n",
      "  - Ações afetadas: 18\n",
      "  - Valores preenchidos: 18\n",
      "  - Exemplos:\n",
      "    * AGXY3 (ano 2024): média = -0.22\n",
      "    * AURE3 (ano 2020): média = 2.33\n",
      "    * BBML3 (ano 2024): média = -2.25\n",
      "\n",
      "Processando feature: 'roe'\n",
      "  - Ações afetadas: 57\n",
      "  - Valores preenchidos: 57\n",
      "  - Exemplos:\n",
      "    * AESO3 (ano 2020): média = 4.05\n",
      "    * AGXY3 (ano 2024): média = -1.1\n",
      "    * AZEV3 (ano 2020): média = -55.82\n",
      "\n",
      "Processando feature: 'margem_ebit'\n",
      "  - Ações afetadas: 18\n",
      "  - Valores preenchidos: 18\n",
      "  - Exemplos:\n",
      "    * AESO3 (ano 2020): média = 21.55\n",
      "    * AGXY3 (ano 2024): média = 3.85\n",
      "    * AURE3 (ano 2020): média = 27.6\n",
      "\n",
      "Processando feature: 'margem_liquida'\n",
      "  - Ações afetadas: 18\n",
      "  - Valores preenchidos: 18\n",
      "  - Exemplos:\n",
      "    * AESO3 (ano 2020): média = 10.8\n",
      "    * AGXY3 (ano 2024): média = 0.25\n",
      "    * AURE3 (ano 2020): média = 14.7\n",
      "\n",
      "Processando feature: 'ativo_total'\n",
      "  - Ações afetadas: 17\n",
      "  - Valores preenchidos: 17\n",
      "  - Exemplos:\n",
      "    * AGXY3 (ano 2024): média = 7165071.0\n",
      "    * AURE3 (ano 2020): média = 33398530.0\n",
      "    * BBML3 (ano 2024): média = 555994.91\n",
      "\n",
      "Processando feature: 'caixa_operacional'\n",
      "  - Ações afetadas: 17\n",
      "  - Valores preenchidos: 17\n",
      "  - Exemplos:\n",
      "    * AGXY3 (ano 2024): média = 18.7\n",
      "    * AURE3 (ano 2020): média = 1419936.58\n",
      "    * BBML3 (ano 2024): média = 117.6\n",
      "\n",
      "Processando feature: 'caixa_investimento'\n",
      "  - Ações afetadas: 17\n",
      "  - Valores preenchidos: 17\n",
      "  - Exemplos:\n",
      "    * AGXY3 (ano 2024): média = -200.68\n",
      "    * AURE3 (ano 2020): média = -1841539.34\n",
      "    * BBML3 (ano 2024): média = -69.05\n",
      "\n",
      "Processando feature: 'caixa_financeiro'\n",
      "  - Ações afetadas: 17\n",
      "  - Valores preenchidos: 17\n",
      "  - Exemplos:\n",
      "    * AGXY3 (ano 2024): média = 342.08\n",
      "    * AURE3 (ano 2020): média = 1808071.9\n",
      "    * BBML3 (ano 2024): média = -60.4\n",
      "\n",
      "Processando feature: 'valor_mercado'\n",
      "  - Ações afetadas: 39\n",
      "  - Valores preenchidos: 39\n",
      "  - Exemplos:\n",
      "    * AGXY3 (ano 2020): média = 859511.2\n",
      "    * ALLD3 (ano 2020): média = 396664.25\n",
      "    * ALPK3 (ano 2021): média = 30.03\n",
      "\n",
      "Processando feature: 'dividendos'\n",
      "  - Ações afetadas: 17\n",
      "  - Valores preenchidos: 17\n",
      "  - Exemplos:\n",
      "    * AURE3 (ano 2020): média = -750157.08\n",
      "    * BBML3 (ano 2024): média = -1.34\n",
      "    * BOBR3 (ano 2024): média = 0.0\n",
      "\n",
      "=== RESUMO ===\n",
      "Features processadas: 17\n",
      "Total de valores preenchidos: 353\n",
      "\n",
      "==================================================\n",
      "\n",
      "Após o preenchimento:\n",
      "Contagem de valores nulos por coluna (apenas colunas com nulos):\n",
      "patrimonio_liquido      27\n",
      "lpa                     28\n",
      "receita                123\n",
      "lucro_liquido           28\n",
      "divida_bruta_ativo     122\n",
      "liquidez_corrente       89\n",
      "liquidez_geral          88\n",
      "rentabilidade_ativo     28\n",
      "roe                     50\n",
      "margem_ebit            193\n",
      "margem_liquida         105\n",
      "ativo_total             27\n",
      "caixa_operacional       30\n",
      "caixa_investimento      30\n",
      "caixa_financeiro        30\n",
      "valor_mercado          251\n",
      "dividendos              80\n",
      "dtype: int64\n",
      "\n",
      "1329 células possuem valores nulos no total.\n",
      "Número de linhas com pelo menos um valor nulo: 430\n"
     ]
    }
   ],
   "source": [
    "print(\"Antes do preenchimento:\")\n",
    "contar_e_exibir_nulos(df_economatica_correcao_tipagem)\n",
    "print(\"\\n\" + \"=\"*50 + \"\\n\")\n",
    "\n",
    "df_economatica_preenchido, relatorio_preenchimento = preencher_nulos_com_media_temporal(df_economatica_correcao_tipagem)\n",
    "\n",
    "print(\"\\n\" + \"=\"*50 + \"\\n\")\n",
    "print(\"Após o preenchimento:\")\n",
    "contar_e_exibir_nulos(df_economatica_preenchido)"
   ]
  },
  {
   "cell_type": "markdown",
   "metadata": {},
   "source": [
    "### Remoção dos nulos restantes"
   ]
  },
  {
   "cell_type": "code",
   "execution_count": 336,
   "metadata": {},
   "outputs": [],
   "source": [
    "def identificar_codigos_com_nulos(df):\n",
    "    \"\"\"\n",
    "    Identifica as linhas que possuem valores nulos e retorna a lista de códigos únicos.\n",
    "    \n",
    "    Args:\n",
    "        df (pd.DataFrame): DataFrame com dados organizados por ano\n",
    "        \n",
    "    Returns:\n",
    "        dict: Dicionário com informações detalhadas sobre códigos com nulos\n",
    "    \"\"\"\n",
    "    # Identifica linhas que possuem pelo menos um valor nulo\n",
    "    linhas_com_nulos = df.isnull().any(axis=1)\n",
    "    \n",
    "    # Filtra o DataFrame para apenas linhas com nulos\n",
    "    df_com_nulos = df[linhas_com_nulos].copy()\n",
    "    \n",
    "    # Lista de códigos únicos que possuem linhas com nulos\n",
    "    codigos_com_nulos = df_com_nulos['codigo'].unique().tolist()\n",
    "    \n",
    "    # Contagem de linhas com nulos por código\n",
    "    contagem_por_codigo = df_com_nulos['codigo'].value_counts().to_dict()\n",
    "    \n",
    "    # Análise detalhada por código\n",
    "    detalhes_por_codigo = {}\n",
    "    for codigo in codigos_com_nulos:\n",
    "        dados_codigo = df[df['codigo'] == codigo]\n",
    "        linhas_nulas_codigo = dados_codigo.isnull().any(axis=1).sum()\n",
    "        total_linhas_codigo = len(dados_codigo)\n",
    "        anos_com_nulos = dados_codigo[dados_codigo.isnull().any(axis=1)]['ano'].tolist()\n",
    "        \n",
    "        detalhes_por_codigo[codigo] = {\n",
    "            'total_linhas': total_linhas_codigo,\n",
    "            'linhas_com_nulos': linhas_nulas_codigo,\n",
    "            'anos_com_nulos': anos_com_nulos,\n",
    "            'percentual_nulos': round((linhas_nulas_codigo / total_linhas_codigo) * 100, 2)\n",
    "        }\n",
    "    \n",
    "    # Resumo geral\n",
    "    resumo = {\n",
    "        'total_linhas_dataset': len(df),\n",
    "        'total_linhas_com_nulos': len(df_com_nulos),\n",
    "        'total_codigos_unicos': df['codigo'].nunique(),\n",
    "        'total_codigos_com_nulos': len(codigos_com_nulos),\n",
    "        'percentual_codigos_afetados': round((len(codigos_com_nulos) / df['codigo'].nunique()) * 100, 2)\n",
    "    }\n",
    "    \n",
    "    return {\n",
    "        'codigos_com_nulos': codigos_com_nulos,\n",
    "        'contagem_por_codigo': contagem_por_codigo,\n",
    "        'detalhes_por_codigo': detalhes_por_codigo,\n",
    "        'resumo': resumo\n",
    "    }"
   ]
  },
  {
   "cell_type": "code",
   "execution_count": 337,
   "metadata": {},
   "outputs": [],
   "source": [
    "def exibir_relatorio_codigos_nulos(df):\n",
    "    \"\"\"\n",
    "    Exibe um relatório completo dos códigos que possuem linhas com valores nulos.\n",
    "    \n",
    "    Args:\n",
    "        df (pd.DataFrame): DataFrame com dados organizados por ano\n",
    "    \"\"\"\n",
    "    resultado = identificar_codigos_com_nulos(df)\n",
    "    \n",
    "    print(\"=== RELATÓRIO: Códigos com Valores Nulos ===\\n\")\n",
    "    \n",
    "    # Resumo geral\n",
    "    resumo = resultado['resumo']\n",
    "    print(f\"📊 RESUMO GERAL:\")\n",
    "    print(f\"  - Total de linhas no dataset: {resumo['total_linhas_dataset']:,}\")\n",
    "    print(f\"  - Linhas com pelo menos um nulo: {resumo['total_linhas_com_nulos']:,}\")\n",
    "    print(f\"  - Total de códigos únicos: {resumo['total_codigos_unicos']:,}\")\n",
    "    print(f\"  - Códigos com nulos: {resumo['total_codigos_com_nulos']:,}\")\n",
    "    print(f\"  - Percentual de códigos afetados: {resumo['percentual_codigos_afetados']}%\")\n",
    "    print()\n",
    "    \n",
    "    # Lista dos códigos\n",
    "    codigos = resultado['codigos_com_nulos']\n",
    "    print(f\"📋 LISTA DE CÓDIGOS COM NULOS ({len(codigos)} códigos):\")\n",
    "    \n",
    "    # Mostra em grupos de 10 para melhor visualização\n",
    "    for i in range(0, len(codigos), 10):\n",
    "        grupo = codigos[i:i+10]\n",
    "        print(f\"  {grupo}\")\n",
    "    print()\n",
    "    \n",
    "    # Top 10 códigos com mais linhas nulas\n",
    "    contagem = resultado['contagem_por_codigo']\n",
    "    top_10_nulos = sorted(contagem.items(), key=lambda x: x[1], reverse=True)[:10]\n",
    "    \n",
    "    print(f\"🔝 TOP 10 CÓDIGOS COM MAIS LINHAS NULAS:\")\n",
    "    for codigo, qtd_linhas in top_10_nulos:\n",
    "        detalhes = resultado['detalhes_por_codigo'][codigo]\n",
    "        print(f\"  - {codigo}: {qtd_linhas}/{detalhes['total_linhas']} linhas \"\n",
    "              f\"({detalhes['percentual_nulos']}%) - Anos: {detalhes['anos_com_nulos']}\")\n",
    "    print()\n",
    "    \n",
    "    return resultado"
   ]
  },
  {
   "cell_type": "code",
   "execution_count": 338,
   "metadata": {},
   "outputs": [],
   "source": [
    "def obter_lista_codigos_com_nulos(df):\n",
    "    \"\"\"\n",
    "    Retorna apenas a lista simples de códigos únicos que possuem valores nulos.\n",
    "    \n",
    "    Args:\n",
    "        df (pd.DataFrame): DataFrame com dados organizados por ano\n",
    "        \n",
    "    Returns:\n",
    "        list: Lista de códigos únicos com valores nulos\n",
    "    \"\"\"\n",
    "    resultado = identificar_codigos_com_nulos(df)\n",
    "    return resultado['codigos_com_nulos']"
   ]
  },
  {
   "cell_type": "code",
   "execution_count": 339,
   "metadata": {},
   "outputs": [],
   "source": [
    "def analisar_padroes_nulos_por_codigo(df, codigo_especifico=None):\n",
    "    \"\"\"\n",
    "    Analisa padrões detalhados de nulos para um código específico ou todos os códigos.\n",
    "    \n",
    "    Args:\n",
    "        df (pd.DataFrame): DataFrame com dados organizados por ano\n",
    "        codigo_especifico (str, optional): Código específico para análise detalhada\n",
    "        \n",
    "    Returns:\n",
    "        dict: Análise detalhada dos padrões de nulos\n",
    "    \"\"\"\n",
    "    if codigo_especifico:\n",
    "        # Análise para um código específico\n",
    "        dados_codigo = df[df['codigo'] == codigo_especifico].copy()\n",
    "        if dados_codigo.empty:\n",
    "            return f\"Código '{codigo_especifico}' não encontrado no dataset.\"\n",
    "        \n",
    "        print(f\"=== ANÁLISE DETALHADA: {codigo_especifico} ===\\n\")\n",
    "        \n",
    "        # Para cada ano, mostra quais colunas têm nulos\n",
    "        for _, linha in dados_codigo.iterrows():\n",
    "            ano = linha['ano']\n",
    "            colunas_nulas = linha.isnull()\n",
    "            colunas_com_nulos = colunas_nulas[colunas_nulas].index.tolist()\n",
    "            \n",
    "            print(f\"📅 Ano {ano}:\")\n",
    "            if colunas_com_nulos:\n",
    "                # Remove colunas de identificação da lista\n",
    "                colunas_features_nulas = [col for col in colunas_com_nulos \n",
    "                                        if col not in ['nome', 'codigo', 'setor']]\n",
    "                print(f\"  - Colunas com nulos: {colunas_features_nulas}\")\n",
    "                print(f\"  - Total de nulos: {len(colunas_features_nulas)}\")\n",
    "            else:\n",
    "                print(\"  - Sem valores nulos\")\n",
    "            print()\n",
    "    else:\n",
    "        # Análise geral de padrões\n",
    "        resultado = identificar_codigos_com_nulos(df)\n",
    "        return resultado"
   ]
  },
  {
   "cell_type": "code",
   "execution_count": 340,
   "metadata": {},
   "outputs": [
    {
     "name": "stdout",
     "output_type": "stream",
     "text": [
      "=== IDENTIFICAÇÃO DE CÓDIGOS COM VALORES NULOS ===\n",
      "\n",
      "=== RELATÓRIO: Códigos com Valores Nulos ===\n",
      "\n",
      "📊 RESUMO GERAL:\n",
      "  - Total de linhas no dataset: 1,770\n",
      "  - Linhas com pelo menos um nulo: 430\n",
      "  - Total de códigos únicos: 354\n",
      "  - Códigos com nulos: 96\n",
      "  - Percentual de códigos afetados: 27.12%\n",
      "\n",
      "📋 LISTA DE CÓDIGOS COM NULOS (96 códigos):\n",
      "  ['ADMF3', 'AESO3', 'ALPK3', 'AMOB3', 'APTI3', 'ATED3', 'AURE3', 'AZTE3', 'BAZA3', 'BBAS3']\n",
      "  ['BBDC3', 'BBML3', 'BBSE3', 'BEES3', 'BETP3', 'BGIP3', 'BMEB3', 'BMIN3', 'BNBR3', 'BOBR3']\n",
      "  ['BPAC3', 'BPAR3', 'BRAP3', 'BRQB3', 'BRSR3', 'BRST3', 'BSLI3', 'CASN3', 'CATA3', 'CEGR3']\n",
      "  ['COGN3', 'CRTE3', 'CSUD3', 'CXSE3', 'DIRR3', 'EGGY3', 'FIGE3', 'FRRN3B', 'GFSA3', 'GGPS3']\n",
      "  ['GPAR3', 'GRAO3', 'HAGA3', 'HBSA3', 'HYPE3', 'INNC3', 'INTB3', 'IRBR3', 'ITUB3', 'IVPR3B']\n",
      "  ['JSLG3', 'LAVV3', 'LIGT3', 'LIPR3', 'LLBI3', 'LTEL3B', 'LTLA3B', 'MAPT3', 'MATD3', 'MEAL3']\n",
      "  ['MELK3', 'MERC3', 'MILS3', 'MMAQ3', 'MNZC3', 'MOAR3', 'MSPA3', 'NEMO3', 'NORD3', 'NRTQ3']\n",
      "  ['NUTR3', 'ODER3', 'OPCT3', 'OPGM3', 'OPSE3', 'OPTS3', 'PASS3', 'PFRM3', 'PINE3', 'PLAS3']\n",
      "  ['PPAR3', 'PRPT3', 'QUAL3', 'QVQP3', 'REAG3', 'RPAD3', 'RSID3', 'SANB3', 'TEGA3', 'TEKA3']\n",
      "  ['TRAD3', 'TXRX3', 'VITT3', 'VIVR3', 'VTRU3', 'WEST3']\n",
      "\n",
      "🔝 TOP 10 CÓDIGOS COM MAIS LINHAS NULAS:\n",
      "  - ADMF3: 5/5 linhas (100.0%) - Anos: [2020, 2021, 2022, 2023, 2024]\n",
      "  - GRAO3: 5/5 linhas (100.0%) - Anos: [2020, 2021, 2022, 2023, 2024]\n",
      "  - MERC3: 5/5 linhas (100.0%) - Anos: [2020, 2021, 2022, 2023, 2024]\n",
      "  - MELK3: 5/5 linhas (100.0%) - Anos: [2020, 2021, 2022, 2023, 2024]\n",
      "  - MEAL3: 5/5 linhas (100.0%) - Anos: [2020, 2021, 2022, 2023, 2024]\n",
      "  - MAPT3: 5/5 linhas (100.0%) - Anos: [2020, 2021, 2022, 2023, 2024]\n",
      "  - LTLA3B: 5/5 linhas (100.0%) - Anos: [2020, 2021, 2022, 2023, 2024]\n",
      "  - LTEL3B: 5/5 linhas (100.0%) - Anos: [2020, 2021, 2022, 2023, 2024]\n",
      "  - LLBI3: 5/5 linhas (100.0%) - Anos: [2020, 2021, 2022, 2023, 2024]\n",
      "  - LIPR3: 5/5 linhas (100.0%) - Anos: [2020, 2021, 2022, 2023, 2024]\n",
      "\n"
     ]
    }
   ],
   "source": [
    "print(\"=== IDENTIFICAÇÃO DE CÓDIGOS COM VALORES NULOS ===\\n\")\n",
    "relatorio_nulos = exibir_relatorio_codigos_nulos(df_economatica_preenchido)"
   ]
  },
  {
   "cell_type": "code",
   "execution_count": 341,
   "metadata": {},
   "outputs": [],
   "source": [
    "def remover_acoes_com_nulos(df):\n",
    "    \"\"\"\n",
    "    Remove TODAS as ações que possuem pelo menos 1 valor nulo em qualquer ano/feature.\n",
    "    \n",
    "    Args:\n",
    "        df (pd.DataFrame): DataFrame com dados organizados por ano\n",
    "        \n",
    "    Returns:\n",
    "        pd.DataFrame: DataFrame apenas com ações que não possuem nenhum valor nulo\n",
    "        dict: Relatório das remoções realizadas\n",
    "    \"\"\"\n",
    "    print(\"=== REMOÇÃO DE AÇÕES COM VALORES NULOS ===\\n\")\n",
    "    \n",
    "    # Estado inicial\n",
    "    total_linhas_inicial = len(df)\n",
    "    total_codigos_inicial = df['codigo'].nunique()\n",
    "    \n",
    "    print(f\"📊 ESTADO INICIAL:\")\n",
    "    print(f\"  - Total de linhas: {total_linhas_inicial:,}\")\n",
    "    print(f\"  - Total de códigos únicos: {total_codigos_inicial:,}\")\n",
    "    print()\n",
    "    \n",
    "    # Identifica códigos com nulos\n",
    "    resultado_nulos = identificar_codigos_com_nulos(df)\n",
    "    codigos_com_nulos = resultado_nulos['codigos_com_nulos']\n",
    "    \n",
    "    print(f\"🔍 ANÁLISE DE NULOS:\")\n",
    "    print(f\"  - Códigos com pelo menos 1 nulo: {len(codigos_com_nulos):,}\")\n",
    "    print(f\"  - Códigos sem nulos: {total_codigos_inicial - len(codigos_com_nulos):,}\")\n",
    "    print()\n",
    "    \n",
    "    # Remove todas as linhas dos códigos que possuem nulos\n",
    "    df_limpo = df[~df['codigo'].isin(codigos_com_nulos)].copy()\n",
    "    \n",
    "    # Estado final\n",
    "    total_linhas_final = len(df_limpo)\n",
    "    total_codigos_final = df_limpo['codigo'].nunique()\n",
    "    \n",
    "    linhas_removidas = total_linhas_inicial - total_linhas_final\n",
    "    codigos_removidos = total_codigos_inicial - total_codigos_final\n",
    "    \n",
    "    print(f\"🗑️ REMOÇÕES REALIZADAS:\")\n",
    "    print(f\"  - Linhas removidas: {linhas_removidas:,}\")\n",
    "    print(f\"  - Códigos removidos: {codigos_removidos:,}\")\n",
    "    print()\n",
    "    \n",
    "    print(f\"✅ ESTADO FINAL:\")\n",
    "    print(f\"  - Total de linhas: {total_linhas_final:,}\")\n",
    "    print(f\"  - Total de códigos únicos: {total_codigos_final:,}\")\n",
    "    print(f\"  - Percentual de linhas mantidas: {(total_linhas_final/total_linhas_inicial)*100:.1f}%\")\n",
    "    print(f\"  - Percentual de códigos mantidos: {(total_codigos_final/total_codigos_inicial)*100:.1f}%\")\n",
    "    print()\n",
    "    \n",
    "    # Verifica se ainda há nulos (deve ser 0)\n",
    "    nulos_restantes = df_limpo.isnull().sum().sum()\n",
    "    print(f\"🔍 VERIFICAÇÃO FINAL:\")\n",
    "    print(f\"  - Valores nulos restantes: {nulos_restantes}\")\n",
    "    \n",
    "    if nulos_restantes == 0:\n",
    "        print(\"  ✅ Sucesso! Nenhum valor nulo encontrado no dataset final.\")\n",
    "    else:\n",
    "        print(\"  ⚠️ Atenção! Ainda há valores nulos no dataset.\")\n",
    "    \n",
    "    # Relatório detalhado\n",
    "    relatorio = {\n",
    "        'estado_inicial': {\n",
    "            'total_linhas': total_linhas_inicial,\n",
    "            'total_codigos': total_codigos_inicial\n",
    "        },\n",
    "        'estado_final': {\n",
    "            'total_linhas': total_linhas_final,\n",
    "            'total_codigos': total_codigos_final\n",
    "        },\n",
    "        'remocoes': {\n",
    "            'linhas_removidas': linhas_removidas,\n",
    "            'codigos_removidos': codigos_removidos,\n",
    "            'codigos_com_nulos': codigos_com_nulos\n",
    "        },\n",
    "        'percentuais': {\n",
    "            'linhas_mantidas': round((total_linhas_final/total_linhas_inicial)*100, 2),\n",
    "            'codigos_mantidos': round((total_codigos_final/total_codigos_inicial)*100, 2)\n",
    "        },\n",
    "        'verificacao': {\n",
    "            'nulos_restantes': nulos_restantes,\n",
    "            'dataset_limpo': nulos_restantes == 0\n",
    "        }\n",
    "    }\n",
    "    \n",
    "    return df_limpo, relatorio"
   ]
  },
  {
   "cell_type": "code",
   "execution_count": 342,
   "metadata": {},
   "outputs": [],
   "source": [
    "def exibir_estatisticas_pos_remocao(df_limpo, relatorio):\n",
    "    \"\"\"\n",
    "    Exibe estatísticas detalhadas após a remoção das ações com nulos.\n",
    "    \n",
    "    Args:\n",
    "        df_limpo (pd.DataFrame): DataFrame após remoção\n",
    "        relatorio (dict): Relatório da remoção\n",
    "    \"\"\"\n",
    "    print(\"\\n\" + \"=\"*60)\n",
    "    print(\"📈 ESTATÍSTICAS DETALHADAS PÓS-REMOÇÃO\")\n",
    "    print(\"=\"*60)\n",
    "    \n",
    "    # Distribuição por ano\n",
    "    print(\"\\n📅 DISTRIBUIÇÃO POR ANO:\")\n",
    "    distribuicao_ano = df_limpo['ano'].value_counts().sort_index()\n",
    "    for ano, count in distribuicao_ano.items():\n",
    "        print(f\"  - {ano}: {count:,} registros\")\n",
    "    \n",
    "    # Verifica se todos os códigos têm 5 anos de dados\n",
    "    contagem_por_codigo = df_limpo['codigo'].value_counts()\n",
    "    codigos_completos = (contagem_por_codigo == 5).sum()\n",
    "    codigos_incompletos = (contagem_por_codigo != 5).sum()\n",
    "    \n",
    "    print(f\"\\n🔍 INTEGRIDADE DOS DADOS:\")\n",
    "    print(f\"  - Códigos com 5 anos completos: {codigos_completos:,}\")\n",
    "    print(f\"  - Códigos com dados incompletos: {codigos_incompletos:,}\")\n",
    "    \n",
    "    if codigos_incompletos > 0:\n",
    "        print(f\"  ⚠️ Atenção: {codigos_incompletos} códigos não têm 5 anos de dados!\")\n",
    "        incompletos = contagem_por_codigo[contagem_por_codigo != 5]\n",
    "        print(f\"  - Detalhes: {incompletos.to_dict()}\")\n",
    "    \n",
    "    # Estatísticas de colunas\n",
    "    print(f\"\\n📊 ESTATÍSTICAS DO DATASET:\")\n",
    "    print(f\"  - Número de colunas: {df_limpo.shape[1]}\")\n",
    "    print(f\"  - Colunas numéricas: {len(df_limpo.select_dtypes(include=[np.number]).columns)}\")\n",
    "    print(f\"  - Densidade dos dados: 100% (sem nulos)\")\n",
    "    \n",
    "    # Lista algumas ações que permaneceram\n",
    "    print(f\"\\n✅ EXEMPLOS DE AÇÕES MANTIDAS:\")\n",
    "    acoes_exemplo = df_limpo['codigo'].unique()[:10]\n",
    "    print(f\"  - Primeiras 10: {list(acoes_exemplo)}\")\n",
    "    \n",
    "    return distribuicao_ano, contagem_por_codigo"
   ]
  },
  {
   "cell_type": "code",
   "execution_count": 344,
   "metadata": {},
   "outputs": [
    {
     "name": "stdout",
     "output_type": "stream",
     "text": [
      "ANTES DA REMOÇÃO:\n",
      "Contagem de valores nulos por coluna (apenas colunas com nulos):\n",
      "patrimonio_liquido      27\n",
      "lpa                     28\n",
      "receita                123\n",
      "lucro_liquido           28\n",
      "divida_bruta_ativo     122\n",
      "liquidez_corrente       89\n",
      "liquidez_geral          88\n",
      "rentabilidade_ativo     28\n",
      "roe                     50\n",
      "margem_ebit            193\n",
      "margem_liquida         105\n",
      "ativo_total             27\n",
      "caixa_operacional       30\n",
      "caixa_investimento      30\n",
      "caixa_financeiro        30\n",
      "valor_mercado          251\n",
      "dividendos              80\n",
      "dtype: int64\n",
      "\n",
      "1329 células possuem valores nulos no total.\n",
      "Número de linhas com pelo menos um valor nulo: 430\n",
      "\n",
      "============================================================\n",
      "\n",
      "=== REMOÇÃO DE AÇÕES COM VALORES NULOS ===\n",
      "\n",
      "📊 ESTADO INICIAL:\n",
      "  - Total de linhas: 1,770\n",
      "  - Total de códigos únicos: 354\n",
      "\n",
      "🔍 ANÁLISE DE NULOS:\n",
      "  - Códigos com pelo menos 1 nulo: 96\n",
      "  - Códigos sem nulos: 258\n",
      "\n",
      "🗑️ REMOÇÕES REALIZADAS:\n",
      "  - Linhas removidas: 480\n",
      "  - Códigos removidos: 96\n",
      "\n",
      "✅ ESTADO FINAL:\n",
      "  - Total de linhas: 1,290\n",
      "  - Total de códigos únicos: 258\n",
      "  - Percentual de linhas mantidas: 72.9%\n",
      "  - Percentual de códigos mantidos: 72.9%\n",
      "\n",
      "🔍 VERIFICAÇÃO FINAL:\n",
      "  - Valores nulos restantes: 0\n",
      "  ✅ Sucesso! Nenhum valor nulo encontrado no dataset final.\n",
      "\n",
      "============================================================\n",
      "📈 ESTATÍSTICAS DETALHADAS PÓS-REMOÇÃO\n",
      "============================================================\n",
      "\n",
      "📅 DISTRIBUIÇÃO POR ANO:\n",
      "  - 2020: 258 registros\n",
      "  - 2021: 258 registros\n",
      "  - 2022: 258 registros\n",
      "  - 2023: 258 registros\n",
      "  - 2024: 258 registros\n",
      "\n",
      "🔍 INTEGRIDADE DOS DADOS:\n",
      "  - Códigos com 5 anos completos: 258\n",
      "  - Códigos com dados incompletos: 0\n",
      "\n",
      "📊 ESTATÍSTICAS DO DATASET:\n",
      "  - Número de colunas: 22\n",
      "  - Colunas numéricas: 19\n",
      "  - Densidade dos dados: 100% (sem nulos)\n",
      "\n",
      "✅ EXEMPLOS DE AÇÕES MANTIDAS:\n",
      "  - Primeiras 10: ['AALR3', 'ABEV3', 'AERI3', 'AFLT3', 'AGRO3', 'AGXY3', 'AHEB3', 'ALLD3', 'ALOS3', 'ALPA3']\n",
      "\n",
      "============================================================\n",
      "🎯 VERIFICAÇÃO FINAL DE NULOS:\n",
      "Contagem de valores nulos por coluna (apenas colunas com nulos):\n",
      "Series([], dtype: int64)\n",
      "\n",
      "0 células possuem valores nulos no total.\n",
      "Número de linhas com pelo menos um valor nulo: 0\n"
     ]
    }
   ],
   "source": [
    "print(\"ANTES DA REMOÇÃO:\")\n",
    "contar_e_exibir_nulos(df_economatica_preenchido)\n",
    "print(\"\\n\" + \"=\"*60 + \"\\n\")\n",
    "\n",
    "df_economatica_sem_nulos, relatorio_remocao = remover_acoes_com_nulos(df_economatica_preenchido)\n",
    "\n",
    "# Exibe estatísticas detalhadas\n",
    "estatisticas = exibir_estatisticas_pos_remocao(df_economatica_sem_nulos, relatorio_remocao)\n",
    "\n",
    "print(\"\\n\" + \"=\"*60)\n",
    "print(\"🎯 VERIFICAÇÃO FINAL DE NULOS:\")\n",
    "contar_e_exibir_nulos(df_economatica_sem_nulos)"
   ]
  },
  {
   "cell_type": "markdown",
   "metadata": {
    "id": "HYuJdprXX9CU"
   },
   "source": [
    "# Pré-processamento dos dados"
   ]
  },
  {
   "cell_type": "markdown",
   "metadata": {
    "id": "tWidkFilRP7n"
   },
   "source": [
    "## One-Hot Encoding"
   ]
  },
  {
   "cell_type": "markdown",
   "metadata": {
    "id": "XXI8vhB0TUkM"
   },
   "source": [
    "Nessa etapa iremos fazer o One Hot Encoding para melhor categorização dos setores."
   ]
  },
  {
   "cell_type": "markdown",
   "metadata": {
    "id": "0-kbPSkmWout"
   },
   "source": [
    "### Criar o OHE"
   ]
  },
  {
   "cell_type": "markdown",
   "metadata": {
    "id": "z8oHFyYEVnmi"
   },
   "source": [
    "Aqui é configurado um pipeline para realizar o One-Hot Encoding na coluna 'setor' do DataFrame."
   ]
  },
  {
   "cell_type": "code",
   "execution_count": null,
   "metadata": {
    "id": "qTQmB_fZZKeM"
   },
   "outputs": [],
   "source": [
    "def criar_ohe():\n",
    "    try:\n",
    "        return OneHotEncoder(handle_unknown=\"ignore\", sparse_output=False, dtype=np.uint8)\n",
    "    except TypeError:\n",
    "        return OneHotEncoder(handle_unknown=\"ignore\", sparse=False, dtype=np.uint8)\n",
    "\n",
    "ohe_pipeline = Pipeline(steps=[\n",
    "    (\"imputer\", SimpleImputer(strategy=\"constant\", fill_value=\"__NA__\")),\n",
    "    (\"ohe\", criar_ohe()),\n",
    "])\n",
    "\n",
    "ct = ColumnTransformer(\n",
    "    transformers=[(\"naics\", ohe_pipeline, ['setor'])],\n",
    "    remainder=\"drop\"\n",
    ")"
   ]
  },
  {
   "cell_type": "markdown",
   "metadata": {
    "id": "g7aJngMmWrlH"
   },
   "source": [
    "### Normalização dos nomes das colunas"
   ]
  },
  {
   "cell_type": "markdown",
   "metadata": {
    "id": "4vDyS3DCl9Gr"
   },
   "source": [
    "Criado funções para resolver problemas de duplicação de colunas e padronização nos nomes das colunas, serão utilizadas em breve."
   ]
  },
  {
   "cell_type": "code",
   "execution_count": null,
   "metadata": {
    "id": "PQdgTlPkcEu4"
   },
   "outputs": [],
   "source": [
    "def deduplicar(nomes):\n",
    "    \"\"\"\n",
    "    Garante que uma lista de nomes seja única, adicionando sufixos numéricos se necessário.\n",
    "\n",
    "    Args:\n",
    "        nomes (list): Uma lista de strings (nomes).\n",
    "\n",
    "    Returns:\n",
    "        list: Uma lista de nomes únicos com o prefixo 'setor_'.\n",
    "    \"\"\"\n",
    "    visto = {}\n",
    "    saida = []\n",
    "    for n in nomes:\n",
    "        base = f\"setor_{n}\"\n",
    "        if base not in visto:\n",
    "            visto[base] = 1\n",
    "            saida.append(base)\n",
    "        else:\n",
    "            k = visto[base]\n",
    "            visto[base] = k + 1\n",
    "            saida.append(f\"{base}_{k}\")\n",
    "    return saida"
   ]
  },
  {
   "cell_type": "code",
   "execution_count": null,
   "metadata": {
    "id": "XeoAC7Tsce7Q"
   },
   "outputs": [],
   "source": [
    "def slugify(txt: str) -> str:\n",
    "    \"\"\"\n",
    "    Converte uma string para um formato \"slug\", amigável para nomes de coluna.\n",
    "    Remove acentos, substitui caracteres não alfanuméricos por underscores\n",
    "    e limpa underscores extras.\n",
    "\n",
    "    Args:\n",
    "        txt (str): A string de entrada.\n",
    "\n",
    "    Returns:\n",
    "        str: A string convertida para formato slug, ou \"missing\" se a entrada for nula ou vazia após a limpeza.\n",
    "    \"\"\"\n",
    "    if txt is None:\n",
    "        return \"missing\"\n",
    "    txt = str(txt).lower().strip()\n",
    "    # remover acentos\n",
    "    txt = unicodedata.normalize(\"NFKD\", txt).encode(\"ascii\", \"ignore\").decode(\"ascii\")\n",
    "    # trocar não-alfanuméricos por \"_\"\n",
    "    txt = re.sub(r\"[^a-z0-9]+\", \"_\", txt)\n",
    "    # limpar underscores duplicados e bordas\n",
    "    txt = re.sub(r\"_+\", \"_\", txt).strip(\"_\")\n",
    "    return txt or \"missing\""
   ]
  },
  {
   "cell_type": "markdown",
   "metadata": {
    "id": "lE4N-77rLsi3"
   },
   "source": [
    "Aqui aplicamos o processo de One-Hot Encoding na coluna 'setor' do DataFrame.\n",
    "\n",
    "O One-Hot Encoding transforma categorias (como nomes de setores) em colunas numéricas binárias (0s e 1s). Isso é necessário para que a maioria dos modelos de Machine Learning possa processar esses dados.\n",
    "\n"
   ]
  },
  {
   "cell_type": "code",
   "execution_count": null,
   "metadata": {
    "id": "9Gprac_KNaGA"
   },
   "outputs": [],
   "source": [
    "encoded = ct.fit_transform(df_economatica_pre_processado[['setor']])"
   ]
  },
  {
   "cell_type": "markdown",
   "metadata": {
    "id": "ZMeApoiWNcVJ"
   },
   "source": [
    "O ColumnTransformer aplicou o OHE, mas as colunas resultantes não têm nomes legíveis por padrão.\n",
    "Precisamos extrair os nomes gerados e limpá-los.\n",
    "\n",
    "Acessa o objeto OneHotEncoder que está dentro do ColumnTransformer. O ColumnTransformer é como um contêiner para vários transformadores, e \"naics\" é o nome que demos a este transformador específico.\n",
    "\n",
    "Depois obtemos os nomes originais da coluna e normalizamos o seu nome, slugificando e verificando duplicidades na nomenclatura."
   ]
  },
  {
   "cell_type": "code",
   "execution_count": null,
   "metadata": {
    "id": "3kZjdztuZlou"
   },
   "outputs": [],
   "source": [
    "ohe = ct.named_transformers_[\"naics\"].named_steps[\"ohe\"]\n",
    "\n",
    "# Obtém os nomes originais das features (colunas) que foram criadas pelo OneHotEncoder.\n",
    "base_names = (\n",
    "    ohe.get_feature_names_out(['setor'])\n",
    "    if hasattr(ohe, \"get_feature_names_out\")\n",
    "    else ohe.get_feature_names(['setor'])\n",
    ")\n",
    "\n",
    "cats = []\n",
    "for name in base_names:\n",
    "    parts = str(name).split(f\"{'setor'}_\", 1)\n",
    "    cat = parts[1] if len(parts) == 2 else name\n",
    "    cats.append(slugify(cat))\n",
    "\n",
    "feat_names = deduplicar(cats)\n",
    "\n",
    "encoded_df = pd.DataFrame(encoded, columns=feat_names, index=df_economatica_pre_processado.index)\n",
    "\n",
    "encoded_df.head()"
   ]
  },
  {
   "cell_type": "code",
   "execution_count": null,
   "metadata": {
    "id": "yxUyAdTIeLyw"
   },
   "outputs": [],
   "source": [
    "print(f\"Total colunas criadas: {encoded_df.shape[1]}\")\n",
    "print(\"Exemplos:\", feat_names[:10])"
   ]
  },
  {
   "cell_type": "code",
   "execution_count": null,
   "metadata": {
    "id": "MtFKvIbwaRck"
   },
   "outputs": [],
   "source": [
    "df_economatica_pre_processado = pd.concat([df_economatica_pre_processado.drop(columns=['setor']), encoded_df], axis=1)\n",
    "\n",
    "df_economatica_pre_processado.head()\n"
   ]
  },
  {
   "cell_type": "markdown",
   "metadata": {
    "id": "UTzB5Cq7eeUV"
   },
   "source": [
    "### Gera CSV com os setores para agrupamento manual"
   ]
  },
  {
   "cell_type": "code",
   "execution_count": null,
   "metadata": {
    "id": "eyTSNYzTedff"
   },
   "outputs": [],
   "source": [
    "# Define o caminho de saída para o arquivo CSV.\n",
    "# O arquivo será salvo no diretório /content/ no ambiente Colab.\n",
    "saida = Path(\"/content/feat_names_setores.csv\")\n",
    "\n",
    "# Cria uma Series do pandas com os nomes das features de setor geradas pelo One-Hot Encoding\n",
    "# e salva essa Series em um arquivo CSV.\n",
    "# index=False impede que o índice do DataFrame seja escrito no CSV.\n",
    "# encoding=\"utf-8\" garante que caracteres especiais sejam tratados corretamente.\n",
    "pd.Series(feat_names, name=\"feature\").to_csv(saida, index=False, encoding=\"utf-8\")\n",
    "\n",
    "# Define o prefixo usado para identificar as colunas de setor.\n",
    "PREFIX = \"setor_\"\n",
    "\n",
    "# ---- Coletar a lista de dummies de setor ----\n",
    "# Verifica se a variável 'feat_names' existe no escopo global,\n",
    "# se é uma lista ou tupla e se não está vazia.\n",
    "# Se essas condições forem atendidas, utiliza 'feat_names' para identificar as colunas de setor\n",
    "# que começam com o prefixo definido.\n",
    "# Caso contrário, itera sobre as colunas de UM dos DataFrames pré-processados\n",
    "if \"feat_names\" in globals() and isinstance(feat_names, (list, tuple)) and len(feat_names) > 0:\n",
    "    FEATURES = [c for c in feat_names if isinstance(c, str) and c.startswith(PREFIX)]\n",
    "else:\n",
    "    # Usando um dos dataframes pré-processados que contém as colunas de setor\n",
    "    FEATURES = [c for c in df_economatica_pre_processado.columns if isinstance(c, str) and c.startswith(PREFIX)]\n",
    "\n",
    "# Gera uma lista de slugs (nomes de setor sem o prefixo \"setor_\"), remove duplicatas e ordena alfabeticamente.\n",
    "SLUGS = sorted({c[len(PREFIX):] for c in FEATURES})\n",
    "\n",
    "# Cria uma lista das colunas a serem removidas posteriormente.\n",
    "# São todas as colunas que começam com o prefixo \"setor_\", que serão substituídas pelas colunas agrupadas.\n",
    "colunas_para_remover = [col for col in df_economatica_pre_processado.columns if col.startswith('setor_')]\n",
    "\n",
    "\n",
    "# Exibe a quantidade de colunas \"dummy\" (setores) detectadas e exemplos dos slugs gerados.\n",
    "print(f\"Dummies detectadas: {len(FEATURES)}\")\n",
    "print(\"Exemplos de slugs:\", SLUGS[:10])"
   ]
  },
  {
   "cell_type": "markdown",
   "metadata": {
    "id": "zBjkxhAwffQ9"
   },
   "source": [
    "### Upa CSV com os setores agrupados e ajusta o encoding"
   ]
  },
  {
   "cell_type": "code",
   "execution_count": null,
   "metadata": {
    "id": "sYYhYFIffS96"
   },
   "outputs": [],
   "source": [
    "# Define a URL do arquivo CSV que contém o mapeamento dos setores agrupados no Google Drive.\n",
    "url = 'https://drive.google.com/file/d/1ITrtp7GsfZi9eZVTDQgro8fMu23zZu0w/view'\n",
    "# Define o nome do arquivo de saída local onde o CSV será salvo.\n",
    "output = 'feat_names_setores_agrupados.csv'\n",
    "\n",
    "# Realiza o download do arquivo CSV da URL para o diretório local.\n",
    "# fuzzy=True permite que o gdown tente encontrar o arquivo mesmo que o link direto não funcione perfeitamente.\n",
    "gdown.download(url, output, fuzzy=True)\n",
    "\n",
    "# Reads the downloaded CSV file into a pandas DataFrame.\n",
    "# This DataFrame 'df_mapeamento' contains two columns: 'setor' (original sector column names) and 'grupo' (new grouped categories).\n",
    "df_mapeamento = pd.read_csv('feat_names_setores_agrupados.csv')\n",
    "\n",
    "# Create a dictionary mapping original sector columns to new grouped categories.\n",
    "mapeamento_setores = dict(zip(df_mapeamento['setor'], df_mapeamento['grupo']))\n",
    "\n",
    "# Get a list of unique grouped categories.\n",
    "novas_categorias = df_mapeamento['grupo'].unique()\n",
    "\n",
    "# Apply slugify and deduplicate functions to the new group category names\n",
    "novas_categorias_slugified = [slugify(cat) for cat in novas_categorias]\n",
    "\n",
    "# Add the \"setor_\" prefix to the slugified and deduplicated new category names\n",
    "novas_categorias_com_prefixo = [\"setor_\" + cat for cat in novas_categorias_slugified]\n",
    "\n",
    "\n",
    "# Itera sobre cada um dos DataFrames segregados por ano (2020 a 2024).\n",
    "# Para cada DataFrame, adiciona novas colunas binárias (inicializadas com 0) para cada nova categoria de grupo.\n",
    "# Usei df_economatica_pre_processado_2020, df_economatica_pre_processado_2021, etc. que já devem estar definidos.\n",
    "dfs_por_ano = {\n",
    "    2020: df_economatica_pre_processado_2020,\n",
    "    2021: df_economatica_pre_processado_2021,\n",
    "    2022: df_economatica_pre_processado_2022,\n",
    "    2023: df_economatica_pre_processado_2023,\n",
    "    2024: df_economatica_pre_processado_2024\n",
    "}\n",
    "\n",
    "# Remove as colunas originais de setor dos DataFrames por ano\n",
    "colunas_setor_originais = [col for col in df_economatica_pre_processado_2020.columns if col.startswith('setor')]\n",
    "for ano, df in dfs_por_ano.items():\n",
    "    df.drop(columns=colunas_setor_originais, inplace=True, errors='ignore')\n",
    "\n",
    "# Cria novas colunas para os setores agrupados e preenche com 1 onde corresponder\n",
    "for ano, df in dfs_por_ano.items():\n",
    "  for original_col, grupo in mapeamento_setores.items():\n",
    "    grupo_slugified = slugify(grupo)\n",
    "    coluna_com_prefixo = \"setor_\" + grupo_slugified\n",
    "    # Garante que a nova coluna de grupo existe no DataFrame\n",
    "    if coluna_com_prefixo not in df.columns:\n",
    "        df[coluna_com_prefixo] = 0\n",
    "    # Verifica se a coluna original existe in the main df_economatica_pre_processado\n",
    "    if original_col in df_economatica_pre_processado.columns:\n",
    "        # Use the index to ensure rows align\n",
    "        df.loc[df_economatica_pre_processado[original_col] == 1, coluna_com_prefixo] = 1\n",
    "\n",
    "\n",
    "# Exibe as primeiras linhas de um dos DataFrames processados (por exemplo, df_economatica_pre_processado_2020) para visualizar o resultado.\n",
    "print(\"Primeiras linhas do DataFrame de 2020 após agrupar os setores:\")\n",
    "display(df_economatica_pre_processado_2020.head())\n",
    "\n",
    "print(\"\\nShape do DataFrame de 2020 após agrupar os setores:\")\n",
    "print(df_economatica_pre_processado_2020.shape)\n",
    "\n",
    "print(\"\\nAgrupamento de setores aplicado a todos os DataFrames por ano.\")"
   ]
  },
  {
   "cell_type": "markdown",
   "metadata": {
    "id": "DIMkFQiLBkc6"
   },
   "source": [
    "# Modelagem"
   ]
  },
  {
   "cell_type": "markdown",
   "metadata": {
    "id": "eK9PXGDTBoqc"
   },
   "source": [
    "**Setup** ➡️ **Comparar modelos** ➡️ **Analisar Modelo** ➡️ **Predição**"
   ]
  },
  {
   "cell_type": "markdown",
   "metadata": {
    "id": "pmeQ3cd3BsRW"
   },
   "source": [
    "## Setup & Config"
   ]
  },
  {
   "cell_type": "code",
   "execution_count": null,
   "metadata": {
    "id": "sIZmHYCEDNRZ"
   },
   "outputs": [],
   "source": [
    "# Fracionando data frame em treino e teste\n",
    "data = df_economatica_pre_processado_2020.sample(frac=0.7, random_state=786).reset_index(drop=True)\n",
    "data_unseen = df_economatica_pre_processado_2020.loc[~df_economatica_pre_processado_2020.index.isin(data.index)].reset_index(drop=True)\n",
    "\n",
    "print('Data for Modeling:', data.shape)\n",
    "print('Unseen Data For Predictions:', data_unseen.shape)"
   ]
  },
  {
   "cell_type": "code",
   "execution_count": null,
   "metadata": {
    "id": "bVBxTjnYDRJI"
   },
   "outputs": [],
   "source": [
    "# Regressão\n",
    "#exp_eco_2020 = setup(data = data, target = 'patrimonio_liquido_2020', session_id=123)\n",
    "\n",
    "# Classificação\n",
    "s = setup(data, target = 'patrimonio_liquido_2020', session_id = 123)"
   ]
  },
  {
   "cell_type": "code",
   "execution_count": null,
   "metadata": {
    "id": "Xl8Qh7Ga3_k0"
   },
   "outputs": [],
   "source": [
    "Code cell <Xu-kBWzN4W0r>\n",
    "# %% [code]\n",
    "# Comparando varios modelos de classificação\n",
    "compare_models()\n",
    "\n",
    "Code cell <_b0YG6Fn4YUS>\n",
    "# %% [code]\n",
    "# DEFINING THE MODEL\n",
    "model = create_model('catboost')\n",
    "\n",
    "Code cell <xqeL-ojl4Z3J>\n",
    "# %% [code]\n",
    "# TUNE THE MODEL\n",
    "tuned_model = tune_model(model)\n",
    "\n",
    "Text cell <ch-M7H4K4d_P>\n",
    "# %% [markdown]\n",
    "## Avaliação\n",
    "\n",
    "Code cell <8binp4_64ehB>\n",
    "# %% [code]\n",
    "# RESIDUAL PLOT\n",
    "plot_model(model)\n",
    "\n",
    "Code cell <UMfSOobd4iFI>\n",
    "# %% [code]\n",
    "# PREDICTION ERROR PLOT\n",
    "plot_model(tuned_model, plot = 'error')\n",
    "\n",
    "Code cell <jNZKApmB4j2r>\n",
    "# %% [code]\n",
    "# FEATURE IMPORTANCE PLOT\n",
    "plot_model(tuned_model, plot='feature')\n",
    "\n",
    "Code cell <Hnps1jzH4lX7>\n",
    "# %% [code]\n",
    "# EVALUATE PLOT\n",
    "evaluate_model(tuned_model)\n",
    "\n",
    "Text cell <QXOfam9q4nFo>\n",
    "# %% [markdown]\n",
    "## Predição\n",
    "\n",
    "Code cell <S5j2KXwc4nWu>\n",
    "# %% [code]\n",
    "predict_model(tuned_model)\n",
    "\n",
    "Code cell <8ax5hm1H4r-t>\n",
    "# %% [code]\n",
    "# Finalize Model for Deployment\n",
    "final_model = finalize_model(tuned_model)\n",
    "\n",
    "# FINAL MODEL PARAMETER FOR DEPLOYMENT\n",
    "print(final_model)\n",
    "\n",
    "Code cell <FBbYLv-t4uCc>\n",
    "# %% [code]\n",
    "# FINAL MODEL PREDICT\n",
    "predict_model(final_model);\n",
    "\n",
    "Code cell <earr3pI94vX_>\n",
    "# %% [code]\n",
    "# PREDICT ON UNSEEN DATA\n",
    "unseen_predictions = predict_model(final_model, data=data_unseen)\n",
    "\n",
    "# Round\n",
    "unseen_predictions['prediction_label'] = unseen_predictions['prediction_label'].round(0)\n",
    "\n",
    "# Retirnar número negativos\n",
    "df['prediction_label'] = np.where(df['prediction_label'] < 0, 0, df['prediction_label'])\n",
    "\n",
    "unseen_predictions.head()"
   ]
  }
 ],
 "metadata": {
  "colab": {
   "collapsed_sections": [
    "gjrYXg4s3U72",
    "CoA5Cec6Ci3D",
    "Wv3lmdUOEAK8",
    "HYuJdprXX9CU",
    "tWidkFilRP7n",
    "0-kbPSkmWout",
    "DIMkFQiLBkc6"
   ],
   "provenance": [],
   "runtime_attributes": {
    "runtime_version": "2025.07"
   }
  },
  "kernelspec": {
   "display_name": "economatica-eJafRn9J",
   "language": "python",
   "name": "python3"
  },
  "language_info": {
   "codemirror_mode": {
    "name": "ipython",
    "version": 3
   },
   "file_extension": ".py",
   "mimetype": "text/x-python",
   "name": "python",
   "nbconvert_exporter": "python",
   "pygments_lexer": "ipython3",
   "version": "3.11.13"
  }
 },
 "nbformat": 4,
 "nbformat_minor": 0
}
